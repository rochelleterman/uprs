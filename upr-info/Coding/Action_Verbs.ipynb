{
 "cells": [
  {
   "cell_type": "markdown",
   "metadata": {},
   "source": [
    "# Actions"
   ]
  },
  {
   "cell_type": "code",
   "execution_count": 1,
   "metadata": {
    "collapsed": false
   },
   "outputs": [
    {
     "data": {
      "text/plain": [
       "131072"
      ]
     },
     "execution_count": 1,
     "metadata": {},
     "output_type": "execute_result"
    }
   ],
   "source": [
    "import os\n",
    "import re\n",
    "import csv\n",
    "from urllib import urlopen\n",
    "import sys\n",
    "import csv\n",
    "from collections import Counter\n",
    "from __future__ import division\n",
    "\n",
    "csv.field_size_limit(sys.maxsize)"
   ]
  },
  {
   "cell_type": "code",
   "execution_count": 4,
   "metadata": {
    "collapsed": false
   },
   "outputs": [
    {
     "name": "stdout",
     "output_type": "stream",
     "text": [
      "42013\n"
     ]
    },
    {
     "data": {
      "text/plain": [
       "{'Action': '4',\n",
       " 'From': 'Belgium',\n",
       " 'From.Org': 'EU, OIF',\n",
       " 'From.Rgrp': 'WEOG',\n",
       " 'From_COW': 'BEL',\n",
       " 'Institution': '[]',\n",
       " 'Issue': 'Freedom of religion and belief',\n",
       " 'Response': 'Noted',\n",
       " 'Session': '1',\n",
       " 'Text': 'Respect freedom of religion and belief, revise the text of the 2006 Ordinance, and suspend its application in the meantime.',\n",
       " 'To': 'Algeria',\n",
       " 'To.Org': 'AU, OIC, AL',\n",
       " 'To.Rgrp': 'Africa',\n",
       " 'To_COW': 'ALG',\n",
       " 'UID': 'ALG-BEL-1-1'}"
      ]
     },
     "execution_count": 4,
     "metadata": {},
     "output_type": "execute_result"
    }
   ],
   "source": [
    "# load data\n",
    "recs = []\n",
    "dir = '.'\n",
    "with open(\"../Data/upr-info.csv\",'rU') as csvfile:\n",
    "            reader = csv.DictReader(csvfile)\n",
    "            for row in reader:\n",
    "                recs.append(row)\n",
    "            \n",
    "print len(recs) # 42013 \n",
    "recs[0]"
   ]
  },
  {
   "cell_type": "code",
   "execution_count": 5,
   "metadata": {
    "collapsed": false
   },
   "outputs": [
    {
     "data": {
      "text/plain": [
       "['From_COW',\n",
       " 'From',\n",
       " 'To.Org',\n",
       " 'Text',\n",
       " 'To.Rgrp',\n",
       " 'UID',\n",
       " 'Response',\n",
       " 'From.Org',\n",
       " 'To',\n",
       " 'Session',\n",
       " 'Action',\n",
       " 'From.Rgrp',\n",
       " 'Issue',\n",
       " 'Institution',\n",
       " 'To_COW']"
      ]
     },
     "execution_count": 5,
     "metadata": {},
     "output_type": "execute_result"
    }
   ],
   "source": [
    "recs[1].keys()"
   ]
  },
  {
   "cell_type": "code",
   "execution_count": 6,
   "metadata": {
    "collapsed": true
   },
   "outputs": [],
   "source": [
    "# strip extra whitespace on everything\n",
    "for i in recs:\n",
    "    i['Text']=' '.join(i['Text'].split())"
   ]
  },
  {
   "cell_type": "code",
   "execution_count": 7,
   "metadata": {
    "collapsed": true
   },
   "outputs": [],
   "source": [
    "# remove stop words function\n",
    "stopwords = ['of','on','all','the','a','for','to','and','to','against','from','in','or']\n",
    "\n",
    "def noStop(in_text):\n",
    "    '''\n",
    "    this function inputs a text, lowers it, and removes stop words\n",
    "    '''\n",
    "    text = in_text.lower().split()\n",
    "    for word in stopwords:\n",
    "        text = [x for x in text if x != word]\n",
    "    return(' '.join(text))"
   ]
  },
  {
   "cell_type": "markdown",
   "metadata": {},
   "source": [
    "## Make Action Dictionary"
   ]
  },
  {
   "cell_type": "code",
   "execution_count": 8,
   "metadata": {
    "collapsed": false
   },
   "outputs": [
    {
     "name": "stdout",
     "output_type": "stream",
     "text": [
      "['accede', 'ratify', 'take-measures', 'share', 'sign', 'report', 'continue', 'withdraw', 'harmonize', 'party', 'implement', 'cooperate', 'establish']\n"
     ]
    }
   ],
   "source": [
    "# assign action\n",
    "keywords = {}\n",
    "keywords['ratify'] = ['ratif']\n",
    "keywords['accede'] = ['acced']\n",
    "keywords['sign'] = ['sign ']\n",
    "keywords['implement'] = ['implement']\n",
    "keywords['establish'] = ['establish']\n",
    "keywords['continue'] = ['continue']\n",
    "keywords['take-measures'] = ['take measures']\n",
    "keywords['harmonize'] = ['harmoniz']\n",
    "keywords['report'] = ['report','reporting','reports']\n",
    "keywords['party'] = ['party']\n",
    "keywords['withdraw'] = ['withdraw']\n",
    "keywords['cooperate'] = ['cooperat']\n",
    "keywords['share'] = ['share', 'sharing']\n",
    "\n",
    "print (keywords.keys())\n"
   ]
  },
  {
   "cell_type": "code",
   "execution_count": 9,
   "metadata": {
    "collapsed": true
   },
   "outputs": [],
   "source": [
    "for i in recs:\n",
    "    i['Action_Verb'] = []\n",
    "    for key in keywords.keys():\n",
    "        for word in keywords[key]:\n",
    "            if key in i['Action_Verb']: # skip if it's already in there\n",
    "                continue\n",
    "            if word in noStop(i['Text']):\n",
    "                i['Action_Verb'].append(key)"
   ]
  },
  {
   "cell_type": "code",
   "execution_count": 10,
   "metadata": {
    "collapsed": true
   },
   "outputs": [],
   "source": [
    "# special rules \n",
    "\n",
    "# international assistance\n",
    "for i in recs:\n",
    "    if (\n",
    "        ('assistance ' in i['Text'] or 'support ' in i['Text']) and\n",
    "        'international' in i['Text']\n",
    "        ):\n",
    "        i['Action_Verb'].append('assistance')\n",
    "        \n",
    "\n",
    "# take ____ measures:\n",
    "for i in recs:\n",
    "    if 'take-measures' not in i['Action_Verb']:\n",
    "        text = i['Text'].lower().replace(',','').split()\n",
    "        if 'take' in text:\n",
    "            takeIndex = text.index('take')\n",
    "            if 'measures' in text[takeIndex:takeIndex+10]:\n",
    "                i['Action_Verb'].append('take-measures')\n",
    "        elif 'taking' in text:\n",
    "            takeIndex = text.index('taking')\n",
    "            if 'measures' in text[takeIndex:takeIndex+10]:\n",
    "                i['Action_Verb'].append('take-measures')"
   ]
  },
  {
   "cell_type": "code",
   "execution_count": 11,
   "metadata": {
    "collapsed": false
   },
   "outputs": [
    {
     "data": {
      "text/plain": [
       "Counter({'continue': 7377, 'ratify': 4978, 'implement': 4440, 'take-measures': 2637, 'establish': 2474, 'cooperate': 1417, 'report': 929, 'accede': 855, 'sign': 592, 'assistance': 587, 'party': 537, 'share': 287, 'withdraw': 279, 'harmonize': 234})"
      ]
     },
     "execution_count": 11,
     "metadata": {},
     "output_type": "execute_result"
    }
   ],
   "source": [
    "# count the actions\n",
    "actions = []\n",
    "for rec in recs:\n",
    "    for i in rec['Action_Verb']:\n",
    "        actions.append(i)\n",
    "Counter(actions)"
   ]
  },
  {
   "cell_type": "markdown",
   "metadata": {},
   "source": [
    "## WRITE CSV"
   ]
  },
  {
   "cell_type": "code",
   "execution_count": 12,
   "metadata": {
    "collapsed": false
   },
   "outputs": [
    {
     "data": {
      "text/plain": [
       "['From_COW',\n",
       " 'Action_Verb',\n",
       " 'From',\n",
       " 'To.Org',\n",
       " 'Text',\n",
       " 'To.Rgrp',\n",
       " 'UID',\n",
       " 'Response',\n",
       " 'From.Org',\n",
       " 'To',\n",
       " 'Session',\n",
       " 'Action',\n",
       " 'From.Rgrp',\n",
       " 'Issue',\n",
       " 'Institution',\n",
       " 'To_COW']"
      ]
     },
     "execution_count": 12,
     "metadata": {},
     "output_type": "execute_result"
    }
   ],
   "source": [
    "#writing column headings\n",
    "keys = recs[0].keys()\n",
    "keys"
   ]
  },
  {
   "cell_type": "code",
   "execution_count": 13,
   "metadata": {
    "collapsed": true
   },
   "outputs": [],
   "source": [
    "#writing the rest\n",
    "with open('../Data/upr-info.csv', 'wb') as output_file:\n",
    "    dict_writer = csv.DictWriter(output_file, keys)\n",
    "    dict_writer.writeheader()\n",
    "    dict_writer.writerows(recs)"
   ]
  },
  {
   "cell_type": "code",
   "execution_count": null,
   "metadata": {
    "collapsed": true
   },
   "outputs": [],
   "source": []
  }
 ],
 "metadata": {
  "kernelspec": {
   "display_name": "Python 2",
   "language": "python",
   "name": "python2"
  },
  "language_info": {
   "codemirror_mode": {
    "name": "ipython",
    "version": 2
   },
   "file_extension": ".py",
   "mimetype": "text/x-python",
   "name": "python",
   "nbconvert_exporter": "python",
   "pygments_lexer": "ipython2",
   "version": "2.7.9"
  }
 },
 "nbformat": 4,
 "nbformat_minor": 0
}
