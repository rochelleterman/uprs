{
 "cells": [
  {
   "cell_type": "markdown",
   "metadata": {
    "collapsed": true
   },
   "source": [
    "## III. Theme"
   ]
  },
  {
   "cell_type": "code",
   "execution_count": 3,
   "metadata": {
    "collapsed": false
   },
   "outputs": [
    {
     "data": {
      "text/plain": [
       "9223372036854775807"
      ]
     },
     "execution_count": 3,
     "metadata": {},
     "output_type": "execute_result"
    }
   ],
   "source": [
    "import os\n",
    "import re\n",
    "import csv\n",
    "from urllib import urlopen\n",
    "import sys\n",
    "import csv\n",
    "from collections import Counter\n",
    "from __future__ import division\n",
    "\n",
    "csv.field_size_limit(sys.maxsize)"
   ]
  },
  {
   "cell_type": "code",
   "execution_count": 4,
   "metadata": {
    "collapsed": false
   },
   "outputs": [
    {
     "name": "stdout",
     "output_type": "stream",
     "text": [
      "39329\n"
     ]
    },
    {
     "data": {
      "text/plain": [
       "{'Action_Verb': \"['continue']\",\n",
       " 'Decision': 'support',\n",
       " 'From': 'Canada',\n",
       " 'From_COW': 'CAN',\n",
       " 'Institution': \"['CAT', 'CRC']\",\n",
       " 'Report_Year': '2008',\n",
       " 'Session': '1',\n",
       " 'Session_Year': '2008',\n",
       " 'Text': '64.12 To continue its efforts to improve the situation of children in detention as recommended by the Committee against Torture and the Committee on the Rights of the Child. (Canada, Italy, Slovenia);',\n",
       " 'To': 'Argentina',\n",
       " 'To_COW': 'ARG',\n",
       " 'UID': 'ARG-CAN-1-22'}"
      ]
     },
     "execution_count": 4,
     "metadata": {},
     "output_type": "execute_result"
    }
   ],
   "source": [
    "# load data\n",
    "recs = []\n",
    "dir = '.'\n",
    "with open(\"../Data/upr-orig.csv\",'rU') as csvfile:\n",
    "            reader = csv.DictReader(csvfile)\n",
    "            for row in reader:\n",
    "                recs.append(row)\n",
    "            \n",
    "print len(recs) # 42013 \n",
    "recs[21]"
   ]
  },
  {
   "cell_type": "code",
   "execution_count": 5,
   "metadata": {
    "collapsed": true
   },
   "outputs": [],
   "source": [
    "# strip extra whitespace on everything\n",
    "for i in recs:\n",
    "    i['Text']=' '.join(i['Text'].split())"
   ]
  },
  {
   "cell_type": "code",
   "execution_count": 6,
   "metadata": {
    "collapsed": true
   },
   "outputs": [],
   "source": [
    "# remove stop words function\n",
    "stopwords = ['of','on','all','the','a','for','to','and','to','against','from','in','or']\n",
    "\n",
    "def noStop(in_text):\n",
    "    '''\n",
    "    this function inputs a text, lowers it, and removes stop words\n",
    "    '''\n",
    "    text = in_text.lower().split()\n",
    "    for word in stopwords:\n",
    "        text = [x for x in text if x != word]\n",
    "    return(' '.join(text))"
   ]
  },
  {
   "cell_type": "code",
   "execution_count": 7,
   "metadata": {
    "collapsed": false
   },
   "outputs": [
    {
     "data": {
      "text/plain": [
       "'69.7 that algeria continue strengthen its efforts field economic, social cultural rights, particular field health (cuba). );'"
      ]
     },
     "execution_count": 7,
     "metadata": {},
     "output_type": "execute_result"
    }
   ],
   "source": [
    "noStop(recs[1]['Text'])"
   ]
  },
  {
   "cell_type": "code",
   "execution_count": 8,
   "metadata": {
    "collapsed": true
   },
   "outputs": [],
   "source": [
    "## Make Theme Dictionary"
   ]
  },
  {
   "cell_type": "code",
   "execution_count": 31,
   "metadata": {
    "collapsed": true
   },
   "outputs": [],
   "source": [
    "keywords = {}\n",
    "\n",
    "# Physical Integrity Rights\n",
    "\n",
    "keywords['extra-judicial'] = ['extrajudicial', 'political killing', 'deprivation life']\n",
    "\n",
    "keywords['torture'] = ['torture', 'inhuman degrading treatment', 'stoning', 'amputation', \\\n",
    "                       'caning', 'whipping', 'waterboard', 'inhumane', 'forced confession']\n",
    "\n",
    "keywords['pol-imprisonment'] = ['political prison', 'prisoner of conscience']\n",
    "\n",
    "keywords['disappearances'] = ['disappear']\n",
    "\n",
    "keywords['trafficking'] = ['slavery', 'forced labor', 'forced labour', 'traffick', 'slave', \\\n",
    "                           'forced prostitution','sale children']\n",
    "\n",
    "keywords['prisoners'] = ['prison','arbitrary detention', 'interrog', 'incarceration', 'solitary confinement', \\\n",
    "                         'detained', 'detent', 'arbitrary investigation', 'access lawyer' , 'criminal investigations', \\\n",
    "                        'police custody', 'preventive custody', 'pretrial custody', 'access council', 'detainee']\n",
    "\n",
    "keywords['death-pen'] = ['death penalty', 'capital punishment', 'death sentence', 'executions',\\\n",
    "                         'capital sentence']\n",
    "\n",
    "keywords['sex-violence'] = ['domestic violence', 'sexual violence', 'rape', 'domestic abuse', 'sexual abuse', \\\n",
    "                            'gender-based violence', 'violence women', 'fgm', 'early marriage', \\\n",
    "                            'forced marriage', 'sexual mutilation', 'genital mutilation', 'sexual exploitation']\n",
    "\n",
    "# Civil and Political Rights\n",
    "\n",
    "keywords['speech'] = ['speech','expression','journalis','opinion',' press ',' media','insult law',\\\n",
    "                      'defamation','political dissent','newspaper','censor', 'legislation communications']\n",
    "\n",
    "keywords['religion'] = ['religio', 'church', 'muslim', 'blasphemy', 'apostasy', 'freedom belief', \\\n",
    "                        'conscientious objection', 'freedom conscience']\n",
    "\n",
    "keywords['domest-movement'] =['resettlement', 'checkpoints', 'relocat' , 'internal exile', 'travel permit', \\\n",
    "                       'identification document', 'freedom movement', 'internal displacement', 'forced displacement'] \n",
    "\n",
    "keywords['foreign-movement'] = ['passport', 'emigrat', 'exit visa', 'repatriation', 'travel ban', \\\n",
    "                                'foreign travel', 'travel document', 'travel freely', 'unauthorized travel', \\\n",
    "                                'travel abroad']\n",
    "\n",
    "keywords['civil-so'] = ['civil society','rights defenders','charities','protest','activist','demonstrator', \\\n",
    "                       'freedom assembly','freedom association','free association','free assembly','demonstrations' \\\n",
    "                       'political party', 'union member','governmental organisations', 'governmental organization' \\\n",
    "                       ]\n",
    "\n",
    "\n",
    "keywords['self-determ'] =['democ', 'electi', 'referendum', 'self-determination', 'self determination', \\\n",
    "                          'opposition parti','political parti']\n",
    "\n",
    "keywords['judiciary'] = ['judiciary', 'judicial', 'fair trial', 'judge', 'defendants', 'prosecutor', \\\n",
    "                         'lawyer', 'legal representation', 'legal aid', 'due process']\n",
    "\n",
    "keywords['privacy'] = ['privacy']\n",
    "\n",
    "keywords['property'] = ['property','properties','inheritance']\n",
    "\n",
    "keywords['discrimination'] = ['discriminat', 'stereotyp', 'attitude', 'role responsibilit', \\\n",
    "                              'equal', 'segregation']\n",
    "\n",
    "keywords['reproductive'] = ['reproductive', 'abortion', 'birth control', 'family planning', 'pregnancy']\n",
    "\n",
    "keywords['governance'] = ['good governance', 'rule law', 'public governance']\n",
    "\n",
    "keywords['corruption'] = ['corruption','bribary','bribe','bribing','extortion']\n",
    "\n",
    "# Social, Cultural and Economic Rights\n",
    "\n",
    "keywords['labor'] = [' labor', 'labour', 'strike', 'unions', 'worker', 'employment', \\\n",
    "                     'collective bargain', 'occupational', 'wage']\n",
    "\n",
    "\n",
    "keywords['poverty'] = ['poverty', 'social security', 'pension', 'social safety net', 'living standard', \\\n",
    "                       'unemployment', 'social welfare', 'public service', 'job creation', 'right development', \\\n",
    "                      'economic development', 'economic exploitation', 'human development', 'pro-poor growth', \\\n",
    "                      'social programmes', 'global financial crisis', 'development effort', \\\n",
    "                      'mgd', 'development goal', 'economic crisis', 'sustainable economic', 'industr']\n",
    "                     \n",
    "keywords['health'] = ['health', 'hospital', 'doctor', 'medical', 'disease', 'vaccination', 'maternal mortality']\n",
    "                     \n",
    "keywords['hiv'] = ['hiv']\n",
    "                     \n",
    "keywords['food'] = ['food', 'hungry', 'hunger']\n",
    "\n",
    "keywords['education'] = ['education','illiter','school','academic']\n",
    "        \n",
    "keywords['infrastructure'] = ['water', 'sanitation', 'housing', 'roads', 'homeless', 'squatting', 'lodging']\n",
    "\n",
    "\n",
    "keywords['land'] = ['land rights']\n",
    "\n",
    "keywords['culture'] = ['cultural rights', 'cultural values', 'traditions', 'cultural social rights']\n",
    "\n",
    "keywords['environment'] = ['environment', 'pollution', 'climate change', 'climate challenge', 'disaster', \\\n",
    "                          'natural catastrophe']\n",
    "\n",
    "keywords['socialism'] = ['socialism', 'communism']\n",
    "\n",
    "# Conflict\n",
    "\n",
    "keywords['post-conflict'] = ['truth commission', 'reconstruction', 'post-conflict', 'reconciliation', 'amnesty',\\\n",
    "                        'post conflict', 'international criminal court']\n",
    "\n",
    "keywords['civil-conflict'] = ['civil war', 'civil conflict', 'armed conflict', 'war crime', 'crime humanity', \\\n",
    "                              'genocide', 'massacre', 'secessionists']\n",
    "\n",
    "keywords['terrorism'] = ['terroris']\n",
    "                              \n",
    "\n",
    "# Victims\n",
    "                                                       \n",
    "keywords['migrants'] = ['migration', 'migrant', 'refugee', 'displaced', 'asylum', 'displacements', 'idps', \\\n",
    "                         'eviction', 'statelessness', 'refoulement']                    \n",
    "\n",
    "keywords['children'] = ['child', 'juvenile', 'minors', 'girl', 'minimum age', 'age criminal responsibility', \\\n",
    "                       'corporal punishment', 'adolescent']\n",
    "\n",
    "keywords['lgbt'] = ['lgbt', 'lesbian', 'gay', 'homosexual', 'transsexual', 'sexual orientation', 'gender identity',\\\n",
    "                    'consensual sex', 'same-sex', 'same sex',' homophobia', 'between consenting adults']\n",
    "\n",
    "keywords['ethnic'] = ['roma','ethnic','minorit', 'xenophob', 'anti-semit', 'islamophob', 'pygmy']\n",
    "\n",
    "keywords['indigenous'] = ['indigenous', 'aboriginal', 'tribal']\n",
    "\n",
    "keywords['race'] = ['race', 'racial', 'racis', 'racist'] \n",
    "\n",
    "keywords['disabilities'] = ['disabilit','disabled']\n",
    "\n",
    "keywords['women'] = ['women', 'gender', 'misogyn', 'widows', 'girl', 'maternal','FGM', 'genital mutilation']\n",
    "\n",
    "keywords['elderly'] = ['elderly', 'pensioner', 'older person']\n",
    "\n",
    "keywords['poor'] = ['poorest', 'poor people', 'poor households', 'poor marginalized groups', \\\n",
    "                    'poor backgrounds', 'poor families','poorer segments', 'poor population', 'rural poor', \\\n",
    "                   'low-income families', 'who are poor', 'poor sections population', 'poor socioeconomic background' \\\n",
    "                   'poor rural', 'poor person', 'poor population']\n",
    "\n",
    "# Agents of the State\n",
    "\n",
    "keywords['police'] = ['police', 'law-enforcement', 'law enforcement']\n",
    "\n",
    "keywords['military'] = ['military', 'security force', 'army', 'navy', 'special forces', 'republican guard', \\\n",
    "                       'security operations','security agent', 'security sector']\n",
    "\n",
    "keywords['paramilitary'] = ['paramil']\n",
    "\n",
    "keywords['intelligence'] = ['intelligence']\n",
    "\n",
    "# human rights violations\n",
    "keywords['impunity'] = ['impunity', 'immunity from prosecution', 'brought book', 'bring justice', 'accountability', \\\n",
    "                       'brought justice']"
   ]
  },
  {
   "cell_type": "code",
   "execution_count": 32,
   "metadata": {
    "collapsed": false
   },
   "outputs": [
    {
     "name": "stdout",
     "output_type": "stream",
     "text": [
      "['death-pen', 'intelligence', 'prisoners', 'elderly', 'culture', 'race', 'education', 'children', 'civil-so', 'disappearances', 'police', 'hiv', 'privacy', 'discrimination', 'impunity', 'governance', 'labor', 'environment', 'religion', 'foreign-movement', 'health', 'speech', 'domest-movement', 'terrorism', 'paramilitary', 'corruption', 'sex-violence', 'poor', 'civil-conflict', 'infrastructure', 'torture', 'food', 'extra-judicial', 'judiciary', 'indigenous', 'lgbt', 'self-determ', 'poverty', 'ethnic', 'women', 'land', 'reproductive', 'post-conflict', 'disabilities', 'migrants', 'pol-imprisonment', 'socialism', 'trafficking', 'military', 'property']\n"
     ]
    }
   ],
   "source": [
    "print (keywords.keys())"
   ]
  },
  {
   "cell_type": "code",
   "execution_count": 33,
   "metadata": {
    "collapsed": true
   },
   "outputs": [],
   "source": [
    "#apply\n",
    "for i in recs:\n",
    "    i['Theme'] = []\n",
    "    text = noStop(i['Text'])\n",
    "    # get rid of country, so that 'democrat' doesn't catch \"democratic republic of congo\" etc.\n",
    "    if \"(\" in text and \")\" in text:\n",
    "        country = text.split('(')[-1].split(')')[0]\n",
    "        text = text.replace(country,'')\n",
    "    for key in keywords.keys():\n",
    "            for word in keywords[key]:\n",
    "                if key in i['Theme']: # skip if it's already in there\n",
    "                    continue\n",
    "                if word in text:\n",
    "                    i['Theme'].append(key)"
   ]
  },
  {
   "cell_type": "code",
   "execution_count": 34,
   "metadata": {
    "collapsed": true
   },
   "outputs": [],
   "source": [
    "# Special Rules\n",
    "\n",
    "#\"NGO\" (capitalization required)\n",
    "for i in recs:\n",
    "    if 'civil-so' not in i['Theme']:\n",
    "        if \"NGO\" in i['Text']:\n",
    "            i['Theme'].append('civil-so')\n",
    "            \n",
    "# HIV (capitalization required)\n",
    "for i in recs:\n",
    "    if 'hiv' not in i['Theme']:\n",
    "        if \"AIDS\" in i['Text']:\n",
    "            i['Theme'].append('hiv')\n",
    "\n",
    "#\"THE poor\" (stopword required)\n",
    "for i in recs:\n",
    "    if 'poor' not in i['Theme']:\n",
    "        if \"the poor\" in i['Text']:\n",
    "            i['Theme'].append('poor')\n",
    "\n",
    "# \"courts\" and \"tribunal\" but not ICC, ICT, European court etc (lowercase requried)\n",
    "for i in recs:\n",
    "    if 'judiciary' not in i['Theme']:\n",
    "        if 'court' in i['Text'] or 'tribunal' in i['Text']:\n",
    "            i['Theme'].append('judiciary')\n",
    "    \n",
    "# in custody (stop words required)\n",
    "for i in recs:\n",
    "    if 'prisoners' not in i['Theme']:\n",
    "        if 'in custody' in i['Text']:\n",
    "            i['Theme'].append('prisoners')\n",
    "            \n",
    "# assembly = civil society (lowercase requried)\n",
    "for i in recs:\n",
    "    if 'civil-so' not in i['Theme']:\n",
    "        if 'assembly' in i['Text']:\n",
    "            i['Theme'].append('civil-so')\n",
    "        \n",
    "# if sex-violence, then women\n",
    "for i in recs:\n",
    "    if 'sex-violence' in i['Theme']:\n",
    "        if 'women' not in i['Theme']:\n",
    "            i['Theme'].append('women')"
   ]
  },
  {
   "cell_type": "code",
   "execution_count": 35,
   "metadata": {
    "collapsed": true
   },
   "outputs": [],
   "source": [
    "# differentiating women's rights\n",
    "keywords = {}\n",
    "keywords['women-social'] = ['child custody', 'divorce', 'personal legal status', 'personal status', 'inheritance']\n",
    "keywords['women-political'] = ['political', 'decision-making', 'decision making', 'public sphere']\n",
    "keywords['women-economic'] = [' labor', 'labour', 'worker', 'employment', 'occupational', 'wage', 'property',\\\n",
    "                              'business', 'financial', 'economic']\n",
    "for i in recs:\n",
    "    if 'women' in i['Theme']:\n",
    "        text = noStop(i['Text'])\n",
    "        for key in keywords.keys():\n",
    "            for word in keywords[key]:\n",
    "                if key in i['Theme']: # skip if it's already in there\n",
    "                    continue\n",
    "                if word in text:\n",
    "                    i['Theme'].append(key)\n"
   ]
  },
  {
   "cell_type": "code",
   "execution_count": 36,
   "metadata": {
    "collapsed": true
   },
   "outputs": [],
   "source": [
    "## linking institutions to themes\n",
    "keywords['women'] = ['CEDAW', 'eu-vaw', 'pol-women']\n",
    "keywords['sex-violence'] = ['eu-vaw', 'eu-child']\n",
    "keywords['children'] = ['CRC', 'eu-child']\n",
    "keywords['torture'] = ['CAT']\n",
    "keywords['disappearances'] = ['CPED']\n",
    "keywords['disabilities'] = ['CRPD']\n",
    "keywords['migrants'] = ['ICMW','eu-migrant','UNHCR']\n",
    "keywords['race'] = ['ICERD']\n",
    "keywords['labor'] = ['ILO', 'ICMW']\n",
    "keywords['trafficking'] = ['traffick', 'eu-traff']\n",
    "keywords['indigenous'] = ['ind169','un-indig']\n",
    "keywords['domest-movement'] = ['kampala']\n",
    "keywords['ethnic'] = ['frame-minorities']\n",
    "keywords['education'] = ['unesco-ed']\n",
    "keywords['culture'] = ['unesco-expr']\n",
    "keywords['post-conflict'] = ['ICC']\n",
    "\n",
    "for i in recs:\n",
    "    for key in keywords.keys():\n",
    "        if key not in i['Theme']:\n",
    "            for institution in keywords[key]:\n",
    "                if institution in i['Institution']:\n",
    "                    i['Theme'].append(key)"
   ]
  },
  {
   "cell_type": "code",
   "execution_count": 37,
   "metadata": {
    "collapsed": false
   },
   "outputs": [
    {
     "data": {
      "text/plain": [
       "Counter({'women': 7840, 'children': 6030, 'discrimination': 4926, 'education': 3157, 'sex-violence': 2914, 'labor': 2474, 'migrants': 2350, 'torture': 2258, 'ethnic': 1938, 'judiciary': 1807, 'prisoners': 1806, 'speech': 1756, 'civil-so': 1604, 'health': 1574, 'trafficking': 1533, 'death-pen': 1517, 'disabilities': 1440, 'poverty': 1388, 'police': 1123, 'race': 1111, 'religion': 937, 'disappearances': 877, 'post-conflict': 849, 'lgbt': 827, 'impunity': 715, 'culture': 708, 'women-economic': 690, 'indigenous': 652, 'self-determ': 578, 'military': 525, 'infrastructure': 485, 'women-political': 406, 'environment': 318, 'civil-conflict': 269, 'food': 257, 'hiv': 244, 'corruption': 216, 'reproductive': 214, 'governance': 203, 'terrorism': 191, 'property': 166, 'extra-judicial': 158, 'elderly': 113, 'domest-movement': 111, 'women-social': 104, 'poor': 86, 'pol-imprisonment': 59, 'foreign-movement': 33, 'privacy': 31, 'land': 18, 'intelligence': 17, 'paramilitary': 17, 'socialism': 5})"
      ]
     },
     "execution_count": 37,
     "metadata": {},
     "output_type": "execute_result"
    }
   ],
   "source": [
    "# count the themes\n",
    "themes = []\n",
    "for rec in recs:\n",
    "    for i in rec['Theme']:\n",
    "        themes.append(i)\n",
    "Counter(themes)"
   ]
  },
  {
   "cell_type": "markdown",
   "metadata": {},
   "source": [
    "## Explore"
   ]
  },
  {
   "cell_type": "code",
   "execution_count": 38,
   "metadata": {
    "collapsed": true
   },
   "outputs": [],
   "source": [
    "# exploring\n",
    "\n",
    "def topThemes(country):\n",
    "    allThemes = []\n",
    "    for i in recs:\n",
    "        if i['To'] == country:\n",
    "            if i['Theme'] != []:\n",
    "                for theme in i['Theme']:\n",
    "                    allThemes.append(theme)\n",
    "    return(Counter(allThemes))"
   ]
  },
  {
   "cell_type": "code",
   "execution_count": 39,
   "metadata": {
    "collapsed": false
   },
   "outputs": [
    {
     "data": {
      "text/plain": [
       "Counter({'children': 35, 'women': 23, 'trafficking': 14, 'prisoners': 12, 'education': 11, 'judiciary': 11, 'post-conflict': 10, 'police': 9, 'discrimination': 9, 'labor': 9, 'sex-violence': 9, 'torture': 8, 'migrants': 8, 'disabilities': 7, 'culture': 6, 'poverty': 6, 'impunity': 5, 'health': 5, 'food': 5, 'women-economic': 4, 'infrastructure': 4, 'disappearances': 3, 'women-political': 2, 'governance': 2, 'domest-movement': 2, 'civil-so': 1, 'corruption': 1, 'self-determ': 1})"
      ]
     },
     "execution_count": 39,
     "metadata": {},
     "output_type": "execute_result"
    }
   ],
   "source": [
    "topThemes('haiti')"
   ]
  },
  {
   "cell_type": "code",
   "execution_count": 40,
   "metadata": {
    "collapsed": true
   },
   "outputs": [],
   "source": [
    "def getTheme(country,theme):\n",
    "    allRecs = []\n",
    "    for i in recs:\n",
    "        if i['To'] == country:\n",
    "            if theme in i['theme']:\n",
    "                allRecs.append(i['Text'])\n",
    "    return(allRecs)"
   ]
  },
  {
   "cell_type": "code",
   "execution_count": 41,
   "metadata": {
    "collapsed": false
   },
   "outputs": [
    {
     "data": {
      "text/plain": [
       "[]"
      ]
     },
     "execution_count": 41,
     "metadata": {},
     "output_type": "execute_result"
    }
   ],
   "source": [
    "getTheme('unitedstatesofamerica','women')"
   ]
  },
  {
   "cell_type": "markdown",
   "metadata": {},
   "source": [
    "## Write CSV"
   ]
  },
  {
   "cell_type": "code",
   "execution_count": 42,
   "metadata": {
    "collapsed": false
   },
   "outputs": [
    {
     "data": {
      "text/plain": [
       "['From_COW',\n",
       " 'Action_Verb',\n",
       " 'Session_Year',\n",
       " 'To_COW',\n",
       " 'Text',\n",
       " 'Decision',\n",
       " 'Report_Year',\n",
       " 'To',\n",
       " 'Theme',\n",
       " 'Session',\n",
       " 'From',\n",
       " 'Institution',\n",
       " 'UID']"
      ]
     },
     "execution_count": 42,
     "metadata": {},
     "output_type": "execute_result"
    }
   ],
   "source": [
    "#writing column headings\n",
    "keys = recs[0].keys()\n",
    "keys"
   ]
  },
  {
   "cell_type": "code",
   "execution_count": 43,
   "metadata": {
    "collapsed": true
   },
   "outputs": [],
   "source": [
    "#writing the rest\n",
    "with open('../Data/upr-orig.csv', 'wb') as output_file:\n",
    "    dict_writer = csv.DictWriter(output_file, keys)\n",
    "    dict_writer.writeheader()\n",
    "    dict_writer.writerows(recs)"
   ]
  },
  {
   "cell_type": "code",
   "execution_count": null,
   "metadata": {
    "collapsed": true
   },
   "outputs": [],
   "source": []
  }
 ],
 "metadata": {
  "kernelspec": {
   "display_name": "Python 2",
   "language": "python",
   "name": "python2"
  },
  "language_info": {
   "codemirror_mode": {
    "name": "ipython",
    "version": 2
   },
   "file_extension": ".py",
   "mimetype": "text/x-python",
   "name": "python",
   "nbconvert_exporter": "python",
   "pygments_lexer": "ipython2",
   "version": "2.7.9"
  }
 },
 "nbformat": 4,
 "nbformat_minor": 0
}
