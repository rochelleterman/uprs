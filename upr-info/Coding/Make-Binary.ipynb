{
 "cells": [
  {
   "cell_type": "markdown",
   "metadata": {},
   "source": [
    "### 1. Load individual CSVs and list of dictionaries (one per rec)"
   ]
  },
  {
   "cell_type": "code",
   "execution_count": 1,
   "metadata": {
    "collapsed": false
   },
   "outputs": [
    {
     "data": {
      "text/plain": [
       "131072"
      ]
     },
     "execution_count": 1,
     "metadata": {},
     "output_type": "execute_result"
    }
   ],
   "source": [
    "import os\n",
    "import re\n",
    "import csv\n",
    "import sys\n",
    "import csv\n",
    "import random\n",
    "import ast\n",
    "from time import sleep\n",
    "\n",
    "csv.field_size_limit(sys.maxsize)"
   ]
  },
  {
   "cell_type": "code",
   "execution_count": 10,
   "metadata": {
    "collapsed": false
   },
   "outputs": [
    {
     "name": "stdout",
     "output_type": "stream",
     "text": [
      "1-5.csv\n",
      "10-13.csv\n",
      "14-17.csv\n",
      "17-20.csv\n",
      "6-9.csv\n",
      "voluntary.csv\n"
     ]
    }
   ],
   "source": [
    "recs=[]\n",
    "dir = 'Data/CSVs'\n",
    "for file_name in os.listdir(dir):\n",
    "    if \".DS\" not in file_name:\n",
    "        print file_name\n",
    "        with open(dir + \"/\" + file_name,'rU') as csvfile:\n",
    "            reader = csv.DictReader(csvfile)\n",
    "            for row in reader:\n",
    "                recs.append(row)"
   ]
  },
  {
   "cell_type": "code",
   "execution_count": 11,
   "metadata": {
    "collapsed": false
   },
   "outputs": [
    {
     "data": {
      "text/plain": [
       "42013"
      ]
     },
     "execution_count": 11,
     "metadata": {},
     "output_type": "execute_result"
    }
   ],
   "source": [
    "# test: should be 42013\n",
    "len(recs)"
   ]
  },
  {
   "cell_type": "code",
   "execution_count": 15,
   "metadata": {
    "collapsed": false
   },
   "outputs": [],
   "source": [
    "# apply UID\n",
    "for i,j in enumerate(recs[:100]):\n",
    "    j['ID'] = i+1"
   ]
  },
  {
   "cell_type": "code",
   "execution_count": 16,
   "metadata": {
    "collapsed": false
   },
   "outputs": [
    {
     "data": {
      "text/plain": [
       "{'Action': '5',\n",
       " 'From': 'Austria',\n",
       " 'From-Org': 'EU',\n",
       " 'From-Rgrp': 'WEOG',\n",
       " 'ID': 2,\n",
       " 'Issue': 'Human rights education and training,Justice',\n",
       " 'Response': 'Accepted',\n",
       " 'Session': '5',\n",
       " 'Text': 'Establish a mechanism in order to systematically monitor human rights in the administration of justice and to organise human rights training courses for public officials.',\n",
       " 'To': 'Afghanistan',\n",
       " 'To-Org': 'OIC',\n",
       " 'To-Rgrp': 'Asia'}"
      ]
     },
     "execution_count": 16,
     "metadata": {},
     "output_type": "execute_result"
    }
   ],
   "source": [
    "recs[1]"
   ]
  },
  {
   "cell_type": "markdown",
   "metadata": {},
   "source": [
    "### 2. Export full CSV"
   ]
  },
  {
   "cell_type": "code",
   "execution_count": 17,
   "metadata": {
    "collapsed": false
   },
   "outputs": [
    {
     "data": {
      "text/plain": [
       "['To-Org',\n",
       " 'From',\n",
       " 'From-Org',\n",
       " 'To-Rgrp',\n",
       " 'Text',\n",
       " 'ID',\n",
       " 'To',\n",
       " 'Session',\n",
       " 'From-Rgrp',\n",
       " 'Action',\n",
       " 'Issue',\n",
       " 'Response']"
      ]
     },
     "execution_count": 17,
     "metadata": {},
     "output_type": "execute_result"
    }
   ],
   "source": [
    "#writing column headings\n",
    "keys = recs[0].keys()\n",
    "keys"
   ]
  },
  {
   "cell_type": "code",
   "execution_count": 18,
   "metadata": {
    "collapsed": true
   },
   "outputs": [],
   "source": [
    "#writing the rest\n",
    "with open('Data/all-upr-info.csv', 'wb') as output_file:\n",
    "    dict_writer = csv.DictWriter(output_file, keys)\n",
    "    dict_writer.writeheader()\n",
    "    dict_writer.writerows(recs)"
   ]
  },
  {
   "cell_type": "markdown",
   "metadata": {},
   "source": [
    "### 3. Make Binary Format"
   ]
  },
  {
   "cell_type": "code",
   "execution_count": 10,
   "metadata": {
    "collapsed": false
   },
   "outputs": [
    {
     "data": {
      "text/plain": [
       "42013"
      ]
     },
     "execution_count": 10,
     "metadata": {},
     "output_type": "execute_result"
    }
   ],
   "source": [
    "# read in full csv\n",
    "recs = []\n",
    "with open('Data/all-upr-info.csv','rU') as csvfile:\n",
    "    reader = csv.DictReader(csvfile)\n",
    "    for row in reader:\n",
    "        recs.append(row)\n",
    "len(recs) # 42013"
   ]
  },
  {
   "cell_type": "code",
   "execution_count": 11,
   "metadata": {
    "collapsed": false
   },
   "outputs": [
    {
     "data": {
      "text/plain": [
       "{'Action': '5',\n",
       " 'From': 'Austria',\n",
       " 'From-Org': 'EU',\n",
       " 'From-Rgrp': 'WEOG',\n",
       " 'ID': '2',\n",
       " 'Issue': 'Human rights education and training,Justice',\n",
       " 'Response': 'Accepted',\n",
       " 'Session': '5',\n",
       " 'Text': 'Establish a mechanism in order to systematically monitor human rights in the administration of justice and to organise human rights training courses for public officials.',\n",
       " 'To': 'Afghanistan',\n",
       " 'To-Org': 'OIC',\n",
       " 'To-Rgrp': 'Asia'}"
      ]
     },
     "execution_count": 11,
     "metadata": {},
     "output_type": "execute_result"
    }
   ],
   "source": [
    "recs[1]"
   ]
  },
  {
   "cell_type": "code",
   "execution_count": 12,
   "metadata": {
    "collapsed": false
   },
   "outputs": [],
   "source": [
    "for i in recs:\n",
    "    i['Issue'] = i['Issue'].split(\",\")"
   ]
  },
  {
   "cell_type": "code",
   "execution_count": 13,
   "metadata": {
    "collapsed": false
   },
   "outputs": [
    {
     "name": "stdout",
     "output_type": "stream",
     "text": [
      "74567\n",
      "54\n"
     ]
    }
   ],
   "source": [
    "# get a list of individual Issue codes\n",
    "issues = []\n",
    "for i in recs:\n",
    "    for issue in i['Issue']:\n",
    "        issues.append(issue)\n",
    "print len(issues) # should be 74567 \n",
    "print len(set(issues)) # should be 54!"
   ]
  },
  {
   "cell_type": "code",
   "execution_count": 14,
   "metadata": {
    "collapsed": false
   },
   "outputs": [
    {
     "data": {
      "text/plain": [
       "54"
      ]
     },
     "execution_count": 14,
     "metadata": {},
     "output_type": "execute_result"
    }
   ],
   "source": [
    "# keep just the set\n",
    "issues = set(issues)\n",
    "len(issues)"
   ]
  },
  {
   "cell_type": "code",
   "execution_count": 15,
   "metadata": {
    "collapsed": false
   },
   "outputs": [
    {
     "name": "stdout",
     "output_type": "stream",
     "text": [
      "42012%"
     ]
    }
   ],
   "source": [
    "# make dummies\n",
    "for n,i in enumerate(recs):\n",
    "    sys.stdout.write(\"\\r%d%%\" % n)\n",
    "    sys.stdout.flush()\n",
    "    for s in issues:\n",
    "        if s in i['Issue']:\n",
    "            i[s] = 1\n",
    "        else:\n",
    "            i[s] = 0"
   ]
  },
  {
   "cell_type": "code",
   "execution_count": 16,
   "metadata": {
    "collapsed": false
   },
   "outputs": [
    {
     "data": {
      "text/plain": [
       "['ID',\n",
       " 'To-Org',\n",
       " 'From',\n",
       " 'From-Org',\n",
       " 'To-Rgrp',\n",
       " 'Text',\n",
       " 'To',\n",
       " 'Session',\n",
       " 'From-Rgrp',\n",
       " 'Action',\n",
       " 'Issue',\n",
       " 'Response',\n",
       " 'Asylum-seekers - refugees',\n",
       " 'CP rights - general',\n",
       " 'Civil society',\n",
       " 'Corruption',\n",
       " 'Counter-terrorism',\n",
       " 'Death penalty',\n",
       " 'Detention',\n",
       " 'Development',\n",
       " 'Disabilities',\n",
       " 'ESC rights - general',\n",
       " 'Elections',\n",
       " 'Enforced disappearances',\n",
       " 'Environment',\n",
       " 'Extrajudicial executions',\n",
       " 'Freedom of association and peaceful assembly',\n",
       " 'Freedom of movement',\n",
       " 'Freedom of opinion and expression',\n",
       " 'Freedom of religion and belief',\n",
       " 'Freedom of the press',\n",
       " 'General',\n",
       " 'HIV - Aids',\n",
       " 'Human rights defenders',\n",
       " 'Human rights education and training',\n",
       " 'Human rights violations by state agents',\n",
       " 'Impunity',\n",
       " 'Indigenous peoples',\n",
       " 'Internally displaced persons',\n",
       " 'International humanitarian law',\n",
       " 'International instruments',\n",
       " 'Justice',\n",
       " 'Labour',\n",
       " 'Migrants',\n",
       " 'Minorities',\n",
       " 'NHRI',\n",
       " 'National plan of action',\n",
       " 'Other',\n",
       " 'Poverty',\n",
       " 'Public security',\n",
       " 'Racial discrimination',\n",
       " 'Right to education',\n",
       " 'Right to food',\n",
       " 'Right to health',\n",
       " 'Right to housing',\n",
       " 'Right to land',\n",
       " 'Right to water',\n",
       " 'Rights of the Child',\n",
       " 'Sexual Orientation and Gender Identity',\n",
       " 'Special procedures',\n",
       " 'Technical assistance and cooperation',\n",
       " 'Torture and other CID treatment',\n",
       " 'Trafficking',\n",
       " 'Treaty bodies',\n",
       " 'UPR process',\n",
       " \"Women's rights\"]"
      ]
     },
     "execution_count": 16,
     "metadata": {},
     "output_type": "execute_result"
    }
   ],
   "source": [
    "#writing column headings in correct order\n",
    "keys = ['ID','To-Org', 'From', 'From-Org', 'To-Rgrp', 'Text', 'To', 'Session', 'From-Rgrp', 'Action', 'Issue', 'Response']\n",
    "keys.extend(sorted(issues))\n",
    "keys"
   ]
  },
  {
   "cell_type": "code",
   "execution_count": 17,
   "metadata": {
    "collapsed": false
   },
   "outputs": [],
   "source": [
    "#writing the rest\n",
    "with open('Data/all-upr-info-binary.csv', 'wb') as output_file:\n",
    "    dict_writer = csv.DictWriter(output_file, keys)\n",
    "    dict_writer.writeheader()\n",
    "    dict_writer.writerows(recs)"
   ]
  },
  {
   "cell_type": "code",
   "execution_count": null,
   "metadata": {
    "collapsed": true
   },
   "outputs": [],
   "source": []
  }
 ],
 "metadata": {
  "kernelspec": {
   "display_name": "Python 2",
   "language": "python",
   "name": "python2"
  },
  "language_info": {
   "codemirror_mode": {
    "name": "ipython",
    "version": 2
   },
   "file_extension": ".py",
   "mimetype": "text/x-python",
   "name": "python",
   "nbconvert_exporter": "python",
   "pygments_lexer": "ipython2",
   "version": "2.7.9"
  }
 },
 "nbformat": 4,
 "nbformat_minor": 0
}
