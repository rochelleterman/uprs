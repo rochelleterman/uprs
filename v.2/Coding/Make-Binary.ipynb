{
 "cells": [
  {
   "cell_type": "markdown",
   "metadata": {},
   "source": [
    "# Transform Data to Binary Format"
   ]
  },
  {
   "cell_type": "code",
   "execution_count": 18,
   "metadata": {
    "collapsed": false
   },
   "outputs": [
    {
     "data": {
      "text/plain": [
       "9223372036854775807"
      ]
     },
     "execution_count": 18,
     "metadata": {},
     "output_type": "execute_result"
    }
   ],
   "source": [
    "import os\n",
    "import re\n",
    "import csv\n",
    "import sys\n",
    "import csv\n",
    "import random\n",
    "import ast\n",
    "from time import sleep\n",
    "\n",
    "csv.field_size_limit(sys.maxsize)"
   ]
  },
  {
   "cell_type": "markdown",
   "metadata": {},
   "source": [
    "## Load Data"
   ]
  },
  {
   "cell_type": "code",
   "execution_count": 19,
   "metadata": {
    "collapsed": false
   },
   "outputs": [
    {
     "data": {
      "text/plain": [
       "41066"
      ]
     },
     "execution_count": 19,
     "metadata": {},
     "output_type": "execute_result"
    }
   ],
   "source": [
    "# read in full csv\n",
    "recs = []\n",
    "with open('../Data/upr-info.csv','rU') as csvfile:\n",
    "    reader = csv.DictReader(csvfile)\n",
    "    for row in reader:\n",
    "        recs.append(row)\n",
    "len(recs) # 41066 "
   ]
  },
  {
   "cell_type": "code",
   "execution_count": 20,
   "metadata": {
    "collapsed": false
   },
   "outputs": [
    {
     "data": {
      "text/plain": [
       "{'Action': '5',\n",
       " 'Action_Verb': \"['establish']\",\n",
       " 'Decision.Guess': 'consider',\n",
       " 'From': 'Algeria',\n",
       " 'From.Org': 'AU, OIC, AL',\n",
       " 'From.Rgrp': 'Africa',\n",
       " 'From_COW': 'ALG',\n",
       " 'Institution': '[]',\n",
       " 'Issue': 'NHRI',\n",
       " 'Response': 'Accepted',\n",
       " 'Session': '12',\n",
       " 'Text': 'Establish a national institution to promote and protect human rights',\n",
       " 'To': 'Antigua & Barbuda',\n",
       " 'To.Org': 'OAS, ACS, Commonwealth',\n",
       " 'To.Rgrp': 'GRULAC',\n",
       " 'To_COW': 'AAB',\n",
       " 'UID': 'AAB-ALG-12-2'}"
      ]
     },
     "execution_count": 20,
     "metadata": {},
     "output_type": "execute_result"
    }
   ],
   "source": [
    "recs[1]"
   ]
  },
  {
   "cell_type": "markdown",
   "metadata": {},
   "source": [
    "## Make KEY Lists"
   ]
  },
  {
   "cell_type": "code",
   "execution_count": 21,
   "metadata": {
    "collapsed": true
   },
   "outputs": [],
   "source": [
    "# split issues from string to list\n",
    "for i in recs:\n",
    "    i['Issue'] = i['Issue'].split(\",\")"
   ]
  },
  {
   "cell_type": "code",
   "execution_count": 22,
   "metadata": {
    "collapsed": false
   },
   "outputs": [
    {
     "name": "stdout",
     "output_type": "stream",
     "text": [
      "73004\n",
      "54\n"
     ]
    }
   ],
   "source": [
    "# get a list of individual Issue codes\n",
    "issues = []\n",
    "for i in recs:\n",
    "    for issue in i['Issue']:\n",
    "        issues.append(issue)\n",
    "print len(issues) # should be 73004  \n",
    "print len(set(issues)) # should be 54!"
   ]
  },
  {
   "cell_type": "code",
   "execution_count": 23,
   "metadata": {
    "collapsed": false
   },
   "outputs": [
    {
     "data": {
      "text/plain": [
       "54"
      ]
     },
     "execution_count": 23,
     "metadata": {},
     "output_type": "execute_result"
    }
   ],
   "source": [
    "# keep just the set\n",
    "issues = set(issues)\n",
    "len(issues)"
   ]
  },
  {
   "cell_type": "code",
   "execution_count": 24,
   "metadata": {
    "collapsed": false
   },
   "outputs": [
    {
     "data": {
      "text/plain": [
       "53"
      ]
     },
     "execution_count": 24,
     "metadata": {},
     "output_type": "execute_result"
    }
   ],
   "source": [
    "# get institution keys\n",
    "institutions =  ['CRPD', 'eu-vaw', 'int-community', 'ILO', 'eu-traff', 'ICESR', 'CAT', 'CRC', 'echr', 'eu-child',\\\n",
    "                 'sp-pr', 'PP', 'euro-commissioner', 'eu-migrant', 'ouagadougou', 'un-indig', 'unesco-ed', 'un', \\\n",
    "                 'ICERD', 'frame-minorities', 'ind169', 'uncac', 'core', 'euro-traffick', '1954-stateless', 'geneva',\\\n",
    "                 'african-charter', 'ICC', 'african-democ', 'achr', '2000traffick', 'unesco-intangible', 'traffick', \\\n",
    "                 'CTOC', 'ICMW', 'HRC', 'security-council', 'UNHCR', 'euro-minority', 'kampala', '1951refugees', \\\n",
    "                 'pol-women', 'CPED', 'ottawa', '1961-stateless', 'CEDAW', 'hague', 'genocide', 'unesco-expr', \\\n",
    "                 'int-cord', 'vienna', 'CCPR', 'OP']\n",
    "len(institutions)"
   ]
  },
  {
   "cell_type": "code",
   "execution_count": 25,
   "metadata": {
    "collapsed": false
   },
   "outputs": [
    {
     "data": {
      "text/plain": [
       "14"
      ]
     },
     "execution_count": 25,
     "metadata": {},
     "output_type": "execute_result"
    }
   ],
   "source": [
    "# get action verb keys\n",
    "actions = ['accede', 'ratify', 'take-measures', 'share', 'sign', 'report', 'continue', 'withdraw', 'harmonize', \\\n",
    "           'party', 'implement', 'cooperate', 'establish', 'assistance']\n",
    "len(actions)"
   ]
  },
  {
   "cell_type": "code",
   "execution_count": 26,
   "metadata": {
    "collapsed": false
   },
   "outputs": [
    {
     "name": "stdout",
     "output_type": "stream",
     "text": [
      "41065%"
     ]
    }
   ],
   "source": [
    "# make dummies\n",
    "for n,i in enumerate(recs):\n",
    "    \n",
    "    sys.stdout.write(\"\\r%d%%\" % n)\n",
    "    sys.stdout.flush()\n",
    "    \n",
    "    for s in issues:\n",
    "        if s in i['Issue']:\n",
    "            i[s] = 1\n",
    "        else:\n",
    "            i[s] = 0\n",
    "    \n",
    "    for s in institutions:\n",
    "        if s in i['Institution']:\n",
    "            i[s] = 1\n",
    "        else:\n",
    "            i[s] = 0\n",
    "\n",
    "    for s in actions:\n",
    "        if s in i['Action_Verb']:\n",
    "            i[s] = 1\n",
    "        else:\n",
    "            i[s] = 0"
   ]
  },
  {
   "cell_type": "code",
   "execution_count": 27,
   "metadata": {
    "collapsed": false
   },
   "outputs": [
    {
     "data": {
      "text/plain": [
       "['UID',\n",
       " 'Session',\n",
       " 'To',\n",
       " 'To_COW',\n",
       " 'To.Rgrp',\n",
       " 'To.Org',\n",
       " 'From',\n",
       " 'From_COW',\n",
       " 'From.Rgrp',\n",
       " 'From.Org',\n",
       " 'Text',\n",
       " 'Action',\n",
       " 'Response',\n",
       " 'Decision.Guess',\n",
       " 'Issue',\n",
       " 'Institution',\n",
       " 'Action_Verb',\n",
       " 'Asylum-seekers - refugees',\n",
       " 'CP rights - general',\n",
       " 'Civil society',\n",
       " 'Corruption',\n",
       " 'Counter-terrorism',\n",
       " 'Death penalty',\n",
       " 'Detention',\n",
       " 'Development',\n",
       " 'Disabilities',\n",
       " 'ESC rights - general',\n",
       " 'Elections',\n",
       " 'Enforced disappearances',\n",
       " 'Environment',\n",
       " 'Extrajudicial executions',\n",
       " 'Freedom of association and peaceful assembly',\n",
       " 'Freedom of movement',\n",
       " 'Freedom of opinion and expression',\n",
       " 'Freedom of religion and belief',\n",
       " 'Freedom of the press',\n",
       " 'General',\n",
       " 'HIV - Aids',\n",
       " 'Human rights defenders',\n",
       " 'Human rights education and training',\n",
       " 'Human rights violations by state agents',\n",
       " 'Impunity',\n",
       " 'Indigenous peoples',\n",
       " 'Internally displaced persons',\n",
       " 'International humanitarian law',\n",
       " 'International instruments',\n",
       " 'Justice',\n",
       " 'Labour',\n",
       " 'Migrants',\n",
       " 'Minorities',\n",
       " 'NHRI',\n",
       " 'National plan of action',\n",
       " 'Other',\n",
       " 'Poverty',\n",
       " 'Public security',\n",
       " 'Racial discrimination',\n",
       " 'Right to education',\n",
       " 'Right to food',\n",
       " 'Right to health',\n",
       " 'Right to housing',\n",
       " 'Right to land',\n",
       " 'Right to water',\n",
       " 'Rights of the Child',\n",
       " 'Sexual Orientation and Gender Identity',\n",
       " 'Special procedures',\n",
       " 'Technical assistance and cooperation',\n",
       " 'Torture and other CID treatment',\n",
       " 'Trafficking',\n",
       " 'Treaty bodies',\n",
       " 'UPR process',\n",
       " \"Women's rights\",\n",
       " '1951refugees',\n",
       " '1954-stateless',\n",
       " '1961-stateless',\n",
       " '2000traffick',\n",
       " 'CAT',\n",
       " 'CCPR',\n",
       " 'CEDAW',\n",
       " 'CPED',\n",
       " 'CRC',\n",
       " 'CRPD',\n",
       " 'CTOC',\n",
       " 'HRC',\n",
       " 'ICC',\n",
       " 'ICERD',\n",
       " 'ICESR',\n",
       " 'ICMW',\n",
       " 'ILO',\n",
       " 'OP',\n",
       " 'PP',\n",
       " 'UNHCR',\n",
       " 'achr',\n",
       " 'african-charter',\n",
       " 'african-democ',\n",
       " 'core',\n",
       " 'echr',\n",
       " 'eu-child',\n",
       " 'eu-migrant',\n",
       " 'eu-traff',\n",
       " 'eu-vaw',\n",
       " 'euro-commissioner',\n",
       " 'euro-minority',\n",
       " 'euro-traffick',\n",
       " 'frame-minorities',\n",
       " 'geneva',\n",
       " 'genocide',\n",
       " 'hague',\n",
       " 'ind169',\n",
       " 'int-community',\n",
       " 'int-cord',\n",
       " 'kampala',\n",
       " 'ottawa',\n",
       " 'ouagadougou',\n",
       " 'pol-women',\n",
       " 'security-council',\n",
       " 'sp-pr',\n",
       " 'traffick',\n",
       " 'un',\n",
       " 'un-indig',\n",
       " 'uncac',\n",
       " 'unesco-ed',\n",
       " 'unesco-expr',\n",
       " 'unesco-intangible',\n",
       " 'vienna',\n",
       " 'accede',\n",
       " 'assistance',\n",
       " 'continue',\n",
       " 'cooperate',\n",
       " 'establish',\n",
       " 'harmonize',\n",
       " 'implement',\n",
       " 'party',\n",
       " 'ratify',\n",
       " 'report',\n",
       " 'share',\n",
       " 'sign',\n",
       " 'take-measures',\n",
       " 'withdraw']"
      ]
     },
     "execution_count": 27,
     "metadata": {},
     "output_type": "execute_result"
    }
   ],
   "source": [
    "#writing column headings in correct order\n",
    "keys = [\"UID\",\"Session\",\"To\",\"To_COW\",\"To.Rgrp\",\"To.Org\",\"From\",\"From_COW\",\"From.Rgrp\",\"From.Org\",\"Text\",\"Action\",\"Response\",\"Decision.Guess\",\"Issue\",\"Institution\",\"Action_Verb\"]\n",
    "keys.extend(sorted(issues))\n",
    "keys.extend(sorted(institutions))\n",
    "keys.extend(sorted(actions))\n",
    "keys"
   ]
  },
  {
   "cell_type": "code",
   "execution_count": 28,
   "metadata": {
    "collapsed": false
   },
   "outputs": [],
   "source": [
    "#writing the rest\n",
    "with open('../Data/upr-info-binary.csv', 'wb') as output_file:\n",
    "    dict_writer = csv.DictWriter(output_file, keys)\n",
    "    dict_writer.writeheader()\n",
    "    dict_writer.writerows(recs)"
   ]
  },
  {
   "cell_type": "code",
   "execution_count": null,
   "metadata": {
    "collapsed": true
   },
   "outputs": [],
   "source": []
  }
 ],
 "metadata": {
  "kernelspec": {
   "display_name": "Python 2",
   "language": "python",
   "name": "python2"
  },
  "language_info": {
   "codemirror_mode": {
    "name": "ipython",
    "version": 2
   },
   "file_extension": ".py",
   "mimetype": "text/x-python",
   "name": "python",
   "nbconvert_exporter": "python",
   "pygments_lexer": "ipython2",
   "version": "2.7.9"
  }
 },
 "nbformat": 4,
 "nbformat_minor": 0
}
