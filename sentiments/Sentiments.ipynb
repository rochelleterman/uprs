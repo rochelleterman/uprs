{
 "cells": [
  {
   "cell_type": "markdown",
   "metadata": {},
   "source": [
    "# Sentiment"
   ]
  },
  {
   "cell_type": "code",
   "execution_count": 1,
   "metadata": {
    "collapsed": false
   },
   "outputs": [
    {
     "data": {
      "text/plain": [
       "131072"
      ]
     },
     "execution_count": 1,
     "metadata": {},
     "output_type": "execute_result"
    }
   ],
   "source": [
    "import os\n",
    "import re\n",
    "import csv\n",
    "from urllib import urlopen\n",
    "import sys\n",
    "import csv\n",
    "from collections import Counter\n",
    "from __future__ import division\n",
    "\n",
    "csv.field_size_limit(sys.maxsize)"
   ]
  },
  {
   "cell_type": "code",
   "execution_count": 2,
   "metadata": {
    "collapsed": false
   },
   "outputs": [
    {
     "data": {
      "text/plain": [
       "39329"
      ]
     },
     "execution_count": 2,
     "metadata": {},
     "output_type": "execute_result"
    }
   ],
   "source": [
    "# load data\n",
    "recs = []\n",
    "dir = '.'\n",
    "with open(\"../Data/all-data-cown.csv\",'rU') as csvfile:\n",
    "            reader = csv.DictReader(csvfile)\n",
    "            for row in reader:\n",
    "                recs.append(row)\n",
    "            \n",
    "len(recs)"
   ]
  },
  {
   "cell_type": "code",
   "execution_count": 3,
   "metadata": {
    "collapsed": true
   },
   "outputs": [],
   "source": [
    "# strip extra whitespace on everything\n",
    "for i in recs:\n",
    "    i['text']=' '.join(i['text'].split())"
   ]
  },
  {
   "cell_type": "code",
   "execution_count": 4,
   "metadata": {
    "collapsed": true
   },
   "outputs": [],
   "source": [
    "# remove stop words function\n",
    "stopwords = ['of','on','all','the','a','for','to','and','to','against','from','in','or']\n",
    "\n",
    "def noStop(text):\n",
    "    '''\n",
    "    this function inputs a text, lowers it, and removes stop words\n",
    "    '''\n",
    "    text = text.lower().split()\n",
    "    for word in stopwords:\n",
    "        text = [x for x in text if x != word]\n",
    "    return(' '.join(text))"
   ]
  },
  {
   "cell_type": "markdown",
   "metadata": {},
   "source": [
    "## Oversample positive recs"
   ]
  },
  {
   "cell_type": "code",
   "execution_count": 9,
   "metadata": {
    "collapsed": false
   },
   "outputs": [],
   "source": [
    "pos_words = ['excellent', 'achievement', 'positive efforts', 'good practice', 'successful experiences', \\\n",
    "                       'achieved', 'best practice']\n",
    "\n",
    "for i in recs:\n",
    "    i['sentiment'] = []\n",
    "    for word in pos_words:\n",
    "        if word in noStop(i['text']):\n",
    "            i['sentiment'] = '4'"
   ]
  },
  {
   "cell_type": "code",
   "execution_count": 10,
   "metadata": {
    "collapsed": false
   },
   "outputs": [
    {
     "data": {
      "text/plain": [
       "348"
      ]
     },
     "execution_count": 10,
     "metadata": {},
     "output_type": "execute_result"
    }
   ],
   "source": [
    "positive = []\n",
    "for i in recs:\n",
    "    if '4' in i['sentiment']:\n",
    "        positive.append(i)\n",
    "len(positive)"
   ]
  },
  {
   "cell_type": "code",
   "execution_count": 7,
   "metadata": {
    "collapsed": true
   },
   "outputs": [],
   "source": [
    "for i in positive:\n",
    "    i['sentiment'] = \"\""
   ]
  },
  {
   "cell_type": "code",
   "execution_count": 8,
   "metadata": {
    "collapsed": false
   },
   "outputs": [
    {
     "data": {
      "text/plain": [
       "['from_COW',\n",
       " 'From',\n",
       " 'to_COW',\n",
       " 'sentiment',\n",
       " 'text',\n",
       " 'decision',\n",
       " 'id',\n",
       " 'to',\n",
       " 'theme',\n",
       " 'year',\n",
       " 'action',\n",
       " 'institutions']"
      ]
     },
     "execution_count": 8,
     "metadata": {},
     "output_type": "execute_result"
    }
   ],
   "source": [
    "#writing column headings\n",
    "keys = positive[0].keys()\n",
    "keys"
   ]
  },
  {
   "cell_type": "code",
   "execution_count": 9,
   "metadata": {
    "collapsed": true
   },
   "outputs": [],
   "source": [
    "#writing the rest\n",
    "with open('Data/program-positive.csv', 'wb') as output_file:\n",
    "    dict_writer = csv.DictWriter(output_file, keys)\n",
    "    dict_writer.writeheader()\n",
    "    dict_writer.writerows(positive)"
   ]
  },
  {
   "cell_type": "markdown",
   "metadata": {},
   "source": [
    "## Oversample negative recs"
   ]
  },
  {
   "cell_type": "code",
   "execution_count": 18,
   "metadata": {
    "collapsed": false
   },
   "outputs": [],
   "source": [
    "neg_words = ['deplorable', 'terrible', 'serious', 'repressive']\n",
    "\n",
    "for i in recs:\n",
    "    i['sentiment'] = []\n",
    "    for word in neg_words:\n",
    "        if word in noStop(i['text']):\n",
    "            i['sentiment'] = '1'"
   ]
  },
  {
   "cell_type": "code",
   "execution_count": 19,
   "metadata": {
    "collapsed": false
   },
   "outputs": [
    {
     "data": {
      "text/plain": [
       "211"
      ]
     },
     "execution_count": 19,
     "metadata": {},
     "output_type": "execute_result"
    }
   ],
   "source": [
    "negative = []\n",
    "for i in recs:\n",
    "    if '1' in i['sentiment']:\n",
    "        negative.append(i)\n",
    "len(negative)"
   ]
  },
  {
   "cell_type": "code",
   "execution_count": 21,
   "metadata": {
    "collapsed": false
   },
   "outputs": [
    {
     "data": {
      "text/plain": [
       "'60.16 To make effective efforts to respect its international obligations not to forcibly return any individual to a country where he or she may be at risk of serious human rights violations, including torture or other ill-treatment ( Netherlands);'"
      ]
     },
     "execution_count": 21,
     "metadata": {},
     "output_type": "execute_result"
    }
   ],
   "source": [
    "negative[1]['text']"
   ]
  },
  {
   "cell_type": "code",
   "execution_count": 14,
   "metadata": {
    "collapsed": true
   },
   "outputs": [],
   "source": [
    "for i in negative:\n",
    "    i['sentiment'] = \"\""
   ]
  },
  {
   "cell_type": "code",
   "execution_count": 16,
   "metadata": {
    "collapsed": false
   },
   "outputs": [
    {
     "data": {
      "text/plain": [
       "['from_COW',\n",
       " 'From',\n",
       " 'to_COW',\n",
       " 'sentiment',\n",
       " 'text',\n",
       " 'decision',\n",
       " 'id',\n",
       " 'to',\n",
       " 'theme',\n",
       " 'year',\n",
       " 'action',\n",
       " 'institutions']"
      ]
     },
     "execution_count": 16,
     "metadata": {},
     "output_type": "execute_result"
    }
   ],
   "source": [
    "#writing column headings\n",
    "keys = positive[0].keys()\n",
    "keys"
   ]
  },
  {
   "cell_type": "code",
   "execution_count": 17,
   "metadata": {
    "collapsed": false
   },
   "outputs": [],
   "source": [
    "#writing the rest (only first 100)\n",
    "negative = negative[:100]\n",
    "with open('Data/program-negative.csv', 'wb') as output_file:\n",
    "    dict_writer = csv.DictWriter(output_file, keys)\n",
    "    dict_writer.writeheader()\n",
    "    dict_writer.writerows(positive)"
   ]
  },
  {
   "cell_type": "markdown",
   "metadata": {},
   "source": [
    "## Test"
   ]
  },
  {
   "cell_type": "code",
   "execution_count": 45,
   "metadata": {
    "collapsed": false
   },
   "outputs": [
    {
     "name": "stdout",
     "output_type": "stream",
     "text": [
      "346\n"
     ]
    },
    {
     "data": {
      "text/plain": [
       "{'From': 'United Arab Emirates',\n",
       " 'action': '[]',\n",
       " 'decision': 'consider',\n",
       " 'from_COW': '696',\n",
       " 'id': '587',\n",
       " 'institutions': '[]',\n",
       " 'notes': '',\n",
       " 'sentiment': '4',\n",
       " 'text': '106.43 That achievements in reducing poverty and illiteracy be emulated by other countries (United Arab Emirates). );',\n",
       " 'theme': \"['education', 'poverty']\",\n",
       " 'to': 'Pakistan',\n",
       " 'to_COW': '770',\n",
       " 'year': '2008'}"
      ]
     },
     "execution_count": 45,
     "metadata": {},
     "output_type": "execute_result"
    }
   ],
   "source": [
    "# load data\n",
    "machine = []\n",
    "dir = '.'\n",
    "with open('../sentiments/program-positive.csv','rU') as csvfile:\n",
    "            reader = csv.DictReader(csvfile)\n",
    "            for row in reader:\n",
    "                machine.append(row)\n",
    "            \n",
    "print len(machine)\n",
    "machine[1]"
   ]
  },
  {
   "cell_type": "code",
   "execution_count": 46,
   "metadata": {
    "collapsed": false
   },
   "outputs": [
    {
     "data": {
      "text/plain": [
       "{'id': '227',\n",
       " 'sentiment': '2',\n",
       " 'text': '60.28 To prepare, through its National Committee for the Drafting of Human Rights Reports, the outstanding initial and subsequent periodic reports to the Committee on Economic, Social and Cultural Rights (Hungary);'}"
      ]
     },
     "execution_count": 46,
     "metadata": {},
     "output_type": "execute_result"
    }
   ],
   "source": [
    "# load human coded\n",
    "human = []\n",
    "with open(\"../sentiments/coded.csv\",'rU') as csvfile:\n",
    "            reader = csv.DictReader(csvfile)\n",
    "            for row in reader:\n",
    "                human.append(row)\n",
    "            \n",
    "human[1]"
   ]
  },
  {
   "cell_type": "code",
   "execution_count": 47,
   "metadata": {
    "collapsed": false
   },
   "outputs": [
    {
     "data": {
      "text/plain": [
       "{'15760', '20474', '26505', '32681', '9370'}"
      ]
     },
     "execution_count": 47,
     "metadata": {},
     "output_type": "execute_result"
    }
   ],
   "source": [
    "# get ids\n",
    "ids_human = [rec['id'] for rec in human]\n",
    "ids_machine = [rec['id'] for rec in machine]\n",
    "overlap = set(ids_human).intersection(ids_machine)\n",
    "overlap"
   ]
  },
  {
   "cell_type": "code",
   "execution_count": 48,
   "metadata": {
    "collapsed": false
   },
   "outputs": [],
   "source": [
    "# get overalpped sample\n",
    "machine_coded = [i for i in machine if i['id'] in overlap]\n",
    "human_coded = [i for i in human if i['id'] in overlap]"
   ]
  },
  {
   "cell_type": "code",
   "execution_count": 49,
   "metadata": {
    "collapsed": false
   },
   "outputs": [
    {
     "name": "stdout",
     "output_type": "stream",
     "text": [
      "['4', '4', '4', '4', '4']\n",
      "['2', '3', '3', '3', '2']\n"
     ]
    }
   ],
   "source": [
    "print [rec['sentiment'] for rec in machine_coded]\n",
    "print [rec['sentiment'] for rec in human_coded]"
   ]
  },
  {
   "cell_type": "code",
   "execution_count": null,
   "metadata": {
    "collapsed": true
   },
   "outputs": [],
   "source": []
  }
 ],
 "metadata": {
  "kernelspec": {
   "display_name": "Python 2",
   "language": "python",
   "name": "python2"
  },
  "language_info": {
   "codemirror_mode": {
    "name": "ipython",
    "version": 2
   },
   "file_extension": ".py",
   "mimetype": "text/x-python",
   "name": "python",
   "nbconvert_exporter": "python",
   "pygments_lexer": "ipython2",
   "version": "2.7.9"
  }
 },
 "nbformat": 4,
 "nbformat_minor": 0
}
