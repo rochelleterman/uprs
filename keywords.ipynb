{
 "cells": [
  {
   "cell_type": "code",
   "execution_count": 1,
   "metadata": {
    "collapsed": false
   },
   "outputs": [
    {
     "data": {
      "text/plain": [
       "131072"
      ]
     },
     "execution_count": 1,
     "metadata": {},
     "output_type": "execute_result"
    }
   ],
   "source": [
    "import os\n",
    "import re\n",
    "import csv\n",
    "from urllib import urlopen\n",
    "import sys\n",
    "import csv\n",
    "from collections import Counter\n",
    "from __future__ import division\n",
    "\n",
    "csv.field_size_limit(sys.maxsize)"
   ]
  },
  {
   "cell_type": "code",
   "execution_count": 2,
   "metadata": {
    "collapsed": false
   },
   "outputs": [
    {
     "name": "stdout",
     "output_type": "stream",
     "text": [
      "2008data.csv\n",
      "2009data.csv\n",
      "2010data.csv\n",
      "2011data.csv\n",
      "2012data.csv\n",
      "2013data.csv\n",
      "2014data.csv\n",
      "all-data.csv\n"
     ]
    },
    {
     "data": {
      "text/plain": [
       "39189"
      ]
     },
     "execution_count": 2,
     "metadata": {},
     "output_type": "execute_result"
    }
   ],
   "source": [
    "# load data\n",
    "recs = []\n",
    "dir = '.'\n",
    "for filename in os.listdir(dir):\n",
    "    if filename.endswith('.csv'):\n",
    "        print filename\n",
    "        with open(filename,'rU') as csvfile:\n",
    "            reader = csv.DictReader(csvfile)\n",
    "            for row in reader:\n",
    "                recs.append(row)\n",
    "len(recs)"
   ]
  },
  {
   "cell_type": "markdown",
   "metadata": {},
   "source": [
    "## I. Code for the institution or organization mentioned in the recommendation"
   ]
  },
  {
   "cell_type": "code",
   "execution_count": 3,
   "metadata": {
    "collapsed": false
   },
   "outputs": [],
   "source": [
    "# strip extra whitespace on everything\n",
    "for i in recs:\n",
    "    i['text']=' '.join(i['text'].split())"
   ]
  },
  {
   "cell_type": "code",
   "execution_count": 4,
   "metadata": {
    "collapsed": false
   },
   "outputs": [],
   "source": [
    "# Add Empty Institutions key\n",
    "for i in recs:\n",
    "    i['institutions'] = []"
   ]
  },
  {
   "cell_type": "code",
   "execution_count": 5,
   "metadata": {
    "collapsed": true
   },
   "outputs": [],
   "source": [
    "#remove stop words function\n",
    "stopwords = ['of','on','all','the','a','for','to','and','to','against','from']\n",
    "text = 'To sign and ratify the International Convention on the Protection of the Rights of all Migrant Workers and Their Families (Argentina);'\n",
    "\n",
    "def noStop(text):\n",
    "    '''\n",
    "    this function inputs a text, lowers it, and removes stop words\n",
    "    '''\n",
    "    text = text.lower().split()\n",
    "    for word in stopwords:\n",
    "        text = [x for x in text if x != word]\n",
    "    return(' '.join(text))"
   ]
  },
  {
   "cell_type": "code",
   "execution_count": 6,
   "metadata": {
    "collapsed": false
   },
   "outputs": [],
   "source": [
    "### CAT\n",
    "for i in recs:\n",
    "    if 'CAT' not in i['institutions']:\n",
    "        text = i['text'] \n",
    "        if ('committee torture' in noStop(text) or\n",
    "            'convention torture' in noStop(text) or\n",
    "            'CAT' in text\n",
    "           ):\n",
    "            i['institutions'].append('CAT')"
   ]
  },
  {
   "cell_type": "code",
   "execution_count": 7,
   "metadata": {
    "collapsed": false
   },
   "outputs": [],
   "source": [
    "## ICCPR\n",
    "for i in recs:\n",
    "    if 'CCPR' not in i['institutions']:\n",
    "        text = i['text']\n",
    "        if (\n",
    "            'covenant civil political right' in noStop(text) or\n",
    "            'committee civil political rights' in noStop(text) or\n",
    "            'convention civil political rights' in noStop(text) or\n",
    "            'CCPR' in text\n",
    "            ):\n",
    "            i['institutions'].append('ICCPR')"
   ]
  },
  {
   "cell_type": "code",
   "execution_count": 8,
   "metadata": {
    "collapsed": false
   },
   "outputs": [],
   "source": [
    "## ICESR\n",
    "for i in recs:\n",
    "    if 'ICESR' not in i['institutions']:\n",
    "        text = i['text'].replace(',','') # remove commas\n",
    "        if (\n",
    "            'covenant economic social cultural rights' in noStop(text) or\n",
    "            'convention economic social cultural rights' in noStop(text) or\n",
    "            'committee economic social cultural rights' in noStop(text) or\n",
    "            'committee social economic rights' in noStop(text) or\n",
    "            'covenant social economic rights' in noStop(text) or\n",
    "            'CESR' in text or\n",
    "            'CESCR' in text\n",
    "            ):\n",
    "            i['institutions'].append('ICESR')"
   ]
  },
  {
   "cell_type": "code",
   "execution_count": 9,
   "metadata": {
    "collapsed": false
   },
   "outputs": [],
   "source": [
    "## CEDAW\n",
    "for i in recs:\n",
    "    if 'CEDAW' not in i['institutions']:\n",
    "        text = i['text']\n",
    "        if (\n",
    "            'committee elimination of discrimination women' in noStop(text) or\n",
    "            'elimination kinds discrimination women' in noStop(text) or\n",
    "            'convention elimination discrimination women' in noStop(text) or\n",
    "            'convention elimination discrimination women'  in noStop(text) or\n",
    "            'convention elimination forms discriminations women' in noStop(text) or\n",
    "            'convention elimination forms discrimination women' in noStop(text) or\n",
    "            \"women's convention\" in noStop(text) or\n",
    "            'CEDAW' in text\n",
    "            ):\n",
    "            i['institutions'].append('CEDAW')"
   ]
  },
  {
   "cell_type": "code",
   "execution_count": 10,
   "metadata": {
    "collapsed": false
   },
   "outputs": [
    {
     "data": {
      "text/plain": [
       "'convention elimination forms discriminations women'"
      ]
     },
     "execution_count": 10,
     "metadata": {},
     "output_type": "execute_result"
    }
   ],
   "source": [
    "text = \"Convention on the Elimination of All Forms of Discriminations Against Women\"\n",
    "noStop(text)"
   ]
  },
  {
   "cell_type": "code",
   "execution_count": 11,
   "metadata": {
    "collapsed": false
   },
   "outputs": [],
   "source": [
    "## CRC\n",
    "for i in recs:\n",
    "    if 'CRC' not in i['institutions']:\n",
    "        text = i['text']\n",
    "        if (\n",
    "            'convention rights child' in noStop(text) or\n",
    "            'committee rights child' in noStop(text) ):\n",
    "            i['institutions'].append('CRC')\n",
    "        if ('CRC' in text and \n",
    "            'International Committee of the Red Cross (ICRC)' not in text\n",
    "            ):\n",
    "            i['institutions'].append('CRC')"
   ]
  },
  {
   "cell_type": "code",
   "execution_count": 12,
   "metadata": {
    "collapsed": false
   },
   "outputs": [],
   "source": [
    "## ICERD\n",
    "for i in recs:\n",
    "    if 'CRC' not in i['institutions']:\n",
    "        text = i['text']\n",
    "        if (\n",
    "            'elimination of all forms of racial discrimination' in text.lower() or\n",
    "            'elimination of racial discrimination' in text.lower() or\n",
    "            'CERD' in  text\n",
    "            ):\n",
    "            i['institutions'].append('ICERD')"
   ]
  },
  {
   "cell_type": "code",
   "execution_count": 13,
   "metadata": {
    "collapsed": true
   },
   "outputs": [],
   "source": [
    "## ILO\n",
    "for i in recs:\n",
    "    if 'ILO' not in i['institutions']:\n",
    "        text = i['text']\n",
    "        if (\n",
    "            'international labor organization' in text.lower() or\n",
    "            'international labour organization' in text.lower() or\n",
    "            'ILO' in text\n",
    "            ):\n",
    "            i['institutions'].append('ILO')"
   ]
  },
  {
   "cell_type": "code",
   "execution_count": 14,
   "metadata": {
    "collapsed": true
   },
   "outputs": [],
   "source": [
    "## ICC\n",
    "for i in recs:\n",
    "    if 'ICC' not in i['institutions']:\n",
    "        text = i['text']\n",
    "        if (\n",
    "            'international criminal court' in text.lower() or\n",
    "            'rome statute' in text.lower() or\n",
    "            ' ICC ' in text or\n",
    "            'ICC,' in text or\n",
    "            '(ICC)' in text\n",
    "            ):\n",
    "            i['institutions'].append('ICC')"
   ]
  },
  {
   "cell_type": "code",
   "execution_count": 15,
   "metadata": {
    "collapsed": false
   },
   "outputs": [],
   "source": [
    "## PP\n",
    "for i in recs:\n",
    "    if 'PP' not in i['institutions']:\n",
    "        text = i['text']\n",
    "        if (\n",
    "            'national human rights commission' in text.lower() or\n",
    "            'national human rights committee' in text.lower() or\n",
    "            'paris principles' in text.lower()\n",
    "            ): \n",
    "            i['institutions'].append('PP')"
   ]
  },
  {
   "cell_type": "code",
   "execution_count": 16,
   "metadata": {
    "collapsed": false
   },
   "outputs": [],
   "source": [
    "## HRC\n",
    "for i in recs:\n",
    "    if 'HRC' not in i['institutions']:\n",
    "        text = i['text']\n",
    "        if (\n",
    "            'the human rights committee' in text.lower() or\n",
    "            'un human rights committee' in text.lower() or\n",
    "            '2008 human rights committee' in text.lower()\n",
    "            ):\n",
    "            i['institutions'].append('HRC')"
   ]
  },
  {
   "cell_type": "code",
   "execution_count": 17,
   "metadata": {
    "collapsed": false
   },
   "outputs": [],
   "source": [
    "## CPED\n",
    "for i in recs:\n",
    "    if 'CPED' not in i['institutions']:\n",
    "        text = i['text']\n",
    "        if (\n",
    "            'all persons from forced disappearance' in text.lower() or\n",
    "            'Enforced Disappearance' in text or\n",
    "            'Enforced and Involuntary Disappearance' in text or\n",
    "            'convention protection persons enforced disappearances' in noStop(text) or\n",
    "            'convention protection persons enforced involuntary disappearances' in noStop(text) or\n",
    "            '(CED)' in text or\n",
    "            ' CED,' in text or\n",
    "            'CPED' in text or\n",
    "            ' CED ' in text or \n",
    "            'ICPPED' in text\n",
    "           ):\n",
    "            i['institutions'].append('CPED')"
   ]
  },
  {
   "cell_type": "code",
   "execution_count": 18,
   "metadata": {
    "collapsed": false
   },
   "outputs": [],
   "source": [
    "## ICMW\n",
    "for i in recs:\n",
    "    if 'ICMW' not in i['institutions']:\n",
    "        text = i['text']\n",
    "        if (\n",
    "            'convention rights migrant workers' in noStop(text) or\n",
    "            'convention protection rights migrant workers' in noStop(text) or\n",
    "            'convention protection migrant workers' in noStop(text) or\n",
    "            'convention migrant workers' in noStop(text) or\n",
    "            'convention rights protection migrant workers' in noStop(text) or\n",
    "            'migrant workers convention' in noStop(text) or\n",
    "            'committee on migrant workers' in noStop(text) or\n",
    "            'convention relating rights migrant workers' in noStop(text) or\n",
    "            'migrant convention' in noStop(text) or\n",
    "            'convention protection rights migrants workers' in noStop(text) or\n",
    "            'Workers and Their Families' in text or\n",
    "            'ICRMW' in text or\n",
    "            'CMW' in text\n",
    "            ):\n",
    "            i['institutions'].append('ICMW')"
   ]
  },
  {
   "cell_type": "code",
   "execution_count": 19,
   "metadata": {
    "collapsed": false
   },
   "outputs": [],
   "source": [
    "## CRPD\n",
    "for i in recs:\n",
    "    if 'CRPD' not in i['institutions']:\n",
    "        text = i['text']\n",
    "        if (\n",
    "            'convention rights persons with disabilities' in noStop(text) or\n",
    "            'committee rights persons with disabilities' in noStop(text) or\n",
    "            'convention protection persons with disabilitie' in noStop(text) or\n",
    "            'convention persons with disabilities' in noStop(text) or\n",
    "            'convention rights people with disabilities' in noStop(text) or\n",
    "            'disabilities convention' in noStop(text) or\n",
    "            'convention right persons with disabilities' in noStop(text) or\n",
    "            'CRPD' in text\n",
    "            ):\n",
    "            i['institutions'].append('CRPD')"
   ]
  },
  {
   "cell_type": "code",
   "execution_count": 20,
   "metadata": {
    "collapsed": true
   },
   "outputs": [],
   "source": [
    "# Genocide\n",
    "for i in recs:\n",
    "    if 'genocide' not in i['institutions']:\n",
    "        text = i['text']\n",
    "        if 'punishment of the crime of genocide' in text.lower():\n",
    "            i['institutions'].append('genocide')"
   ]
  },
  {
   "cell_type": "code",
   "execution_count": 21,
   "metadata": {
    "collapsed": false
   },
   "outputs": [],
   "source": [
    "# UNESCO Convention against Discrimination in Education\n",
    "for i in recs:\n",
    "    if 'unesco-ed' not in i['institutions']:\n",
    "        text = i['text']\n",
    "        if (\n",
    "            'convention against discrimination in education' in text.lower() or\n",
    "            'convention on discrimination in education' in text.lower()\n",
    "            ):\n",
    "            i['institutions'].append('unesco-ed')"
   ]
  },
  {
   "cell_type": "code",
   "execution_count": 22,
   "metadata": {
    "collapsed": false
   },
   "outputs": [],
   "source": [
    "#1951 Convention relating to the Status of Refugees\n",
    "for i in recs:\n",
    "    if '1951refugees' not in i['institutions']:\n",
    "        text = i['text']\n",
    "        if (\n",
    "            'Convention on Refugees' in text or\n",
    "            'Status of Refugees' in text or\n",
    "            '1951 Refugee Convention' in text or\n",
    "            'United Nations Refugee Convention' in text\n",
    "            ):\n",
    "            i['institutions'].append('1951refugees')"
   ]
  },
  {
   "cell_type": "code",
   "execution_count": 23,
   "metadata": {
    "collapsed": false
   },
   "outputs": [],
   "source": [
    "#Convention against Transnational Organized Crime\n",
    "for i in recs:\n",
    "    if 'CTOC' not in i['institutions']:\n",
    "        text = i['text']\n",
    "        if (\n",
    "            'convention transnational organized crime' in noStop(text) or\n",
    "            'convention transnational organised crime' in noStop(text) or\n",
    "            'convention organized transnational crime' in noStop(text)\n",
    "            ):\n",
    "            i['institutions'].append('CTOC')"
   ]
  },
  {
   "cell_type": "code",
   "execution_count": 24,
   "metadata": {
    "collapsed": true
   },
   "outputs": [],
   "source": [
    "#United Nations Convention against Corruption\n",
    "for i in recs:\n",
    "    if 'uncac' not in i['institutions']:\n",
    "        text = i['text']\n",
    "        if 'convention against corruption' in text.lower():\n",
    "            i['institutions'].append('uncac')"
   ]
  },
  {
   "cell_type": "code",
   "execution_count": 25,
   "metadata": {
    "collapsed": false
   },
   "outputs": [],
   "source": [
    "#UNESCO Convention on the Protection and Promotion of Diversity of the Cultural Expressions \n",
    "for i in recs:\n",
    "    if 'unesco-expr' not in i['institutions']:\n",
    "        text = i['text']\n",
    "        if 'convention protection promotion diversity cultural expressions' in noStop(text): \n",
    "            i['institutions'].append('unesco-expr')"
   ]
  },
  {
   "cell_type": "code",
   "execution_count": 26,
   "metadata": {
    "collapsed": true
   },
   "outputs": [],
   "source": [
    "#1961 Convention on the Reduction of Statelessness\n",
    "for i in recs:\n",
    "    if '1961-stateless' not in i['institutions']:\n",
    "        text = i['text']\n",
    "        if 'reduction of statelessness' in text.lower():\n",
    "            i['institutions'].append('1961-stateless')"
   ]
  },
  {
   "cell_type": "code",
   "execution_count": 27,
   "metadata": {
    "collapsed": false
   },
   "outputs": [],
   "source": [
    "#1954 Convention Relating to the Status of Stateless Persons\n",
    "for i in recs:\n",
    "    if '1954-stateless' not in i['institutions']:\n",
    "        text = i['text']\n",
    "        if (\n",
    "            'convention relating to the status of stateless' in text.lower() or\n",
    "            'convention on the status of stateless' in text.lower()\n",
    "            ):\n",
    "            i['institutions'].append('1954-stateless')"
   ]
  },
  {
   "cell_type": "code",
   "execution_count": 28,
   "metadata": {
    "collapsed": true
   },
   "outputs": [],
   "source": [
    "#Geneva Conventions\n",
    "for i in recs:\n",
    "    if 'geneva' not in i['institutions']:\n",
    "        text = i['text']\n",
    "        if 'geneva convention' in text.lower():\n",
    "            i['institutions'].append('geneva')"
   ]
  },
  {
   "cell_type": "code",
   "execution_count": 29,
   "metadata": {
    "collapsed": true
   },
   "outputs": [],
   "source": [
    "# Hague Convention\n",
    "for i in recs:\n",
    "    if 'hague' not in i['institutions']:\n",
    "        text = i['text']\n",
    "        if 'hague convention' in text.lower():\n",
    "            i['institutions'].append('hague')"
   ]
  },
  {
   "cell_type": "code",
   "execution_count": 30,
   "metadata": {
    "collapsed": false
   },
   "outputs": [],
   "source": [
    "# Ottawa Convention\n",
    "for i in recs:\n",
    "    if 'ottawa' not in i['institutions']:\n",
    "        text = i['text']\n",
    "        if 'ottawa convention' in text.lower():\n",
    "            i['institutions'].append('ottawa')"
   ]
  },
  {
   "cell_type": "code",
   "execution_count": 31,
   "metadata": {
    "collapsed": false
   },
   "outputs": [],
   "source": [
    "# Europe Convention on Preventing and Combating Violence against Women and Domestic Violence\n",
    "for i in recs:\n",
    "    if 'eu-vaw' not in i['institutions']:\n",
    "        text = i['text']\n",
    "        if (\n",
    "            'europe convention preventing combating violence against women' in noStop(text) or\n",
    "            'europe convention preventing combatting violence against women' in noStop(text) or\n",
    "            'europe convention preventing combatting violence against woman' in noStop(text) or\n",
    "            'istanbul convention' in noStop(text)\n",
    "            ):\n",
    "            i['institutions'].append('eu-vaw')"
   ]
  },
  {
   "cell_type": "code",
   "execution_count": 32,
   "metadata": {
    "collapsed": false
   },
   "outputs": [],
   "source": [
    "# International Coordinating Committee of National Institutions for the Promotion and Protection of Human Rights\n",
    "for i in recs:\n",
    "    if 'int-cord' not in i['institutions']:\n",
    "        text = i['text']\n",
    "        if 'International Coordinating Committee' in text: \n",
    "            i['institutions'].append('int-cord')"
   ]
  },
  {
   "cell_type": "code",
   "execution_count": 33,
   "metadata": {
    "collapsed": true
   },
   "outputs": [],
   "source": [
    "#Europe Convention on the Protection of Children against Sexual Exploitation and Sexual Abuse\n",
    "for i in recs:\n",
    "    if 'eu-child' not in i['institutions']:\n",
    "        text = i['text']\n",
    "        if 'europe convention protection children' in noStop(text):\n",
    "            i['institutions'].append('eu-child')"
   ]
  },
  {
   "cell_type": "code",
   "execution_count": 34,
   "metadata": {
    "collapsed": false
   },
   "outputs": [],
   "source": [
    "# EU Framework Convention for the Protection of National Minorities\n",
    "for i in recs:\n",
    "    if 'frame-minorities' not in i['institutions']:\n",
    "        text = i['text']\n",
    "        if (\n",
    "            'framework convention protection national minorities' in noStop(text) or\n",
    "            'framework convention national minorities' in noStop(text)\n",
    "            ):\n",
    "            i['institutions'].append('frame-minorities')"
   ]
  },
  {
   "cell_type": "code",
   "execution_count": 35,
   "metadata": {
    "collapsed": true
   },
   "outputs": [],
   "source": [
    "# EU Convention on Action against Trafficking in Human Beings\n",
    "for i in recs:\n",
    "    if 'eu-traff' not in i['institutions']:\n",
    "        text = i['text']\n",
    "        if 'convention action trafficking human beings' in noStop(text):\n",
    "            i['institutions'].append('eu-traff')"
   ]
  },
  {
   "cell_type": "code",
   "execution_count": 36,
   "metadata": {
    "collapsed": true
   },
   "outputs": [],
   "source": [
    "#American Convention on Human Rights\n",
    "for i in recs:\n",
    "    if 'achr' not in i['institutions']:\n",
    "        text = i['text']\n",
    "        if 'american convention human rights' in noStop(text):\n",
    "            i['institutions'].append('achr')"
   ]
  },
  {
   "cell_type": "code",
   "execution_count": 37,
   "metadata": {
    "collapsed": false
   },
   "outputs": [],
   "source": [
    "##European Convention of Human Rights\n",
    "for i in recs:\n",
    "    if 'echr' not in i['institutions']:\n",
    "        text = i['text']\n",
    "        if (\n",
    "            'european convention human rights' in noStop(text) or\n",
    "            'european convention protection human rights' in noStop(text)\n",
    "            ): \n",
    "            i['institutions'].append('echr')"
   ]
  },
  {
   "cell_type": "code",
   "execution_count": 38,
   "metadata": {
    "collapsed": true
   },
   "outputs": [],
   "source": [
    "# Kampala Convention of Human Rights\n",
    "for i in recs:\n",
    "    if 'kampala' not in i['institutions']:\n",
    "        text = i['text']\n",
    "        if (\n",
    "            'african union convention protection assistance internally displaced persons' in noStop(text) or\n",
    "            'kampala convention' in noStop(text)\n",
    "            ):\n",
    "            i['institutions'].append('kampala')"
   ]
  },
  {
   "cell_type": "code",
   "execution_count": 39,
   "metadata": {
    "collapsed": false
   },
   "outputs": [],
   "source": [
    "# Convention Political Rights of Women\n",
    "for i in recs:\n",
    "    if 'pol-women' not in i['institutions']:\n",
    "        text = i['text']\n",
    "        if 'convention political rights women' in noStop(text):\n",
    "            i['institutions'].append('pol-women')"
   ]
  },
  {
   "cell_type": "code",
   "execution_count": 40,
   "metadata": {
    "collapsed": false
   },
   "outputs": [],
   "source": [
    "# Special procedures mandate holders\n",
    "for i in recs:\n",
    "    if 'sp-pr' not in i['institutions']:\n",
    "        text = i['text']\n",
    "        if (\n",
    "            'mandate holders' in noStop(text) or\n",
    "            'special procedure' in noStop(text) or\n",
    "            'rapporteur' in noStop(text) or\n",
    "            'special mechanisms' in noStop(text) or\n",
    "            'standing invitation' in noStop(text)\n",
    "            ):\n",
    "            i['institutions'].append('sp-pr')"
   ]
  },
  {
   "cell_type": "code",
   "execution_count": 41,
   "metadata": {
    "collapsed": true
   },
   "outputs": [],
   "source": [
    "# Core human rights treaties\n",
    "for i in recs:\n",
    "    if 'core' not in i['institutions']:\n",
    "        text = i['text']\n",
    "        if (\n",
    "            'core human rights' in noStop(text) or\n",
    "            'human rights core' in noStop(text) or\n",
    "            'core international human rights' in noStop(text) or\n",
    "            'main human rights treaties' in noStop(text) or\n",
    "            'main international human rights' in noStop(text) or\n",
    "            'core universal human rights' in noStop(text)\n",
    "            ):\n",
    "            i['institutions'].append('core')"
   ]
  },
  {
   "cell_type": "code",
   "execution_count": 42,
   "metadata": {
    "collapsed": true
   },
   "outputs": [],
   "source": [
    "#Protocol to Prevent, Suppress and Punish Trafficking in Persons, Especially Women and Children\n",
    "for i in recs:\n",
    "    if 'traffick' not in i['institutions']:\n",
    "        text = i['text'].replace(',','')\n",
    "        if (\n",
    "            'protocol prevent suppress punish trafficking' in noStop(text) or\n",
    "            'palermo protocol' in noStop(text)\n",
    "            ):\n",
    "            i['institutions'].append('traffick')"
   ]
  },
  {
   "cell_type": "code",
   "execution_count": 43,
   "metadata": {
    "collapsed": false
   },
   "outputs": [],
   "source": [
    "# Indigenous and Tribal Peoples Convention No. 169\n",
    "for i in recs:\n",
    "    if 'ind169' not in i['institutions']:\n",
    "        text = i['text']\n",
    "        if (\n",
    "            'indigenous tribal peoples convention no. 169' in noStop(text)\n",
    "            ):\n",
    "            i['institutions'].append('ind169')"
   ]
  },
  {
   "cell_type": "code",
   "execution_count": 44,
   "metadata": {
    "collapsed": true
   },
   "outputs": [],
   "source": [
    "# Optional protocols\n",
    "for i in recs:\n",
    "    if 'OP' not in i['institutions']:\n",
    "        text = i['text']\n",
    "        if (\n",
    "            'optional protocol' in noStop(text) or\n",
    "            'OP-' in text or\n",
    "            'OP.' in text\n",
    "            ):\n",
    "            i['institutions'].append('OP')"
   ]
  },
  {
   "cell_type": "code",
   "execution_count": 45,
   "metadata": {
    "collapsed": true
   },
   "outputs": [],
   "source": [
    "# European Convention for the Protection of Human Rights and Fundamental Freedoms\n",
    "# 1968 Convention on the Non-Applicability of the Statutory Limitations to War Crimes and Crimes Against Humanity\n",
    "#International Convention against the Recruitment, Use, Financing and Training of Mercenaries\n",
    "# European Convention on the Legal Status of Migrant Workers\n",
    "#International Convention for the Suppression of the Financing of Terrorism\n",
    "#Protocol to Prevent, Suppress and Punish Trafficking in Persons, Especially Women and Children\n",
    "#United Nations Declaration on the Rights of Indigenous Peoples"
   ]
  },
  {
   "cell_type": "code",
   "execution_count": 46,
   "metadata": {
    "collapsed": false
   },
   "outputs": [
    {
     "name": "stdout",
     "output_type": "stream",
     "text": [
      "2008\n",
      "106.28.1 and ratify other treaties and protocols which it has not yet ratified (Philippines);\n",
      "\n",
      "2009\n",
      "94.1.4 Consider ratifying or acceding to other individual complaints procedures under the treaties to which it is a party (Norway);\n",
      "\n",
      "2009\n",
      "94.1.6 Consider ratifying or acceding to other core international treaties to which it is not a party (Slovenia). );\n",
      "\n",
      "2009\n",
      "87.1.3 continue with the reform process and ratify a number of its outstanding international instruments to provide full enjoyment of all human rights to its people (Nigeria);\n",
      "\n",
      "2009\n",
      "57.1 To take appropriate measures to implement its commitments referred to in paragraphs 119 and 120 of the national report, in particular ratifying various international instruments (Algeria);\n",
      "\n",
      "2009\n",
      "93.5 Consider ratifying the individual complaints procedures under the treaties to which it is a party (Norway);\n",
      "\n",
      "2010\n",
      "87.10 To ratify the 2000 United Nations Trafficking in Persons Protocol (United States of America);\n",
      "\n",
      "2010\n",
      "87.18 To continue the process of ratifying various human rights conventions (Chad);\n",
      "\n",
      "2010\n",
      "82.14 To consider the possibility of ratifying the International Covenant in order to ensure that it is enforceable as soon as possible (Argentina);\n",
      "\n",
      "2010\n",
      "82.39 To ratify the convention to combat discrimination in the area of education (Kyrgyzstan);\n",
      "\n",
      "2010\n",
      "70.3 Sign and ratify CPRD; (Azerbaijan);\n",
      "\n",
      "2010\n",
      "71.6 To consider ratifying all outstanding human rights instruments of the United Nations, and to improve its cooperation with United Nations treaty bodies by agreeing to submit overdue reports in a timely manner (Norway);\n",
      "\n",
      "2010\n",
      "71.18. Request cooperation and technical assistance from the international community, including from relevant international bodies, with a view to strengthening national capacities to ratify and implement international conventions to which it is not yet a party, as well as submit pending reports to the human rights treaty bodies (Mexico);\n",
      "\n",
      "2010\n",
      "65.29. Make all efforts to submit overdue reports to the treaty bodies and to ratify already signed treaties (Norway);\n",
      "\n",
      "2010\n",
      "70.1. Consider ratifying the remaining international human rights instruments (Bolivia);\n",
      "\n",
      "2010\n",
      "84.7 To ratify the Council of Europe Convention on Action against Trafficking in Human Beings (Kyrgyzstan);\n",
      "\n",
      "2010\n",
      "66.4..1 ratify the other pending universal human rights treaties (Chile);\n",
      "\n",
      "2011\n",
      "69.8. Vote for the General Assembly resolution on the Moratorium on the use of the death penalty, ratify the according conventions and abolish the death penalty (Germany);\n",
      "\n",
      "2011\n",
      "101.1. Consider ratifying all outstanding international human rights instruments, and update domestic legislation to bring it into line with the provisions of these international treaties (South Africa);\n",
      "\n",
      "2011\n",
      "90.4. Sign, ratify and implement the provisions of the European Charter for Regional or Minority Languages (Poland);\n",
      "\n",
      "2011\n",
      "104.4. Consider ratifying all outstanding international human rights instruments, and update domestic legislation to bring it into line with their provisions (South Africa);\n",
      "\n",
      "2011\n",
      "61.7. Consider ratifying international human rights treaties that are still pending, in accordance with the commitment of the national authorities as set out in paragraph 114 of the national report (Chile);\n",
      "\n",
      "2011\n",
      "98.1. Consider ratifying all outstanding international instruments to which it is not yet party and endeavour to domesticate them in its national legislation (Nigeria);\n",
      "\n",
      "2011\n",
      "98.19. Sign and ratify the Conventions and Protocols to which it is not a party (Niger);\n",
      "\n",
      "2011\n",
      "62.2. Sign and ratify, as soon as possible, all fundamental international human rights instruments and their protocols (Brazil);\n",
      "\n",
      "2011\n",
      "78.2. Consider the possibility of signing and ratifying the main universal human rights instruments to which it is not yet a party (Haiti);\n",
      "\n",
      "2011\n",
      "79.1. Take steps to ratify all human rights instruments (Norway);\n",
      "\n",
      "2011\n",
      "79.1..2 consider ratifying outstanding international human rights instruments, and update domestic legislation to be in line with the provisions of those international treaties (South Africa);\n",
      "\n",
      "2011\n",
      "73.2. Consider ratifying international human rights conventions to which it is not yet a party (Nicaragua);\n",
      "\n",
      "2011\n",
      "65.2. Seek the technical and financial assistance of United Nations partners and specialized agencies to ratify the human rights treaties to which it is not yet party (Mauritania);\n",
      "\n",
      "2011\n",
      "65.3. Sign and ratify all international human rights instruments to which it is not yet party (Ecuador);\n",
      "\n",
      "2011\n",
      "96.1. Consider ratifying the outstanding international human rights instruments and further update domestic laws to be in line with the articles of those treaties (Lesotho);\n",
      "\n",
      "2011\n",
      "94.29. Continue to undertake appropriate steps with a view to ratifying the human rights instruments mentioned in paragraph 158 of the national report (Bhutan);\n",
      "\n",
      "2011\n",
      "92.41. Continue the process to ratify and implement into domestic law the several international human rights instruments that still wait for this formal acceptance (Holy See);\n",
      "\n",
      "2011\n",
      "94.4. Continue improving its legal human rights framework by ratifying or acceding to core instruments to which it is not yet party (Burkina Faso);\n",
      "\n",
      "2012\n",
      "99.4. Consider the possibility of ratifying the WHO Framework Convention on Tobacco Control (Uruguay);\n",
      "\n",
      "2012\n",
      "94.21..1 Sign and ratify the Council of Europe Convention on Action against Trafficking in Human Beings (Ireland);\n",
      "\n",
      "2012\n",
      "89.9. Consider adhering to and/or ratifying all those international human rights instruments that have not been adhered to and/or ratified (Ecuador);\n",
      "\n",
      "2012\n",
      "101.1 Consider ratifying international human rights instruments that have not been ratified by Gabon yet (Nicaragua);\n",
      "\n",
      "2012\n",
      "100.1. Continue strengthening the efforts to ratify the ICED (Argentina);\n",
      "\n",
      "2012\n",
      "138.25. Consider the recommendation made by UNHCR to ratifying the Conventions relating to refugees and stateless persons (Ghana);\n",
      "\n",
      "2012\n",
      "109.1. Continue its efforts to sign and/or ratify other human rights instruments to which it is not yet a party (Republic of Korea);\n",
      "\n",
      "2012\n",
      "147.2. Take further steps to ratify relevant treaties and conventions, keeping in line its priorities and the domestic legislative process (Cambodia);\n",
      "\n",
      "2012\n",
      "147.4. Recognize the competence of the treaty bodies to receive and examine complaints from individuals, by ratifying the relevant treaties (Republic of Korea);\n",
      "\n",
      "2012\n",
      "122.10..1 Consider ratifying other international human rights instruments to which it is not a party yet (Nicaragua);\n",
      "\n",
      "2012\n",
      "90.27. Consider signing and ratifying the Council of Europe Convention on preventing and combating violence against women and domestic violence (Norway);\n",
      "\n",
      "2012\n",
      "127.3. Make further efforts to ratify other relevant international instruments that are vital to the promotion and protection of Human Rights, in keeping with its national capacity and priority (Cambodia);\n",
      "\n",
      "2012\n",
      "127.4. Continue giving consideration to ratify the other remaining (human rights) instruments in a progressive manner (Kenya);\n",
      "\n",
      "2012\n",
      "122.4..1 Intensify its efforts to sign and ratify international human rights instruments to which it is not yet a party, particularly those which it committed to sign and ratify (Cambodia);\n",
      "\n",
      "2012\n",
      "110.29. Sign and ratify the Council of Europe Convention on Preventing and Combatting Violence against Woman and Domestic Violence (France);\n",
      "\n",
      "2012\n",
      "103.10. Consider ratifying the remaining instruments in a progressive manner and have them effectively incorporated in the national legislation for effective implementation (Kenya);\n",
      "\n",
      "2013\n",
      "92.1. Consider ratifying the outstanding international human rights instruments to which it is not yet a party to (South Africa);\n",
      "\n",
      "2013\n",
      "129.3. Consider ratifying the conventions on refugees and stateless persons and passing national legislation on refugees and stateless persons (Sierra Leone);\n",
      "\n",
      "2013\n",
      "131.28 Ratify all other international instruments it agreed to ratify during its first UPR review (Hungary);\n",
      "\n",
      "2013\n",
      "131.67 Continue the process of ratifying international human rights instruments, which have been signed, as well as those that the country is not yet a party to (C�te d�Ivoire);\n",
      "\n",
      "2013\n",
      "104.3 Consider ratifying the international human rights conventions to which the Central African Republic has not yet been a party (Burkina Faso);\n",
      "\n",
      "2013\n",
      "111.1 Continue ratifying the rest of the conventions relative to human rights that it has not ratified (Libya);\n",
      "\n",
      "2013\n",
      "111.4 Continue to ratify relevant international conventions (Uganda);\n",
      "\n",
      "2013\n",
      "143.1 Pursue efforts to ratify international human rights instruments (Kuwait);\n",
      "\n",
      "2013\n",
      "120.2 Step up its efforts to sign and ratify the other human rights instruments which it has committed to sign and ratify (Cambodia);\n",
      "\n",
      "2013\n",
      "124.26. Consider ratifying UNESCO�s Convention for the Safeguarding of Intangible Cultural Heritage adopted in 2003 (Bulgaria);\n",
      "\n",
      "2013\n",
      "94.18. Consider ratifying the outstanding international human rights instruments and further update domestic laws to be in line with the articles of those treaties (Lesotho);\n",
      "\n",
      "2013\n",
      "146.11. Carry on with the consultations to ratify the major international human rights instruments (Algeria);\n",
      "\n",
      "2013\n",
      "110.1 Continue the process of ratifying the international human rights treaties to which is not yet a party. (Burkina Faso);\n",
      "\n",
      "2013\n",
      "128.1. Take necessary steps to ratify or accede to other major international human rights instruments which are still outstanding (Lesotho);\n",
      "\n",
      "2013\n",
      "135 2. Continue the process of ratifying those human rights instruments to which Nigeria is not yet a State party (Benin);\n",
      "\n",
      "2013\n",
      "135 4. Consider ratifying the outstanding human rights instruments and further update domestic laws to be in line with those articles (Lesotho);\n",
      "\n",
      "2013\n",
      "135 5. Continue the process of ratifying international human rights instruments that it is not yet a party to (Burkina Faso);\n",
      "\n",
      "2013\n",
      "140.228. Strengthen its system of protection of migrant workers and members of their families, by ratifying in particular the related international convention (Burkina Faso);\n",
      "\n",
      "2013\n",
      "82.2. Consider ratifying new international human rights instruments which would assist in strengthening its legal and institutional framework for the promotion and protection of human rights (Nicaragua);\n",
      "\n",
      "2013\n",
      "128.1..2 Consider ratifying the international instruments in the area of human rights (Montenegro);\n",
      "\n",
      "2014\n",
      "134.1 Promptly ratify and implement the human rights conventions signed in September 2013 (United Kingdom of Great Britain and Northern Ireland);\n",
      "\n",
      "2014\n",
      "134.23 Take necessary steps to ratify or accede to other major international human rights instruments which are still outstanding (Lesotho);\n",
      "\n",
      "2014\n",
      "114.1 Continue to ratify the relevant universal human rights instruments to which it is not yet a contracting party (Romania);\n",
      "\n",
      "2014\n",
      "119.5 Sign and ratify the Agreement on the Privileges and Immunities of the Court (France);\n",
      "\n",
      "2014\n",
      "110.17 Consider ratifying the African Charter on Democracy, Elections and Governance (Ethiopia);\n",
      "\n",
      "2014\n",
      "127.14..2 ratify the International Convention for the Protection of All Persons (France, Portugal, Tunisia)\n",
      "\n",
      "2014\n",
      "127.14..2 ratify the International Convention for the Protection of All Persons (France, Portugal, Tunisia)\n",
      "\n",
      "2014\n",
      "127.14..2 ratify the International Convention for the Protection of All Persons (France, Portugal, Tunisia)\n",
      "\n",
      "2014\n",
      "114.15. Consider signing and ratifying the Council of Europe Convention on Preventing and Combating Violence against Women and Domestic Violence (Slovenia) );\n",
      "\n",
      "2014\n",
      "133.1 Take necessary steps to ratify or accede to major international human rights instruments which are still outstanding (Lesotho);\n",
      "\n",
      "2014\n",
      "94.2 Continue the process of signing and ratifying international human rights instruments (Chile);\n",
      "\n",
      "2014\n",
      "98.1. Consider ratifying those international human rights instruments to which it is not yet a State party (Nicaragua);\n",
      "\n",
      "2014\n",
      "98.15. Consider ratifying the conventions on stateless persons (Nicaragua);\n",
      "\n",
      "2014\n",
      "103.2 Facilitate the completion of existing initiatives to ratify the international instruments listed in paragraph 7 of its national report (Peru);\n",
      "\n",
      "2014\n",
      "138.12 Step up its efforts to ensure equal treatment of women and girls, particularly by ratifying the Convention to Eliminate All Forms of Discrimination against Women (Thailand);\n",
      "\n",
      "2014\n",
      "128.26. Endeavour to ratify without delay all international human rights statutes that it has yet to sign (Nigeria);\n",
      "\n",
      "2014\n",
      "131.183 Adopt and ratify the Nordic Sami Convention by year 2016 (Denmark);\n",
      "\n",
      "2014\n",
      "124.2 Consider ratifying those international human rights instruments to which the State is not yet a party (Nicaragua);\n",
      "\n",
      "2014\n",
      "123.1. Consider ratifying those international instruments to which it is not yet a party, and which aim to protect the rights of minority groups (Nicaragua);\n",
      "\n",
      "2014\n",
      "143.1. Continue efforts to ratify international human rights instruments, to which Viet Nam is not yet a party (Nicaragua);\n",
      "\n"
     ]
    }
   ],
   "source": [
    "# test which institutions I might have missed\n",
    "for i in recs:\n",
    "    if i['institutions'] == []:\n",
    "        if 'ratify' in i['text']:\n",
    "            print i['year']\n",
    "            print i['text'] + '\\n'"
   ]
  },
  {
   "cell_type": "markdown",
   "metadata": {},
   "source": [
    "## II. Actions"
   ]
  },
  {
   "cell_type": "code",
   "execution_count": 47,
   "metadata": {
    "collapsed": false
   },
   "outputs": [],
   "source": [
    "# assign action\n",
    "keywords = {}\n",
    "keywords['ratify'] = ['ratify']\n",
    "keywords['accede'] = ['accede']\n",
    "keywords['sign'] = ['sign']\n",
    "keywords['implement'] = ['implement']\n",
    "keywords['establish'] = ['establish']\n",
    "keywords['continue'] = ['continue']\n",
    "keywords['take-measures'] = ['take measures']\n",
    "keywords['harmonize'] = ['harmonize']\n",
    "keywords['report'] = ['to report','reporting','reports']\n",
    "keywords['party'] = ['party to']\n",
    "keywords['withdraw'] = ['withdraw']\n",
    "\n",
    "for i in recs:\n",
    "    i['action'] = []\n",
    "    if i['institutions'] != []:\n",
    "        for key in keywords.keys():\n",
    "            for word in keywords[key]:\n",
    "                if key in i['action']: # skip if it's already in there\n",
    "                    continue\n",
    "                if word in noStop(i['text']):\n",
    "                    i['action'].append(key)"
   ]
  },
  {
   "cell_type": "code",
   "execution_count": 48,
   "metadata": {
    "collapsed": false
   },
   "outputs": [],
   "source": [
    "# special code for assistance action\n",
    "for i in recs:\n",
    "    if (\n",
    "        'assistance ' in i['text'] and\n",
    "        'international' in i['text']\n",
    "        ):\n",
    "        i['action'].append('assistance')"
   ]
  },
  {
   "cell_type": "code",
   "execution_count": 49,
   "metadata": {
    "collapsed": false
   },
   "outputs": [
    {
     "data": {
      "text/plain": [
       "\"\\n# testing\\nfor i in recs:\\n    if 'civilians' in i['text']:\\n        print i['text']\\n\""
      ]
     },
     "execution_count": 49,
     "metadata": {},
     "output_type": "execute_result"
    }
   ],
   "source": [
    "'''\n",
    "# testing\n",
    "for i in recs:\n",
    "    if 'civilians' in i['text']:\n",
    "        print i['text']\n",
    "'''"
   ]
  },
  {
   "cell_type": "markdown",
   "metadata": {
    "collapsed": false
   },
   "source": [
    "## III. Theme"
   ]
  },
  {
   "cell_type": "code",
   "execution_count": 50,
   "metadata": {
    "collapsed": false
   },
   "outputs": [],
   "source": [
    "keywords = {}\n",
    "\n",
    "# physical integrity\n",
    "keywords['torture'] = ['torture','inhuman degrading treatment','corporal punishment','stoning','amputation','caning',\\\n",
    "                       'whipping']\n",
    "keywords['trafficking'] = ['slavery','forced labor','forced labour','traffick','abduct','kidnap']\n",
    "keywords['prison'] = ['prison','police','interrogation','detainees','security force','security personnel',\n",
    "                      'security official','detention','detained','law enforc','incarceration','solitary confinement' \\\n",
    "                     ]\n",
    "keywords['disappearances'] = ['disappearances','disappeared']\n",
    "keywords['death-pen'] = ['death penalty','extrajudicial','capital punishment','death sentence','executions',\\\n",
    "                         'capital sentence']\n",
    "\n",
    "# pol. rights\n",
    "keywords['migration'] = ['migration','migrant','refugee','displaced','asylum','displacements','idps', \\\n",
    "                         'eviction','statelessness']\n",
    "keywords['speech'] = ['speech','expression','journalis','opinion',' press ',' media','insult law',\\\n",
    "                      'defamation','political dissent','newspapers']\n",
    "keywords['religion'] = ['religio','church','muslim','blasphemy','apostasy']\n",
    "keywords['judiciary'] = ['judiciary','judicial','fair trial','court','judge','defendants','prosecutor','lawyer',\\\n",
    "                         'legal representation','tribunal','legal aid',\"due process\"]\n",
    "keywords['privacy'] = ['privacy']\n",
    "\n",
    "# soc, cul, econ. rights\n",
    "keywords['poverty'] = ['poverty','social security','pension','social safety net']\n",
    "keywords['health'] = ['health','hospital','doctor','medical','disease']\n",
    "keywords['hiv'] = ['hiv']\n",
    "keywords['food'] = ['food','hungry']\n",
    "keywords['infrastructure '] = ['water','sanitation','housing','roads','right development','living standard','homeless']\n",
    "keywords['labor'] = [' labor','labour','strike','unions','worker','employment']\n",
    "keywords['education'] = ['education','illiter','school']\n",
    "keywords['property'] = ['property','properties']\n",
    "keywords['land'] = ['land rights']\n",
    "keywords['culture'] = ['cultural rights','cultural values','traditions']\n",
    "\n",
    "# vuln. populations\n",
    "keywords['children'] = ['child','juvenile','minors','girl','minimum age','age criminal responsibility']\n",
    "keywords['lgbt'] = ['lgbt','lesbian','gay','homosexual','transsexual','sexual orientation','gender identity',\\\n",
    "                    'consensual sex','same-sex', 'same sex','homophobia','between consenting adults']\n",
    "keywords['ethnic'] = ['tribal area','vulnerable population','roma','ethnic','minorit','xenophobi']\n",
    "keywords['indigenous'] = ['indigenous','aboriginal']\n",
    "keywords['race'] = ['race','racial','racism']\n",
    "keywords['disabilities'] = ['disabilit','disabled']\n",
    "keywords['women'] = ['women','gender','misogyn','widows','girl']\n",
    "keywords['sex-violence'] = ['domestic violence','sexual violence','rape','domestic abuse','sexual abuse', \\\n",
    "                            'prostitut','gender-based violence','violence against women','prostitut']\n",
    "keywords['discrimination'] = ['discriminat','advancement','stereotyp','attitude','role responsibilit','equal']\n",
    "keywords['harm-trad'] = ['fgm','genital','early marriage','forced marriage','harmful traditional practices',\\\n",
    "                         'sexual mutilation','polygamy','witch']\n",
    "keywords['reproductive'] = ['reproductive','abortion','birth control','maternal','family planning']\n",
    "keywords['elderly'] = ['elderly']\n",
    "\n",
    "# political conflict\n",
    "keywords['conflict'] = ['truth commission','reconstruction','post-conflict','reconciliation','civil war',\\\n",
    "                        'post conflict','civil conflict','armed conflict']\n",
    "keywords['governance'] = ['good governance','rule law','stability','public governance']\n",
    "keywords['corruption'] = ['corruption','bribary','bribe','bribing','extortion']\n",
    "keywords['environment'] = ['environment','pollution','climate change']\n",
    "keywords['democ'] = ['democrat','election']\n",
    "keywords['self-determ'] =['self-determination', 'self determination']\n",
    "keywords['socialism'] = ['socialism','communism']\n",
    "keywords['civil-so'] = ['civil society','rights defenders','charities','protest','activist','demonstrator', \\\n",
    "                       'freedom assembly','freedom association','free association','free assembly','demonstrations']\n",
    "keywords['terrorism'] = ['terroris']\n",
    "keywords['crime-humanity'] = ['war crime','crimes humanity','genocide','massacre']\n",
    "\n",
    "# human rights violations\n",
    "keywords['impunity'] = ['impunity','immunity from prosecution']"
   ]
  },
  {
   "cell_type": "code",
   "execution_count": 51,
   "metadata": {
    "collapsed": false
   },
   "outputs": [],
   "source": [
    "#apply\n",
    "for i in recs:\n",
    "    i['theme'] = []\n",
    "    text = noStop(i['text'])\n",
    "    # get rid of country, so that 'democrat' doesn't catch \"democratic republic of congo\" etc.\n",
    "    if \"(\" in text and \")\" in text:\n",
    "        country = text.split('(')[-1].split(')')[0]\n",
    "        text = text.replace(country,'')\n",
    "    for key in keywords.keys():\n",
    "            for word in keywords[key]:\n",
    "                if key in i['theme']: # skip if it's already in there\n",
    "                    continue\n",
    "                if word in text:\n",
    "                    i['theme'].append(key)"
   ]
  },
  {
   "cell_type": "code",
   "execution_count": 53,
   "metadata": {
    "collapsed": true
   },
   "outputs": [],
   "source": [
    "# some themes require special code for capitalization or whatever\n",
    "for i in recs:\n",
    "    if 'civil-so' not in i['theme']:\n",
    "        if \"NGO\" in i['text']:\n",
    "            i['theme'].append('civil-so')"
   ]
  },
  {
   "cell_type": "code",
   "execution_count": 54,
   "metadata": {
    "collapsed": false,
    "scrolled": true
   },
   "outputs": [
    {
     "data": {
      "text/plain": [
       "99.87197938196942"
      ]
     },
     "execution_count": 54,
     "metadata": {},
     "output_type": "execute_result"
    }
   ],
   "source": [
    "# what percentage of recs are tagged?\n",
    "non_tagged = len([i for i in recs if i['theme'] == [] and i['institutions'] == []])\n",
    "total = len(recs)\n",
    "\n",
    "100 - (non_tagged / total)"
   ]
  },
  {
   "cell_type": "code",
   "execution_count": 55,
   "metadata": {
    "collapsed": false
   },
   "outputs": [
    {
     "name": "stdout",
     "output_type": "stream",
     "text": [
      "97.7 Re-introduce the moratorium which was broken in 2007, and take measures to adhere to the resolutions of the General Assembly in this regard (Sweden);\n",
      "[]\n",
      "2009\n",
      "\n",
      "\n",
      "90.12 As the nominal state of emergency has unintended consequences for government accountability, review it and produce a timetable on how it might be ended (United Kingdom);\n",
      "[]\n",
      "2010\n",
      "\n",
      "\n",
      "90.19.2 review the Internal Security Act of 1982 in order to bring it into line with international standards (Slovakia);\n",
      "[]\n",
      "2010\n",
      "\n",
      "\n",
      "90.23.1 consider revising the Sedition Act and the Newspaper Act to ensure that they conform with international human rights standards (Slovenia);\n",
      "[]\n",
      "2010\n",
      "\n",
      "\n",
      "90.23.3 consider reviewing the Sedition Act (Italy);\n",
      "[]\n",
      "2010\n",
      "\n",
      "\n",
      "90.24 Halt prosecutions of individuals for possessing seditious� material critical of the State and the royal family (United States);\n",
      "[]\n",
      "2010\n",
      "\n",
      "\n",
      "90.27 Repeal or amend the Societies Order to ensure that it does not violate the right to peaceful association or assembly (Canada). );\n",
      "[]\n",
      "2010\n",
      "\n",
      "\n",
      "92.3 Comply with the principle of freedom of movement in the Central American region adopted in the framework of the Central American System of Integration (Nicaragua);\n",
      "[]\n",
      "2010\n",
      "\n",
      "\n",
      "91.31 End the practice of imposing punishment on returnees (Netherlands);\n",
      "[]\n",
      "2010\n",
      "\n",
      "\n",
      "91.43 Reform its criminal code as soon as possible in order to guarantee freedom of movement both within its territory as well as towards foreign countries without the need for prior permission in accordance with applicable international standards (France);\n",
      "[]\n",
      "2010\n",
      "\n",
      "\n",
      "97.9 Bring to account individuals and groups who use inflammatory rhetoric. (Australia);\n",
      "[]\n",
      "2010\n",
      "\n",
      "\n",
      "89.1 Ensure that appropriate legal frameworks are in place in line with the international conventions governing the issue of nationality (Canada): The Dominican Republic does not accept this recommendation, since nationality is already established in the Constitution and is not open to interpretation; );\n",
      "[]\n",
      "2010\n",
      "\n",
      "\n",
      "89.2 Cancel all retroactive measures taken to replace the principle of jus soli with the principle of jus sanguinis for the acquisition of nationality (Spain): The Dominican Republic agrees that the law is not retroactive, but cannot accept the allegation that the Constitution is applied in a retroactive manner: );\n",
      "[]\n",
      "2010\n",
      "\n",
      "\n",
      "89.4 Adopt measures to ensure that Dominican of Haitian descent are not denied citizenship or access to civil and birth registration procedures and are not arbitrarily subject to retroactive cancellation of birth and identity documents (United States): This is not acceptable because, as noted earlier, application of the law is not retroactive in the Dominican Republic. In addition the Constitution of the Dominican Republic is not subject to interpretation as to who is or is not a Dominican; );\n",
      "[]\n",
      "2010\n",
      "\n",
      "\n",
      "97.2 Conduct a wide-ranging review of Egyptian human rights laws in order to bring them into line with Egypt�s international commitments, as so pledged in its Human Rights Council candidature and within its National Report (Israel);\n",
      "[]\n",
      "2010\n",
      "\n",
      "\n",
      "97.13 End the exceptional state of emergency and lift the Emergency Law, and to abstain from legislation that introduces measures of Emergency Law into the Constitution (Germany);\n",
      "[]\n",
      "2010\n",
      "\n",
      "\n",
      "98.5 Not renew the Emergency Law in April 2010, and ensure that future legislation fully respects Egypt's obligations under international human rights law and not entrench under statute law provisions that facilitate human rights violations (Canada);\n",
      "[]\n",
      "2010\n",
      "\n",
      "\n",
      "98.6 That the emergency legislation under the state of emergency, which is the root cause to many human rights problems in Egypt, be repealed, and that future legislation be elaborated based on the enjoyment of human rights (Sweden);\n",
      "[]\n",
      "2010\n",
      "\n",
      "\n",
      "98.7 Host in Cairo the new OHCHR regional office in North Africa, as so pledged in its candidature for membership to the Human Rights Council (Israel). );\n",
      "[]\n",
      "2010\n",
      "\n",
      "\n",
      "99.5 Open regional offices of the EHRC, starting with an office in Jijiga (United Kingdom);\n",
      "[]\n",
      "2010\n",
      "\n",
      "\n",
      "99.13 Allow for greater humanitarian access to the Ogaden so that organizations such as the International Committee of the Red Cross and United Nations relief agencies can provide assistance to victims of conflict (United States);\n",
      "[]\n",
      "2010\n",
      "\n",
      "\n",
      "99.18 Undertake credible and independent investigations of alleged human rights violations in the Somali Region (United Kingdom);\n",
      "[]\n",
      "2010\n",
      "\n",
      "\n",
      "99.19 Authorise the launching of an independent international inquiry on the allegations on the violations of human rights in the Somali region since 2007, and bring those responsible to justice (Switzerland);\n",
      "[]\n",
      "2010\n",
      "\n",
      "\n",
      "100.28 Ensure free access to information (Germany);\n",
      "[]\n",
      "2010\n",
      "\n",
      "\n",
      "67.5. Send a clear signal that no human rights violations committed by members of the army will be tolerated, and take specific measures in order to bring to justice those responsible, without exceptions and regardless of their rank (Canada). );\n",
      "[]\n",
      "2010\n",
      "\n",
      "\n",
      "92.2 Cease all actions as a third-State proxy, and to refrain from financing, organizing, training, supplying and equipping non-State actors committing acts in violation of international law (Israel);\n",
      "[]\n",
      "2010\n",
      "\n",
      "\n",
      "92.16 End incitement to hatred, including statements that show contempt for General Assembly resolutions 60/7 and 61/255, on Holocaust remembrance and Holocaust denial, respectively (Israel);\n",
      "[]\n",
      "2010\n",
      "\n",
      "\n",
      "92.33 Put an end to abusive recourse to trials in camera, and authorize international observers to attend trials (France);\n",
      "[]\n",
      "2010\n",
      "\n",
      "\n",
      "81.4. Recognize the right to Kuwaiti nationality of those persons who have been left stateless due to the nationality law in 1959, and provide for the same enjoyment of their human rights as to other citizens (Slovakia);\n",
      "[]\n",
      "2010\n",
      "\n",
      "\n",
      "99.3. Take the necessary measures to ensure the primacy of civil and political authority (Netherlands);\n",
      "[]\n",
      "2010\n",
      "\n",
      "\n",
      "72.12 To initiate legislation introducing the possibility of conscientious objection or an alternative civilian service for citizens eligible for military service (Austria);\n",
      "[]\n",
      "2010\n",
      "\n",
      "\n",
      "87.7. Address the distinction made between Spanish and foreign nationals to the detriment of the latter group when remanding custody during investigations (Austria);\n",
      "[]\n",
      "2010\n",
      "\n",
      "\n",
      "87.18. Thoroughly and independently investigate all circumstances surrounding its involvement in rendition programmes (Islamic Republic of Iran);\n",
      "[]\n",
      "2010\n",
      "\n",
      "\n",
      "105.6. Abide by all relevant United Nations resolutions pertaining to human rights violations that concern Turkey implicitly or explicitly (Cyprus);\n",
      "[]\n",
      "2010\n",
      "\n",
      "\n",
      "105.9. Compliance with the pertinent judgments of the ECHR concerning violations of human rights in the area of Cyprus, which are under effective control of Turkey (Cyprus). );\n",
      "[]\n",
      "2010\n",
      "\n",
      "\n",
      "103.12. Take specific steps to strengthen the institution of the family, including raising awareness among the youth of traditional understanding of the family and its social values (Belarus);\n",
      "[]\n",
      "2011\n",
      "\n",
      "\n",
      "103.18. Establish a specific mechanism to monitor Islamophobia and adopt effective measures to combat this evil phenomenon among political parties and extreme right-wing organizations (Islamic Republic of Iran);\n",
      "[]\n",
      "2011\n",
      "\n",
      "\n",
      "85.7. Speed up the process of reinstating the citizenship of approximately 60,000 Greek citizens who were deprived of Greek citizenship, because of the later repelled article 19 of the Greek Citizenship Law. Create a mechanism to compensate their losses in terms of ownership rights that occurred as a result of the process (Turkey);\n",
      "[]\n",
      "2011\n",
      "\n",
      "\n",
      "101.1. Consider ratifying all outstanding international human rights instruments, and update domestic legislation to bring it into line with the provisions of these international treaties (South Africa);\n",
      "[]\n",
      "2011\n",
      "\n",
      "\n",
      "101.2. Ratify international human rights standards to which it is not yet a State party (Nicaragua);\n",
      "[]\n",
      "2011\n",
      "\n",
      "\n",
      "82.23. That the current sponsorship system, �kafala�, be revoked and replaced with regulations in accordance with international standards (Norway);\n",
      "[]\n",
      "2011\n",
      "\n",
      "\n",
      "96.14. Abolish legal provisions that criminalize the dissemination of information considered to tarnish the Libyan Arab Jamahiriya�s reputation abroad, including article 178 of the Libyan Penal Code (United States);\n",
      "[]\n",
      "2011\n",
      "\n",
      "\n",
      "91.1. Stop attempts to revise the outcomes of the Second World War, the prosecution of anti-fascist veterans and glorification of the Nazi accomplices; (Russia). );\n",
      "[]\n",
      "2011\n",
      "\n",
      "\n",
      "105.5. Continue to implement its national laws in accordance with the universally agreed human rights norms and principles (Egypt);\n",
      "[]\n",
      "2011\n",
      "\n",
      "\n",
      "91.1. Become a party to regional and international human rights instruments that it has not yet signed up to despite its efforts to fulfil its international obligations (Chad);\n",
      "[]\n",
      "2011\n",
      "\n",
      "\n",
      "91.7. Draft, enact, and implement legislation that provides greater protection for political rights (United States);\n",
      "[]\n",
      "2011\n",
      "\n",
      "\n",
      "107.1. Take immediate steps to end continuing violations of international human rights law (United States of America);\n",
      "[]\n",
      "2011\n",
      "\n",
      "\n",
      "107.2. Amend the Constitution accordingly and in compliance with international human rights treaties and humanitarian laws (Denmark);\n",
      "[]\n",
      "2011\n",
      "\n",
      "\n",
      "107.7. Pursue dialogue and cooperation among all stakeholders, including with a view to ensuring that the Constitution provisions are in line with international standards related to democracy and human rights (Norway);\n",
      "[]\n",
      "2011\n",
      "\n",
      "\n",
      "107.40. Repeal or amend all domestic legislation which is in breach of international human rights law (Sweden);\n",
      "[]\n",
      "2011\n",
      "\n",
      "\n",
      "107.45. Continue its efforts to throw light on the violations of the right to life, personal integrity and freedom perpetrated under its jurisdiction, in accordance with what has been requested in successive United Nations General Assembly resolutions (Argentina);\n",
      "[]\n",
      "2011\n",
      "\n",
      "\n",
      "107.50. Adopt the necessary measures to ensure the release of the people deprived of their liberty for motives of conscience (Argentina);\n",
      "[]\n",
      "2011\n",
      "\n",
      "\n",
      "79.2 Establish an independent complaints mechanism mandated to investigate allegations of human rights violations (Canada). );\n",
      "[]\n",
      "2011\n",
      "\n",
      "\n",
      "91.12. Amend the Law of Association to allow the associations to join international coalitions without the approval of the Ministry of Social Development (Poland). );\n",
      "[]\n",
      "2011\n",
      "\n",
      "\n",
      "99.4. Implement the 18 recommendations made by the International Bar Association�s Human Rights Institute in its 2008 report Prosperity Versus Individual Rights� (United Kingdom);\n",
      "[]\n",
      "2011\n",
      "\n",
      "\n",
      "104.4. Withdraw its reservations to various international human rights instruments so as to allow complaints both by individuals and from other States parties (Peru);\n",
      "[]\n",
      "2011\n",
      "\n",
      "\n",
      "104.6. Integrate into national legislation the principles and provisions of international human rights instruments ratified by Syria, and abolish laws that contradict them (Canada);\n",
      "[]\n",
      "2011\n",
      "\n",
      "\n",
      "104.7. Abolish legislative provisions that grant state officials immunity from prosecution, notably by repealing Decrees 14/1969 and 69/2008 (Canada);\n",
      "[]\n",
      "2011\n",
      "\n",
      "\n",
      "104.12. Heed the calls of the international community by immediately ending the repression and the climate of terror that it has imposed on its own population by respecting in all circumstances the rules of international law and by bringing to justice those responsible and the perpetrators of these crimes (France);\n",
      "[]\n",
      "2011\n",
      "\n",
      "\n",
      "104.19. Allow full and unfettered access to the United Nations Human Rights Council�s Commission of Inquiry established under Human Rights Council resolution S-17/1 (Australia);\n",
      "[]\n",
      "2011\n",
      "\n",
      "\n",
      "104.20. Allow for a prompt, impartial and independent investigation into all human rights abuses and grant the OHCHR immediate access to conduct investigations (Sweden);\n",
      "[]\n",
      "2011\n",
      "\n",
      "\n",
      "104.21. Prosecute all those responsible for the mass-scale criminal acts that have taken place in the past months, including members of security units, responsible commanders and politicians (Czech Republic);\n",
      "[]\n",
      "2011\n",
      "\n",
      "\n",
      "104.22. Immediately respect the decisions of the Human Rights Council and fully cooperate with the international Commission of Inquiry, including by granting access on the ground and by not inhibiting the mission which it has been entrusted with (France);\n",
      "[]\n",
      "2011\n",
      "\n",
      "\n",
      "104.23. Ensure full compliance with the recommendations of the United Nations High Commissioner for Human Rights as contained in her report to the Human Rights Council of 15 September 2011, reference number A/HRC/18/53 (Slovakia);\n",
      "[]\n",
      "2011\n",
      "\n",
      "\n",
      "104.24. Carry out thorough, transparent and independent investigations into all reports of alleged human rights violations and abuses since March 2011, and bring the perpetrators to justice (Canada);\n",
      "[]\n",
      "2011\n",
      "\n",
      "\n",
      "104.25. Cooperate with the United Nations by giving the Commission of Inquiry established by the United Nations Human Rights Council unfettered access to the country so that it may carry out its mandate (Canada);\n",
      "[]\n",
      "2011\n",
      "\n",
      "\n",
      "104.26. Allow, without restrictions, unhindered access to the country for neutral observers and humanitarian actors (Norway);\n",
      "[]\n",
      "2011\n",
      "\n",
      "\n",
      "104.33. Respond to the legitimate demands of the Syrian people with a credible process for reform (Australia);\n",
      "[]\n",
      "2011\n",
      "\n",
      "\n",
      "105.2. Revoke recently introduced laws that obstruct fundamental freedoms (Poland);\n",
      "[]\n",
      "2011\n",
      "\n",
      "\n",
      "105.7. Immediately bring to an end the violence and repression against the civilian population (Switzerland);\n",
      "[]\n",
      "2011\n",
      "\n",
      "\n",
      "89.17. Set up an independent inquiry into the justification for calling a State of Emergency which would inter alia investigate the actions of the security services during the State of Emergency (United Kingdom);\n",
      "[]\n",
      "2011\n",
      "\n",
      "\n",
      "96.5. Amend the Criminal Code and the Organic Code of Military Justice, eliminating the crimes of contempt and vilification (Norway);\n",
      "[]\n",
      "2011\n",
      "\n",
      "\n",
      "96.7. Take the necessary measures to implement the UN Program on Small Arms and Light Weapons and revise the national legislation on this matter in order to reduce the existing homicide rate (Switzerland);\n",
      "[]\n",
      "2011\n",
      "\n",
      "\n",
      "96.32. Ensure timely and effective access to government information (Australia);\n",
      "[]\n",
      "2011\n",
      "\n",
      "\n",
      "96.38. Direct officials to cease anti-Semitic commentary and condemn any such statements (USA). );\n",
      "[]\n",
      "2011\n",
      "\n",
      "\n",
      "95.8. Create stronger mechanisms to ensure greater revenue transparency from diamond mining, demilitarize the diamond industry, and thoroughly investigate cases of beatings and abuse by Government and private security services in the Marange area (United States of America);\n",
      "[]\n",
      "2011\n",
      "\n",
      "\n",
      "95.9. Prioritize efforts to implement domestic policies to give effect to the protection of human rights, and the prevention of politically-motivated violence and intimidation (Australia);\n",
      "[]\n",
      "2011\n",
      "\n",
      "\n",
      "95.10. Take concrete steps to comply fully with the minimum standards of the Kimberly Process, including by increasing accountability and transparency in the use of profits from natural resources, and investigating any credible allegation of human rights abuses, particularly in the Marange region (Canada);\n",
      "[]\n",
      "2011\n",
      "\n",
      "\n",
      "95.32. Expedite the investigation of all human rights allegations with a view towards bringing the perpetrators to justice (Thailand);\n",
      "[]\n",
      "2011\n",
      "\n",
      "\n",
      "95.34. Take promptly all the necessary measures to put an end to all the human rights violations in Marange region (Belgium);\n",
      "[]\n",
      "2011\n",
      "\n",
      "\n",
      "95.37. Take the necessary measures so that all allegations of human rights violations are duly investigated and that the perpetrators are brought to justice (Switzerland);\n",
      "[]\n",
      "2011\n",
      "\n",
      "\n",
      "95.41. Amend or repeal the Public Order and Security Act (New Zealand);\n",
      "[]\n",
      "2011\n",
      "\n",
      "\n",
      "95.42. Fully implement the Global Political Agreement (GPA) provisions supporting the Constitutional Parliamentary Committee (United States of America);\n",
      "[]\n",
      "2011\n",
      "\n",
      "\n",
      "95.55. Take immediate steps to fully implement the commitment on bringing about reforms to ensure that the electoral process and the legislative framework are in line with international standards and in particular to address concerns with regard the independence of the Zimbabwe Electoral Commission and the accuracy of the current voter roll (Ireland);\n",
      "[]\n",
      "2011\n",
      "\n",
      "\n",
      "102.3 Consider accepting the jurisdiction of the treaty bodies to receive complaints, conduct inquiries and take urgent actions (Costa Rica);\n",
      "[]\n",
      "2012\n",
      "\n",
      "\n",
      "132.1. Accept the establishment of a permanent human rights component in the United Nations Mission for the Referendum in Western Sahara (MINURSO), being the only peacekeeping mission not having this component (Uruguay). );\n",
      "[]\n",
      "2012\n",
      "\n",
      "\n",
      "128.25. Adopt the draft bill on witness and victim protection (Germany);\n",
      "[]\n",
      "2012\n",
      "\n",
      "\n",
      "128.26. Adopt legislation on appointments that would ensure the independence of the Human Rights Commission (New Zealand);\n",
      "[]\n",
      "2012\n",
      "\n",
      "\n",
      "128.27. Enact the legislation to ensure the Right to Information and bring it in line with international human rights standards (Norway);\n",
      "[]\n",
      "2012\n",
      "\n",
      "\n",
      "128.31. Continue implementing the recommendations of the LLRC report and the report of the Panel of Expert in accordance with the Human Rights Council Resolution 19/2 (Germany);\n",
      "[]\n",
      "2012\n",
      "\n",
      "\n",
      "128.38. Take advantage fully and effectively from the technical assistance provided by the international community in the field of training and capacity-building of national institutions on human rights (Qatar);\n",
      "[]\n",
      "2012\n",
      "\n",
      "\n",
      "128.39. Guarantee access to the North and the East of the country to international and local humanitarian organizations specialized on family tracing and reunification programs (Uruguay);\n",
      "[]\n",
      "2012\n",
      "\n",
      "\n",
      "128.43. Fully cooperate with United Nations Human Rights mechanisms (Burkina Faso);\n",
      "[]\n",
      "2012\n",
      "\n",
      "\n",
      "128.44. Continue its constructive engagement and cooperation with the international human rights mechanism, including through technical cooperation (Indonesia);\n",
      "[]\n",
      "2012\n",
      "\n",
      "\n",
      "128.57. Create a reliable investigation commission consisting of professional and independent investigators to identify, arrest and prosecute the perpetrators of the Muttur murders (France);\n",
      "[]\n",
      "2012\n",
      "\n",
      "\n",
      "128.66. Establish immediately a publicly accessible central register for all persons missing or in custody (Germany);\n",
      "[]\n",
      "2012\n",
      "\n",
      "\n",
      "128.72. Hold accountable all persons who are liable for the violation of human rights and humanitarian law (Estonia);\n",
      "[]\n",
      "2012\n",
      "\n",
      "\n",
      "128.75. Implement the recommendations of the UN Panel of Experts on accountability, bringing all those allegedly responsible for violations of international human rights law and international humanitarian law to justice in compliance with international standards (Slovakia);\n",
      "[]\n",
      "2012\n",
      "\n",
      "\n",
      "128.83. Undertake measures that would allow citizens to have access to public information, in particular on alleged violations of human rights (Mexico);\n",
      "[]\n",
      "2012\n",
      "\n",
      "\n",
      "128.87. Refrain from restricting access to and banning from websites and withdraw the Order of 5 November 2011 with requires news sites to be registered (Netherlands);\n",
      "[]\n",
      "2012\n",
      "\n",
      "\n",
      "131.2. Consider repealing article 377 of the Criminal Code (Chile);\n",
      "[]\n",
      "2013\n",
      "\n",
      "\n",
      "118.1. Ratify international human rights instruments to which Colombia is not yet a party (Niger);\n",
      "[]\n",
      "2013\n",
      "\n",
      "\n",
      "118.20. Maintain the institution of the family and marriage as a conjugal union between a man and a woman based on free consent (Holy See);\n",
      "[]\n",
      "2013\n",
      "\n",
      "\n",
      "118.21. Implement fully the recommendations of the OHCHR field office as a mean to contribute to the improvement of the human rights situation on the ground (Austria);\n",
      "[]\n",
      "2013\n",
      "\n",
      "\n",
      "137.3. Guarantee freedom of movement for all people as well as free movement of all goods within the Occupied State of Palestine and to and from foreign countries (Saudi Arabia);\n",
      "[]\n",
      "2013\n",
      "\n",
      "\n",
      "137.6. Ensure the protection and welfare of civilians in the occupied State of Palestine (Jordan);\n",
      "[]\n",
      "2013\n",
      "\n",
      "\n",
      "137.7. Withdrawal of Israel from the Gaza strip, East Jerusalem and the West Bank, these are occupied territories of the State of Palestine that have been recognised as such by 138 States on 29 November last year by the General Assembly (State of Palestine). );\n",
      "[]\n",
      "2013\n",
      "\n",
      "\n",
      "141.1 Immediately end the occupation of Georgia�s regions of Abkhazia and the Tskhinvali region as an overarching method for numerous different forms of severe human rights violations therein (Georgia);\n",
      "[]\n",
      "2013\n",
      "\n",
      "\n",
      "114.2. Inform relatives and the public about the whereabouts of all persons who have been under arrest and whose fate is currently unknown (Germany);\n",
      "[]\n",
      "2013\n",
      "\n",
      "\n",
      "84.12. Proceed with the full incorporation of human rights treaties to which Tuvalu is a party into its domestic legal system (Slovakia);\n",
      "[]\n",
      "2013\n",
      "\n",
      "\n",
      "136.48. Launch mechanisms for recognition of truth and compensation to victims of Andijan (Mexico);\n",
      "[]\n",
      "2013\n",
      "\n",
      "\n",
      "136.53. Eliminate the system of exit visas for those wishing to travel abroad (Chile);\n",
      "[]\n",
      "2013\n",
      "\n",
      "\n",
      "122.1. Comply with international instruments, in order to promote the development of friendly relations between nations, guaranteeing the right of an ample right of transit in the ports of the Pacific, ensuring the universal and effective respect for human rights and fundamental freedoms within and beyond its borders (Bolivia (Plurinational State of)). );\n",
      "[]\n",
      "2014\n",
      "\n",
      "\n",
      "113.1 Endeavour to implement the remaining recommendations of the previous UPR review (Mozambique);\n",
      "[]\n",
      "2014\n",
      "\n",
      "\n",
      "125.8 Adopt precise definitions of anti-State crimes, anti-Peoples crimes or crimes representing an offence against the management of the economy in the criminal code and in the criminal procedure code (Belgium);\n",
      "[]\n",
      "2014\n",
      "\n",
      "\n",
      "125.9 Amend the Penal and Criminal Code to abolish generic crimes such as activities against the State or society� (Spain);\n",
      "[]\n",
      "2014\n",
      "\n",
      "\n",
      "125.10 Eliminate from the Criminal Code the crime of guilt by association (France);\n",
      "[]\n",
      "2014\n",
      "\n",
      "\n",
      "125.13 Cooperate with United Nations human rights mechanisms, in particular COIs of the Human Rights Council (Costa Rica);\n",
      "[]\n",
      "2014\n",
      "\n",
      "\n",
      "125.16 Implement the recommendations of the COI (Latvia);\n",
      "[]\n",
      "2014\n",
      "\n",
      "\n",
      "125.17 Study and start implementing the recommendations included in the report of the COI (Estonia);\n",
      "[]\n",
      "2014\n",
      "\n",
      "\n",
      "125.18 Accept and faithfully implement the recommendations of the COI, especially those contained in the Human Rights Council�s resolution (Republic of Korea);\n",
      "[]\n",
      "2014\n",
      "\n",
      "\n",
      "125.23 Take immediate steps to put an end to violations of human rights, namely by implementing the recommendations of the report of the COI, established by the Human Rights Council (Portugal);\n",
      "[]\n",
      "2014\n",
      "\n",
      "\n",
      "125.24 Implement the recommendations in the report of the COI (Slovenia);\n",
      "[]\n",
      "2014\n",
      "\n",
      "\n",
      "125.71 Provide international humanitarian organisations and human rights monitors access to the camps and their surviving victims (Israel);\n",
      "[]\n",
      "2014\n",
      "\n",
      "\n",
      "125.79 End immediately reprisals against persons on the basis of guilt by association� and the collective punishment of families of convicted criminals (Germany);\n",
      "[]\n",
      "2014\n",
      "\n",
      "\n",
      "125.80 Dismantle the inminban� neighbourhood watches, and citizen registration and denunciation systems (Canada);\n",
      "[]\n",
      "2014\n",
      "\n",
      "\n",
      "136.27 Enhance engagement with regional and international partners to gather support, as it may deem necessary, for building structural and operational capacities and augmenting existing human rights mechanisms (Philippines);\n",
      "[]\n",
      "2014\n",
      "\n",
      "\n",
      "158.1 Consider ratification of those international instruments to which it is not yet a party (Bolivia (Plurinational State of));\n",
      "[]\n",
      "2014\n",
      "\n",
      "\n",
      "158.17 Further enhance the institutional and financial capacities of the Ethiopian Human Rights Commission to effectively carry out its mandate vis-�.vis the affected communities, especially its working relations with the Oromo, Ogaden, Gambella and Somali communities (Namibia);\n",
      "[]\n",
      "2014\n",
      "\n",
      "\n",
      "126.20 Review the implementation of the National Human Rights Action Plan 2009-2012 to assess its effectiveness, evaluate possible strong points or areas for improvement, and identify needs for capacity-building and opportunities for international cooperation in the promotion and protection of human rights (Philippines);\n",
      "[]\n",
      "2014\n",
      "\n",
      "\n",
      "117.13. Take effective, predominantly legislative steps to protect the rights of persons deprived of their liberty (Ukraine);\n",
      "[]\n",
      "2014\n",
      "\n",
      "\n",
      "124.1. Ensure the protection of and right to family life on the premise that family is the natural and fundamental group of society based upon the stable relationship between a man and a woman (Bangladesh). );\n",
      "[]\n",
      "2014\n",
      "\n",
      "\n"
     ]
    }
   ],
   "source": [
    "# check ones you missed: these are all the recs without theme or institution codes that have been rejected\n",
    "for i in recs:\n",
    "    if i['theme'] == [] and i['institutions'] == []:\n",
    "        if i['decision'] == 'reject':\n",
    "            print i['text'] \n",
    "            print i['theme']\n",
    "            print i['year']\n",
    "            print '\\n'"
   ]
  },
  {
   "cell_type": "markdown",
   "metadata": {},
   "source": [
    "## Explore"
   ]
  },
  {
   "cell_type": "code",
   "execution_count": 56,
   "metadata": {
    "collapsed": false
   },
   "outputs": [
    {
     "data": {
      "text/plain": [
       "Counter({'OP': 2310, 'CAT': 1500, 'ICCPR': 1364, 'sp-pr': 1299, 'CRC': 1060, 'PP': 913, 'CEDAW': 811, 'ICESR': 764, 'CPED': 726, 'ICMW': 685, 'CRPD': 645, 'ICC': 625, 'ILO': 294, 'ICERD': 280, 'core': 204, 'HRC': 99, '1951refugees': 86, '1961-stateless': 75, 'traffick': 67, '1954-stateless': 57, 'genocide': 53, 'int-cord': 46, 'unesco-ed': 37, 'geneva': 36, 'CTOC': 36, 'echr': 16, 'hague': 16, 'uncac': 13, 'achr': 10, 'frame-minorities': 9, 'eu-child': 6, 'kampala': 6, 'ind169': 4, 'eu-vaw': 2, 'pol-women': 2, 'ottawa': 2, 'unesco-expr': 2})"
      ]
     },
     "execution_count": 56,
     "metadata": {},
     "output_type": "execute_result"
    }
   ],
   "source": [
    "# count the institutions\n",
    "institutions = []\n",
    "for rec in recs:\n",
    "    for i in rec['institutions']:\n",
    "        institutions.append(i)\n",
    "Counter(institutions)"
   ]
  },
  {
   "cell_type": "code",
   "execution_count": 57,
   "metadata": {
    "collapsed": false
   },
   "outputs": [],
   "source": [
    "# exploring\n",
    "\n",
    "def topThemes(country):\n",
    "    allThemes = []\n",
    "    for i in recs:\n",
    "        if i['to'] == country:\n",
    "            if i['theme'] != []:\n",
    "                for theme in i['theme']:\n",
    "                    allThemes.append(theme)\n",
    "    return(Counter(allThemes))"
   ]
  },
  {
   "cell_type": "code",
   "execution_count": 58,
   "metadata": {
    "collapsed": false
   },
   "outputs": [
    {
     "data": {
      "text/plain": [
       "Counter({'indigenous': 55, 'children': 48, 'women': 37, 'discrimination': 25, 'labor': 22, 'migration': 20, 'torture': 18, 'race': 18, 'ethnic': 16, 'education': 15, 'prison': 11, 'disabilities': 11, 'infrastructure ': 10, 'culture': 7, 'trafficking': 7, 'sex-violence': 6, 'poverty': 6, 'health': 5, 'civil-so': 4, 'religion': 4, 'food': 3, 'death-pen': 2, 'elderly': 2, 'speech': 2, 'judiciary': 2, 'disappearances': 1, 'environment': 1, 'terrorism': 1, 'property': 1})"
      ]
     },
     "execution_count": 58,
     "metadata": {},
     "output_type": "execute_result"
    }
   ],
   "source": [
    "topThemes('canada')"
   ]
  },
  {
   "cell_type": "code",
   "execution_count": 59,
   "metadata": {
    "collapsed": false
   },
   "outputs": [],
   "source": [
    "def getTheme(country,theme):\n",
    "    allRecs = []\n",
    "    for i in recs:\n",
    "        if i['to'] == country:\n",
    "            if theme in i['theme']:\n",
    "                allRecs.append(i['text'])\n",
    "    return(allRecs)"
   ]
  },
  {
   "cell_type": "code",
   "execution_count": 60,
   "metadata": {
    "collapsed": false
   },
   "outputs": [
    {
     "data": {
      "text/plain": [
       "['92.140. Stop the war crimes committed by its troops abroad, including the killings of innocent civilians and prosecute those who are responsible (Cuba);',\n",
       " '92.141. Halt immediately the unjustified arms race and bring to justice those responsible for all war crimes and massacres against unarmed civilians, women, children as well as acts of torture carried-out in prisons such as Abu Ghraib, Bagram and Guantanamo (Nicaragua);',\n",
       " '92.173. Comply with the principles of international cooperation, as defined in Resolution 3074 of the General Assembly, for the extradition of persons accused of crimes against humanity and proceed to extradite former Bolivian authorities that are legally accused of such crimes, in order to be brought to trial in their country of origin (Plurinational State of Bolivia);']"
      ]
     },
     "execution_count": 60,
     "metadata": {},
     "output_type": "execute_result"
    }
   ],
   "source": [
    "getTheme('unitedstatesofamerica','crime-humanity')"
   ]
  },
  {
   "cell_type": "markdown",
   "metadata": {
    "collapsed": true
   },
   "source": [
    "## Write CSV"
   ]
  },
  {
   "cell_type": "code",
   "execution_count": 55,
   "metadata": {
    "collapsed": false
   },
   "outputs": [
    {
     "ename": "KeyboardInterrupt",
     "evalue": "",
     "output_type": "error",
     "traceback": [
      "\u001b[0;31m---------------------------------------------------------------------------\u001b[0m",
      "\u001b[0;31mKeyboardInterrupt\u001b[0m                         Traceback (most recent call last)",
      "\u001b[0;32m<ipython-input-55-30c7586fe4bc>\u001b[0m in \u001b[0;36m<module>\u001b[0;34m()\u001b[0m\n\u001b[0;32m----> 1\u001b[0;31m \u001b[0;32mfor\u001b[0m \u001b[0mi\u001b[0m \u001b[0;32min\u001b[0m \u001b[0mrecs\u001b[0m\u001b[0;34m:\u001b[0m\u001b[0;34m\u001b[0m\u001b[0m\n\u001b[0m\u001b[1;32m      2\u001b[0m     \u001b[0;32mif\u001b[0m \u001b[0mNone\u001b[0m \u001b[0;32min\u001b[0m \u001b[0mrecs\u001b[0m\u001b[0;34m:\u001b[0m\u001b[0;34m\u001b[0m\u001b[0m\n\u001b[1;32m      3\u001b[0m         \u001b[0;32mprint\u001b[0m \u001b[0mrecs\u001b[0m\u001b[0;34m\u001b[0m\u001b[0m\n",
      "\u001b[0;31mKeyboardInterrupt\u001b[0m: "
     ]
    }
   ],
   "source": [
    "for i in recs:\n",
    "    if None in recs:\n",
    "        print recs"
   ]
  },
  {
   "cell_type": "code",
   "execution_count": 78,
   "metadata": {
    "collapsed": false
   },
   "outputs": [
    {
     "data": {
      "text/plain": [
       "['From',\n",
       " 'text',\n",
       " 'decision',\n",
       " 'institutions',\n",
       " 'to',\n",
       " 'theme',\n",
       " 'year',\n",
       " 'action',\n",
       " 'notes']"
      ]
     },
     "execution_count": 78,
     "metadata": {},
     "output_type": "execute_result"
    }
   ],
   "source": [
    "#writing column headings\n",
    "keys = recs[0].keys()\n",
    "keys"
   ]
  },
  {
   "cell_type": "code",
   "execution_count": 79,
   "metadata": {
    "collapsed": false
   },
   "outputs": [],
   "source": [
    "#writing the rest\n",
    "with open('all-data.csv', 'wb') as output_file:\n",
    "    dict_writer = csv.DictWriter(output_file, keys)\n",
    "    dict_writer.writeheader()\n",
    "    dict_writer.writerows(recs)"
   ]
  },
  {
   "cell_type": "code",
   "execution_count": 75,
   "metadata": {
    "collapsed": false
   },
   "outputs": [],
   "source": [
    "probs = []\n",
    "for i in recs:\n",
    "    all_keys = i.keys()\n",
    "    all_keys = [key for key in all_keys if key not in keys]\n",
    "    if all_keys != []:\n",
    "        probs.append(recs.index(i))"
   ]
  },
  {
   "cell_type": "code",
   "execution_count": 77,
   "metadata": {
    "collapsed": false
   },
   "outputs": [],
   "source": [
    "for i in probs:\n",
    "    del recs[i][None]"
   ]
  },
  {
   "cell_type": "code",
   "execution_count": null,
   "metadata": {
    "collapsed": true
   },
   "outputs": [],
   "source": []
  }
 ],
 "metadata": {
  "kernelspec": {
   "display_name": "Python 2",
   "language": "python",
   "name": "python2"
  },
  "language_info": {
   "codemirror_mode": {
    "name": "ipython",
    "version": 2
   },
   "file_extension": ".py",
   "mimetype": "text/x-python",
   "name": "python",
   "nbconvert_exporter": "python",
   "pygments_lexer": "ipython2",
   "version": "2.7.9"
  }
 },
 "nbformat": 4,
 "nbformat_minor": 0
}
