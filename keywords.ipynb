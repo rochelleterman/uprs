{
 "cells": [
  {
   "cell_type": "code",
   "execution_count": 1,
   "metadata": {
    "collapsed": false
   },
   "outputs": [
    {
     "data": {
      "text/plain": [
       "131072"
      ]
     },
     "execution_count": 1,
     "metadata": {},
     "output_type": "execute_result"
    }
   ],
   "source": [
    "import os\n",
    "import re\n",
    "import csv\n",
    "from urllib import urlopen\n",
    "import sys\n",
    "import csv\n",
    "from collections import Counter\n",
    "\n",
    "csv.field_size_limit(sys.maxsize)"
   ]
  },
  {
   "cell_type": "code",
   "execution_count": 2,
   "metadata": {
    "collapsed": false
   },
   "outputs": [
    {
     "data": {
      "text/plain": [
       "38992"
      ]
     },
     "execution_count": 2,
     "metadata": {},
     "output_type": "execute_result"
    }
   ],
   "source": [
    "# load data\n",
    "recs = []\n",
    "dir = '.'\n",
    "for filename in os.listdir(dir):\n",
    "    if filename.endswith('.csv'):\n",
    "        with open(filename,'rU') as csvfile:\n",
    "            reader = csv.DictReader(csvfile)\n",
    "            for row in reader:\n",
    "                recs.append(row)\n",
    "len(recs)"
   ]
  },
  {
   "cell_type": "markdown",
   "metadata": {},
   "source": [
    "## I. Code for the institution or organization mentioned in the recommendation"
   ]
  },
  {
   "cell_type": "code",
   "execution_count": 3,
   "metadata": {
    "collapsed": false
   },
   "outputs": [],
   "source": [
    "# strip extra whitespace on everything\n",
    "for i in recs:\n",
    "    i['text']=' '.join(i['text'].split())"
   ]
  },
  {
   "cell_type": "code",
   "execution_count": 4,
   "metadata": {
    "collapsed": false
   },
   "outputs": [],
   "source": [
    "# Add Empty Institutions key\n",
    "for i in recs:\n",
    "    i['institutions'] = []"
   ]
  },
  {
   "cell_type": "code",
   "execution_count": 5,
   "metadata": {
    "collapsed": true
   },
   "outputs": [],
   "source": [
    "#remove stop words function\n",
    "stopwords = ['of','on','all','the','a','for','to','and','to','against','from']\n",
    "text = 'To sign and ratify the International Convention on the Protection of the Rights of all Migrant Workers and Their Families (Argentina);'\n",
    "\n",
    "def noStop(text):\n",
    "    '''\n",
    "    this function inputs a text, lowers it, and removes stop words\n",
    "    '''\n",
    "    text = text.lower().split()\n",
    "    for word in stopwords:\n",
    "        text = [x for x in text if x != word]\n",
    "    return(' '.join(text))"
   ]
  },
  {
   "cell_type": "code",
   "execution_count": 6,
   "metadata": {
    "collapsed": true
   },
   "outputs": [],
   "source": [
    "### CAT\n",
    "for i in recs:\n",
    "    if 'CAT' not in i['institutions']:\n",
    "        text = i['text']\n",
    "        if 'committee torture' in noStop(text) \\\n",
    "        or 'convention torture' in noStop(text) \\\n",
    "        or 'CAT' in text:\n",
    "            i['institutions'].append('CAT')"
   ]
  },
  {
   "cell_type": "code",
   "execution_count": 44,
   "metadata": {
    "collapsed": false
   },
   "outputs": [],
   "source": [
    "## ICCPR\n",
    "for i in recs:\n",
    "    if 'CCPR' not in i['institutions']:\n",
    "        text = i['text']\n",
    "        if 'covenant civil political right' in noStop(text) \\\n",
    "        or 'committee civil political rights' in noStop(text) \\\n",
    "        or 'convention civil political rights' in noStop(text) \\\n",
    "        or 'CCPR' in text:\n",
    "            i['institutions'].append('ICCPR')"
   ]
  },
  {
   "cell_type": "code",
   "execution_count": 8,
   "metadata": {
    "collapsed": false
   },
   "outputs": [],
   "source": [
    "## ICESR\n",
    "for i in recs:\n",
    "    if 'ICESR' not in i['institutions']:\n",
    "        text = i['text'].replace(',','') # remove commas\n",
    "        if 'covenant economic social cultural rights' in noStop(text) \\\n",
    "        or 'convention economic social cultural rights' in noStop(text) \\\n",
    "        or 'committee economic social cultural rights' in noStop(text) \\\n",
    "        or'CESR' in text \\\n",
    "        or 'CESCR' in text:\n",
    "            i['institutions'].append('ICESR')"
   ]
  },
  {
   "cell_type": "code",
   "execution_count": 9,
   "metadata": {
    "collapsed": false
   },
   "outputs": [],
   "source": [
    "## CEDAW\n",
    "for i in recs:\n",
    "    if 'CEDAW' not in i['institutions']:\n",
    "        text = i['text']\n",
    "        if 'committee elimination of discrimination women' in noStop(text) \\\n",
    "        or 'elimination kinds discrimination women' in noStop(text) \\\n",
    "        or 'convention elimination discrimination women' in noStop(text) \\\n",
    "        or 'convention elimination discrimination women'  in noStop(text) \\\n",
    "        or 'convention elimination forms discriminations women' in noStop(text) \\\n",
    "        or 'convention elimination forms discrimination women' in noStop(text) \\\n",
    "        or \"women's convention\" in noStop(text) \\\n",
    "        or 'CEDAW' in text:\n",
    "            i['institutions'].append('CEDAW')"
   ]
  },
  {
   "cell_type": "code",
   "execution_count": 10,
   "metadata": {
    "collapsed": false
   },
   "outputs": [
    {
     "data": {
      "text/plain": [
       "'convention elimination forms discriminations women'"
      ]
     },
     "execution_count": 10,
     "metadata": {},
     "output_type": "execute_result"
    }
   ],
   "source": [
    "text = \"Convention on the Elimination of All Forms of Discriminations Against Women\"\n",
    "noStop(text)"
   ]
  },
  {
   "cell_type": "code",
   "execution_count": 11,
   "metadata": {
    "collapsed": false
   },
   "outputs": [],
   "source": [
    "## CRC\n",
    "for i in recs:\n",
    "    if 'CRC' not in i['institutions']:\n",
    "        text = i['text']\n",
    "        if 'convention rights child' in noStop(text) \\\n",
    "        or 'committee rights child' in noStop(text):\n",
    "            i['institutions'].append('CRC')\n",
    "        if 'CRC' in text and 'International Committee of the Red Cross (ICRC)' not in text:\n",
    "            i['institutions'].append('CRC')"
   ]
  },
  {
   "cell_type": "code",
   "execution_count": 12,
   "metadata": {
    "collapsed": false
   },
   "outputs": [],
   "source": [
    "## ICERD\n",
    "for i in recs:\n",
    "    if 'CRC' not in i['institutions']:\n",
    "        text = i['text']\n",
    "        if 'elimination of all forms of racial discrimination' in text.lower() \\\n",
    "        or 'elimination of racial discrimination' in text.lower() \\\n",
    "        or 'CERD' in  text:\n",
    "            i['institutions'].append('ICERD')"
   ]
  },
  {
   "cell_type": "code",
   "execution_count": 13,
   "metadata": {
    "collapsed": true
   },
   "outputs": [],
   "source": [
    "## ILO\n",
    "for i in recs:\n",
    "    if 'ILO' not in i['institutions']:\n",
    "        text = i['text']\n",
    "        if 'international labor organization' in text.lower() \\\n",
    "        or 'international labour organization' in text.lower() \\\n",
    "        or 'ILO' in text:\n",
    "            i['institutions'].append('ILO')"
   ]
  },
  {
   "cell_type": "code",
   "execution_count": 14,
   "metadata": {
    "collapsed": true
   },
   "outputs": [],
   "source": [
    "## ICC\n",
    "for i in recs:\n",
    "    if 'ICC' not in i['institutions']:\n",
    "        text = i['text']\n",
    "        if 'international criminal court' in text.lower() \\\n",
    "        or 'rome statute' in text.lower() \\\n",
    "        or ' ICC ' in text \\\n",
    "        or 'ICC,' in text \\\n",
    "        or '(ICC)' in text:\n",
    "            i['institutions'].append('ICC')"
   ]
  },
  {
   "cell_type": "code",
   "execution_count": 15,
   "metadata": {
    "collapsed": false
   },
   "outputs": [],
   "source": [
    "## PP\n",
    "for i in recs:\n",
    "    if 'PP' not in i['institutions']:\n",
    "        text = i['text']\n",
    "        if 'national human rights commission' in text.lower() \\\n",
    "        or 'national human rights committee' in text.lower() \\\n",
    "        or 'paris principles' in text.lower(): \n",
    "            i['institutions'].append('PP')"
   ]
  },
  {
   "cell_type": "code",
   "execution_count": 16,
   "metadata": {
    "collapsed": false
   },
   "outputs": [],
   "source": [
    "## HRC\n",
    "for i in recs:\n",
    "    if 'HRC' not in i['institutions']:\n",
    "        text = i['text']\n",
    "        if 'the human rights committee' in text.lower() \\\n",
    "        or 'un human rights committee' in text.lower() \\\n",
    "        or '2008 human rights committee' in text.lower():\n",
    "            i['institutions'].append('HRC')"
   ]
  },
  {
   "cell_type": "code",
   "execution_count": 73,
   "metadata": {
    "collapsed": false
   },
   "outputs": [],
   "source": [
    "## CPED\n",
    "for i in recs:\n",
    "    if 'CPED' not in i['institutions']:\n",
    "        text = i['text']\n",
    "        if 'all persons from forced disappearance' in text.lower() \\\n",
    "        or 'Enforced Disappearance' in text \\\n",
    "        or 'Enforced and Involuntary Disappearance' in text \\\n",
    "        or 'convention protection persons enforced disappearances' in noStop(text) \\\n",
    "        or 'convention protection persons emforced involuntary disappearances' in noStop(text) \\\n",
    "        or '(CED)' in text \\\n",
    "        or ' CED,' in text \\\n",
    "        or 'CPED' in text \\\n",
    "        or ' CED ' in text:\n",
    "            i['institutions'].append('CPED')"
   ]
  },
  {
   "cell_type": "code",
   "execution_count": 18,
   "metadata": {
    "collapsed": false
   },
   "outputs": [],
   "source": [
    "## ICMW\n",
    "for i in recs:\n",
    "    if 'ICMW' not in i['institutions']:\n",
    "        text = i['text']\n",
    "        if 'convention rights migrant workers' in noStop(text) \\\n",
    "        or 'convention protection rights migrant workers' in noStop(text) \\\n",
    "        or 'convention protection migrant workers' in noStop(text) \\\n",
    "        or 'convention migrant workers' in noStop(text) \\\n",
    "        or 'convention rights protection migrant workers' in noStop(text) \\\n",
    "        or 'migrant workers convention' in noStop(text) \\\n",
    "        or 'committee on migrant workers' in noStop(text) \\\n",
    "        or 'convention relating rights migrant workers' in noStop(text) \\\n",
    "        or 'migrant convention' in noStop(text) \\\n",
    "        or 'convention protection rights migrants workers' in noStop(text) \\\n",
    "        or 'Workers and Their Families' in text \\\n",
    "        or 'ICRMW' in text \\\n",
    "        or 'CMW' in text :\n",
    "            i['institutions'].append('ICMW')"
   ]
  },
  {
   "cell_type": "code",
   "execution_count": 42,
   "metadata": {
    "collapsed": false
   },
   "outputs": [],
   "source": [
    "## CRPD\n",
    "for i in recs:\n",
    "    if 'CRPD' not in i['institutions']:\n",
    "        text = i['text']\n",
    "        if 'convention rights persons with disabilities' in noStop(text) \\\n",
    "        or 'committee rights persons with disabilities' in noStop(text) \\\n",
    "        or 'convention protection persons with disabilitie' in noStop(text) \\\n",
    "        or 'convention persons with disabilities' in noStop(text) \\\n",
    "        or 'convention rights people with disabilities' in noStop(text) \\\n",
    "        or 'disabilities convention' in noStop(text) \\\n",
    "        or 'CRPD' in text:\n",
    "            i['institutions'].append('CRPD')"
   ]
  },
  {
   "cell_type": "code",
   "execution_count": 20,
   "metadata": {
    "collapsed": true
   },
   "outputs": [],
   "source": [
    "# Genocide\n",
    "for i in recs:\n",
    "    if 'genocide' not in i['institutions']:\n",
    "        text = i['text']\n",
    "        if 'punishment of the crime of genocide' in text.lower():\n",
    "            i['institutions'].append('genocide')"
   ]
  },
  {
   "cell_type": "code",
   "execution_count": 21,
   "metadata": {
    "collapsed": false
   },
   "outputs": [],
   "source": [
    "# UNESCO Convention against Discrimination in Education\n",
    "for i in recs:\n",
    "    if 'unesco-ed' not in i['institutions']:\n",
    "        text = i['text']\n",
    "        if 'convention against discrimination in education' in text.lower() \\\n",
    "        or 'convention on discrimination in education' in text.lower():\n",
    "            i['institutions'].append('unesco-ed')"
   ]
  },
  {
   "cell_type": "code",
   "execution_count": 22,
   "metadata": {
    "collapsed": false
   },
   "outputs": [],
   "source": [
    "#1951 Convention relating to the Status of Refugees\n",
    "for i in recs:\n",
    "    if '1951refugees' not in i['institutions']:\n",
    "        text = i['text']\n",
    "        if 'Convention on Refugees' in text \\\n",
    "        or 'Status of Refugees' in text \\\n",
    "        or '1951 Refugee Convention' in text \\\n",
    "        or 'United Nations Refugee Convention' in text:\n",
    "            i['institutions'].append('1951refugees')"
   ]
  },
  {
   "cell_type": "code",
   "execution_count": 23,
   "metadata": {
    "collapsed": false
   },
   "outputs": [],
   "source": [
    "#Convention against Transnational Organized Crime\n",
    "for i in recs:\n",
    "    if 'CTOC' not in i['institutions']:\n",
    "        text = i['text']\n",
    "        if 'convention transnational organized crime' in noStop(text) \\\n",
    "        or 'convention transnational organised crime' in noStop(text) \\\n",
    "        or 'convention organized transnational crime' in noStop(text):\n",
    "            i['institutions'].append('CTOC')"
   ]
  },
  {
   "cell_type": "code",
   "execution_count": 24,
   "metadata": {
    "collapsed": true
   },
   "outputs": [],
   "source": [
    "#United Nations Convention against Corruption\n",
    "for i in recs:\n",
    "    if 'uncac' not in i['institutions']:\n",
    "        text = i['text']\n",
    "        if 'convention against corruption' in text.lower():\n",
    "            i['institutions'].append('uncac')"
   ]
  },
  {
   "cell_type": "code",
   "execution_count": 25,
   "metadata": {
    "collapsed": false
   },
   "outputs": [],
   "source": [
    "#UNESCO Convention on the Protection and Promotion of Diversity of the Cultural Expressions \n",
    "for i in recs:\n",
    "    if 'unesco-expr' not in i['institutions']:\n",
    "        text = i['text']\n",
    "        if 'convention protection promotion diversity cultural expressions' in noStop(text): \n",
    "            i['institutions'].append('unesco-expr')"
   ]
  },
  {
   "cell_type": "code",
   "execution_count": 26,
   "metadata": {
    "collapsed": true
   },
   "outputs": [],
   "source": [
    "#1961 Convention on the Reduction of Statelessness\n",
    "for i in recs:\n",
    "    if '1961-stateless' not in i['institutions']:\n",
    "        text = i['text']\n",
    "        if 'reduction of statelessness' in text.lower():\n",
    "            i['institutions'].append('1961-stateless')"
   ]
  },
  {
   "cell_type": "code",
   "execution_count": 27,
   "metadata": {
    "collapsed": false
   },
   "outputs": [],
   "source": [
    "#1954 Convention Relating to the Status of Stateless Persons\n",
    "for i in recs:\n",
    "    if '1954-stateless' not in i['institutions']:\n",
    "        text = i['text']\n",
    "        if 'convention relating to the status of stateless' in text.lower() \\\n",
    "        or 'convention on the status of stateless' in text.lower():\n",
    "            i['institutions'].append('1954-stateless')"
   ]
  },
  {
   "cell_type": "code",
   "execution_count": 28,
   "metadata": {
    "collapsed": true
   },
   "outputs": [],
   "source": [
    "#Geneva Conventions\n",
    "for i in recs:\n",
    "    if 'geneva' not in i['institutions']:\n",
    "        text = i['text']\n",
    "        if 'geneva convention' in text.lower():\n",
    "            i['institutions'].append('geneva')"
   ]
  },
  {
   "cell_type": "code",
   "execution_count": 29,
   "metadata": {
    "collapsed": true
   },
   "outputs": [],
   "source": [
    "# Hague Convention\n",
    "for i in recs:\n",
    "    if 'hague' not in i['institutions']:\n",
    "        text = i['text']\n",
    "        if 'hague convention' in text.lower():\n",
    "            i['institutions'].append('hague')"
   ]
  },
  {
   "cell_type": "code",
   "execution_count": 30,
   "metadata": {
    "collapsed": false
   },
   "outputs": [],
   "source": [
    "# Ottawa Convention\n",
    "for i in recs:\n",
    "    if 'ottawa' not in i['institutions']:\n",
    "        text = i['text']\n",
    "        if 'ottawa convention' in text.lower():\n",
    "            i['institutions'].append('ottawa')"
   ]
  },
  {
   "cell_type": "code",
   "execution_count": 31,
   "metadata": {
    "collapsed": false
   },
   "outputs": [],
   "source": [
    "# Europe Convention on Preventing and Combating Violence against Women and Domestic Violence\n",
    "for i in recs:\n",
    "    if 'eu-vaw' not in i['institutions']:\n",
    "        text = i['text']\n",
    "        if 'europe convention preventing combating violence against women' in noStop(text) \\\n",
    "        or 'europe convention preventing combatting violence against women' in noStop(text) \\\n",
    "        or 'europe convention preventing combatting violence against woman' in noStop(text) \\\n",
    "        or 'istanbul convention' in noStop(text):\n",
    "            i['institutions'].append('eu-vaw')"
   ]
  },
  {
   "cell_type": "code",
   "execution_count": 32,
   "metadata": {
    "collapsed": false
   },
   "outputs": [],
   "source": [
    "# International Coordinating Committee of National Institutions for the Promotion and Protection of Human Rights\n",
    "for i in recs:\n",
    "    if 'int-cord' not in i['institutions']:\n",
    "        text = i['text']\n",
    "        if 'International Coordinating Committee' in text: \n",
    "            i['institutions'].append('int-cord')"
   ]
  },
  {
   "cell_type": "code",
   "execution_count": 33,
   "metadata": {
    "collapsed": true
   },
   "outputs": [],
   "source": [
    "#Europe Convention on the Protection of Children against Sexual Exploitation and Sexual Abuse\n",
    "for i in recs:\n",
    "    if 'eu-child' not in i['institutions']:\n",
    "        text = i['text']\n",
    "        if 'europe convention protection children' in noStop(text):\n",
    "            i['institutions'].append('eu-child')"
   ]
  },
  {
   "cell_type": "code",
   "execution_count": 34,
   "metadata": {
    "collapsed": false
   },
   "outputs": [],
   "source": [
    "# EU Framework Convention for the Protection of National Minorities\n",
    "for i in recs:\n",
    "    if 'frame-minorities' not in i['institutions']:\n",
    "        text = i['text']\n",
    "        if 'framework convention protection national minorities' in noStop(text) \\\n",
    "        or 'framework convention national minorities' in noStop(text):\n",
    "            i['institutions'].append('frame-minorities')"
   ]
  },
  {
   "cell_type": "code",
   "execution_count": 35,
   "metadata": {
    "collapsed": true
   },
   "outputs": [],
   "source": [
    "# EU Convention on Action against Trafficking in Human Beings\n",
    "for i in recs:\n",
    "    if 'eu-traff' not in i['institutions']:\n",
    "        text = i['text']\n",
    "        if 'convention action trafficking human beings' in noStop(text):\n",
    "            i['institutions'].append('eu-traff')"
   ]
  },
  {
   "cell_type": "code",
   "execution_count": 36,
   "metadata": {
    "collapsed": true
   },
   "outputs": [],
   "source": [
    "#American Convention on Human Rights\n",
    "for i in recs:\n",
    "    if 'achr' not in i['institutions']:\n",
    "        text = i['text']\n",
    "        if 'american convention human rights' in noStop(text):\n",
    "            i['institutions'].append('achr')"
   ]
  },
  {
   "cell_type": "code",
   "execution_count": 37,
   "metadata": {
    "collapsed": false
   },
   "outputs": [],
   "source": [
    "##European Convention of Human Rights\n",
    "for i in recs:\n",
    "    if 'echr' not in i['institutions']:\n",
    "        text = i['text']\n",
    "        if 'european convention human rights' in noStop(text) \\\n",
    "        or 'european convention protection human rights' in noStop(text): \n",
    "            i['institutions'].append('echr')"
   ]
  },
  {
   "cell_type": "code",
   "execution_count": 38,
   "metadata": {
    "collapsed": true
   },
   "outputs": [],
   "source": [
    "# Kampala Convention of Human Rights\n",
    "for i in recs:\n",
    "    if 'kampala' not in i['institutions']:\n",
    "        text = i['text']\n",
    "        if 'african union convention protection assistance internally displaced persons' in noStop(text) \\\n",
    "        or 'kampala convention' in noStop(text):\n",
    "            i['institutions'].append('kampala')"
   ]
  },
  {
   "cell_type": "code",
   "execution_count": 71,
   "metadata": {
    "collapsed": false
   },
   "outputs": [],
   "source": [
    "# Convention Political Rights of Women\n",
    "for i in recs:\n",
    "    if 'pol-women' not in i['institutions']:\n",
    "        text = i['text']\n",
    "        if 'convention political rights women' in noStop(text):\n",
    "            i['institutions'].append('pol-women')"
   ]
  },
  {
   "cell_type": "code",
   "execution_count": 56,
   "metadata": {
    "collapsed": false
   },
   "outputs": [],
   "source": [
    "# Special procedures mandate holders\n",
    "for i in recs:\n",
    "    if 'sp-pr' not in i['institutions']:\n",
    "        text = i['text']\n",
    "        if 'mandate holders' in noStop(text) \\\n",
    "        or 'special procedure' in noStop(text) \\\n",
    "        or 'special rapporteur' in noStop(text):\n",
    "            i['institutions'].append('sp-pr')"
   ]
  },
  {
   "cell_type": "code",
   "execution_count": 83,
   "metadata": {
    "collapsed": true
   },
   "outputs": [],
   "source": [
    "# Core human rights treaties\n",
    "for i in recs:\n",
    "    if 'core' not in i['institutions']:\n",
    "        text = i['text']\n",
    "        if 'core human rights' in noStop(text) \\\n",
    "        or 'human rights core' in noStop(text) \\\n",
    "        or 'core international human rights' in noStop(text) \\\n",
    "        or 'main human rights treaties' in noStop(text) \\\n",
    "        or 'main international human rights' in noStop(text) \\\n",
    "        or 'core universal human rights' in noStop(text):\n",
    "            i['institutions'].append('core')"
   ]
  },
  {
   "cell_type": "code",
   "execution_count": 39,
   "metadata": {
    "collapsed": true
   },
   "outputs": [],
   "source": [
    "# European Convention for the Protection of Human Rights and Fundamental Freedoms\n",
    "# 1968 Convention on the Non-Applicability of the Statutory Limitations to War Crimes and Crimes Against Humanity\n",
    "#International Convention against the Recruitment, Use, Financing and Training of Mercenaries\n",
    "# European Convention on the Legal Status of Migrant Workers\n",
    "#International Convention for the Suppression of the Financing of Terrorism\n",
    "#Protocol to Prevent, Suppress and Punish Trafficking in Persons, Especially Women and Children\n",
    "#United Nations Declaration on the Rights of Indigenous Peoples\n",
    "#'OPCAT', 'OP.CAT','OP-CAT', 'Optional Protocol' # should only be applied to those recs with yes value above."
   ]
  },
  {
   "cell_type": "code",
   "execution_count": 84,
   "metadata": {
    "collapsed": false
   },
   "outputs": [
    {
     "name": "stdout",
     "output_type": "stream",
     "text": [
      "69.8. Vote for the General Assembly resolution on the Moratorium on the use of the death penalty, ratify the according conventions and abolish the death penalty (Germany);\n",
      "\n",
      "102.4. Ratify the European Charter for Regional or Minority Languages, the leading instrument in this respect (Hungary);\n",
      "\n",
      "82.2. Ratify the Protocol to Prevent, Suppress and Punish Trafficking in Persons, particularly Women and Children (Ecuador);\n",
      "\n",
      "101.1. Consider ratifying all outstanding international human rights instruments, and update domestic legislation to bring it into line with the provisions of these international treaties (South Africa);\n",
      "\n",
      "101.2. Ratify international human rights standards to which it is not yet a State party (Nicaragua);\n",
      "\n",
      "90.4. Sign, ratify and implement the provisions of the European Charter for Regional or Minority Languages (Poland);\n",
      "\n",
      "90.5. Ratify or access, as appropriate, the Optional Protocol to the International Covenant of Social, Economic and Cultural Rights (Uruguay);\n",
      "\n",
      "104.4. Consider ratifying all outstanding international human rights instruments, and update domestic legislation to bring it into line with their provisions (South Africa);\n",
      "\n",
      "61.7. Consider ratifying international human rights treaties that are still pending, in accordance with the commitment of the national authorities as set out in paragraph 114 of the national report (Chile);\n",
      "\n",
      "98.1. Consider ratifying all outstanding international instruments to which it is not yet party and endeavour to domesticate them in its national legislation (Nigeria);\n",
      "\n",
      "98.19. Sign and ratify the Conventions and Protocols to which it is not a party (Niger);\n",
      "\n",
      "79.3. Ratify ICPPR (United States of America);\n",
      "\n",
      "109.6. Sign and ratify the Palermo Protocol (Austria);\n",
      "\n",
      "62.2. Sign and ratify, as soon as possible, all fundamental international human rights instruments and their protocols (Brazil);\n",
      "\n",
      "62.5. Ratify fundamental international human rights instruments in order to create a proper national framework of action to promote and protect human rights (Trinidad and Tobago);\n",
      "\n",
      "78.2. Consider the possibility of signing and ratifying the main universal human rights instruments to which it is not yet a party (Haiti);\n",
      "\n",
      "79.1. Take steps to ratify all human rights instruments (Norway);\n",
      "\n",
      "79.1..2 consider ratifying outstanding international human rights instruments, and update domestic legislation to be in line with the provisions of those international treaties (South Africa);\n",
      "\n",
      "89.27 Ratify the United Nations Protocol to Prevent, Suppress and Punish Trafficking in Persons, Especially Women and Children and strengthen its cooperation with countries in the region to prevent and combat trafficking, in particular of women (Canada);\n",
      "\n",
      "73.2. Consider ratifying international human rights conventions to which it is not yet a party (Nicaragua);\n",
      "\n",
      "73.3. Consider ratifying, as soon as possible, fundamental international human rights instruments and their optional protocols to which Samoa is not yet a party (Brazil);\n",
      "\n",
      "65.2. Seek the technical and financial assistance of United Nations partners and specialized agencies to ratify the human rights treaties to which it is not yet party (Mauritania);\n",
      "\n",
      "65.3. Sign and ratify all international human rights instruments to which it is not yet party (Ecuador);\n",
      "\n",
      "96.1. Consider ratifying the outstanding international human rights instruments and further update domestic laws to be in line with the articles of those treaties (Lesotho);\n",
      "\n",
      "96.19. Take measures in order to ratify the Protocol to Prevent, Suppress and Punish Trafficking in Persons, Especially Women and Children (the Republic of Moldova);\n",
      "\n",
      "97.2. Impose a moratorium on all executions and, eventually, abolish the death penalty and in this regard, ratify ICPPR and its second optional protocol (Switzerland);\n",
      "\n",
      "94.29. Continue to undertake appropriate steps with a view to ratifying the human rights instruments mentioned in paragraph 158 of the national report (Bhutan);\n",
      "\n",
      "81.15. Ratify the Convention on the Right of Persons with Disabilities and ensure that the rights of such persons are protected in law and in practice (Slovenia);\n",
      "\n",
      "84.17. Ratify the Protocol to the African Charter on Human and People�s Rights on the Rights of Women in Africa (Austria);\n",
      "\n",
      "90.13. Ratify the 1954 and 1961 Statelessness Conventions (Germany);\n",
      "\n",
      "92.37. Ratify the 12 international human rights instruments to which it is not a party (Nicaragua);\n",
      "\n",
      "92.41. Continue the process to ratify and implement into domestic law the several international human rights instruments that still wait for this formal acceptance (Holy See);\n",
      "\n",
      "94.4. Continue improving its legal human rights framework by ratifying or acceding to core instruments to which it is not yet party (Burkina Faso);\n",
      "\n",
      "129.9 Ratify the international human rights instruments to which it is not yet party, especially those relating to migrant workers and members of their family (Burkina Faso);\n",
      "\n",
      "99.4. Consider the possibility of ratifying the WHO Framework Convention on Tobacco Control (Uruguay);\n",
      "\n"
     ]
    }
   ],
   "source": [
    "# test which institutions I might have missed\n",
    "for i in recs[10000:20000]:\n",
    "    if i['institutions'] == []:\n",
    "        if 'ratify' in i['text'].lower():\n",
    "            print i['text'] + '\\n'"
   ]
  },
  {
   "cell_type": "code",
   "execution_count": 41,
   "metadata": {
    "collapsed": false
   },
   "outputs": [
    {
     "data": {
      "text/plain": [
       "Counter({'CAT': 1475, 'ICCPR': 1351, 'CRC': 1051, 'PP': 910, 'CEDAW': 798, 'ICESR': 746, 'CPED': 691, 'ICMW': 669, 'CRPD': 619, 'ICC': 614, 'ILO': 290, 'ICERD': 280, 'HRC': 98, '1951refugees': 86, '1961-stateless': 75, '1954-stateless': 57, 'genocide': 53, 'int-cord': 45, 'unesco-ed': 37, 'geneva': 36, 'CTOC': 36, 'echr': 16, 'hague': 16, 'uncac': 13, 'achr': 10, 'frame-minorities': 9, 'eu-child': 6, 'kampala': 5, 'eu-vaw': 2, 'ottawa': 2, 'unesco-expr': 2})"
      ]
     },
     "execution_count": 41,
     "metadata": {},
     "output_type": "execute_result"
    }
   ],
   "source": [
    "# count the institutions\n",
    "institutions = []\n",
    "for rec in recs:\n",
    "    for i in rec['institutions']:\n",
    "        institutions.append(i)\n",
    "Counter(institutions)"
   ]
  },
  {
   "cell_type": "markdown",
   "metadata": {},
   "source": [
    "## II. Actions"
   ]
  },
  {
   "cell_type": "code",
   "execution_count": 116,
   "metadata": {
    "collapsed": false
   },
   "outputs": [],
   "source": [
    "# assign action\n",
    "keywords = {}\n",
    "keywords['ratify'] = ['ratify']\n",
    "keywords['accede'] = ['accede']\n",
    "keywords['sign'] = ['sign']\n",
    "keywords['implement'] = ['implement']\n",
    "keywords['establish'] = ['establish']\n",
    "keywords['continue'] = ['continue']\n",
    "keywords['take-measures'] = ['take measures']\n",
    "keywords['invite'] = ['invite','invitation']\n",
    "\n",
    "for i in recs:\n",
    "    i['action'] = []\n",
    "    if i['institutions'] != []:\n",
    "        for key in keywords.keys():\n",
    "            for word in keywords[key]:\n",
    "                if key in i['action']: # skip if it's already in there\n",
    "                    continue\n",
    "                if word in noStop(i['text']):\n",
    "                    i['action'].append(key)"
   ]
  },
  {
   "cell_type": "markdown",
   "metadata": {
    "collapsed": false
   },
   "source": [
    "## III. Theme"
   ]
  },
  {
   "cell_type": "code",
   "execution_count": 133,
   "metadata": {
    "collapsed": false
   },
   "outputs": [],
   "source": [
    "keywords = {}\n",
    "keywords['torture'] = ['torture','inhuman degrading treatment','extrajudicial killing']\n",
    "keywords['slavery'] = ['slavery','forced labor','forced labour','trafficking']\n",
    "keywords['prison'] = ['prison','police','interrogation','detainees','security force','security personnel']\n",
    "keywords['migration'] = ['migration','migrant','refugee','displaced','asylum']\n",
    "keywords['poverty'] = ['poverty','development','social security','pension']\n",
    "keywords['health'] = ['health','hospital','doctor','medical']\n",
    "keywords['food'] = ['food','hungry']\n",
    "keywords['infrastructure '] = ['water','sanitation','housing','roads']\n",
    "keywords['labor'] = ['labor','labour','strike','union','worker','employment']\n",
    "keywords['education'] = ['education','illiter','school']\n",
    "keywords['sexual-violence'] = ['sexual violence','rape','fgm','domestic violence','genital','sexual abuse','violence women','early marriage','forced marriage']\n",
    "keywords['children'] = ['child','juvenile','minors']\n",
    "keywords['speech'] = ['speech','freedom expression','freedoms expression','journalis','freedom assembly','press','freedom opinion','freedom association']\n",
    "keywords['religion'] = ['religio','church','muslim']\n",
    "keywords['lgbt'] = ['lgbt','lesbian','gay','homosexual','transsexual','sexual orientation','gender identity']\n",
    "keywords['gender-discr'] = ['gender discrimination','discrimination women','gender equality']\n",
    "keywords['ethnic'] = ['tribal area','vulnerable population','roma','ethnic','minorit']\n",
    "keywords['indigenous'] = ['indigenous']\n",
    "keywords['race'] = ['race','racial']\n",
    "keywords['judiciary'] = ['judiciary','trial','court','judge']\n",
    "keywords['death-pen'] = ['death penalty']\n",
    "keywords['conflict'] = ['truth commission','reconstruction','post-conflict','reconciliation','civil war','post conflict','civil conflict']\n",
    "keywords['disabilities'] = ['disabilit']\n",
    "keywords['property'] = ['property','restitution','reparation']\n",
    "keywords['governance'] = ['good governance','rule law','stability']\n",
    "keywords['corruption'] = ['corruption','bribary','bribe','bribing','extortion']\n",
    "keywords['environment'] = ['environment','pollution','climate change']\n",
    "keywords['democ'] = ['democrat','election']\n",
    "keywords['self-determ'] =['self-determination', 'self determination']\n",
    "keywords['socialism'] = ['socialism','communism']\n",
    "keywords['privacy'] = ['privacy']"
   ]
  },
  {
   "cell_type": "code",
   "execution_count": 134,
   "metadata": {
    "collapsed": false
   },
   "outputs": [],
   "source": [
    "# special rule for 'democrat', without getting recs from \"democratic republic of congo\" etc.\n",
    "for i in recs[:100]:\n",
    "    i['theme'] = []\n",
    "    text = noStop(i['text'])\n",
    "    # get rid of country, so that 'democrat' doesn't catch \"democratic republic of congo\" etc.\n",
    "    country = text.split('(')[-1].split(')')[0]\n",
    "    text = text.replace(country,'')\n",
    "    for key in keywords.keys():\n",
    "            for word in keywords[key]:\n",
    "                if key in i['theme']: # skip if it's already in there\n",
    "                    continue\n",
    "                if word in text:\n",
    "                    i['theme'].append(key)"
   ]
  },
  {
   "cell_type": "code",
   "execution_count": 136,
   "metadata": {
    "collapsed": false
   },
   "outputs": [
    {
     "name": "stdout",
     "output_type": "stream",
     "text": [
      "60.1 To complete the domestic process in order to ratify the International Convention on the Protection of All Persons from Enforced Disappearance as soon as possible (Albania);\n",
      "[]\n",
      "france2008\n",
      "\n",
      "\n",
      "60.1 Consider ratifying/Ratify the First Optional Protocol to the International Covenant on Civil and Political Rights and the Second Optional Protocol to the International Covenant on Civil and Political Rights (Albania);\n",
      "[]\n",
      "japan2008\n",
      "\n",
      "\n",
      "60.1.5 Ratify the International Convention on the Protection of All Persons from Enforced Disappearance (Albania);\n",
      "[]\n",
      "japan2008\n",
      "\n",
      "\n",
      "60.12.3 Examine as a priority the introduction of a formal moratorium on the death penalty (Albania);\n",
      "['death-pen']\n",
      "japan2008\n",
      "\n",
      "\n",
      "106.20 To strengthen capacities of its law enforcement agencies in order to meet the challenges of society connected with crimes and incidents which could arise as a result of traditional mentalities (Albania);\n",
      "[]\n",
      "pakistan2008\n",
      "\n",
      "\n",
      "106.28 That Pakistan continue efforts to become a party to the seven core human rights treaties (Albania, Italy);\n",
      "[]\n",
      "pakistan2008\n",
      "\n",
      "\n",
      "106.28 That Pakistan continue efforts to become a party to the seven core human rights treaties (Albania, Italy);\n",
      "[]\n",
      "pakistan2008\n",
      "\n",
      "\n",
      "56.24 Recommended to Benin to consider , with targeted international support, the extension of free education up to the secondary level; and to continue the information campaign in favour of admitting girls to school (Algeria);\n",
      "['education']\n",
      "benin2008\n",
      "\n",
      "\n",
      "83.13 While paying special tribute to the pioneering role of Brazil in developing bio fuels based on non-edible agricultural products, scale up this experience and preserve the right to food (Algeria);\n",
      "['food']\n",
      "brazil2008\n",
      "\n",
      "\n",
      "44.3 To provide adequate protection for human rights defenders and marginalized groups against racially motivated violence (Algeria);\n",
      "['race']\n",
      "czechrepublic2008\n",
      "\n",
      "\n",
      "44.4 To enact anti-discrimination legislation in the field of access to private and public housing (Algeria);\n",
      "['infrastructure ']\n",
      "czechrepublic2008\n",
      "\n",
      "\n",
      "44.7 To adhere to the International Convention on the Protection of the Rights of All Migrants Workers and Members of their Families (Algeria);\n",
      "['migration', 'labor']\n",
      "czechrepublic2008\n",
      "\n",
      "\n",
      "60.1 To raise the school attendance rate and develop facilities at the various levels of education, while favouring gender equality and access to education, with technical and financial assistance provided by the international community (Algeria);\n",
      "['gender-discr', 'education']\n",
      "gabon2008\n",
      "\n",
      "\n",
      "68.1.4 and call for the international community to provide full technical and financial support as a way of improving the national machinery for the advancement of women (Algeria);\n",
      "[]\n",
      "ghana2008\n",
      "\n",
      "\n",
      "68.10.1 and to continue to give increased attention to the gender gap between girls and boys in their advancement at all levels of education (Algeria);\n",
      "['education']\n",
      "ghana2008\n",
      "\n",
      "\n",
      "60.2 Implement the calls by, inter alia, the Human Rights Committee and the Committee on the Rights of the Child to establish a human rights institution in accordance with the Paris Principles as soon as possible (Algeria);\n",
      "['children']\n",
      "japan2008\n",
      "\n",
      "\n",
      "60.13 Ensure that the interrogation of detainees in police custody are systematically monitored and recorded and that the Code of Criminal Procedure is harmonized with article 15 of the Convention against Torture and article 14, paragraph 3, of the International Covenant on Civil and Political Rights, and uphold the right of defence to have access to all relevant materials (Algeria);\n",
      "['prison', 'torture']\n",
      "japan2008\n",
      "\n",
      "\n",
      "60.19 Review, inter alia, the land rights and other rights of the Ainu population and harmonize them with the United Nations Declaration on the Rights of Indigenous Peoples. (Algeria);\n",
      "['indigenous']\n",
      "japan2008\n",
      "\n",
      "\n",
      "60.20 Harmonize the procedures for reviewing asylum decisions with the Convention against Torture and other relevant human rights treaties and provide State legal aid for migrants who need it (Algeria);\n",
      "['migration', 'torture']\n",
      "japan2008\n",
      "\n",
      "\n",
      "64.8 To take measures to protect and fulfil the rights of all women migrant workers and to ensure that they are not subjected to discriminatory practices (Algeria);\n",
      "['migration', 'labor']\n",
      "korea2008\n",
      "\n",
      "\n",
      "64.9 That the guarantee provided for the freedom of association and assembly be enshrined into law (Algeria);\n",
      "['speech']\n",
      "korea2008\n",
      "\n",
      "\n",
      "56.1 To pursue its efforts against poverty with appropriate and focused assistance from the international community, including OHCHR (Algeria);\n",
      "['poverty']\n",
      "mali2008\n",
      "\n",
      "\n",
      "56.2 To pursue its efforts, with the support of OHCHR, for the submission of its reports to the treaty bodies in due course (Algeria);\n",
      "[]\n",
      "mali2008\n",
      "\n",
      "\n",
      "78.7 Accede to the International Convention on the Protection of the Rights of All Migrant Workers and Members of Their Families (Egypt, Peru, Algeria) and to increase its efforts to prevent acts of discrimination against migrants (Algeria);\n",
      "['migration', 'labor']\n",
      "netherlands2008\n",
      "\n",
      "\n",
      "78.15 Consider formulating measures that would recognize that a truly meaningful enjoyment of the right to freedom of expression is only realized when exercised with responsibility (Malaysia), and undertake proactive measures aimed at preventing the instrumentalization of the freedom of expression to justify campaigns of incitement to racial hatred and violence in the Netherlands (Algeria);\n",
      "['speech', 'race']\n",
      "netherlands2008\n",
      "\n",
      "\n",
      "78.25 To ensure proper representation of minorities in the labour market as per the ratio of minorities (Algeria);\n",
      "['labor', 'ethnic']\n",
      "netherlands2008\n",
      "\n",
      "\n",
      "78.26 Undertake an in-depth study on trafficking and exploitation of children, particularly with regard to sexual abuse, child prostitution and child pornography, as a basis for urgent remedial action in this regard (Algeria);\n",
      "['children', 'sexual-violence', 'slavery']\n",
      "netherlands2008\n",
      "\n",
      "\n",
      "106.3 To continue to spearhead progress toward gender equality and development for women in areas of education and employment (Algeria);\n",
      "['gender-discr', 'education', 'poverty']\n",
      "pakistan2008\n",
      "\n",
      "\n",
      "106.24 That Pakistan continue its important efforts in fighting terrorism, with adequate support and understanding of the country�s constraints from the international community (Algeria);\n",
      "[]\n",
      "pakistan2008\n",
      "\n",
      "\n",
      "52.1.1 To continue paying attention to promoting and protecting the human rights of vulnerable groups especially improving the situation of indigenous peoples (Algeria);\n",
      "['indigenous']\n",
      "peru2008\n",
      "\n",
      "\n",
      "54.10 Called upon Poland to alleviate the overcrowding of detention centres and to review the conditions of detention centres so that they are in conformity with minimum international standards. Also, recommended that limits be set for pre.trial detention, according to minimum international standards (Algeria);\n",
      "['judiciary']\n",
      "poland2008\n",
      "\n",
      "\n",
      "54.27 Recommended that Poland fulfil the recommendation, elaborated on in paragraph 2 of the OHCHR summary, made by the Council of Europe Commissioner for Human Rights, who in 2007 called upon Poland to enact a comprehensive body of anti-discrimination legislation and to set up a body to combat discrimination (Algeria);\n",
      "['labor']\n",
      "poland2008\n",
      "\n",
      "\n",
      "54.28 Recommended that Poland give adequate training and instruction to law enforcing bodies and to the judiciary on how to address complaints stemming from racially motivated crimes (Algeria);\n",
      "['judiciary', 'race']\n",
      "poland2008\n",
      "\n",
      "\n",
      "58.10 To enhance measures aimed at improving women�s rights through education, in particular for the Roma and rural women (Algeria);\n",
      "['education', 'ethnic']\n",
      "romania2008\n",
      "\n",
      "\n",
      "58.14.1 To continue to work on improving the situation of children�s rights in particular Roma children�s right in the areas of health care and education and to work on the negative attitudes and prejudices by the general public, in political discourse and media presentations, on police brutality and discrimination and to raise awareness of the need to improve the overall situation of human rights (Algeria);\n",
      "['children', 'education', 'prison', 'health', 'ethnic']\n",
      "romania2008\n",
      "\n",
      "\n",
      "67.14 Recommended to South Africa to further intensify its efforts to decrease the HIV/AIDS prevalence in the context of its National Health Charter, with a special focus on teenagers (Algeria);\n",
      "['health']\n",
      "southafrica2008\n",
      "\n",
      "\n",
      "82.12 Further support human rights machinery and capacity building in its national institutions to implement the human rights instruments, such as the introduction of a human rights charter as pledged in 2006 (Algeria);\n",
      "[]\n",
      "srilanka2008\n",
      "\n",
      "\n",
      "82.36 Give special attention to the rights of women and further promote education and development and their representation in politics and public life (Algeria);\n",
      "['education', 'poverty']\n",
      "srilanka2008\n",
      "\n",
      "\n",
      "82.42 Continue to work with the international community on protection of human rights, environment, disaster risk management, HIV/AIDS and capacity building. (Algeria);\n",
      "['environment']\n",
      "srilanka2008\n",
      "\n",
      "\n",
      "56.1 To pursue its efforts in preventing and combating xenophobia (Algeria);\n",
      "[]\n",
      "switzerland2008\n",
      "\n",
      "\n",
      "63.9 To enact laws to protect women in employment free from any form of discrimination (Algeria);\n",
      "[]\n",
      "tonga2008\n",
      "\n",
      "\n",
      "63.10 To continue to promote its ambitious goals in education and improve the ratio of women in leading positions in the country (Algeria);\n",
      "['education']\n",
      "tonga2008\n",
      "\n",
      "\n",
      "63.25 To create, if not a national human rights institution, at least one at the level of the group of Islands it belongs to, so that they may more effectively improve their human rights performance and implement their human rights obligations (Algeria);\n",
      "[]\n",
      "tonga2008\n",
      "\n",
      "\n",
      "63.26 To continue to uphold the core values that are in the Tongan constitutional and customary history, in its work to ensure full compliance with human rights and fundamental freedoms for all Tongans (Algeria);\n",
      "[]\n",
      "tonga2008\n",
      "\n",
      "\n",
      "57.5 To persevere in punishing offenders of women�s rights (Algeria);\n",
      "[]\n",
      "ukraine2008\n",
      "\n",
      "\n",
      "57.6 To continue its efforts to improve legislation and policies and to create institutional mechanisms to combat all forms of discrimination (Algeria);\n",
      "[]\n",
      "ukraine2008\n",
      "\n",
      "\n",
      "57.7 To follow through on creating an advisory council to address discrimination, to adopt comprehensive anti-discrimination legislation, as recommended by the Committee on Economic, Social and Cultural Rights in 2007, and to continue to direct attention to enhance human rights training for police officers and more effective ways of dealing with hate crimes (Algeria);\n",
      "['prison']\n",
      "ukraine2008\n",
      "\n",
      "\n",
      "56.2 To address the high incarceration rate of children, ensure that the privacy of children is protected and put an end to the so-called painful techniques� applied to children. (Algeria) );\n",
      "['children', 'privacy']\n",
      "unitedkingdom2008\n",
      "\n",
      "\n",
      "56.7 To harmonize its legislation with its human rights obligations towards individual protesters exercising their freedom of expression and opinion and to curtail excessive pretrial detention. (Algeria) );\n",
      "['speech', 'judiciary']\n",
      "unitedkingdom2008\n",
      "\n",
      "\n",
      "56.14 To facilitate the access of the International Committee of the Red Cross (ICRC) to its prisons. (Algeria) );\n",
      "['prison']\n",
      "unitedkingdom2008\n",
      "\n",
      "\n",
      "56.27 To accept the full and unrestricted implementation of the provisions of the Convention against Torture and the International Covenant on Civil and Political Rights in overseas territories under its control. (Algeria) );\n",
      "['torture']\n",
      "unitedkingdom2008\n",
      "\n",
      "\n",
      "58.2 To strengthen its efforts on gender issues (Algeria);\n",
      "[]\n",
      "zambia2008\n",
      "\n",
      "\n",
      "58.13 To continue its efforts to improve its educational system and seek international assistance in this regard (Algeria);\n",
      "['education']\n",
      "zambia2008\n",
      "\n",
      "\n",
      "50.4 To consider ratifying the International Convention for the Protection of the Rights of All Migrant Workers and Members of Their Families (Algeria, Bolivia, Ecuador, Egypt, Mexico). );\n",
      "['migration', 'labor']\n",
      "finland2008\n",
      "\n",
      "\n",
      "50.4 To consider ratifying the International Convention for the Protection of the Rights of All Migrant Workers and Members of Their Families (Algeria, Bolivia, Ecuador, Egypt, Mexico). );\n",
      "['migration', 'labor']\n",
      "finland2008\n",
      "\n",
      "\n",
      "50.4 To consider ratifying the International Convention for the Protection of the Rights of All Migrant Workers and Members of Their Families (Algeria, Bolivia, Ecuador, Egypt, Mexico). );\n",
      "['migration', 'labor']\n",
      "finland2008\n",
      "\n",
      "\n",
      "50.4 To consider ratifying the International Convention for the Protection of the Rights of All Migrant Workers and Members of Their Families (Algeria, Bolivia, Ecuador, Egypt, Mexico). );\n",
      "['migration', 'labor']\n",
      "finland2008\n",
      "\n",
      "\n",
      "50.4 To consider ratifying the International Convention for the Protection of the Rights of All Migrant Workers and Members of Their Families (Algeria, Bolivia, Ecuador, Egypt, Mexico). );\n",
      "['migration', 'labor']\n",
      "finland2008\n",
      "\n",
      "\n",
      "56.21 To protect the children and families of migrants and refugees (Algeria, Ecuador) and to accede to the International Convention on Protection of the Rights of All Migrant Workers and Members of Their Families. (Algeria, Ecuador and Egypt) );\n",
      "['migration', 'children', 'labor']\n",
      "unitedkingdom2008\n",
      "\n",
      "\n",
      "56.21 To protect the children and families of migrants and refugees (Algeria, Ecuador) and to accede to the International Convention on Protection of the Rights of All Migrant Workers and Members of Their Families. (Algeria, Ecuador and Egypt) );\n",
      "['migration', 'children', 'labor']\n",
      "unitedkingdom2008\n",
      "\n",
      "\n",
      "56.21 To protect the children and families of migrants and refugees (Algeria, Ecuador) and to accede to the International Convention on Protection of the Rights of All Migrant Workers and Members of Their Families. (Algeria, Ecuador and Egypt) );\n",
      "['migration', 'children', 'labor']\n",
      "unitedkingdom2008\n",
      "\n",
      "\n",
      "57.1 To establish a national institution on human rights in accordance with the Paris Principles (Algeria, India, Canada, Philippines, United Kingdom, Germany, Jordan, Morocco);\n",
      "[]\n",
      "switzerland2008\n",
      "\n",
      "\n",
      "57.1 To establish a national institution on human rights in accordance with the Paris Principles (Algeria, India, Canada, Philippines, United Kingdom, Germany, Jordan, Morocco);\n",
      "[]\n",
      "switzerland2008\n",
      "\n",
      "\n",
      "57.1 To establish a national institution on human rights in accordance with the Paris Principles (Algeria, India, Canada, Philippines, United Kingdom, Germany, Jordan, Morocco);\n",
      "[]\n",
      "switzerland2008\n",
      "\n",
      "\n",
      "57.1 To establish a national institution on human rights in accordance with the Paris Principles (Algeria, India, Canada, Philippines, United Kingdom, Germany, Jordan, Morocco);\n",
      "[]\n",
      "switzerland2008\n",
      "\n",
      "\n",
      "57.1 To establish a national institution on human rights in accordance with the Paris Principles (Algeria, India, Canada, Philippines, United Kingdom, Germany, Jordan, Morocco);\n",
      "[]\n",
      "switzerland2008\n",
      "\n",
      "\n",
      "57.1 To establish a national institution on human rights in accordance with the Paris Principles (Algeria, India, Canada, Philippines, United Kingdom, Germany, Jordan, Morocco);\n",
      "[]\n",
      "switzerland2008\n",
      "\n",
      "\n",
      "57.1 To establish a national institution on human rights in accordance with the Paris Principles (Algeria, India, Canada, Philippines, United Kingdom, Germany, Jordan, Morocco);\n",
      "[]\n",
      "switzerland2008\n",
      "\n",
      "\n",
      "57.1 To establish a national institution on human rights in accordance with the Paris Principles (Algeria, India, Canada, Philippines, United Kingdom, Germany, Jordan, Morocco);\n",
      "[]\n",
      "switzerland2008\n",
      "\n",
      "\n",
      "44.6 To adhere to the recommendation by CEDAW to closely monitor the effective implementation of the new legal framework in the Employment Act and Labour Code, provide anti-discrimination provisions for the advancement of women and minorities and ensure that the private sector fully abides by anti-discrimination laws (Algeria, Mexico);\n",
      "['labor', 'ethnic']\n",
      "czechrepublic2008\n",
      "\n",
      "\n",
      "44.6 To adhere to the recommendation by CEDAW to closely monitor the effective implementation of the new legal framework in the Employment Act and Labour Code, provide anti-discrimination provisions for the advancement of women and minorities and ensure that the private sector fully abides by anti-discrimination laws (Algeria, Mexico);\n",
      "['labor', 'ethnic']\n",
      "czechrepublic2008\n",
      "\n",
      "\n",
      "58.1 To ratify the International Convention on the Protection of the Rights of All Migrant Workers and Members of Their Families (Algeria, Mexico);\n",
      "['migration', 'labor']\n",
      "romania2008\n",
      "\n",
      "\n",
      "58.1 To ratify the International Convention on the Protection of the Rights of All Migrant Workers and Members of Their Families (Algeria, Mexico);\n",
      "['migration', 'labor']\n",
      "romania2008\n",
      "\n",
      "\n",
      "64.7 To accede to the International Convention on the Protection of the Rights of All Migrants Workers and Members of Their Families (Algeria, Philippines, Egypt, Mexico, Peru);\n",
      "['migration', 'labor']\n",
      "korea2008\n",
      "\n",
      "\n",
      "64.7 To accede to the International Convention on the Protection of the Rights of All Migrants Workers and Members of Their Families (Algeria, Philippines, Egypt, Mexico, Peru);\n",
      "['migration', 'labor']\n",
      "korea2008\n",
      "\n",
      "\n",
      "64.7 To accede to the International Convention on the Protection of the Rights of All Migrants Workers and Members of Their Families (Algeria, Philippines, Egypt, Mexico, Peru);\n",
      "['migration', 'labor']\n",
      "korea2008\n",
      "\n",
      "\n",
      "64.7 To accede to the International Convention on the Protection of the Rights of All Migrants Workers and Members of Their Families (Algeria, Philippines, Egypt, Mexico, Peru);\n",
      "['migration', 'labor']\n",
      "korea2008\n",
      "\n",
      "\n",
      "64.7 To accede to the International Convention on the Protection of the Rights of All Migrants Workers and Members of Their Families (Algeria, Philippines, Egypt, Mexico, Peru);\n",
      "['migration', 'labor']\n",
      "korea2008\n",
      "\n",
      "\n",
      "64.3 To continue its efforts, together with other signatories to the International Convention on the Protection of the Rights of All Migrant Workers and Members of Their Families, to guarantee better accession; to follow up on measures to combat trafficking of migrants, in particular migrant women. (Algeria, Republic of Korea);\n",
      "['migration', 'labor', 'slavery']\n",
      "argentina2008\n",
      "\n",
      "\n",
      "64.3 To continue its efforts, together with other signatories to the International Convention on the Protection of the Rights of All Migrant Workers and Members of Their Families, to guarantee better accession; to follow up on measures to combat trafficking of migrants, in particular migrant women. (Algeria, Republic of Korea);\n",
      "['migration', 'labor', 'slavery']\n",
      "argentina2008\n",
      "\n",
      "\n",
      "78.20 Continue to promote awareness of diversity and multiculturalism at all levels of education (Algeria, Republic of Korea);\n",
      "['education']\n",
      "netherlands2008\n",
      "\n",
      "\n",
      "78.20 Continue to promote awareness of diversity and multiculturalism at all levels of education (Algeria, Republic of Korea);\n",
      "['education']\n",
      "netherlands2008\n",
      "\n",
      "\n",
      "64.1 To pursue its efforts to counter discrimination in whatever form, in particular towards the most vulnerable sectors of the population in the follow-up to the Durban Conference and the recommendations of the Committee on the Elimination of Racial Discrimination. (Algeria, Republic of Korea, Nigeria, Mexico);\n",
      "['race']\n",
      "argentina2008\n",
      "\n",
      "\n",
      "64.1 To pursue its efforts to counter discrimination in whatever form, in particular towards the most vulnerable sectors of the population in the follow-up to the Durban Conference and the recommendations of the Committee on the Elimination of Racial Discrimination. (Algeria, Republic of Korea, Nigeria, Mexico);\n",
      "['race']\n",
      "argentina2008\n",
      "\n",
      "\n",
      "64.1 To pursue its efforts to counter discrimination in whatever form, in particular towards the most vulnerable sectors of the population in the follow-up to the Durban Conference and the recommendations of the Committee on the Elimination of Racial Discrimination. (Algeria, Republic of Korea, Nigeria, Mexico);\n",
      "['race']\n",
      "argentina2008\n",
      "\n",
      "\n",
      "64.1 To pursue its efforts to counter discrimination in whatever form, in particular towards the most vulnerable sectors of the population in the follow-up to the Durban Conference and the recommendations of the Committee on the Elimination of Racial Discrimination. (Algeria, Republic of Korea, Nigeria, Mexico);\n",
      "['race']\n",
      "argentina2008\n",
      "\n",
      "\n",
      "44.30 To take appropriate and effective measures to fight discrimination and violence against Roma and ensure their equal access to education, housing, health care and employment (Algeria, Romania). );\n",
      "['infrastructure ', 'education', 'health', 'ethnic']\n",
      "czechrepublic2008\n",
      "\n",
      "\n",
      "44.30 To take appropriate and effective measures to fight discrimination and violence against Roma and ensure their equal access to education, housing, health care and employment (Algeria, Romania). );\n",
      "['infrastructure ', 'education', 'health', 'ethnic']\n",
      "czechrepublic2008\n",
      "\n",
      "\n",
      "44.2 To develop appropriate training and awareness-raising measures towards the Roma, ethnic minorities and other marginalized groups and to create a justice system complying with international standards and ensuring that the perpetrators can be brought to justice (Algeria, Russian Federation);\n",
      "['ethnic']\n",
      "czechrepublic2008\n",
      "\n",
      "\n",
      "44.2 To develop appropriate training and awareness-raising measures towards the Roma, ethnic minorities and other marginalized groups and to create a justice system complying with international standards and ensuring that the perpetrators can be brought to justice (Algeria, Russian Federation);\n",
      "['ethnic']\n",
      "czechrepublic2008\n",
      "\n",
      "\n",
      "44.5 To acknowledge the harm done to the victims of sterilization, in particular Roma, and to bring perpetrators to justice and provide reparations to the victims (Algeria, Russian Federation);\n",
      "['ethnic', 'property']\n",
      "czechrepublic2008\n",
      "\n",
      "\n",
      "44.5 To acknowledge the harm done to the victims of sterilization, in particular Roma, and to bring perpetrators to justice and provide reparations to the victims (Algeria, Russian Federation);\n",
      "['ethnic', 'property']\n",
      "czechrepublic2008\n",
      "\n",
      "\n",
      "58.14 To continue to work on improving the situation of children�s rights (Algeria, Tunisia);\n",
      "['children']\n",
      "romania2008\n",
      "\n",
      "\n",
      "58.14 To continue to work on improving the situation of children�s rights (Algeria, Tunisia);\n",
      "['children']\n",
      "romania2008\n",
      "\n",
      "\n",
      "54.1 Recommended to Poland to endorse the recommendations made by the Committee on the Rights of the Child and the Human Rights Committee on the adoption of legislative measures to ensure compliance of national legislation with the principles and provisions of the Convention on the Rights of the Child (Angola);\n",
      "['children']\n",
      "poland2008\n",
      "\n",
      "\n",
      "67.15 Recommended to South Africa to continue its efforts to promote and facilitate school attendance, particularly among children from economically disadvantaged families (Angola);\n",
      "['children', 'education']\n",
      "southafrica2008\n",
      "\n",
      "\n",
      "58.4 To continue its efforts in combating discrimination (Argentina);\n",
      "[]\n",
      "romania2008\n",
      "\n",
      "\n",
      "106.27.7 and follow through by implementing the commitments and obligations of the ICESCR (Australia);\n",
      "[]\n",
      "pakistan2008\n",
      "\n",
      "\n",
      "52.14 To ensure that human rights defenders, including victims of human rights violations, witnesses, prosecutors, forensic experts, journalists and trade union workers, can carry out their human rights work freely and without fear of intimidation (Australia, the Netherlands);\n",
      "['labor', 'speech']\n",
      "peru2008\n",
      "\n",
      "\n",
      "52.14 To ensure that human rights defenders, including victims of human rights violations, witnesses, prosecutors, forensic experts, journalists and trade union workers, can carry out their human rights work freely and without fear of intimidation (Australia, the Netherlands);\n",
      "['labor', 'speech']\n",
      "peru2008\n",
      "\n",
      "\n"
     ]
    }
   ],
   "source": [
    "for i in recs[:100]:\n",
    "    print i['text'] \n",
    "    print i['theme']\n",
    "    print i['to']+i['year']\n",
    "    print '\\n'"
   ]
  },
  {
   "cell_type": "code",
   "execution_count": 132,
   "metadata": {
    "collapsed": false
   },
   "outputs": [
    {
     "name": "stdout",
     "output_type": "stream",
     "text": [
      "94.108 Launch an urgent appeal to the international community to provide the Congolese population with aid for the strengthening of basic infrastructure, such as the construction of distribution centres for drinking water, roads, housing, power stations, etc. (Algeria);\n",
      "\n",
      "70.18 Continue relevant campaigns to eliminate old customs undermining the status of girls and construct roads in rural areas connecting schools with residential centres (Turkey);\n",
      "\n",
      "136.107. Change the public policies and abolish legislation, norms, mechanism or discriminatory provisions against Palestinians living in Israel and in the occupied territories, including putting an end to the segregated roads for the exclusive use of the Israeli population, the settlements, the restrictions to the freedom of movement of Palestinians, the control posts, and the separation walls, the use of human shields in operations of the Israeli military and the practice of selective killings through the use of drones (Ecuador);\n",
      "\n",
      "128.91. Continue to make further inroads towards combating poverty and also ensuring that its population has an affordable access to a steady supply of water (Trinidad and Tobago);\n",
      "\n"
     ]
    }
   ],
   "source": [
    "for i in recs:\n",
    "    text = noStop(i['text'])\n",
    "    if 'roads' in text:\n",
    "        #if 'freedom expression' not in text:\n",
    "            print i['text'] + '\\n'"
   ]
  },
  {
   "cell_type": "code",
   "execution_count": null,
   "metadata": {
    "collapsed": false
   },
   "outputs": [],
   "source": []
  },
  {
   "cell_type": "code",
   "execution_count": null,
   "metadata": {
    "collapsed": true
   },
   "outputs": [],
   "source": []
  }
 ],
 "metadata": {
  "kernelspec": {
   "display_name": "Python 2",
   "language": "python",
   "name": "python2"
  },
  "language_info": {
   "codemirror_mode": {
    "name": "ipython",
    "version": 2
   },
   "file_extension": ".py",
   "mimetype": "text/x-python",
   "name": "python",
   "nbconvert_exporter": "python",
   "pygments_lexer": "ipython2",
   "version": "2.7.9"
  }
 },
 "nbformat": 4,
 "nbformat_minor": 0
}
