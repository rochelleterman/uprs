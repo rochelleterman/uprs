{
 "cells": [
  {
   "cell_type": "code",
   "execution_count": 1,
   "metadata": {
    "collapsed": false
   },
   "outputs": [
    {
     "data": {
      "text/plain": [
       "131072"
      ]
     },
     "execution_count": 1,
     "metadata": {},
     "output_type": "execute_result"
    }
   ],
   "source": [
    "import os\n",
    "import re\n",
    "import csv\n",
    "from urllib import urlopen\n",
    "import sys\n",
    "import csv\n",
    "from collections import Counter\n",
    "\n",
    "csv.field_size_limit(sys.maxsize)"
   ]
  },
  {
   "cell_type": "code",
   "execution_count": 2,
   "metadata": {
    "collapsed": false
   },
   "outputs": [
    {
     "data": {
      "text/plain": [
       "38992"
      ]
     },
     "execution_count": 2,
     "metadata": {},
     "output_type": "execute_result"
    }
   ],
   "source": [
    "# load data\n",
    "recs = []\n",
    "dir = '.'\n",
    "for filename in os.listdir(dir):\n",
    "    if filename.endswith('.csv'):\n",
    "        with open(filename,'rU') as csvfile:\n",
    "            reader = csv.DictReader(csvfile)\n",
    "            for row in reader:\n",
    "                recs.append(row)\n",
    "len(recs)"
   ]
  },
  {
   "cell_type": "markdown",
   "metadata": {},
   "source": [
    "## I. Code for the institution or organization mentioned in the recommendation"
   ]
  },
  {
   "cell_type": "code",
   "execution_count": 3,
   "metadata": {
    "collapsed": false
   },
   "outputs": [],
   "source": [
    "# strip extra whitespace on everything\n",
    "for i in recs:\n",
    "    i['text']=' '.join(i['text'].split())"
   ]
  },
  {
   "cell_type": "code",
   "execution_count": 4,
   "metadata": {
    "collapsed": false
   },
   "outputs": [],
   "source": [
    "# Add Empty Institutions key\n",
    "for i in recs:\n",
    "    i['institutions'] = []"
   ]
  },
  {
   "cell_type": "code",
   "execution_count": 5,
   "metadata": {
    "collapsed": true
   },
   "outputs": [],
   "source": [
    "#remove stop words function\n",
    "stopwords = ['of','on','all','the','a','for','to','and','to','against','from']\n",
    "text = 'To sign and ratify the International Convention on the Protection of the Rights of all Migrant Workers and Their Families (Argentina);'\n",
    "\n",
    "def noStop(text):\n",
    "    '''\n",
    "    this function inputs a text, lowers it, and removes stop words\n",
    "    '''\n",
    "    text = text.lower().split()\n",
    "    for word in stopwords:\n",
    "        text = [x for x in text if x != word]\n",
    "    return(' '.join(text))"
   ]
  },
  {
   "cell_type": "code",
   "execution_count": 6,
   "metadata": {
    "collapsed": true
   },
   "outputs": [],
   "source": [
    "### CAT\n",
    "for i in recs:\n",
    "    if 'CAT' not in i['institutions']:\n",
    "        text = i['text']\n",
    "        if 'committee torture' in noStop(text) \\\n",
    "        or 'convention torture' in noStop(text) \\\n",
    "        or 'CAT' in text:\n",
    "            i['institutions'].append('CAT')"
   ]
  },
  {
   "cell_type": "code",
   "execution_count": 7,
   "metadata": {
    "collapsed": false
   },
   "outputs": [],
   "source": [
    "## ICCPR\n",
    "for i in recs:\n",
    "    if 'CCPR' not in i['institutions']:\n",
    "        text = i['text']\n",
    "        if 'covenant civil political rights' in noStop(text) \\\n",
    "        or 'committee civil political rights' in noStop(text) \\\n",
    "        or 'convention civil political rights' in noStop(text) \\\n",
    "        or 'CCPR' in text:\n",
    "            i['institutions'].append('ICCPR')"
   ]
  },
  {
   "cell_type": "code",
   "execution_count": 8,
   "metadata": {
    "collapsed": false
   },
   "outputs": [],
   "source": [
    "## ICESR\n",
    "for i in recs:\n",
    "    if 'ICESR' not in i['institutions']:\n",
    "        text = i['text'].replace(',','') # remove commas\n",
    "        if 'covenant economic social cultural rights' in noStop(text) \\\n",
    "        or 'convention economic social cultural rights' in noStop(text) \\\n",
    "        or 'committee economic social cultural rights' in noStop(text) \\\n",
    "        or'CESR' in text \\\n",
    "        or 'CESCR' in text:\n",
    "            i['institutions'].append('ICESR')"
   ]
  },
  {
   "cell_type": "code",
   "execution_count": 9,
   "metadata": {
    "collapsed": false
   },
   "outputs": [],
   "source": [
    "## CEDAW\n",
    "for i in recs:\n",
    "    if 'CEDAW' not in i['institutions']:\n",
    "        text = i['text']\n",
    "        if 'committee elimination of discrimination women' in noStop(text) \\\n",
    "        or 'elimination kinds discrimination women' in noStop(text) \\\n",
    "        or 'convention elimination discrimination women' in noStop(text) \\\n",
    "        or 'convention elimination discrimination women'  in noStop(text) \\\n",
    "        or 'convention elimination forms discriminations women' in noStop(text) \\\n",
    "        or 'convention elimination forms discrimination women' in noStop(text) \\\n",
    "        or \"women's convention\" in noStop(text) \\\n",
    "        or 'CEDAW' in text:\n",
    "            i['institutions'].append('CEDAW')"
   ]
  },
  {
   "cell_type": "code",
   "execution_count": 10,
   "metadata": {
    "collapsed": false
   },
   "outputs": [
    {
     "data": {
      "text/plain": [
       "'convention elimination forms discriminations women'"
      ]
     },
     "execution_count": 10,
     "metadata": {},
     "output_type": "execute_result"
    }
   ],
   "source": [
    "text = \"Convention on the Elimination of All Forms of Discriminations Against Women\"\n",
    "noStop(text)"
   ]
  },
  {
   "cell_type": "code",
   "execution_count": 11,
   "metadata": {
    "collapsed": false
   },
   "outputs": [],
   "source": [
    "## CRC\n",
    "for i in recs:\n",
    "    if 'CRC' not in i['institutions']:\n",
    "        text = i['text']\n",
    "        if 'convention rights child' in noStop(text) \\\n",
    "        or 'committee rights child' in noStop(text):\n",
    "            i['institutions'].append('CRC')\n",
    "        if 'CRC' in text and 'International Committee of the Red Cross (ICRC)' not in text:\n",
    "            i['institutions'].append('CRC')"
   ]
  },
  {
   "cell_type": "code",
   "execution_count": 12,
   "metadata": {
    "collapsed": false
   },
   "outputs": [],
   "source": [
    "## ICERD\n",
    "for i in recs:\n",
    "    if 'CRC' not in i['institutions']:\n",
    "        text = i['text']\n",
    "        if 'elimination of all forms of racial discrimination' in text.lower() \\\n",
    "        or 'elimination of racial discrimination' in text.lower() \\\n",
    "        or 'CERD' in  text:\n",
    "            i['institutions'].append('ICERD')"
   ]
  },
  {
   "cell_type": "code",
   "execution_count": 13,
   "metadata": {
    "collapsed": true
   },
   "outputs": [],
   "source": [
    "## ILO\n",
    "for i in recs:\n",
    "    if 'ILO' not in i['institutions']:\n",
    "        text = i['text']\n",
    "        if 'international labor organization' in text.lower() \\\n",
    "        or 'international labour organization' in text.lower() \\\n",
    "        or 'ILO' in text:\n",
    "            i['institutions'].append('ILO')"
   ]
  },
  {
   "cell_type": "code",
   "execution_count": 14,
   "metadata": {
    "collapsed": true
   },
   "outputs": [],
   "source": [
    "## ICC\n",
    "for i in recs:\n",
    "    if 'ICC' not in i['institutions']:\n",
    "        text = i['text']\n",
    "        if 'international criminal court' in text.lower() \\\n",
    "        or 'rome statute' in text.lower() \\\n",
    "        or ' ICC ' in text \\\n",
    "        or 'ICC,' in text \\\n",
    "        or '(ICC)' in text:\n",
    "            i['institutions'].append('ICC')"
   ]
  },
  {
   "cell_type": "code",
   "execution_count": 15,
   "metadata": {
    "collapsed": false
   },
   "outputs": [],
   "source": [
    "## PP\n",
    "for i in recs:\n",
    "    if 'PP' not in i['institutions']:\n",
    "        text = i['text']\n",
    "        if 'national human rights commission' in text.lower() \\\n",
    "        or 'national human rights committee' in text.lower() \\\n",
    "        or 'paris principles' in text.lower(): \n",
    "            i['institutions'].append('PP')"
   ]
  },
  {
   "cell_type": "code",
   "execution_count": 16,
   "metadata": {
    "collapsed": false
   },
   "outputs": [],
   "source": [
    "## HRC\n",
    "for i in recs:\n",
    "    if 'HRC' not in i['institutions']:\n",
    "        text = i['text']\n",
    "        if 'the human rights committee' in text.lower() \\\n",
    "        or 'un human rights committee' in text.lower() \\\n",
    "        or '2008 human rights committee' in text.lower():\n",
    "            i['institutions'].append('HRC')"
   ]
  },
  {
   "cell_type": "code",
   "execution_count": 17,
   "metadata": {
    "collapsed": false
   },
   "outputs": [],
   "source": [
    "## CPED\n",
    "for i in recs:\n",
    "    if 'CPED' not in i['institutions']:\n",
    "        text = i['text']\n",
    "        if 'all persons from forced disappearance' in text.lower() \\\n",
    "        or 'Enforced Disappearance' in text \\\n",
    "        or 'Enforced and Involuntary Disappearance' in text \\\n",
    "        or 'convention protection persons enforced disappearances' in noStop(text) \\\n",
    "        or '(CED)' in text \\\n",
    "        or ' CED,' in text \\\n",
    "        or 'CPED' in text \\\n",
    "        or ' CED ' in text:\n",
    "            i['institutions'].append('CPED')"
   ]
  },
  {
   "cell_type": "code",
   "execution_count": 18,
   "metadata": {
    "collapsed": false
   },
   "outputs": [],
   "source": [
    "## ICMW\n",
    "for i in recs:\n",
    "    if 'ICMW' not in i['institutions']:\n",
    "        text = i['text']\n",
    "        if 'convention rights migrant workers' in noStop(text) \\\n",
    "        or 'convention protection rights migrant workers' in noStop(text) \\\n",
    "        or 'convention protection migrant workers' in noStop(text) \\\n",
    "        or 'convention migrant workers' in noStop(text) \\\n",
    "        or 'convention rights protection migrant workers' in noStop(text) \\\n",
    "        or 'migrant workers convention' in noStop(text) \\\n",
    "        or 'committee on migrant workers' in noStop(text) \\\n",
    "        or 'convention relating rights migrant workers' in noStop(text) \\\n",
    "        or 'migrant convention' in noStop(text) \\\n",
    "        or 'convention protection rights migrants workers' in noStop(text) \\\n",
    "        or 'Workers and Their Families' in text \\\n",
    "        or 'ICRMW' in text \\\n",
    "        or 'CMW' in text :\n",
    "            i['institutions'].append('ICMW')"
   ]
  },
  {
   "cell_type": "code",
   "execution_count": 19,
   "metadata": {
    "collapsed": false
   },
   "outputs": [],
   "source": [
    "## CRPD\n",
    "for i in recs:\n",
    "    if 'CRPD' not in i['institutions']:\n",
    "        text = i['text']\n",
    "        if 'convention rights persons with disabilities' in noStop(text) \\\n",
    "        or 'committee rights persons with disabilities' in noStop(text) \\\n",
    "        or 'convention protection persons with disabilitie' in noStop(text) \\\n",
    "        or 'convention persons with disabilities' in noStop(text) \\\n",
    "        or 'convention rights people with disabilities' in noStop(text) \\\n",
    "        or 'CRPD' in text:\n",
    "            i['institutions'].append('CRPD')"
   ]
  },
  {
   "cell_type": "code",
   "execution_count": 20,
   "metadata": {
    "collapsed": true
   },
   "outputs": [],
   "source": [
    "# Genocide\n",
    "for i in recs:\n",
    "    if 'genocide' not in i['institutions']:\n",
    "        text = i['text']\n",
    "        if 'punishment of the crime of genocide' in text.lower():\n",
    "            i['institutions'].append('genocide')"
   ]
  },
  {
   "cell_type": "code",
   "execution_count": 21,
   "metadata": {
    "collapsed": false
   },
   "outputs": [],
   "source": [
    "# UNESCO Convention against Discrimination in Education\n",
    "for i in recs:\n",
    "    if 'unesco-ed' not in i['institutions']:\n",
    "        text = i['text']\n",
    "        if 'convention against discrimination in education' in text.lower() \\\n",
    "        or 'convention on discrimination in education' in text.lower():\n",
    "            i['institutions'].append('unesco-ed')"
   ]
  },
  {
   "cell_type": "code",
   "execution_count": 22,
   "metadata": {
    "collapsed": false
   },
   "outputs": [],
   "source": [
    "#1951 Convention relating to the Status of Refugees\n",
    "for i in recs:\n",
    "    if '1951refugees' not in i['institutions']:\n",
    "        text = i['text']\n",
    "        if 'Convention on Refugees' in text \\\n",
    "        or 'Status of Refugees' in text \\\n",
    "        or '1951 Refugee Convention' in text \\\n",
    "        or 'United Nations Refugee Convention' in text:\n",
    "            i['institutions'].append('1951refugees')"
   ]
  },
  {
   "cell_type": "code",
   "execution_count": 23,
   "metadata": {
    "collapsed": false
   },
   "outputs": [],
   "source": [
    "#Convention against Transnational Organized Crime\n",
    "for i in recs:\n",
    "    if 'CTOC' not in i['institutions']:\n",
    "        text = i['text']\n",
    "        if 'convention transnational organized crime' in noStop(text) \\\n",
    "        or 'convention transnational organised crime' in noStop(text) \\\n",
    "        or 'convention organized transnational crime' in noStop(text):\n",
    "            i['institutions'].append('CTOC')"
   ]
  },
  {
   "cell_type": "code",
   "execution_count": 24,
   "metadata": {
    "collapsed": true
   },
   "outputs": [],
   "source": [
    "#United Nations Convention against Corruption\n",
    "for i in recs:\n",
    "    if 'uncac' not in i['institutions']:\n",
    "        text = i['text']\n",
    "        if 'convention against corruption' in text.lower():\n",
    "            i['institutions'].append('uncac')"
   ]
  },
  {
   "cell_type": "code",
   "execution_count": 25,
   "metadata": {
    "collapsed": false
   },
   "outputs": [],
   "source": [
    "#UNESCO Convention on the Protection and Promotion of Diversity of the Cultural Expressions \n",
    "for i in recs:\n",
    "    if 'unesco-expr' not in i['institutions']:\n",
    "        text = i['text']\n",
    "        if 'convention protection promotion diversity cultural expressions' in noStop(text): \n",
    "            i['institutions'].append('unesco-expr')"
   ]
  },
  {
   "cell_type": "code",
   "execution_count": 26,
   "metadata": {
    "collapsed": true
   },
   "outputs": [],
   "source": [
    "#1961 Convention on the Reduction of Statelessness\n",
    "for i in recs:\n",
    "    if '1961-stateless' not in i['institutions']:\n",
    "        text = i['text']\n",
    "        if 'reduction of statelessness' in text.lower():\n",
    "            i['institutions'].append('1961-stateless')"
   ]
  },
  {
   "cell_type": "code",
   "execution_count": 27,
   "metadata": {
    "collapsed": false
   },
   "outputs": [],
   "source": [
    "#1954 Convention Relating to the Status of Stateless Persons\n",
    "for i in recs:\n",
    "    if '1954-stateless' not in i['institutions']:\n",
    "        text = i['text']\n",
    "        if 'convention relating to the status of stateless' in text.lower() \\\n",
    "        or 'convention on the status of stateless' in text.lower():\n",
    "            i['institutions'].append('1954-stateless')"
   ]
  },
  {
   "cell_type": "code",
   "execution_count": 28,
   "metadata": {
    "collapsed": true
   },
   "outputs": [],
   "source": [
    "#Geneva Conventions\n",
    "for i in recs:\n",
    "    if 'geneva' not in i['institutions']:\n",
    "        text = i['text']\n",
    "        if 'geneva convention' in text.lower():\n",
    "            i['institutions'].append('geneva')"
   ]
  },
  {
   "cell_type": "code",
   "execution_count": 29,
   "metadata": {
    "collapsed": true
   },
   "outputs": [],
   "source": [
    "# Hague Convention\n",
    "for i in recs:\n",
    "    if 'hague' not in i['institutions']:\n",
    "        text = i['text']\n",
    "        if 'hague convention' in text.lower():\n",
    "            i['institutions'].append('hague')"
   ]
  },
  {
   "cell_type": "code",
   "execution_count": 30,
   "metadata": {
    "collapsed": false
   },
   "outputs": [],
   "source": [
    "# Ottawa Convention\n",
    "for i in recs:\n",
    "    if 'ottawa' not in i['institutions']:\n",
    "        text = i['text']\n",
    "        if 'ottawa convention' in text.lower():\n",
    "            i['institutions'].append('ottawa')"
   ]
  },
  {
   "cell_type": "code",
   "execution_count": 31,
   "metadata": {
    "collapsed": false
   },
   "outputs": [],
   "source": [
    "# Europe Convention on Preventing and Combating Violence against Women and Domestic Violence\n",
    "for i in recs:\n",
    "    if 'eu-vaw' not in i['institutions']:\n",
    "        text = i['text']\n",
    "        if 'europe convention preventing combating violence against women' in noStop(text) \\\n",
    "        or 'europe convention preventing combatting violence against women' in noStop(text) \\\n",
    "        or 'europe convention preventing combatting violence against woman' in noStop(text) \\\n",
    "        or 'istanbul convention' in noStop(text):\n",
    "            i['institutions'].append('eu-vaw')"
   ]
  },
  {
   "cell_type": "code",
   "execution_count": 32,
   "metadata": {
    "collapsed": false
   },
   "outputs": [],
   "source": [
    "# International Coordinating Committee of National Institutions for the Promotion and Protection of Human Rights\n",
    "for i in recs:\n",
    "    if 'int-cord' not in i['institutions']:\n",
    "        text = i['text']\n",
    "        if 'International Coordinating Committee' in text: \n",
    "            i['institutions'].append('int-cord')"
   ]
  },
  {
   "cell_type": "code",
   "execution_count": 33,
   "metadata": {
    "collapsed": true
   },
   "outputs": [],
   "source": [
    "#Europe Convention on the Protection of Children against Sexual Exploitation and Sexual Abuse\n",
    "for i in recs:\n",
    "    if 'eu-child' not in i['institutions']:\n",
    "        text = i['text']\n",
    "        if 'europe convention protection children' in noStop(text):\n",
    "            i['institutions'].append('eu-child')"
   ]
  },
  {
   "cell_type": "code",
   "execution_count": 34,
   "metadata": {
    "collapsed": false
   },
   "outputs": [],
   "source": [
    "# EU Framework Convention for the Protection of National Minorities\n",
    "for i in recs:\n",
    "    if 'frame-minorities' not in i['institutions']:\n",
    "        text = i['text']\n",
    "        if 'framework convention protection national minorities' in noStop(text) \\\n",
    "        or 'framework convention national minorities' in noStop(text):\n",
    "            i['institutions'].append('frame-minorities')"
   ]
  },
  {
   "cell_type": "code",
   "execution_count": 35,
   "metadata": {
    "collapsed": true
   },
   "outputs": [],
   "source": [
    "# EU Convention on Action against Trafficking in Human Beings\n",
    "for i in recs:\n",
    "    if 'eu-traff' not in i['institutions']:\n",
    "        text = i['text']\n",
    "        if 'convention action trafficking human beings' in noStop(text):\n",
    "            i['institutions'].append('eu-traff')"
   ]
  },
  {
   "cell_type": "code",
   "execution_count": 36,
   "metadata": {
    "collapsed": true
   },
   "outputs": [],
   "source": [
    "#American Convention on Human Rights\n",
    "for i in recs:\n",
    "    if 'achr' not in i['institutions']:\n",
    "        text = i['text']\n",
    "        if 'american convention human rights' in noStop(text):\n",
    "            i['institutions'].append('achr')"
   ]
  },
  {
   "cell_type": "code",
   "execution_count": 37,
   "metadata": {
    "collapsed": false
   },
   "outputs": [],
   "source": [
    "##European Convention of Human Rights\n",
    "for i in recs:\n",
    "    if 'echr' not in i['institutions']:\n",
    "        text = i['text']\n",
    "        if 'european convention human rights' in noStop(text) \\\n",
    "        or 'european convention protection human rights' in noStop(text): \n",
    "            i['institutions'].append('echr')"
   ]
  },
  {
   "cell_type": "code",
   "execution_count": 38,
   "metadata": {
    "collapsed": true
   },
   "outputs": [],
   "source": [
    "# Kampala Convention of Human Rights\n",
    "for i in recs:\n",
    "    if 'kampala' not in i['institutions']:\n",
    "        text = i['text']\n",
    "        if 'african union convention protection assistance internally displaced persons' in noStop(text) \\\n",
    "        or 'kampala convention' in noStop(text):\n",
    "            i['institutions'].append('kampala')"
   ]
  },
  {
   "cell_type": "code",
   "execution_count": 39,
   "metadata": {
    "collapsed": true
   },
   "outputs": [],
   "source": [
    "# European Convention for the Protection of Human Rights and Fundamental Freedoms\n",
    "# 1968 Convention on the Non-Applicability of the Statutory Limitations to War Crimes and Crimes Against Humanity\n",
    "#International Convention against the Recruitment, Use, Financing and Training of Mercenaries\n",
    "# European Convention on the Legal Status of Migrant Workers\n",
    "#International Convention for the Suppression of the Financing of Terrorism\n",
    "#Protocol to Prevent, Suppress and Punish Trafficking in Persons, Especially Women and Children\n",
    "#United Nations Declaration on the Rights of Indigenous Peoples\n",
    "#'OPCAT', 'OP.CAT','OP-CAT', 'Optional Protocol' # should only be applied to those recs with yes value above."
   ]
  },
  {
   "cell_type": "code",
   "execution_count": 131,
   "metadata": {
    "collapsed": false
   },
   "outputs": [
    {
     "name": "stdout",
     "output_type": "stream",
     "text": [
      "59.8 That international treaties adhered to by Zambia enjoy full implementation and that their incorporation in domestic law be accelerated (Democratic Republic of the Congo) and to report to the Human Rights Council about further concrete steps that will be taken to implement the ratified international conventions in domestic law (Netherlands);\n",
      "\n",
      "82.44 Work closely with OHCHR to build the capacity of its national institutions and seeks States� assistance on counter-terrorism strategies, especially by countering terrorist fund-raising efforts in their territories and in accordance with Security Council resolutions and international conventions (Pakistan);\n",
      "\n",
      "78.9 Ensure that information on the implementation of human rights conventions in the overseas territories be consistently included in reports to treaty bodies (United Kingdom, Russian Federation, Algeria);\n",
      "\n",
      "78.9 Ensure that information on the implementation of human rights conventions in the overseas territories be consistently included in reports to treaty bodies (United Kingdom, Russian Federation, Algeria);\n",
      "\n",
      "78.9 Ensure that information on the implementation of human rights conventions in the overseas territories be consistently included in reports to treaty bodies (United Kingdom, Russian Federation, Algeria);\n",
      "\n",
      "96.2.1 sign and ratify all the Optional Protocols to United Nations international covenants and conventions to guarantee the effective implementation of the rights protected in the agreements (Spain);\n",
      "\n",
      "95.1 Incorporate international conventions, to which Afghanistan is a party, into domestic legal reform initiatives and translate these into concrete policies and programmes (Norway);\n",
      "\n",
      "95.27 Undertake concrete steps to guarantee the rights of women as enshrined in international conventions (Slovenia);\n",
      "\n",
      "52.2.5 To consider the possibility of acceding to the other major human rights instruments, in particular the optional protocols to the various United Nations conventions on human rights (France);\n",
      "\n",
      "94.4.2 Continue its efforts to ensure consistency between national laws and international human rights conventions which its has ratified (Egypt). );\n",
      "\n",
      "92.13.1 take further measures to adopt legislation ensuring the implementation of the Convention, in particular in the area violence prevention and sexual exploitation of children (Czech Republic, Argentina);\n",
      "\n",
      "92.13.1 take further measures to adopt legislation ensuring the implementation of the Convention, in particular in the area violence prevention and sexual exploitation of children (Czech Republic, Argentina);\n",
      "\n",
      "86.34 Implement in national legislation the prohibition and criminalization of all types of violence against women and children, specially indigenous women and children, in accordance with the commitments acquired in the corresponding Conventions (Bolivia);\n",
      "\n",
      "63.15 To increase efforts to fulfil engagements and obligation stemming from ratified Conventions (Italy);\n",
      "\n",
      "74.1 Consider ratifying the Convention on the Political Rights of Women (Argentina, Djibouti);\n",
      "\n",
      "74.1 Consider ratifying the Convention on the Political Rights of Women (Argentina, Djibouti);\n",
      "\n",
      "82.7 Ratify pertinent conventions, and proceed with harmonization of national legislation (Republic of the Congo);\n",
      "\n",
      "96.66 Take all necessary steps to complete the process of implementation of the Indigenous and Tribal Peoples Convention No. 169 (Denmark);\n",
      "\n",
      "96.66.1 continue efforts, in consultation with indigenous peoples, towards addressing the issue of the rights of indigenous peoples through the application of Convention No. 169 and the realization of the principles established in the United Nations Declaration on the Rights of Indigenous Peoples (Guatemala);\n",
      "\n",
      "97.1 Ratify the International Convention against the Recruitment, Use, Financing and Training of Mercenaries (Uzbekistan);\n",
      "\n",
      "79.2.2 ratify the Convention on the protection of all persons against enforced and involuntary disappearances (Argentina);\n",
      "\n",
      "100.2.5 ratify and the optional protocol to the Convention on the Rights of Persons (Mexico);\n",
      "\n",
      "106.1.1 Ratify the Disabilities Convention (Finland);\n",
      "\n",
      "81.6 Ratify the Indigenous and Tribal Peoples Convention No. 169 (Mexico);\n",
      "\n",
      "81.6.1 Consider ratifying and implementing the Indigenous and Tribal Peoples Convention No. 169 (Norway);\n",
      "\n",
      "103.19.1 Continue efforts in the field of combating human trafficking (Bahrain, France) and fully implement the international conventions in this area that Nigeria is a party to (France);\n",
      "\n",
      "87.1.2 consider the possibility of acceding to those international instruments it is not yet a party to, through the committee of the Human Rights Commission tasked to examine the compatibility of laws with international conventions and human rights treaties (Nicaragua);\n",
      "\n",
      "69.1.1 to pay attention to the integration into domestic legislation of the commitments undertaken by Turkmenistan by virtue of international conventions on human rights (Algeria);\n",
      "\n",
      "67.15.3 participate in discussions in the Council, scheduled for March 2009, on the relationship between human rights and climate change, in order to send a strong message to the parties to the United Nations Framework Convention on Climate Change on the importance of reaching an effective and workable global agreement on climate change mitigation and adaptation (Maldives);\n",
      "\n",
      "91.11 To vigorously pursue efforts to promulgate a national law guaranteeing better protection for children, and that the general principle of the best interest for the child, as contained in article 3 of the Convention, is fully reflected in that law (Djibouti);\n",
      "\n",
      "99.8 Consider ratifying other remaining core human rights conventions (Indonesia);\n",
      "\n",
      "99.12 Strengthen its institutional mechanisms for the promotion and efficient protection of human rights by implementing the various international conventions to which it is party and call upon the international community to back it in this endeavour (Burkina Faso);\n",
      "\n",
      "87.18 To continue the process of ratifying various human rights conventions (Chad);\n",
      "\n",
      "90.49 To express a strong commitment to protecting and advocating the fundamental human rights of members of the lesbian, gay, bisexual and transgender communities as equal citizens, in keeping with the country�s commitments to international conventions (Norway);\n",
      "\n",
      "90.23 Fulfil its obligations assumed in several conventions to which it is a party, and if it deems useful, request the assistance of the international community (Hungary);\n",
      "\n",
      "89.1 Ensure that appropriate legal frameworks are in place in line with the international conventions governing the issue of nationality (Canada): The Dominican Republic does not accept this recommendation, since nationality is already established in the Constitution and is not open to interpretation; );\n",
      "\n",
      "95.15 Continue effective policies aimed at ensuring rights of persons with disabilities through instruments that are in line with respective international conventions as well as by developing and implementing national programs (Kyrgyzstan);\n",
      "\n",
      "82.1 To work to adhere to the protocols to those conventions that it has already signed (Iraq);\n",
      "\n",
      "82.39 To ratify the convention to combat discrimination in the area of education (Kyrgyzstan);\n",
      "\n",
      "71.1.1 to consider acceding to the major human rights conventions as a sign of intent and as a confidence-building measure (Maldives);\n",
      "\n",
      "99.2 Accede to the various international conventions to which Gambia is not yet party to (Niger);\n",
      "\n",
      "100.21 Take all necessary steps to ensure freedom of speech as guaranteed by international conventions to which the Gambia is a signatory (United States);\n",
      "\n",
      "71.2..8 accede to the Conventions on refugees and stateless persons (Brazil);\n",
      "\n",
      "71.13. Pursue efforts to honour its commitments under the international human rights conventions to which it is a party, so as to ensure the protection of these rights (Libyan Arab Jamahiriya);\n",
      "\n",
      "71.15. Harmonize national legislation with international conventions so as to ensure that its citizens enjoy the human rights set out in such legislation and those conventions, and give international conventions precedence over national legislation (Libyan Arab Jamahiriya);\n",
      "\n",
      "71.18. Request cooperation and technical assistance from the international community, including from relevant international bodies, with a view to strengthening national capacities to ratify and implement international conventions to which it is not yet a party, as well as submit pending reports to the human rights treaty bodies (Mexico);\n",
      "\n",
      "72.3. Adhere to human rights conventions to which Guinea is not yet a party (Niger);\n",
      "\n",
      "84.2.1 to consider ratification of the International Convention (Azerbaijan, Chile, Egypt, Islamic Republic of Iran, Mexico, Philippines);\n",
      "\n",
      "84.2.1 to consider ratification of the International Convention (Azerbaijan, Chile, Egypt, Islamic Republic of Iran, Mexico, Philippines);\n",
      "\n",
      "84.2.1 to consider ratification of the International Convention (Azerbaijan, Chile, Egypt, Islamic Republic of Iran, Mexico, Philippines);\n",
      "\n",
      "84.2.1 to consider ratification of the International Convention (Azerbaijan, Chile, Egypt, Islamic Republic of Iran, Mexico, Philippines);\n",
      "\n",
      "84.2.1 to consider ratification of the International Convention (Azerbaijan, Chile, Egypt, Islamic Republic of Iran, Mexico, Philippines);\n",
      "\n",
      "84.2.1 to consider ratification of the International Convention (Azerbaijan, Chile, Egypt, Islamic Republic of Iran, Mexico, Philippines);\n",
      "\n",
      "84.7 To ratify the Council of Europe Convention on Action against Trafficking in Human Beings (Kyrgyzstan);\n",
      "\n",
      "101.5. Undertake specific measures to ensure the implementation of international United Nations and African human rights conventions, and develop and streamline domestic legislation ensuring the constitutional rights of citizens (Finland);\n",
      "\n",
      "102.1. Accede to the human rights conventions and protocols to which Kenya is not yet a party (Niger);\n",
      "\n",
      "66.1. Establish a committee to study human rights conventions in order to pave the way for accession to such conventions (Libyan Arab Jamahiriya);\n",
      "\n",
      "81.5. Improve the situation of the Beduns� by considering the possibility of acceding to the Convention on refugees and its protocol, as well as to the conventions dealing with statelessness (Switzerland);\n",
      "\n",
      "79.5. Look into the possibility of acceding to those conventions to which it is not yet party (Oman);\n",
      "\n",
      "96.5. Harmonize national legislation with the international obligations under the respective conventions (Germany);\n",
      "\n",
      "96.6. Continue its efforts to ensure that the provisions of international human rights conventions to which it is a party are incorporated into domestic law (Thailand);\n",
      "\n"
     ]
    }
   ],
   "source": [
    "# test which institutions I might have missed\n",
    "for i in recs[:10000]:\n",
    "    if i['institutions'] == []:\n",
    "        if 'convention' in i['text'].lower():\n",
    "            print i['text'] + '\\n'"
   ]
  },
  {
   "cell_type": "code",
   "execution_count": 41,
   "metadata": {
    "collapsed": false
   },
   "outputs": [
    {
     "data": {
      "text/plain": [
       "Counter({'CAT': 1475, 'ICCPR': 1351, 'CRC': 1051, 'PP': 910, 'CEDAW': 798, 'ICESR': 746, 'CPED': 691, 'ICMW': 669, 'CRPD': 619, 'ICC': 614, 'ILO': 290, 'ICERD': 280, 'HRC': 98, '1951refugees': 86, '1961-stateless': 75, '1954-stateless': 57, 'genocide': 53, 'int-cord': 45, 'unesco-ed': 37, 'geneva': 36, 'CTOC': 36, 'echr': 16, 'hague': 16, 'uncac': 13, 'achr': 10, 'frame-minorities': 9, 'eu-child': 6, 'kampala': 5, 'eu-vaw': 2, 'ottawa': 2, 'unesco-expr': 2})"
      ]
     },
     "execution_count": 41,
     "metadata": {},
     "output_type": "execute_result"
    }
   ],
   "source": [
    "# count the institutions\n",
    "institutions = []\n",
    "for rec in recs:\n",
    "    for i in rec['institutions']:\n",
    "        institutions.append(i)\n",
    "Counter(institutions)"
   ]
  },
  {
   "cell_type": "code",
   "execution_count": 80,
   "metadata": {
    "collapsed": false
   },
   "outputs": [],
   "source": [
    "# assign action\n",
    "keywords = {}\n",
    "keywords['ratify'] = ['ratify']\n",
    "keywords['accede'] = ['accede']\n",
    "keywords['sign'] = ['sign']\n",
    "keywords['implement'] = ['implement']\n",
    "keywords['establish'] = ['establish']\n",
    "keywords['continue'] = ['continue']\n",
    "keywords['take-measures'] = ['take measures']\n",
    "\n",
    "for i in recs[:500]:\n",
    "    i['action'] = []\n",
    "    if i['institutions'] != []:\n",
    "        for key in keywords.keys():\n",
    "            for word in keywords[key]:\n",
    "                if key in i['action']: # skip if it's already in there\n",
    "                    continue\n",
    "                if word in noStop(i['text']):\n",
    "                    i['action'].append(key)"
   ]
  },
  {
   "cell_type": "code",
   "execution_count": 130,
   "metadata": {
    "collapsed": false
   },
   "outputs": [],
   "source": [
    "# extend an invitaiton\n",
    "\n",
    "for i in recs:\n",
    "    i['invite'] = False\n",
    "    text = i['text'].lower()\n",
    "    if 'standing invitation' in text:\n",
    "        i['invite'] = True"
   ]
  },
  {
   "cell_type": "code",
   "execution_count": 111,
   "metadata": {
    "collapsed": false
   },
   "outputs": [],
   "source": []
  },
  {
   "cell_type": "code",
   "execution_count": 123,
   "metadata": {
    "collapsed": false
   },
   "outputs": [],
   "source": []
  },
  {
   "cell_type": "code",
   "execution_count": null,
   "metadata": {
    "collapsed": false
   },
   "outputs": [],
   "source": []
  },
  {
   "cell_type": "code",
   "execution_count": null,
   "metadata": {
    "collapsed": true
   },
   "outputs": [],
   "source": []
  }
 ],
 "metadata": {
  "kernelspec": {
   "display_name": "Python 2",
   "language": "python",
   "name": "python2"
  },
  "language_info": {
   "codemirror_mode": {
    "name": "ipython",
    "version": 2
   },
   "file_extension": ".py",
   "mimetype": "text/x-python",
   "name": "python",
   "nbconvert_exporter": "python",
   "pygments_lexer": "ipython2",
   "version": "2.7.9"
  }
 },
 "nbformat": 4,
 "nbformat_minor": 0
}
