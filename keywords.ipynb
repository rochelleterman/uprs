{
 "cells": [
  {
   "cell_type": "code",
   "execution_count": 597,
   "metadata": {
    "collapsed": false
   },
   "outputs": [
    {
     "data": {
      "text/plain": [
       "9223372036854775807"
      ]
     },
     "execution_count": 597,
     "metadata": {},
     "output_type": "execute_result"
    }
   ],
   "source": [
    "import os\n",
    "import re\n",
    "import csv\n",
    "from urllib import urlopen\n",
    "import sys\n",
    "import csv\n",
    "from collections import Counter\n",
    "\n",
    "csv.field_size_limit(sys.maxsize)"
   ]
  },
  {
   "cell_type": "code",
   "execution_count": 599,
   "metadata": {
    "collapsed": false
   },
   "outputs": [
    {
     "name": "stdout",
     "output_type": "stream",
     "text": [
      "2008data.csv\n",
      "2009data.csv\n",
      "2010data.csv\n",
      "2011data.csv\n",
      "2012data.csv\n",
      "2013data.csv\n",
      "2014data.csv\n"
     ]
    },
    {
     "data": {
      "text/plain": [
       "38993"
      ]
     },
     "execution_count": 599,
     "metadata": {},
     "output_type": "execute_result"
    }
   ],
   "source": [
    "# load data\n",
    "recs = []\n",
    "dir = '.'\n",
    "for filename in os.listdir(dir):\n",
    "    if filename.endswith('.csv'):\n",
    "        print filename\n",
    "        with open(filename,'rU') as csvfile:\n",
    "            reader = csv.DictReader(csvfile)\n",
    "            for row in reader:\n",
    "                recs.append(row)\n",
    "len(recs)"
   ]
  },
  {
   "cell_type": "markdown",
   "metadata": {},
   "source": [
    "## I. Code for the institution or organization mentioned in the recommendation"
   ]
  },
  {
   "cell_type": "code",
   "execution_count": 139,
   "metadata": {
    "collapsed": false
   },
   "outputs": [],
   "source": [
    "# strip extra whitespace on everything\n",
    "for i in recs:\n",
    "    i['text']=' '.join(i['text'].split())"
   ]
  },
  {
   "cell_type": "code",
   "execution_count": 140,
   "metadata": {
    "collapsed": false
   },
   "outputs": [],
   "source": [
    "# Add Empty Institutions key\n",
    "for i in recs:\n",
    "    i['institutions'] = []"
   ]
  },
  {
   "cell_type": "code",
   "execution_count": 141,
   "metadata": {
    "collapsed": true
   },
   "outputs": [],
   "source": [
    "#remove stop words function\n",
    "stopwords = ['of','on','all','the','a','for','to','and','to','against','from']\n",
    "text = 'To sign and ratify the International Convention on the Protection of the Rights of all Migrant Workers and Their Families (Argentina);'\n",
    "\n",
    "def noStop(text):\n",
    "    '''\n",
    "    this function inputs a text, lowers it, and removes stop words\n",
    "    '''\n",
    "    text = text.lower().split()\n",
    "    for word in stopwords:\n",
    "        text = [x for x in text if x != word]\n",
    "    return(' '.join(text))"
   ]
  },
  {
   "cell_type": "code",
   "execution_count": 142,
   "metadata": {
    "collapsed": true
   },
   "outputs": [],
   "source": [
    "### CAT\n",
    "for i in recs:\n",
    "    if 'CAT' not in i['institutions']:\n",
    "        text = i['text']\n",
    "        if 'committee torture' in noStop(text) \\\n",
    "        or 'convention torture' in noStop(text) \\\n",
    "        or 'CAT' in text:\n",
    "            i['institutions'].append('CAT')"
   ]
  },
  {
   "cell_type": "code",
   "execution_count": 143,
   "metadata": {
    "collapsed": false
   },
   "outputs": [],
   "source": [
    "## ICCPR\n",
    "for i in recs:\n",
    "    if 'CCPR' not in i['institutions']:\n",
    "        text = i['text']\n",
    "        if 'covenant civil political right' in noStop(text) \\\n",
    "        or 'committee civil political rights' in noStop(text) \\\n",
    "        or 'convention civil political rights' in noStop(text) \\\n",
    "        or 'CCPR' in text:\n",
    "            i['institutions'].append('ICCPR')"
   ]
  },
  {
   "cell_type": "code",
   "execution_count": 144,
   "metadata": {
    "collapsed": false
   },
   "outputs": [],
   "source": [
    "## ICESR\n",
    "for i in recs:\n",
    "    if 'ICESR' not in i['institutions']:\n",
    "        text = i['text'].replace(',','') # remove commas\n",
    "        if 'covenant economic social cultural rights' in noStop(text) \\\n",
    "        or 'convention economic social cultural rights' in noStop(text) \\\n",
    "        or 'committee economic social cultural rights' in noStop(text) \\\n",
    "        or'CESR' in text \\\n",
    "        or 'CESCR' in text:\n",
    "            i['institutions'].append('ICESR')"
   ]
  },
  {
   "cell_type": "code",
   "execution_count": 145,
   "metadata": {
    "collapsed": false
   },
   "outputs": [],
   "source": [
    "## CEDAW\n",
    "for i in recs:\n",
    "    if 'CEDAW' not in i['institutions']:\n",
    "        text = i['text']\n",
    "        if 'committee elimination of discrimination women' in noStop(text) \\\n",
    "        or 'elimination kinds discrimination women' in noStop(text) \\\n",
    "        or 'convention elimination discrimination women' in noStop(text) \\\n",
    "        or 'convention elimination discrimination women'  in noStop(text) \\\n",
    "        or 'convention elimination forms discriminations women' in noStop(text) \\\n",
    "        or 'convention elimination forms discrimination women' in noStop(text) \\\n",
    "        or \"women's convention\" in noStop(text) \\\n",
    "        or 'CEDAW' in text:\n",
    "            i['institutions'].append('CEDAW')"
   ]
  },
  {
   "cell_type": "code",
   "execution_count": 146,
   "metadata": {
    "collapsed": false
   },
   "outputs": [
    {
     "data": {
      "text/plain": [
       "'convention elimination forms discriminations women'"
      ]
     },
     "execution_count": 146,
     "metadata": {},
     "output_type": "execute_result"
    }
   ],
   "source": [
    "text = \"Convention on the Elimination of All Forms of Discriminations Against Women\"\n",
    "noStop(text)"
   ]
  },
  {
   "cell_type": "code",
   "execution_count": 147,
   "metadata": {
    "collapsed": false
   },
   "outputs": [],
   "source": [
    "## CRC\n",
    "for i in recs:\n",
    "    if 'CRC' not in i['institutions']:\n",
    "        text = i['text']\n",
    "        if 'convention rights child' in noStop(text) \\\n",
    "        or 'committee rights child' in noStop(text):\n",
    "            i['institutions'].append('CRC')\n",
    "        if 'CRC' in text and 'International Committee of the Red Cross (ICRC)' not in text:\n",
    "            i['institutions'].append('CRC')"
   ]
  },
  {
   "cell_type": "code",
   "execution_count": 148,
   "metadata": {
    "collapsed": false
   },
   "outputs": [],
   "source": [
    "## ICERD\n",
    "for i in recs:\n",
    "    if 'CRC' not in i['institutions']:\n",
    "        text = i['text']\n",
    "        if 'elimination of all forms of racial discrimination' in text.lower() \\\n",
    "        or 'elimination of racial discrimination' in text.lower() \\\n",
    "        or 'CERD' in  text:\n",
    "            i['institutions'].append('ICERD')"
   ]
  },
  {
   "cell_type": "code",
   "execution_count": 149,
   "metadata": {
    "collapsed": true
   },
   "outputs": [],
   "source": [
    "## ILO\n",
    "for i in recs:\n",
    "    if 'ILO' not in i['institutions']:\n",
    "        text = i['text']\n",
    "        if 'international labor organization' in text.lower() \\\n",
    "        or 'international labour organization' in text.lower() \\\n",
    "        or 'ILO' in text:\n",
    "            i['institutions'].append('ILO')"
   ]
  },
  {
   "cell_type": "code",
   "execution_count": 150,
   "metadata": {
    "collapsed": true
   },
   "outputs": [],
   "source": [
    "## ICC\n",
    "for i in recs:\n",
    "    if 'ICC' not in i['institutions']:\n",
    "        text = i['text']\n",
    "        if 'international criminal court' in text.lower() \\\n",
    "        or 'rome statute' in text.lower() \\\n",
    "        or ' ICC ' in text \\\n",
    "        or 'ICC,' in text \\\n",
    "        or '(ICC)' in text:\n",
    "            i['institutions'].append('ICC')"
   ]
  },
  {
   "cell_type": "code",
   "execution_count": 151,
   "metadata": {
    "collapsed": false
   },
   "outputs": [],
   "source": [
    "## PP\n",
    "for i in recs:\n",
    "    if 'PP' not in i['institutions']:\n",
    "        text = i['text']\n",
    "        if 'national human rights commission' in text.lower() \\\n",
    "        or 'national human rights committee' in text.lower() \\\n",
    "        or 'paris principles' in text.lower(): \n",
    "            i['institutions'].append('PP')"
   ]
  },
  {
   "cell_type": "code",
   "execution_count": 152,
   "metadata": {
    "collapsed": false
   },
   "outputs": [],
   "source": [
    "## HRC\n",
    "for i in recs:\n",
    "    if 'HRC' not in i['institutions']:\n",
    "        text = i['text']\n",
    "        if 'the human rights committee' in text.lower() \\\n",
    "        or 'un human rights committee' in text.lower() \\\n",
    "        or '2008 human rights committee' in text.lower():\n",
    "            i['institutions'].append('HRC')"
   ]
  },
  {
   "cell_type": "code",
   "execution_count": 153,
   "metadata": {
    "collapsed": false
   },
   "outputs": [],
   "source": [
    "## CPED\n",
    "for i in recs:\n",
    "    if 'CPED' not in i['institutions']:\n",
    "        text = i['text']\n",
    "        if 'all persons from forced disappearance' in text.lower() \\\n",
    "        or 'Enforced Disappearance' in text \\\n",
    "        or 'Enforced and Involuntary Disappearance' in text \\\n",
    "        or 'convention protection persons enforced disappearances' in noStop(text) \\\n",
    "        or 'convention protection persons emforced involuntary disappearances' in noStop(text) \\\n",
    "        or '(CED)' in text \\\n",
    "        or ' CED,' in text \\\n",
    "        or 'CPED' in text \\\n",
    "        or ' CED ' in text:\n",
    "            i['institutions'].append('CPED')"
   ]
  },
  {
   "cell_type": "code",
   "execution_count": 154,
   "metadata": {
    "collapsed": false
   },
   "outputs": [],
   "source": [
    "## ICMW\n",
    "for i in recs:\n",
    "    if 'ICMW' not in i['institutions']:\n",
    "        text = i['text']\n",
    "        if 'convention rights migrant workers' in noStop(text) \\\n",
    "        or 'convention protection rights migrant workers' in noStop(text) \\\n",
    "        or 'convention protection migrant workers' in noStop(text) \\\n",
    "        or 'convention migrant workers' in noStop(text) \\\n",
    "        or 'convention rights protection migrant workers' in noStop(text) \\\n",
    "        or 'migrant workers convention' in noStop(text) \\\n",
    "        or 'committee on migrant workers' in noStop(text) \\\n",
    "        or 'convention relating rights migrant workers' in noStop(text) \\\n",
    "        or 'migrant convention' in noStop(text) \\\n",
    "        or 'convention protection rights migrants workers' in noStop(text) \\\n",
    "        or 'Workers and Their Families' in text \\\n",
    "        or 'ICRMW' in text \\\n",
    "        or 'CMW' in text :\n",
    "            i['institutions'].append('ICMW')"
   ]
  },
  {
   "cell_type": "code",
   "execution_count": 155,
   "metadata": {
    "collapsed": false
   },
   "outputs": [],
   "source": [
    "## CRPD\n",
    "for i in recs:\n",
    "    if 'CRPD' not in i['institutions']:\n",
    "        text = i['text']\n",
    "        if 'convention rights persons with disabilities' in noStop(text) \\\n",
    "        or 'committee rights persons with disabilities' in noStop(text) \\\n",
    "        or 'convention protection persons with disabilitie' in noStop(text) \\\n",
    "        or 'convention persons with disabilities' in noStop(text) \\\n",
    "        or 'convention rights people with disabilities' in noStop(text) \\\n",
    "        or 'disabilities convention' in noStop(text) \\\n",
    "        or 'CRPD' in text:\n",
    "            i['institutions'].append('CRPD')"
   ]
  },
  {
   "cell_type": "code",
   "execution_count": 156,
   "metadata": {
    "collapsed": true
   },
   "outputs": [],
   "source": [
    "# Genocide\n",
    "for i in recs:\n",
    "    if 'genocide' not in i['institutions']:\n",
    "        text = i['text']\n",
    "        if 'punishment of the crime of genocide' in text.lower():\n",
    "            i['institutions'].append('genocide')"
   ]
  },
  {
   "cell_type": "code",
   "execution_count": 157,
   "metadata": {
    "collapsed": false
   },
   "outputs": [],
   "source": [
    "# UNESCO Convention against Discrimination in Education\n",
    "for i in recs:\n",
    "    if 'unesco-ed' not in i['institutions']:\n",
    "        text = i['text']\n",
    "        if 'convention against discrimination in education' in text.lower() \\\n",
    "        or 'convention on discrimination in education' in text.lower():\n",
    "            i['institutions'].append('unesco-ed')"
   ]
  },
  {
   "cell_type": "code",
   "execution_count": 158,
   "metadata": {
    "collapsed": false
   },
   "outputs": [],
   "source": [
    "#1951 Convention relating to the Status of Refugees\n",
    "for i in recs:\n",
    "    if '1951refugees' not in i['institutions']:\n",
    "        text = i['text']\n",
    "        if 'Convention on Refugees' in text \\\n",
    "        or 'Status of Refugees' in text \\\n",
    "        or '1951 Refugee Convention' in text \\\n",
    "        or 'United Nations Refugee Convention' in text:\n",
    "            i['institutions'].append('1951refugees')"
   ]
  },
  {
   "cell_type": "code",
   "execution_count": 159,
   "metadata": {
    "collapsed": false
   },
   "outputs": [],
   "source": [
    "#Convention against Transnational Organized Crime\n",
    "for i in recs:\n",
    "    if 'CTOC' not in i['institutions']:\n",
    "        text = i['text']\n",
    "        if 'convention transnational organized crime' in noStop(text) \\\n",
    "        or 'convention transnational organised crime' in noStop(text) \\\n",
    "        or 'convention organized transnational crime' in noStop(text):\n",
    "            i['institutions'].append('CTOC')"
   ]
  },
  {
   "cell_type": "code",
   "execution_count": 160,
   "metadata": {
    "collapsed": true
   },
   "outputs": [],
   "source": [
    "#United Nations Convention against Corruption\n",
    "for i in recs:\n",
    "    if 'uncac' not in i['institutions']:\n",
    "        text = i['text']\n",
    "        if 'convention against corruption' in text.lower():\n",
    "            i['institutions'].append('uncac')"
   ]
  },
  {
   "cell_type": "code",
   "execution_count": 161,
   "metadata": {
    "collapsed": false
   },
   "outputs": [],
   "source": [
    "#UNESCO Convention on the Protection and Promotion of Diversity of the Cultural Expressions \n",
    "for i in recs:\n",
    "    if 'unesco-expr' not in i['institutions']:\n",
    "        text = i['text']\n",
    "        if 'convention protection promotion diversity cultural expressions' in noStop(text): \n",
    "            i['institutions'].append('unesco-expr')"
   ]
  },
  {
   "cell_type": "code",
   "execution_count": 162,
   "metadata": {
    "collapsed": true
   },
   "outputs": [],
   "source": [
    "#1961 Convention on the Reduction of Statelessness\n",
    "for i in recs:\n",
    "    if '1961-stateless' not in i['institutions']:\n",
    "        text = i['text']\n",
    "        if 'reduction of statelessness' in text.lower():\n",
    "            i['institutions'].append('1961-stateless')"
   ]
  },
  {
   "cell_type": "code",
   "execution_count": 163,
   "metadata": {
    "collapsed": false
   },
   "outputs": [],
   "source": [
    "#1954 Convention Relating to the Status of Stateless Persons\n",
    "for i in recs:\n",
    "    if '1954-stateless' not in i['institutions']:\n",
    "        text = i['text']\n",
    "        if 'convention relating to the status of stateless' in text.lower() \\\n",
    "        or 'convention on the status of stateless' in text.lower():\n",
    "            i['institutions'].append('1954-stateless')"
   ]
  },
  {
   "cell_type": "code",
   "execution_count": 164,
   "metadata": {
    "collapsed": true
   },
   "outputs": [],
   "source": [
    "#Geneva Conventions\n",
    "for i in recs:\n",
    "    if 'geneva' not in i['institutions']:\n",
    "        text = i['text']\n",
    "        if 'geneva convention' in text.lower():\n",
    "            i['institutions'].append('geneva')"
   ]
  },
  {
   "cell_type": "code",
   "execution_count": 165,
   "metadata": {
    "collapsed": true
   },
   "outputs": [],
   "source": [
    "# Hague Convention\n",
    "for i in recs:\n",
    "    if 'hague' not in i['institutions']:\n",
    "        text = i['text']\n",
    "        if 'hague convention' in text.lower():\n",
    "            i['institutions'].append('hague')"
   ]
  },
  {
   "cell_type": "code",
   "execution_count": 166,
   "metadata": {
    "collapsed": false
   },
   "outputs": [],
   "source": [
    "# Ottawa Convention\n",
    "for i in recs:\n",
    "    if 'ottawa' not in i['institutions']:\n",
    "        text = i['text']\n",
    "        if 'ottawa convention' in text.lower():\n",
    "            i['institutions'].append('ottawa')"
   ]
  },
  {
   "cell_type": "code",
   "execution_count": 167,
   "metadata": {
    "collapsed": false
   },
   "outputs": [],
   "source": [
    "# Europe Convention on Preventing and Combating Violence against Women and Domestic Violence\n",
    "for i in recs:\n",
    "    if 'eu-vaw' not in i['institutions']:\n",
    "        text = i['text']\n",
    "        if 'europe convention preventing combating violence against women' in noStop(text) \\\n",
    "        or 'europe convention preventing combatting violence against women' in noStop(text) \\\n",
    "        or 'europe convention preventing combatting violence against woman' in noStop(text) \\\n",
    "        or 'istanbul convention' in noStop(text):\n",
    "            i['institutions'].append('eu-vaw')"
   ]
  },
  {
   "cell_type": "code",
   "execution_count": 168,
   "metadata": {
    "collapsed": false
   },
   "outputs": [],
   "source": [
    "# International Coordinating Committee of National Institutions for the Promotion and Protection of Human Rights\n",
    "for i in recs:\n",
    "    if 'int-cord' not in i['institutions']:\n",
    "        text = i['text']\n",
    "        if 'International Coordinating Committee' in text: \n",
    "            i['institutions'].append('int-cord')"
   ]
  },
  {
   "cell_type": "code",
   "execution_count": 169,
   "metadata": {
    "collapsed": true
   },
   "outputs": [],
   "source": [
    "#Europe Convention on the Protection of Children against Sexual Exploitation and Sexual Abuse\n",
    "for i in recs:\n",
    "    if 'eu-child' not in i['institutions']:\n",
    "        text = i['text']\n",
    "        if 'europe convention protection children' in noStop(text):\n",
    "            i['institutions'].append('eu-child')"
   ]
  },
  {
   "cell_type": "code",
   "execution_count": 170,
   "metadata": {
    "collapsed": false
   },
   "outputs": [],
   "source": [
    "# EU Framework Convention for the Protection of National Minorities\n",
    "for i in recs:\n",
    "    if 'frame-minorities' not in i['institutions']:\n",
    "        text = i['text']\n",
    "        if 'framework convention protection national minorities' in noStop(text) \\\n",
    "        or 'framework convention national minorities' in noStop(text):\n",
    "            i['institutions'].append('frame-minorities')"
   ]
  },
  {
   "cell_type": "code",
   "execution_count": 171,
   "metadata": {
    "collapsed": true
   },
   "outputs": [],
   "source": [
    "# EU Convention on Action against Trafficking in Human Beings\n",
    "for i in recs:\n",
    "    if 'eu-traff' not in i['institutions']:\n",
    "        text = i['text']\n",
    "        if 'convention action trafficking human beings' in noStop(text):\n",
    "            i['institutions'].append('eu-traff')"
   ]
  },
  {
   "cell_type": "code",
   "execution_count": 172,
   "metadata": {
    "collapsed": true
   },
   "outputs": [],
   "source": [
    "#American Convention on Human Rights\n",
    "for i in recs:\n",
    "    if 'achr' not in i['institutions']:\n",
    "        text = i['text']\n",
    "        if 'american convention human rights' in noStop(text):\n",
    "            i['institutions'].append('achr')"
   ]
  },
  {
   "cell_type": "code",
   "execution_count": 173,
   "metadata": {
    "collapsed": false
   },
   "outputs": [],
   "source": [
    "##European Convention of Human Rights\n",
    "for i in recs:\n",
    "    if 'echr' not in i['institutions']:\n",
    "        text = i['text']\n",
    "        if 'european convention human rights' in noStop(text) \\\n",
    "        or 'european convention protection human rights' in noStop(text): \n",
    "            i['institutions'].append('echr')"
   ]
  },
  {
   "cell_type": "code",
   "execution_count": 174,
   "metadata": {
    "collapsed": true
   },
   "outputs": [],
   "source": [
    "# Kampala Convention of Human Rights\n",
    "for i in recs:\n",
    "    if 'kampala' not in i['institutions']:\n",
    "        text = i['text']\n",
    "        if 'african union convention protection assistance internally displaced persons' in noStop(text) \\\n",
    "        or 'kampala convention' in noStop(text):\n",
    "            i['institutions'].append('kampala')"
   ]
  },
  {
   "cell_type": "code",
   "execution_count": 175,
   "metadata": {
    "collapsed": false
   },
   "outputs": [],
   "source": [
    "# Convention Political Rights of Women\n",
    "for i in recs:\n",
    "    if 'pol-women' not in i['institutions']:\n",
    "        text = i['text']\n",
    "        if 'convention political rights women' in noStop(text):\n",
    "            i['institutions'].append('pol-women')"
   ]
  },
  {
   "cell_type": "code",
   "execution_count": 453,
   "metadata": {
    "collapsed": false
   },
   "outputs": [],
   "source": [
    "# Special procedures mandate holders\n",
    "for i in recs:\n",
    "    if 'sp-pr' not in i['institutions']:\n",
    "        text = i['text']\n",
    "        if 'mandate holders' in noStop(text) \\\n",
    "        or 'special procedure' in noStop(text) \\\n",
    "        or 'rapporteur' in noStop(text) \\\n",
    "        or 'special mechanisms' in noStop(text) \\\n",
    "        or 'standing invitation' in noStop(text):\n",
    "            i['institutions'].append('sp-pr')"
   ]
  },
  {
   "cell_type": "code",
   "execution_count": 454,
   "metadata": {
    "collapsed": true
   },
   "outputs": [],
   "source": [
    "# Core human rights treaties\n",
    "for i in recs:\n",
    "    if 'core' not in i['institutions']:\n",
    "        text = i['text']\n",
    "        if 'core human rights' in noStop(text) \\\n",
    "        or 'human rights core' in noStop(text) \\\n",
    "        or 'core international human rights' in noStop(text) \\\n",
    "        or 'main human rights treaties' in noStop(text) \\\n",
    "        or 'main international human rights' in noStop(text) \\\n",
    "        or 'core universal human rights' in noStop(text):\n",
    "            i['institutions'].append('core')"
   ]
  },
  {
   "cell_type": "code",
   "execution_count": 178,
   "metadata": {
    "collapsed": true
   },
   "outputs": [],
   "source": [
    "# European Convention for the Protection of Human Rights and Fundamental Freedoms\n",
    "# 1968 Convention on the Non-Applicability of the Statutory Limitations to War Crimes and Crimes Against Humanity\n",
    "#International Convention against the Recruitment, Use, Financing and Training of Mercenaries\n",
    "# European Convention on the Legal Status of Migrant Workers\n",
    "#International Convention for the Suppression of the Financing of Terrorism\n",
    "#Protocol to Prevent, Suppress and Punish Trafficking in Persons, Especially Women and Children\n",
    "#United Nations Declaration on the Rights of Indigenous Peoples\n",
    "#'OPCAT', 'OP.CAT','OP-CAT', 'Optional Protocol' # should only be applied to those recs with yes value above."
   ]
  },
  {
   "cell_type": "code",
   "execution_count": 600,
   "metadata": {
    "collapsed": false
   },
   "outputs": [
    {
     "ename": "KeyError",
     "evalue": "'institutions'",
     "output_type": "error",
     "traceback": [
      "\u001b[0;31m---------------------------------------------------------------------------\u001b[0m",
      "\u001b[0;31mKeyError\u001b[0m                                  Traceback (most recent call last)",
      "\u001b[0;32m<ipython-input-600-364c573ab23c>\u001b[0m in \u001b[0;36m<module>\u001b[0;34m()\u001b[0m\n\u001b[1;32m      1\u001b[0m \u001b[0;31m# test which institutions I might have missed\u001b[0m\u001b[0;34m\u001b[0m\u001b[0;34m\u001b[0m\u001b[0m\n\u001b[1;32m      2\u001b[0m \u001b[0;32mfor\u001b[0m \u001b[0mi\u001b[0m \u001b[0;32min\u001b[0m \u001b[0mrecs\u001b[0m\u001b[0;34m[\u001b[0m\u001b[0;34m:\u001b[0m\u001b[0;36m500\u001b[0m\u001b[0;34m]\u001b[0m\u001b[0;34m:\u001b[0m\u001b[0;34m\u001b[0m\u001b[0m\n\u001b[0;32m----> 3\u001b[0;31m     \u001b[0;32mif\u001b[0m \u001b[0mi\u001b[0m\u001b[0;34m[\u001b[0m\u001b[0;34m'institutions'\u001b[0m\u001b[0;34m]\u001b[0m \u001b[0;34m==\u001b[0m \u001b[0;34m[\u001b[0m\u001b[0;34m]\u001b[0m\u001b[0;34m:\u001b[0m\u001b[0;34m\u001b[0m\u001b[0m\n\u001b[0m\u001b[1;32m      4\u001b[0m         \u001b[0;32mif\u001b[0m \u001b[0;34m'ratify'\u001b[0m \u001b[0;32min\u001b[0m \u001b[0mi\u001b[0m\u001b[0;34m[\u001b[0m\u001b[0;34m'text'\u001b[0m\u001b[0;34m]\u001b[0m\u001b[0;34m.\u001b[0m\u001b[0mlower\u001b[0m\u001b[0;34m(\u001b[0m\u001b[0;34m)\u001b[0m\u001b[0;34m:\u001b[0m\u001b[0;34m\u001b[0m\u001b[0m\n\u001b[1;32m      5\u001b[0m             \u001b[0;32mprint\u001b[0m \u001b[0mi\u001b[0m\u001b[0;34m[\u001b[0m\u001b[0;34m'text'\u001b[0m\u001b[0;34m]\u001b[0m \u001b[0;34m+\u001b[0m \u001b[0;34m'\\n'\u001b[0m\u001b[0;34m\u001b[0m\u001b[0m\n",
      "\u001b[0;31mKeyError\u001b[0m: 'institutions'"
     ]
    }
   ],
   "source": [
    "# test which institutions I might have missed\n",
    "for i in recs[:500]:\n",
    "    if i['institutions'] == []:\n",
    "        if 'ratify' in i['text'].lower():\n",
    "            print i['text'] + '\\n'"
   ]
  },
  {
   "cell_type": "markdown",
   "metadata": {},
   "source": [
    "## II. Actions"
   ]
  },
  {
   "cell_type": "code",
   "execution_count": 181,
   "metadata": {
    "collapsed": false
   },
   "outputs": [],
   "source": [
    "# assign action\n",
    "keywords = {}\n",
    "keywords['ratify'] = ['ratify']\n",
    "keywords['accede'] = ['accede']\n",
    "keywords['sign'] = ['sign']\n",
    "keywords['implement'] = ['implement']\n",
    "keywords['establish'] = ['establish']\n",
    "keywords['continue'] = ['continue']\n",
    "keywords['take-measures'] = ['take measures']\n",
    "keywords['invite'] = ['invite','invitation']\n",
    "\n",
    "for i in recs:\n",
    "    i['action'] = []\n",
    "    if i['institutions'] != []:\n",
    "        for key in keywords.keys():\n",
    "            for word in keywords[key]:\n",
    "                if key in i['action']: # skip if it's already in there\n",
    "                    continue\n",
    "                if word in noStop(i['text']):\n",
    "                    i['action'].append(key)"
   ]
  },
  {
   "cell_type": "markdown",
   "metadata": {
    "collapsed": false
   },
   "source": [
    "## III. Theme"
   ]
  },
  {
   "cell_type": "code",
   "execution_count": 586,
   "metadata": {
    "collapsed": true
   },
   "outputs": [],
   "source": [
    "keywords = {}\n",
    "\n",
    "# physical integrity\n",
    "keywords['torture'] = ['torture','inhuman degrading treatment','corporal punishment','stoning','amputation','caning','whipping']\n",
    "keywords['trafficking'] = ['slavery','forced labor','forced labour','traffick','abduct','kidnap']\n",
    "keywords['prison'] = ['prison','police','interrogation','detainees','security force','security personnel','detention',\\\n",
    "                      'law enforc','incarceration','solitary confinement']\n",
    "keywords['disappearances'] = ['disappearances']\n",
    "keywords['death-pen'] = ['death penalty','extrajudicial','capital punishment','death sentence','executions']\n",
    "\n",
    "# pol. rights\n",
    "keywords['migration'] = ['migration','migrant','refugee','displaced','asylum','displacements','idps','eviction','statelessness']\n",
    "keywords['speech'] = ['speech','expression','journalis','opinion',' press ', ' media','insult law','defamation','political dissent']\n",
    "keywords['religion'] = ['religio','church','muslim','blasphemy','apostasy']\n",
    "keywords['judiciary'] = ['judiciary','judicial','fair trial','court','judge','defendants','prosecutor','lawyer',\\\n",
    "                         'legal representation','tribunal','legal aid']\n",
    "keywords['privacy'] = ['privacy']\n",
    "\n",
    "# soc, cul, econ. rights\n",
    "keywords['poverty'] = ['poverty','social security','pension','social safety net']\n",
    "keywords['health'] = ['health','hospital','doctor','medical','disease']\n",
    "keywords['hiv'] = ['hiv']\n",
    "keywords['food'] = ['food','hungry']\n",
    "keywords['infrastructure '] = ['water','sanitation','housing','roads','right development','living standard','homeless']\n",
    "keywords['labor'] = [' labor','labour','strike','unions','worker','employment']\n",
    "keywords['education'] = ['education','illiter','school']\n",
    "keywords['property'] = ['property','properties']\n",
    "keywords['land'] = ['land rights']\n",
    "keywords['culture'] = ['cultural rights','cultural values','traditions']\n",
    "\n",
    "# vuln. populations\n",
    "keywords['children'] = ['child','juvenile','minors','girl','minimum age','age criminal responsibility']\n",
    "keywords['lgbt'] = ['lgbt','lesbian','gay','homosexual','transsexual','sexual orientation','gender identity',\\\n",
    "                    'consensual sex','same-sex', 'same sex','homophobia','between consenting adults']\n",
    "keywords['ethnic'] = ['tribal area','vulnerable population','roma','ethnic','minorit','xenophobi']\n",
    "keywords['indigenous'] = ['indigenous','aboriginal']\n",
    "keywords['race'] = ['race','racial','racism']\n",
    "keywords['disabilities'] = ['disabilit','disabled']\n",
    "keywords['women'] = ['women','gender','misogyn','widows','girl']\n",
    "keywords['sex-violence'] = ['domestic violence','sexual violence','rape','domestic abuse','sexual abuse','prostitut']\n",
    "keywords['discrimination'] = ['discriminat','advancement','stereotyp','attitude','role responsibilit','equal']\n",
    "keywords['harm-trad'] = ['fgm','genital','early marriage','forced marriage','harmful traditional practices',\\\n",
    "                         'sexual mutilation','polygamy']\n",
    "keywords['reproductive'] = ['reproductive','abortion','birth control','maternal','family planning']\n",
    "keywords['elderly'] = ['elderly']\n",
    "\n",
    "# political conflict\n",
    "keywords['conflict'] = ['truth commission','reconstruction','post-conflict','reconciliation','civil war',\\\n",
    "                        'post conflict','civil conflict','armed conflict']\n",
    "keywords['governance'] = ['good governance','rule law','stability','public governance']\n",
    "keywords['corruption'] = ['corruption','bribary','bribe','bribing','extortion']\n",
    "keywords['environment'] = ['environment','pollution','climate change']\n",
    "keywords['democ'] = ['democrat','election']\n",
    "keywords['self-determ'] =['self-determination', 'self determination']\n",
    "keywords['socialism'] = ['socialism','communism']\n",
    "keywords['civil-so'] = ['civil society','rights defenders','ngos','charities','protest','activist','demonstrator' \\\n",
    "                       'freedom assembly','freedom association']\n",
    "keywords['terrorism'] = ['terroris']\n",
    "keywords['crime-humanity'] = ['war crime','crimes humanity','genocide','massacre']\n",
    "\n",
    "# human rights violations\n",
    "#keywords['violations'] = ['rights violation', 'impunity','witnesses','perpetrators','compensation','rights abuse','immunity from prosecution']"
   ]
  },
  {
   "cell_type": "code",
   "execution_count": 587,
   "metadata": {
    "collapsed": false
   },
   "outputs": [],
   "source": [
    "#apply\n",
    "for i in recs:\n",
    "    i['theme'] = []\n",
    "    text = noStop(i['text'])\n",
    "    # get rid of country, so that 'democrat' doesn't catch \"democratic republic of congo\" etc.\n",
    "    country = text.split('(')[-1].split(')')[0]\n",
    "    text = text.replace(country,'')\n",
    "    for key in keywords.keys():\n",
    "            for word in keywords[key]:\n",
    "                if key in i['theme']: # skip if it's already in there\n",
    "                    continue\n",
    "                if word in text:\n",
    "                    i['theme'].append(key)"
   ]
  },
  {
   "cell_type": "code",
   "execution_count": 588,
   "metadata": {
    "collapsed": false
   },
   "outputs": [
    {
     "data": {
      "text/plain": [
       "5207"
      ]
     },
     "execution_count": 588,
     "metadata": {},
     "output_type": "execute_result"
    }
   ],
   "source": [
    "len([i for i in recs if i['theme'] == [] and i['institutions'] == []])"
   ]
  },
  {
   "cell_type": "code",
   "execution_count": 589,
   "metadata": {
    "collapsed": false
   },
   "outputs": [
    {
     "name": "stdout",
     "output_type": "stream",
     "text": [
      "97.7 Re-introduce the moratorium which was broken in 2007, and take measures to adhere to the resolutions of the General Assembly in this regard (Sweden);\n",
      "[]\n",
      "afghanistan2009\n",
      "\n",
      "\n",
      "94.11 Consider a moratorium on the application of capital sentences (Austria);\n",
      "[]\n",
      "yemen2009\n",
      "\n",
      "\n",
      "90.12 As the nominal state of emergency has unintended consequences for government accountability, review it and produce a timetable on how it might be ended (United Kingdom);\n",
      "[]\n",
      "bruneidarussalam2010\n",
      "\n",
      "\n",
      "90.19.2 review the Internal Security Act of 1982 in order to bring it into line with international standards (Slovakia);\n",
      "[]\n",
      "bruneidarussalam2010\n",
      "\n",
      "\n",
      "90.23.1 consider revising the Sedition Act and the Newspaper Act to ensure that they conform with international human rights standards (Slovenia);\n",
      "[]\n",
      "bruneidarussalam2010\n",
      "\n",
      "\n",
      "90.23.3 consider reviewing the Sedition Act (Italy);\n",
      "[]\n",
      "bruneidarussalam2010\n",
      "\n",
      "\n",
      "90.24 Halt prosecutions of individuals for possessing seditious� material critical of the State and the royal family (United States);\n",
      "[]\n",
      "bruneidarussalam2010\n",
      "\n",
      "\n",
      "90.26 Give an opportunity to newspapers whose permits have been rejected to appeal the decision to a third party (Norway);\n",
      "[]\n",
      "bruneidarussalam2010\n",
      "\n",
      "\n",
      "90.26.1 establish an open and transparent licensing process for newspapers that is subject to independent review (United States);\n",
      "[]\n",
      "bruneidarussalam2010\n",
      "\n",
      "\n",
      "90.27 Repeal or amend the Societies Order to ensure that it does not violate the right to peaceful association or assembly (Canada). );\n",
      "[]\n",
      "bruneidarussalam2010\n",
      "\n",
      "\n",
      "92.3 Comply with the principle of freedom of movement in the Central American region adopted in the framework of the Central American System of Integration (Nicaragua);\n",
      "[]\n",
      "costarica2010\n",
      "\n",
      "\n",
      "91.31 End the practice of imposing punishment on returnees (Netherlands);\n",
      "[]\n",
      "democraticpeoplesrepublicofkorea2010\n",
      "\n",
      "\n",
      "91.43 Reform its criminal code as soon as possible in order to guarantee freedom of movement both within its territory as well as towards foreign countries without the need for prior permission in accordance with applicable international standards (France);\n",
      "[]\n",
      "democraticpeoplesrepublicofkorea2010\n",
      "\n",
      "\n",
      "97.4 Significantly increase its commitment to fight impunity, specifically that it (a) suspend, investigate and prosecute as appropriate FARDC soldiers who have been identified as perpetrators of serious human rights abuses or crimes, including the FARDC�s 213th Brigade, as well as the five members of the FARDC who were credibly accused of serious human rights abuses by MONUC and United Nations Security Council over the past year, and (b) establish an effective screening mechanism to vet the past human rights records of officers, particularly for important posts in the military. (United States);\n",
      "[]\n",
      "democraticrepublicofthecongo2010\n",
      "\n",
      "\n",
      "97.9 Bring to account individuals and groups who use inflammatory rhetoric. (Australia);\n",
      "[]\n",
      "democraticrepublicofthecongo2010\n",
      "\n",
      "\n",
      "89.1 Ensure that appropriate legal frameworks are in place in line with the international conventions governing the issue of nationality (Canada): The Dominican Republic does not accept this recommendation, since nationality is already established in the Constitution and is not open to interpretation; );\n",
      "[]\n",
      "dominicanrepublic2010\n",
      "\n",
      "\n",
      "89.2 Cancel all retroactive measures taken to replace the principle of jus soli with the principle of jus sanguinis for the acquisition of nationality (Spain): The Dominican Republic agrees that the law is not retroactive, but cannot accept the allegation that the Constitution is applied in a retroactive manner: );\n",
      "[]\n",
      "dominicanrepublic2010\n",
      "\n",
      "\n",
      "89.4 Adopt measures to ensure that Dominican of Haitian descent are not denied citizenship or access to civil and birth registration procedures and are not arbitrarily subject to retroactive cancellation of birth and identity documents (United States): This is not acceptable because, as noted earlier, application of the law is not retroactive in the Dominican Republic. In addition the Constitution of the Dominican Republic is not subject to interpretation as to who is or is not a Dominican; );\n",
      "[]\n",
      "dominicanrepublic2010\n",
      "\n",
      "\n",
      "97.2 Conduct a wide-ranging review of Egyptian human rights laws in order to bring them into line with Egypt�s international commitments, as so pledged in its Human Rights Council candidature and within its National Report (Israel);\n",
      "[]\n",
      "egypt2010\n",
      "\n",
      "\n",
      "97.13 End the exceptional state of emergency and lift the Emergency Law, and to abstain from legislation that introduces measures of Emergency Law into the Constitution (Germany);\n",
      "[]\n",
      "egypt2010\n",
      "\n",
      "\n",
      "98.5 Not renew the Emergency Law in April 2010, and ensure that future legislation fully respects Egypt's obligations under international human rights law and not entrench under statute law provisions that facilitate human rights violations (Canada);\n",
      "[]\n",
      "egypt2010\n",
      "\n",
      "\n",
      "98.6 That the emergency legislation under the state of emergency, which is the root cause to many human rights problems in Egypt, be repealed, and that future legislation be elaborated based on the enjoyment of human rights (Sweden);\n",
      "[]\n",
      "egypt2010\n",
      "\n",
      "\n",
      "98.7 Host in Cairo the new OHCHR regional office in North Africa, as so pledged in its candidature for membership to the Human Rights Council (Israel). );\n",
      "[]\n",
      "egypt2010\n",
      "\n",
      "\n",
      "99.5 Open regional offices of the EHRC, starting with an office in Jijiga (United Kingdom);\n",
      "[]\n",
      "ethiopia2010\n",
      "\n",
      "\n",
      "99.13 Allow for greater humanitarian access to the Ogaden so that organizations such as the International Committee of the Red Cross and United Nations relief agencies can provide assistance to victims of conflict (United States);\n",
      "[]\n",
      "ethiopia2010\n",
      "\n",
      "\n",
      "99.18 Undertake credible and independent investigations of alleged human rights violations in the Somali Region (United Kingdom);\n",
      "[]\n",
      "ethiopia2010\n",
      "\n",
      "\n",
      "99.19 Authorise the launching of an independent international inquiry on the allegations on the violations of human rights in the Somali region since 2007, and bring those responsible to justice (Switzerland);\n",
      "[]\n",
      "ethiopia2010\n",
      "\n",
      "\n",
      "100.2 Take firm measures to prevent and stop the recurrence of �witch hunts� (Italy);\n",
      "[]\n",
      "gambia2010\n",
      "\n",
      "\n",
      "100.28 Ensure free access to information (Germany);\n",
      "[]\n",
      "gambia2010\n",
      "\n",
      "\n",
      "67.5. Send a clear signal that no human rights violations committed by members of the army will be tolerated, and take specific measures in order to bring to justice those responsible, without exceptions and regardless of their rank (Canada). );\n",
      "[]\n",
      "guinea-bissau2010\n",
      "\n",
      "\n",
      "92.2 Cease all actions as a third-State proxy, and to refrain from financing, organizing, training, supplying and equipping non-State actors committing acts in violation of international law (Israel);\n",
      "[]\n",
      "iran2010\n",
      "\n",
      "\n",
      "92.16 End incitement to hatred, including statements that show contempt for General Assembly resolutions 60/7 and 61/255, on Holocaust remembrance and Holocaust denial, respectively (Israel);\n",
      "[]\n",
      "iran2010\n",
      "\n",
      "\n",
      "92.29 Ensure the immediate release of illegally detained persons (Austria);\n",
      "[]\n",
      "iran2010\n",
      "\n",
      "\n",
      "92.31 Provide due process of law for those charged with crimes, and to discontinue the show� trials (United States);\n",
      "[]\n",
      "iran2010\n",
      "\n",
      "\n",
      "92.33 Put an end to abusive recourse to trials in camera, and authorize international observers to attend trials (France);\n",
      "[]\n",
      "iran2010\n",
      "\n",
      "\n",
      "92.37 Carry out independent investigations into serious abuses against participants in peaceful demonstrations, and hold the perpetrators accountable for their crimes (Hungary);\n",
      "[]\n",
      "iran2010\n",
      "\n",
      "\n",
      "92.45 Prosecute security officials involved in torturing, raping or killing (Austria). );\n",
      "[]\n",
      "iran2010\n",
      "\n",
      "\n",
      "81.4. Recognize the right to Kuwaiti nationality of those persons who have been left stateless due to the nationality law in 1959, and provide for the same enjoyment of their human rights as to other citizens (Slovakia);\n",
      "[]\n",
      "kuwait2010\n",
      "\n",
      "\n",
      "99.3. Free those persons who were detained owing to their participation in peaceful demonstrations, and in particular the student leaders who were arrested in 1999 (Belgium). );\n",
      "[]\n",
      "laopeoplesdemocraticrepublic2010\n",
      "\n",
      "\n",
      "99.3. Take the necessary measures to ensure the primacy of civil and political authority (Netherlands);\n",
      "[]\n",
      "lesotho2010\n",
      "\n",
      "\n",
      "72.12 To initiate legislation introducing the possibility of conscientious objection or an alternative civilian service for citizens eligible for military service (Austria);\n",
      "[]\n",
      "sanmarino2010\n",
      "\n",
      "\n",
      "87.7. Address the distinction made between Spanish and foreign nationals to the detriment of the latter group when remanding custody during investigations (Austria);\n",
      "[]\n",
      "spain2010\n",
      "\n",
      "\n",
      "87.18. Thoroughly and independently investigate all circumstances surrounding its involvement in rendition programmes (Islamic Republic of Iran);\n",
      "[]\n",
      "spain2010\n",
      "\n",
      "\n",
      "105.6. Abide by all relevant United Nations resolutions pertaining to human rights violations that concern Turkey implicitly or explicitly (Cyprus);\n",
      "[]\n",
      "turkey2010\n",
      "\n",
      "\n",
      "105.9. Compliance with the pertinent judgments of the ECHR concerning violations of human rights in the area of Cyprus, which are under effective control of Turkey (Cyprus). );\n",
      "[]\n",
      "turkey2010\n",
      "\n",
      "\n",
      "103.12. Take specific steps to strengthen the institution of the family, including raising awareness among the youth of traditional understanding of the family and its social values (Belarus);\n",
      "[]\n",
      "belgium2011\n",
      "\n",
      "\n",
      "103.18. Establish a specific mechanism to monitor Islamophobia and adopt effective measures to combat this evil phenomenon among political parties and extreme right-wing organizations (Islamic Republic of Iran);\n",
      "[]\n",
      "belgium2011\n",
      "\n",
      "\n",
      "85.7. Speed up the process of reinstating the citizenship of approximately 60,000 Greek citizens who were deprived of Greek citizenship, because of the later repelled article 19 of the Greek Citizenship Law. Create a mechanism to compensate their losses in terms of ownership rights that occurred as a result of the process (Turkey);\n",
      "[]\n",
      "greece2011\n",
      "\n",
      "\n",
      "108.1. Consider becoming a party to (Turkey);\n",
      "[]\n",
      "ireland2011\n",
      "\n",
      "\n",
      "101.1. Consider ratifying all outstanding international human rights instruments, and update domestic legislation to bring it into line with the provisions of these international treaties (South Africa);\n",
      "[]\n",
      "jamaica2011\n",
      "\n",
      "\n",
      "101.2. Ratify international human rights standards to which it is not yet a State party (Nicaragua);\n",
      "[]\n",
      "jamaica2011\n",
      "\n",
      "\n",
      "82.23. That the current sponsorship system, �kafala�, be revoked and replaced with regulations in accordance with international standards (Norway);\n",
      "[]\n",
      "lebanon2011\n",
      "\n",
      "\n",
      "96.14. Abolish legal provisions that criminalize the dissemination of information considered to tarnish the Libyan Arab Jamahiriya�s reputation abroad, including article 178 of the Libyan Penal Code (United States);\n",
      "[]\n",
      "libya2011\n",
      "\n",
      "\n",
      "96.20. Repeal Law No. 71 of 1972 and relevant articles of the Penal Code that criminalize free association, and ensure that individuals seeking to establish associations are spared from any harassment or prosecution (Slovakia);\n",
      "[]\n",
      "libya2011\n",
      "\n",
      "\n",
      "91.1. Stop attempts to revise the outcomes of the Second World War, the prosecution of anti-fascist veterans and glorification of the Nazi accomplices; (Russia). );\n",
      "[]\n",
      "lithuania2011\n",
      "\n",
      "\n",
      "105.5. Continue to implement its national laws in accordance with the universally agreed human rights norms and principles (Egypt);\n",
      "[]\n",
      "malawi2011\n",
      "\n",
      "\n",
      "91.1. Become a party to regional and international human rights instruments that it has not yet signed up to despite its efforts to fulfil its international obligations (Chad);\n",
      "[]\n",
      "mozambique2011\n",
      "\n",
      "\n",
      "91.7. Draft, enact, and implement legislation that provides greater protection for political rights (United States);\n",
      "[]\n",
      "mozambique2011\n",
      "\n",
      "\n",
      "107.1. Take immediate steps to end continuing violations of international human rights law (United States of America);\n",
      "[]\n",
      "myanmar2011\n",
      "\n",
      "\n",
      "107.2. Amend the Constitution accordingly and in compliance with international human rights treaties and humanitarian laws (Denmark);\n",
      "[]\n",
      "myanmar2011\n",
      "\n",
      "\n",
      "107.6. Repeal Article 445 of the 2008 Constitution, which effectively grants total immunity to State and military personnel to act with impunity, even for criminal offences (New Zealand);\n",
      "[]\n",
      "myanmar2011\n",
      "\n",
      "\n",
      "107.7. Pursue dialogue and cooperation among all stakeholders, including with a view to ensuring that the Constitution provisions are in line with international standards related to democracy and human rights (Norway);\n",
      "[]\n",
      "myanmar2011\n",
      "\n",
      "\n",
      "107.40. Repeal or amend all domestic legislation which is in breach of international human rights law (Sweden);\n",
      "[]\n",
      "myanmar2011\n",
      "\n",
      "\n",
      "107.44. Urgently take all necessary measures to end impunity, if need be with the assistance of the United Nations (France);\n",
      "[]\n",
      "myanmar2011\n",
      "\n",
      "\n",
      "107.45. Continue its efforts to throw light on the violations of the right to life, personal integrity and freedom perpetrated under its jurisdiction, in accordance with what has been requested in successive United Nations General Assembly resolutions (Argentina);\n",
      "[]\n",
      "myanmar2011\n",
      "\n",
      "\n",
      "107.50. Adopt the necessary measures to ensure the release of the people deprived of their liberty for motives of conscience (Argentina);\n",
      "[]\n",
      "myanmar2011\n",
      "\n",
      "\n",
      "107.52. Free without delay all persons detained for political reasons (Belgium);\n",
      "[]\n",
      "myanmar2011\n",
      "\n",
      "\n",
      "109.6. Sign and ratify the Palermo Protocol (Austria);\n",
      "[]\n",
      "nepal2011\n",
      "\n",
      "\n",
      "79.2 Establish an independent complaints mechanism mandated to investigate allegations of human rights violations (Canada). );\n",
      "[]\n",
      "niger2011\n",
      "\n",
      "\n",
      "91.12. Amend the Law of Association to allow the associations to join international coalitions without the approval of the Ministry of Social Development (Poland). );\n",
      "[]\n",
      "oman2011\n",
      "\n",
      "\n",
      "99.4. Implement the 18 recommendations made by the International Bar Association�s Human Rights Institute in its 2008 report Prosperity Versus Individual Rights� (United Kingdom);\n",
      "[]\n",
      "singapore2011\n",
      "\n",
      "\n",
      "104.4. Withdraw its reservations to various international human rights instruments so as to allow complaints both by individuals and from other States parties (Peru);\n",
      "[]\n",
      "syria2011\n",
      "\n",
      "\n",
      "104.6. Integrate into national legislation the principles and provisions of international human rights instruments ratified by Syria, and abolish laws that contradict them (Canada);\n",
      "[]\n",
      "syria2011\n",
      "\n",
      "\n",
      "104.7. Abolish legislative provisions that grant state officials immunity from prosecution, notably by repealing Decrees 14/1969 and 69/2008 (Canada);\n",
      "[]\n",
      "syria2011\n",
      "\n",
      "\n",
      "104.12. Heed the calls of the international community by immediately ending the repression and the climate of terror that it has imposed on its own population by respecting in all circumstances the rules of international law and by bringing to justice those responsible and the perpetrators of these crimes (France);\n",
      "[]\n",
      "syria2011\n",
      "\n",
      "\n",
      "104.19. Allow full and unfettered access to the United Nations Human Rights Council�s Commission of Inquiry established under Human Rights Council resolution S-17/1 (Australia);\n",
      "[]\n",
      "syria2011\n",
      "\n",
      "\n",
      "104.20. Allow for a prompt, impartial and independent investigation into all human rights abuses and grant the OHCHR immediate access to conduct investigations (Sweden);\n",
      "[]\n",
      "syria2011\n",
      "\n",
      "\n",
      "104.21. Prosecute all those responsible for the mass-scale criminal acts that have taken place in the past months, including members of security units, responsible commanders and politicians (Czech Republic);\n",
      "[]\n",
      "syria2011\n",
      "\n",
      "\n",
      "104.22. Immediately respect the decisions of the Human Rights Council and fully cooperate with the international Commission of Inquiry, including by granting access on the ground and by not inhibiting the mission which it has been entrusted with (France);\n",
      "[]\n",
      "syria2011\n",
      "\n",
      "\n",
      "104.23. Ensure full compliance with the recommendations of the United Nations High Commissioner for Human Rights as contained in her report to the Human Rights Council of 15 September 2011, reference number A/HRC/18/53 (Slovakia);\n",
      "[]\n",
      "syria2011\n",
      "\n",
      "\n",
      "104.24. Carry out thorough, transparent and independent investigations into all reports of alleged human rights violations and abuses since March 2011, and bring the perpetrators to justice (Canada);\n",
      "[]\n",
      "syria2011\n",
      "\n",
      "\n",
      "104.25. Cooperate with the United Nations by giving the Commission of Inquiry established by the United Nations Human Rights Council unfettered access to the country so that it may carry out its mandate (Canada);\n",
      "[]\n",
      "syria2011\n",
      "\n",
      "\n",
      "104.26. Allow, without restrictions, unhindered access to the country for neutral observers and humanitarian actors (Norway);\n",
      "[]\n",
      "syria2011\n",
      "\n",
      "\n",
      "104.33. Respond to the legitimate demands of the Syrian people with a credible process for reform (Australia);\n",
      "[]\n",
      "syria2011\n",
      "\n",
      "\n",
      "105.1. Continue to strengthen the work of the independent commission established to investigate the whereabouts of disappeared persons (Bolivia);\n",
      "[]\n",
      "syria2011\n",
      "\n",
      "\n",
      "105.2. Revoke recently introduced laws that obstruct fundamental freedoms (Poland);\n",
      "[]\n",
      "syria2011\n",
      "\n",
      "\n",
      "105.7. Immediately bring to an end the violence and repression against the civilian population (Switzerland);\n",
      "[]\n",
      "syria2011\n",
      "\n",
      "\n",
      "89.17. Set up an independent inquiry into the justification for calling a State of Emergency which would inter alia investigate the actions of the security services during the State of Emergency (United Kingdom);\n",
      "[]\n",
      "trinidadandtobago2011\n",
      "\n",
      "\n",
      "113.17. Refrain from enacting the proposed Public Order Management Bill and fully guarantee the freedom of assembly14 (Germany);\n",
      "[]\n",
      "uganda2011\n",
      "\n",
      "\n",
      "113.19. Simplify NGO registration requirements and remove the NGO Board from the supervision of security organizations16 (United States of America). );\n",
      "[]\n",
      "uganda2011\n",
      "\n",
      "\n",
      "96.2. Review the Law of Political Parties, Public Meetings, and Demonstrations and its compliance with the article 201 of the Constitution (Czech Republic);\n",
      "[]\n",
      "venezuela2011\n",
      "\n",
      "\n",
      "96.5. Amend the Criminal Code and the Organic Code of Military Justice, eliminating the crimes of contempt and vilification (Norway);\n",
      "[]\n",
      "venezuela2011\n",
      "\n",
      "\n",
      "96.7. Take the necessary measures to implement the UN Program on Small Arms and Light Weapons and revise the national legislation on this matter in order to reduce the existing homicide rate (Switzerland);\n",
      "[]\n",
      "venezuela2011\n",
      "\n",
      "\n",
      "96.32. Ensure timely and effective access to government information (Australia);\n",
      "[]\n",
      "venezuela2011\n",
      "\n",
      "\n",
      "96.38. Direct officials to cease anti-Semitic commentary and condemn any such statements (USA). );\n",
      "[]\n",
      "venezuela2011\n",
      "\n",
      "\n",
      "95.8. Create stronger mechanisms to ensure greater revenue transparency from diamond mining, demilitarize the diamond industry, and thoroughly investigate cases of beatings and abuse by Government and private security services in the Marange area (United States of America);\n",
      "[]\n",
      "zimbabwe2011\n",
      "\n",
      "\n",
      "95.9. Prioritize efforts to implement domestic policies to give effect to the protection of human rights, and the prevention of politically-motivated violence and intimidation (Australia);\n",
      "[]\n",
      "zimbabwe2011\n",
      "\n",
      "\n",
      "95.10. Take concrete steps to comply fully with the minimum standards of the Kimberly Process, including by increasing accountability and transparency in the use of profits from natural resources, and investigating any credible allegation of human rights abuses, particularly in the Marange region (Canada);\n",
      "[]\n",
      "zimbabwe2011\n",
      "\n",
      "\n",
      "95.32. Expedite the investigation of all human rights allegations with a view towards bringing the perpetrators to justice (Thailand);\n",
      "[]\n",
      "zimbabwe2011\n",
      "\n",
      "\n",
      "95.34. Take promptly all the necessary measures to put an end to all the human rights violations in Marange region (Belgium);\n",
      "[]\n",
      "zimbabwe2011\n",
      "\n",
      "\n",
      "95.35. Strengthen its efforts in the fight against impunity (Slovenia);\n",
      "[]\n",
      "zimbabwe2011\n",
      "\n",
      "\n",
      "95.37. Take the necessary measures so that all allegations of human rights violations are duly investigated and that the perpetrators are brought to justice (Switzerland);\n",
      "[]\n",
      "zimbabwe2011\n",
      "\n",
      "\n",
      "95.41. Amend or repeal the Public Order and Security Act (New Zealand);\n",
      "[]\n",
      "zimbabwe2011\n",
      "\n",
      "\n",
      "95.42. Fully implement the Global Political Agreement (GPA) provisions supporting the Constitutional Parliamentary Committee (United States of America);\n",
      "[]\n",
      "zimbabwe2011\n",
      "\n",
      "\n",
      "95.47. Align its national legislation with international standards to uphold freedom of assembly and association (Italy);\n",
      "[]\n",
      "zimbabwe2011\n",
      "\n",
      "\n",
      "95.55. Take immediate steps to fully implement the commitment on bringing about reforms to ensure that the electoral process and the legislative framework are in line with international standards and in particular to address concerns with regard the independence of the Zimbabwe Electoral Commission and the accuracy of the current voter roll (Ireland);\n",
      "[]\n",
      "zimbabwe2011\n",
      "\n",
      "\n",
      "95.59. Take immediate steps to guarantee freedom of assembly and association through alignment of national legislation, in particular, the Public Order and Security Act with international standards (Denmark);\n",
      "[]\n",
      "zimbabwe2011\n",
      "\n",
      "\n",
      "102.3 Consider accepting the jurisdiction of the treaty bodies to receive complaints, conduct inquiries and take urgent actions (Costa Rica);\n",
      "[]\n",
      "gabon2012\n",
      "\n",
      "\n",
      "132.1. Accept the establishment of a permanent human rights component in the United Nations Mission for the Referendum in Western Sahara (MINURSO), being the only peacekeeping mission not having this component (Uruguay). );\n",
      "[]\n",
      "morocco2012\n",
      "\n",
      "\n",
      "128.25. Adopt the draft bill on witness and victim protection (Germany);\n",
      "[]\n",
      "srilanka2012\n",
      "\n",
      "\n",
      "128.26. Adopt legislation on appointments that would ensure the independence of the Human Rights Commission (New Zealand);\n",
      "[]\n",
      "srilanka2012\n",
      "\n",
      "\n",
      "128.27. Enact the legislation to ensure the Right to Information and bring it in line with international human rights standards (Norway);\n",
      "[]\n",
      "srilanka2012\n",
      "\n",
      "\n",
      "128.31. Continue implementing the recommendations of the LLRC report and the report of the Panel of Expert in accordance with the Human Rights Council Resolution 19/2 (Germany);\n",
      "[]\n",
      "srilanka2012\n",
      "\n",
      "\n",
      "128.33. Implement the constructive recommendations of the LLRC, including the removal of the military from civilian functions, creation of mechanisms to address cases of the missing and detained, issuance of death certificates, land reform; devolution of power; and disarming paramilitaries (United States of America) );\n",
      "[]\n",
      "srilanka2012\n",
      "\n",
      "\n",
      "128.38. Take advantage fully and effectively from the technical assistance provided by the international community in the field of training and capacity-building of national institutions on human rights (Qatar);\n",
      "[]\n",
      "srilanka2012\n",
      "\n",
      "\n",
      "128.39. Guarantee access to the North and the East of the country to international and local humanitarian organizations specialized on family tracing and reunification programs (Uruguay);\n",
      "[]\n",
      "srilanka2012\n",
      "\n",
      "\n",
      "128.43. Fully cooperate with United Nations Human Rights mechanisms (Burkina Faso);\n",
      "[]\n",
      "srilanka2012\n",
      "\n",
      "\n",
      "128.44. Continue its constructive engagement and cooperation with the international human rights mechanism, including through technical cooperation (Indonesia);\n",
      "[]\n",
      "srilanka2012\n",
      "\n",
      "\n",
      "128.56. Continue to focus on establishing and strengthening institutions of governance with a view to contributing towards adequate protection of human rights and fundamental freedoms for all, provisions of adequate remedies where violations occur, and zero tolerance for impunity (South Africa );\n",
      "[]\n",
      "srilanka2012\n",
      "\n",
      "\n",
      "128.57. Create a reliable investigation commission consisting of professional and independent investigators to identify, arrest and prosecute the perpetrators of the Muttur murders (France);\n",
      "[]\n",
      "srilanka2012\n",
      "\n",
      "\n",
      "128.58. Create an independent mechanism to look into the issue of disappeared persons with its own unique database (France);\n",
      "[]\n",
      "srilanka2012\n",
      "\n",
      "\n",
      "128.66. Establish immediately a publicly accessible central register for all persons missing or in custody (Germany);\n",
      "[]\n",
      "srilanka2012\n",
      "\n",
      "\n",
      "128.70. End impunity for human rights violations and fulfill legal obligations regarding accountability (United States of America);\n",
      "[]\n",
      "srilanka2012\n",
      "\n",
      "\n",
      "128.72. Hold accountable all persons who are liable for the violation of human rights and humanitarian law (Estonia);\n",
      "[]\n",
      "srilanka2012\n",
      "\n",
      "\n",
      "128.75. Implement the recommendations of the UN Panel of Experts on accountability, bringing all those allegedly responsible for violations of international human rights law and international humanitarian law to justice in compliance with international standards (Slovakia);\n",
      "[]\n",
      "srilanka2012\n",
      "\n",
      "\n",
      "128.83. Undertake measures that would allow citizens to have access to public information, in particular on alleged violations of human rights (Mexico);\n",
      "[]\n",
      "srilanka2012\n",
      "\n",
      "\n",
      "128.87. Refrain from restricting access to and banning from websites and withdraw the Order of 5 November 2011 with requires news sites to be registered (Netherlands);\n",
      "[]\n",
      "srilanka2012\n",
      "\n",
      "\n",
      "131.2. Consider repealing article 377 of the Criminal Code (Chile);\n",
      "[]\n",
      "bangladesh2013\n",
      "\n",
      "\n",
      "118.1. Ratify international human rights instruments to which Colombia is not yet a party (Niger);\n",
      "[]\n",
      "colombia2013\n",
      "\n",
      "\n",
      "118.20. Maintain the institution of the family and marriage as a conjugal union between a man and a woman based on free consent (Holy See);\n",
      "[]\n",
      "colombia2013\n",
      "\n",
      "\n",
      "118.21. Implement fully the recommendations of the OHCHR field office as a mean to contribute to the improvement of the human rights situation on the ground (Austria);\n",
      "[]\n",
      "colombia2013\n",
      "\n",
      "\n",
      "137.3. Guarantee freedom of movement for all people as well as free movement of all goods within the Occupied State of Palestine and to and from foreign countries (Saudi Arabia);\n",
      "[]\n",
      "israel2013\n",
      "\n",
      "\n",
      "137.6. Ensure the protection and welfare of civilians in the occupied State of Palestine (Jordan);\n",
      "[]\n",
      "israel2013\n",
      "\n",
      "\n",
      "137.7. Withdrawal of Israel from the Gaza strip, East Jerusalem and the West Bank, these are occupied territories of the State of Palestine that have been recognised as such by 138 States on 29 November last year by the General Assembly (State of Palestine). );\n",
      "[]\n",
      "israel2013\n",
      "\n",
      "\n",
      "141.1 Immediately end the occupation of Georgia�s regions of Abkhazia and the Tskhinvali region as an overarching method for numerous different forms of severe human rights violations therein (Georgia);\n",
      "[]\n",
      "russia2013\n",
      "\n",
      "\n",
      "114.2. Inform relatives and the public about the whereabouts of all persons who have been under arrest and whose fate is currently unknown (Germany);\n",
      "[]\n",
      "turkmenistan2013\n",
      "\n",
      "\n",
      "84.12. Proceed with the full incorporation of human rights treaties to which Tuvalu is a party into its domestic legal system (Slovakia);\n",
      "[]\n",
      "tuvalu2013\n",
      "\n",
      "\n",
      "136.48. Launch mechanisms for recognition of truth and compensation to victims of Andijan (Mexico);\n",
      "[]\n",
      "uzbekistan2013\n",
      "\n",
      "\n",
      "136.53. Eliminate the system of exit visas for those wishing to travel abroad (Chile);\n",
      "[]\n",
      "uzbekistan2013\n",
      "\n",
      "\n",
      "122.1. Comply with international instruments, in order to promote the development of friendly relations between nations, guaranteeing the right of an ample right of transit in the ports of the Pacific, ensuring the universal and effective respect for human rights and fundamental freedoms within and beyond its borders (Bolivia (Plurinational State of)). );\n",
      "[]\n",
      "chile2014\n",
      "\n",
      "\n",
      "113.1 Endeavour to implement the remaining recommendations of the previous UPR review (Mozambique);\n",
      "[]\n",
      "comoros2014\n",
      "\n",
      "\n",
      "125.8 Adopt precise definitions of anti-State crimes, anti-Peoples crimes or crimes representing an offence against the management of the economy in the criminal code and in the criminal procedure code (Belgium);\n",
      "[]\n",
      "democraticpeoplesrepublicofkorea2014\n",
      "\n",
      "\n",
      "125.9 Amend the Penal and Criminal Code to abolish generic crimes such as activities against the State or society� (Spain);\n",
      "[]\n",
      "democraticpeoplesrepublicofkorea2014\n",
      "\n",
      "\n",
      "125.10 Eliminate from the Criminal Code the crime of guilt by association (France);\n",
      "[]\n",
      "democraticpeoplesrepublicofkorea2014\n",
      "\n",
      "\n",
      "125.13 Cooperate with United Nations human rights mechanisms, in particular COIs of the Human Rights Council (Costa Rica);\n",
      "[]\n",
      "democraticpeoplesrepublicofkorea2014\n",
      "\n",
      "\n",
      "125.16 Implement the recommendations of the COI (Latvia);\n",
      "[]\n",
      "democraticpeoplesrepublicofkorea2014\n",
      "\n",
      "\n",
      "125.17 Study and start implementing the recommendations included in the report of the COI (Estonia);\n",
      "[]\n",
      "democraticpeoplesrepublicofkorea2014\n",
      "\n",
      "\n",
      "125.18 Accept and faithfully implement the recommendations of the COI, especially those contained in the Human Rights Council�s resolution (Republic of Korea);\n",
      "[]\n",
      "democraticpeoplesrepublicofkorea2014\n",
      "\n",
      "\n",
      "125.23 Take immediate steps to put an end to violations of human rights, namely by implementing the recommendations of the report of the COI, established by the Human Rights Council (Portugal);\n",
      "[]\n",
      "democraticpeoplesrepublicofkorea2014\n",
      "\n",
      "\n",
      "125.24 Implement the recommendations in the report of the COI (Slovenia);\n",
      "[]\n",
      "democraticpeoplesrepublicofkorea2014\n",
      "\n",
      "\n",
      "125.71 Provide international humanitarian organisations and human rights monitors access to the camps and their surviving victims (Israel);\n",
      "[]\n",
      "democraticpeoplesrepublicofkorea2014\n",
      "\n",
      "\n",
      "125.79 End immediately reprisals against persons on the basis of guilt by association� and the collective punishment of families of convicted criminals (Germany);\n",
      "[]\n",
      "democraticpeoplesrepublicofkorea2014\n",
      "\n",
      "\n",
      "125.80 Dismantle the inminban� neighbourhood watches, and citizen registration and denunciation systems (Canada);\n",
      "[]\n",
      "democraticpeoplesrepublicofkorea2014\n",
      "\n",
      "\n",
      "136.27 Enhance engagement with regional and international partners to gather support, as it may deem necessary, for building structural and operational capacities and augmenting existing human rights mechanisms (Philippines);\n",
      "[]\n",
      "democraticrepublicofthecongo2014\n",
      "\n",
      "\n",
      "158.1 Consider ratification of those international instruments to which it is not yet a party (Bolivia (Plurinational State of));\n",
      "[]\n",
      "ethiopia2014\n",
      "\n",
      "\n",
      "158.17 Further enhance the institutional and financial capacities of the Ethiopian Human Rights Commission to effectively carry out its mandate vis-�.vis the affected communities, especially its working relations with the Oromo, Ogaden, Gambella and Somali communities (Namibia);\n",
      "[]\n",
      "ethiopia2014\n",
      "\n",
      "\n",
      "126.20 Review the implementation of the National Human Rights Action Plan 2009-2012 to assess its effectiveness, evaluate possible strong points or areas for improvement, and identify needs for capacity-building and opportunities for international cooperation in the promotion and protection of human rights (Philippines);\n",
      "[]\n",
      "kazakhstan2014\n",
      "\n",
      "\n",
      "126.43 Remove excessive restrictions to the exercise of the freedom of assembly in order to facilitate peaceful demonstrations (Costa Rica);\n",
      "[]\n",
      "kazakhstan2014\n",
      "\n",
      "\n",
      "126.47 Remove the restrictions on freedom of assembly, repeal article 10 of the Law on Freedom of Assembly and ensure that the laws and regulations on demonstrations are in conformity with Kazakhstan�s international human rights obligations on freedom of assembly (Germany);\n",
      "[]\n",
      "kazakhstan2014\n",
      "\n",
      "\n",
      "126.48 Reform the legal framework on freedom of assembly and association to guarantee the full exercise of this right both for individuals and legal entities (Mexico);\n",
      "[]\n",
      "kazakhstan2014\n",
      "\n",
      "\n",
      "117.13. Take effective, predominantly legislative steps to protect the rights of persons deprived of their liberty (Ukraine);\n",
      "[]\n",
      "nicaragua2014\n",
      "\n",
      "\n",
      "124.1. Ensure the protection of and right to family life on the premise that family is the natural and fundamental group of society based upon the stable relationship between a man and a woman (Bangladesh). );\n",
      "[]\n",
      "uruguay2014\n",
      "\n",
      "\n"
     ]
    }
   ],
   "source": [
    "# check ones you missed\n",
    "for i in recs:\n",
    "    if i['theme'] == [] and i['institutions'] == []:\n",
    "        if i['decision'] == 'reject':\n",
    "            print i['text'] \n",
    "            print i['theme']\n",
    "            print i['to']+i['year']\n",
    "            print '\\n'"
   ]
  },
  {
   "cell_type": "markdown",
   "metadata": {},
   "source": [
    "## Explore"
   ]
  },
  {
   "cell_type": "code",
   "execution_count": null,
   "metadata": {
    "collapsed": true
   },
   "outputs": [],
   "source": [
    "# count the institutions\n",
    "institutions = []\n",
    "for rec in recs:\n",
    "    for i in rec['institutions']:\n",
    "        institutions.append(i)\n",
    "Counter(institutions)"
   ]
  },
  {
   "cell_type": "code",
   "execution_count": 590,
   "metadata": {
    "collapsed": false
   },
   "outputs": [],
   "source": [
    "# exploring\n",
    "\n",
    "def topThemes(country):\n",
    "    allThemes = []\n",
    "    for i in recs:\n",
    "        if i['to'] == country:\n",
    "            if i['theme'] != []:\n",
    "                for theme in i['theme']:\n",
    "                    allThemes.append(theme)\n",
    "    return(Counter(allThemes))"
   ]
  },
  {
   "cell_type": "code",
   "execution_count": 596,
   "metadata": {
    "collapsed": false
   },
   "outputs": [
    {
     "data": {
      "text/plain": [
       "Counter({'indigenous': 84, 'children': 55, 'women': 54, 'discrimination': 45, 'migration': 30, 'labor': 28, 'race': 27, 'ethnic': 23, 'education': 19, 'torture': 19, 'infrastructure ': 15, 'prison': 15, 'sex-violence': 13, 'civil-so': 13, 'disabilities': 13, 'culture': 11, 'religion': 9, 'trafficking': 9, 'poverty': 8, 'health': 7, 'judiciary': 5, 'death-pen': 3, 'speech': 3, 'terrorism': 3, 'food': 3, 'elderly': 2, 'disappearances': 1, 'governance': 1, 'environment': 1, 'conflict': 1, 'property': 1})"
      ]
     },
     "execution_count": 596,
     "metadata": {},
     "output_type": "execute_result"
    }
   ],
   "source": [
    "topThemes('canada')"
   ]
  },
  {
   "cell_type": "code",
   "execution_count": 595,
   "metadata": {
    "collapsed": false
   },
   "outputs": [],
   "source": [
    "def getTheme(country,theme):\n",
    "    allRecs = []\n",
    "    for i in recs:\n",
    "        if i['to'] == country:\n",
    "            if theme in i['theme']:\n",
    "                allRecs.append(i['text'])\n",
    "    return(allRecs)"
   ]
  },
  {
   "cell_type": "code",
   "execution_count": 585,
   "metadata": {
    "collapsed": false
   },
   "outputs": [
    {
     "data": {
      "text/plain": [
       "['92.140. Stop the war crimes committed by its troops abroad, including the killings of innocent civilians and prosecute those who are responsible (Cuba);',\n",
       " '92.141. Halt immediately the unjustified arms race and bring to justice those responsible for all war crimes and massacres against unarmed civilians, women, children as well as acts of torture carried-out in prisons such as Abu Ghraib, Bagram and Guantanamo (Nicaragua);',\n",
       " '92.173. Comply with the principles of international cooperation, as defined in Resolution 3074 of the General Assembly, for the extradition of persons accused of crimes against humanity and proceed to extradite former Bolivian authorities that are legally accused of such crimes, in order to be brought to trial in their country of origin (Plurinational State of Bolivia);']"
      ]
     },
     "execution_count": 585,
     "metadata": {},
     "output_type": "execute_result"
    }
   ],
   "source": [
    "getTheme('unitedstatesofamerica','crime-humanity')"
   ]
  },
  {
   "cell_type": "code",
   "execution_count": null,
   "metadata": {
    "collapsed": true
   },
   "outputs": [],
   "source": []
  },
  {
   "cell_type": "code",
   "execution_count": null,
   "metadata": {
    "collapsed": true
   },
   "outputs": [],
   "source": []
  }
 ],
 "metadata": {
  "kernelspec": {
   "display_name": "Python 2",
   "language": "python",
   "name": "python2"
  },
  "language_info": {
   "codemirror_mode": {
    "name": "ipython",
    "version": 2
   },
   "file_extension": ".py",
   "mimetype": "text/x-python",
   "name": "python",
   "nbconvert_exporter": "python",
   "pygments_lexer": "ipython2",
   "version": "2.7.9"
  }
 },
 "nbformat": 4,
 "nbformat_minor": 0
}
