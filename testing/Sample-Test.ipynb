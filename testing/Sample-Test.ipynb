{
 "cells": [
  {
   "cell_type": "code",
<<<<<<< HEAD
   "execution_count": 4,
=======
   "execution_count": 1,
>>>>>>> c6e486173f8689b9c0435cd6ec014c616dc55572
   "metadata": {
    "collapsed": false
   },
   "outputs": [
    {
     "data": {
      "text/plain": [
       "131072"
      ]
     },
<<<<<<< HEAD
     "execution_count": 4,
=======
     "execution_count": 1,
>>>>>>> c6e486173f8689b9c0435cd6ec014c616dc55572
     "metadata": {},
     "output_type": "execute_result"
    }
   ],
   "source": [
    "import os\n",
    "import re\n",
    "import csv\n",
    "import sys\n",
    "import csv\n",
    "import random\n",
    "import ast\n",
    "\n",
    "csv.field_size_limit(sys.maxsize)"
   ]
  },
  {
   "cell_type": "code",
   "execution_count": 2,
   "metadata": {
    "collapsed": false
   },
   "outputs": [
    {
     "name": "stdout",
     "output_type": "stream",
     "text": [
      "39191\n"
     ]
    },
    {
     "data": {
      "text/plain": [
       "{'From': 'Kuwait',\n",
       " 'action': \"['establish']\",\n",
       " 'decision': 'support',\n",
       " 'id': '0',\n",
       " 'institutions': '[]',\n",
       " 'notes': '',\n",
       " 'text': '69.1 The establishment of an international round table to discuss the interrelation between security and fundamental freedoms (Kuwait). );',\n",
       " 'theme': '[]',\n",
       " 'to': 'Algeria',\n",
       " 'year': '2008'}"
      ]
     },
     "execution_count": 2,
     "metadata": {},
     "output_type": "execute_result"
    }
   ],
   "source": [
    "# load data\n",
    "recs = []\n",
    "with open(\"../all-data.csv\",'rU') as csvfile:\n",
    "            reader = csv.DictReader(csvfile)\n",
    "            for row in reader:\n",
    "                recs.append(row)\n",
    "            \n",
    "print len(recs)\n",
    "recs[0]"
   ]
  },
  {
   "cell_type": "markdown",
   "metadata": {
    "collapsed": false
   },
   "source": [
    "## 1. Clean"
   ]
  },
  {
   "cell_type": "code",
   "execution_count": 3,
   "metadata": {
    "collapsed": false
   },
   "outputs": [],
   "source": [
    "# check for broken csv rows\n",
    "for i in recs:\n",
    "    if not i['year'].startswith('2'):\n",
    "        print i['text']"
   ]
  },
  {
   "cell_type": "code",
   "execution_count": 33,
   "metadata": {
    "collapsed": false
   },
   "outputs": [],
   "source": [
    "# ordering\n",
    "\"\"\"\n",
    "numbs = []\n",
    "for i in recs[:500]:\n",
    "    n = i['text'].split()[0]\n",
    "    n = n.split('.')\n",
    "    i['n1'] = n[0]\n",
    "    i['n2'] = n[1]\n",
    "    if len(n) == 3:\n",
    "        i['n3'] = n[2]\n",
    "    else:\n",
    "        i['n3'] = 0\n",
    "\"\"\""
   ]
  },
  {
   "cell_type": "markdown",
   "metadata": {},
   "source": [
    "## 2. Sample"
   ]
  },
  {
   "cell_type": "code",
   "execution_count": 4,
   "metadata": {
    "collapsed": false
   },
   "outputs": [],
   "source": [
    "f = open('sample-ids.txt','r')\n",
    "sampled_ids = f.readlines()\n",
    "f.close()\n",
    "sampled_ids = [ast.literal_eval(i) for i in sampled_ids]\n",
    "sampled_ids = [item for sublist in sampled_ids for item in sublist]"
   ]
  },
  {
   "cell_type": "code",
   "execution_count": 5,
   "metadata": {
    "collapsed": false
   },
   "outputs": [
    {
     "data": {
      "text/plain": [
       "38504"
      ]
     },
     "execution_count": 5,
     "metadata": {},
     "output_type": "execute_result"
    }
   ],
   "source": [
    "# remove already sampled recs\n",
    "for i in recs:\n",
    "    if i['id'] in sampled_ids:\n",
    "        recs.remove(i)\n",
    "len(recs)"
   ]
  },
  {
   "cell_type": "code",
   "execution_count": 6,
   "metadata": {
    "collapsed": false
   },
   "outputs": [
    {
     "data": {
      "text/plain": [
       "100"
      ]
     },
     "execution_count": 6,
     "metadata": {},
     "output_type": "execute_result"
    }
   ],
   "source": [
    "# sample\n",
    "rec_ids = [int(i['id']) for i in recs] # get ids of remaining recs\n",
    "ids = random.sample(rec_ids, 100) # sample those ids\n",
    "\n",
    "sample = []\n",
    "for i in recs:\n",
    "    if int(i['id']) in ids:\n",
    "        sample.append(i)\n",
    "len(sample)"
   ]
  },
  {
   "cell_type": "code",
   "execution_count": 7,
   "metadata": {
    "collapsed": false
   },
   "outputs": [
    {
     "data": {
      "text/plain": [
       "{'From': 'Portugal',\n",
       " 'decision': 'support',\n",
       " 'id': '433',\n",
       " 'text': '56.21 To raise awareness regarding human rights and the rule of law (Portugal). );',\n",
       " 'to': 'Mali',\n",
       " 'year': '2008'}"
      ]
     },
     "execution_count": 7,
     "metadata": {},
     "output_type": "execute_result"
    }
   ],
   "source": [
    "# delete data we don't want to include\n",
    "for i in sample:\n",
    "    del i['institutions']\n",
    "    del i['theme']\n",
    "    del i['action']\n",
    "    del i['notes']\n",
    "    \n",
    "sample[0]"
   ]
  },
  {
   "cell_type": "code",
   "execution_count": 8,
   "metadata": {
    "collapsed": false
   },
   "outputs": [],
   "source": [
    "#writing column headings\n",
    "keys = sample[0].keys()\n",
    "\n",
    "#writing the rest\n",
    "with open('sample-erin-sentiment2.csv', 'wb') as output_file:\n",
    "    dict_writer = csv.DictWriter(output_file, keys)\n",
    "    dict_writer.writeheader()\n",
    "    dict_writer.writerows(sample)"
   ]
  },
  {
   "cell_type": "code",
   "execution_count": 9,
   "metadata": {
    "collapsed": false
   },
   "outputs": [],
   "source": [
    "# add ids to the list of sampled data\n",
    "ids = [str(i) for i in ids]\n",
    "with open('../sample-ids.txt', 'a') as output_file:\n",
    "    output_file.write(\"\\n\" + str(ids))"
   ]
  },
  {
   "cell_type": "markdown",
   "metadata": {
    "collapsed": true
   },
   "source": [
    "## 3. Test"
   ]
  },
  {
   "cell_type": "code",
<<<<<<< HEAD
   "execution_count": 89,
=======
   "execution_count": 13,
>>>>>>> c6e486173f8689b9c0435cd6ec014c616dc55572
   "metadata": {
    "collapsed": false
   },
   "outputs": [
    {
     "data": {
      "text/plain": [
       "{'From': 'Kuwait',\n",
       " 'action': \"['establish']\",\n",
       " 'decision': 'support',\n",
       " 'id': '0',\n",
       " 'institutions': '[]',\n",
       " 'notes': '',\n",
       " 'text': '69.1 The establishment of an international round table to discuss the interrelation between security and fundamental freedoms (Kuwait). );',\n",
       " 'theme': '[]',\n",
       " 'to': 'Algeria',\n",
       " 'year': '2008'}"
      ]
     },
<<<<<<< HEAD
     "execution_count": 89,
=======
     "execution_count": 13,
>>>>>>> c6e486173f8689b9c0435cd6ec014c616dc55572
     "metadata": {},
     "output_type": "execute_result"
    }
   ],
   "source": [
    "# load data\n",
    "recs = []\n",
    "with open(\"../all-data.csv\",'rU') as csvfile:\n",
    "            reader = csv.DictReader(csvfile)\n",
    "            for row in reader:\n",
    "                recs.append(row)\n",
    "            \n",
    "len(recs)\n",
    "recs[0]"
   ]
  },
  {
   "cell_type": "code",
<<<<<<< HEAD
   "execution_count": 90,
=======
   "execution_count": 24,
>>>>>>> c6e486173f8689b9c0435cd6ec014c616dc55572
   "metadata": {
    "collapsed": false
   },
   "outputs": [
    {
     "data": {
      "text/plain": [
       "{'From': 'Holy See',\n",
       " 'action': '[]',\n",
       " 'decision': 'consider',\n",
       " 'id': '1385',\n",
       " 'institutions': '[]',\n",
       " 'notes': '',\n",
       " 'sentiment': '2',\n",
       " 'text': '94.17 Investigate complaints concerning discrimination against members of minority religions, while developing educational and awareness programmes addressing these human rights violations (Holy See). );',\n",
       " 'theme': \"['discrimination', 'religion', 'education']\",\n",
       " 'to': 'Bangladesh',\n",
       " 'year': '2009'}"
      ]
     },
<<<<<<< HEAD
     "execution_count": 90,
=======
     "execution_count": 24,
>>>>>>> c6e486173f8689b9c0435cd6ec014c616dc55572
     "metadata": {},
     "output_type": "execute_result"
    }
   ],
   "source": [
    "# load Erin\n",
    "erin = []\n",
    "with open(\"testing-3/erin-data.csv\",'rU') as csvfile:\n",
    "            reader = csv.DictReader(csvfile)\n",
    "            for row in reader:\n",
    "                erin.append(row)\n",
    "            \n",
    "erin[1]"
   ]
  },
  {
   "cell_type": "code",
<<<<<<< HEAD
   "execution_count": 91,
=======
   "execution_count": 25,
>>>>>>> c6e486173f8689b9c0435cd6ec014c616dc55572
   "metadata": {
    "collapsed": false
   },
   "outputs": [
    {
     "data": {
      "text/plain": [
       "{'From': 'Holy See',\n",
       " 'action': [],\n",
       " 'decision': 'consider',\n",
       " 'id': '1385',\n",
       " 'institutions': [],\n",
       " 'notes': '',\n",
       " 'sentiment': '2',\n",
       " 'text': '94.17 Investigate complaints concerning discrimination against members of minority religions, while developing educational and awareness programmes addressing these human rights violations (Holy See). );',\n",
       " 'theme': ['discrimination', 'religion', 'education'],\n",
       " 'to': 'Bangladesh',\n",
       " 'year': '2009'}"
      ]
     },
<<<<<<< HEAD
     "execution_count": 91,
=======
     "execution_count": 25,
>>>>>>> c6e486173f8689b9c0435cd6ec014c616dc55572
     "metadata": {},
     "output_type": "execute_result"
    }
   ],
   "source": [
    "# making literal lists\n",
    "for i in erin:\n",
    "    try:\n",
    "        i['theme'] = ast.literal_eval(i['theme'])\n",
    "        i['institutions'] = ast.literal_eval(i['institutions'])\n",
    "        i['action'] = ast.literal_eval(i['action'])\n",
    "    except Exception,e:\n",
    "        print i\n",
    "erin[1]"
   ]
  },
  {
   "cell_type": "code",
<<<<<<< HEAD
   "execution_count": 92,
=======
   "execution_count": 26,
>>>>>>> c6e486173f8689b9c0435cd6ec014c616dc55572
   "metadata": {
    "collapsed": false
   },
   "outputs": [],
   "source": [
    "# strip whitespace:\n",
    "for i in erin:\n",
    "    i['theme'] = [x.strip() for x in i['theme']]\n",
    "    i['institutions'] = [x.strip() for x in i['institutions']]\n",
    "    i['action'] = [x.strip() for x in i['action']]"
   ]
  },
  {
   "cell_type": "code",
<<<<<<< HEAD
   "execution_count": 93,
=======
   "execution_count": 27,
>>>>>>> c6e486173f8689b9c0435cd6ec014c616dc55572
   "metadata": {
    "collapsed": false
   },
   "outputs": [],
   "source": [
    "# get ids\n",
    "ids = [rec['id'] for rec in erin]"
   ]
  },
  {
   "cell_type": "code",
<<<<<<< HEAD
   "execution_count": 94,
=======
   "execution_count": 28,
>>>>>>> c6e486173f8689b9c0435cd6ec014c616dc55572
   "metadata": {
    "collapsed": false
   },
   "outputs": [
    {
     "data": {
      "text/plain": [
       "{'From': 'Malaysia',\n",
       " 'action': '[]',\n",
       " 'decision': 'consider',\n",
       " 'id': '1247',\n",
       " 'institutions': '[]',\n",
       " 'notes': '',\n",
       " 'text': '96.25 Step up its efforts to ensure that basic needs of the population are fully met, in particular, in the areas of employment, public health, education and public housing (Malaysia);',\n",
       " 'theme': \"['education', 'labor', 'health', 'infrastructure']\",\n",
       " 'to': 'Azerbaijan',\n",
       " 'year': '2009'}"
      ]
     },
<<<<<<< HEAD
     "execution_count": 94,
=======
     "execution_count": 28,
>>>>>>> c6e486173f8689b9c0435cd6ec014c616dc55572
     "metadata": {},
     "output_type": "execute_result"
    }
   ],
   "source": [
    "# get original sample\n",
    "sample = []\n",
    "for i in recs:\n",
    "    if i['id'] in ids:\n",
    "        sample.append(i)\n",
    "sample[0]  "
   ]
  },
  {
   "cell_type": "code",
<<<<<<< HEAD
   "execution_count": 95,
=======
   "execution_count": 29,
>>>>>>> c6e486173f8689b9c0435cd6ec014c616dc55572
   "metadata": {
    "collapsed": false
   },
   "outputs": [
    {
     "data": {
      "text/plain": [
       "{'From': 'Holy See',\n",
       " 'action': [],\n",
       " 'decision': 'consider',\n",
       " 'id': '1385',\n",
       " 'institutions': [],\n",
       " 'notes': '',\n",
       " 'text': '94.17 Investigate complaints concerning discrimination against members of minority religions, while developing educational and awareness programmes addressing these human rights violations (Holy See). );',\n",
       " 'theme': ['education', 'discrimination', 'religion', 'ethnic'],\n",
       " 'to': 'Bangladesh',\n",
       " 'year': '2009'}"
      ]
     },
<<<<<<< HEAD
     "execution_count": 95,
=======
     "execution_count": 29,
>>>>>>> c6e486173f8689b9c0435cd6ec014c616dc55572
     "metadata": {},
     "output_type": "execute_result"
    }
   ],
   "source": [
    "for i in sample:\n",
    "    i['theme'] = ast.literal_eval(i['theme'])\n",
    "    i['institutions'] = ast.literal_eval(i['institutions'])\n",
    "    i['action'] = ast.literal_eval(i['action'])\n",
    "\n",
    "sample[1]"
   ]
  },
  {
   "cell_type": "code",
<<<<<<< HEAD
   "execution_count": 96,
=======
   "execution_count": 30,
>>>>>>> c6e486173f8689b9c0435cd6ec014c616dc55572
   "metadata": {
    "collapsed": false
   },
   "outputs": [],
   "source": [
    "# zip\n",
    "matching = []\n",
    "for i in range(100):\n",
    "    dic = erin[i].copy()\n",
    "    \n",
    "    # Theme\n",
    "    dic['theme-erin'] = erin[i]['theme']\n",
    "    dic['theme-rochelle'] = sample[i]['theme']\n",
    "    del dic['theme']\n",
    "    \n",
    "    if set(dic['theme-erin']) == set(dic['theme-rochelle']):\n",
    "        dic['theme-match'] = True\n",
    "    elif set(dic['theme-erin']).intersection(dic['theme-rochelle']):\n",
    "        dic['theme-match'] = \"Partial\"\n",
    "    else:\n",
    "        dic['theme-match'] = False\n",
    "    \n",
    "    # institutions\n",
    "    dic['institution-erin'] = erin[i]['institutions']\n",
    "    dic['institution-rochelle'] = sample[i]['institutions']\n",
    "    del dic['institutions']\n",
    "    \n",
    "    if set(dic['institution-erin']) == set(dic['institution-rochelle']):\n",
    "        dic['institution-match'] = True\n",
    "    elif set(dic['institution-erin']).intersection(dic['institution-rochelle']):\n",
    "        dic['institution-match'] = \"Partial\"\n",
    "    else:\n",
    "        dic['institution-match'] = False\n",
    "    \n",
    "    # actions\n",
    "    dic['action-erin'] = erin[i]['action']\n",
    "    dic['action-rochelle'] = sample[i]['action']\n",
    "    del dic['action']\n",
    "    \n",
    "    if set(dic['action-erin']) == set(dic['action-rochelle']):\n",
    "        dic['action-match'] = True\n",
    "    elif set(dic['action-erin']).intersection(dic['action-rochelle']):\n",
    "        dic['action-match'] = \"Partial\"\n",
    "    else:\n",
    "        dic['action-match'] = False\n",
    "    \n",
    "    matching.append(dic)"
   ]
  },
  {
   "cell_type": "code",
<<<<<<< HEAD
   "execution_count": 97,
=======
   "execution_count": 31,
>>>>>>> c6e486173f8689b9c0435cd6ec014c616dc55572
   "metadata": {
    "collapsed": false
   },
   "outputs": [],
   "source": [
    "# make lists of matches, etc\n",
    "theme_match = [i for i in matching if i['theme-match'] == True]\n",
    "theme_partial = [i for i in matching if i['theme-match'] == \"Partial\"]\n",
    "theme_false = [i for i in matching if i['theme-match'] == False]\n",
    "\n",
    "institution_match = [i for i in matching if i['institution-match'] == True]\n",
    "institution_partial = [i for i in matching if i['institution-match'] == \"Partial\"]\n",
    "institution_false = [i for i in matching if i['institution-match'] == False]\n",
    "\n",
    "action_match = [i for i in matching if i['action-match'] == True]\n",
    "action_partial = [i for i in matching if i['action-match'] == \"Partial\"]\n",
    "action_false = [i for i in matching if i['action-match'] == False]"
   ]
  },
  {
   "cell_type": "code",
<<<<<<< HEAD
   "execution_count": 98,
=======
   "execution_count": 32,
>>>>>>> c6e486173f8689b9c0435cd6ec014c616dc55572
   "metadata": {
    "collapsed": false
   },
   "outputs": [
    {
     "name": "stdout",
     "output_type": "stream",
     "text": [
      "Theme\n",
      "\n",
<<<<<<< HEAD
      "Match: 80\n",
      "Partial: 16\n",
      "False: 4\n",
=======
      "Match: 68\n",
      "Partial: 22\n",
      "False: 10\n",
>>>>>>> c6e486173f8689b9c0435cd6ec014c616dc55572
      "\n",
      "\n",
      "Institutions\n",
      "\n",
<<<<<<< HEAD
      "Match: 93\n",
      "Partial: 1\n",
=======
      "Match: 91\n",
      "Partial: 3\n",
>>>>>>> c6e486173f8689b9c0435cd6ec014c616dc55572
      "False: 6\n",
      "\n",
      "\n",
      "Action\n",
      "\n",
<<<<<<< HEAD
      "Match: 98\n",
      "Partial: 1\n",
      "False: 1\n",
=======
      "Match: 95\n",
      "Partial: 2\n",
      "False: 3\n",
>>>>>>> c6e486173f8689b9c0435cd6ec014c616dc55572
      "\n",
      "\n"
     ]
    }
   ],
   "source": [
    "print \"Theme\" + \"\\n\"\n",
    "print \"Match: \" + str(len(theme_match))\n",
    "print \"Partial: \" + str(len(theme_partial))\n",
    "print \"False: \" + str(len(theme_false))\n",
    "print \"\\n\"\n",
    "\n",
    "print \"Institutions\" + \"\\n\"\n",
    "print \"Match: \" + str(len(institution_match))\n",
    "print \"Partial: \" + str(len(institution_partial))\n",
    "print \"False: \" + str(len(institution_false))\n",
    "print \"\\n\"\n",
    "\n",
    "print \"Action\" + \"\\n\"\n",
    "print \"Match: \" + str(len(action_match))\n",
    "print \"Partial: \" + str(len(action_partial))\n",
    "print \"False: \" + str(len(action_false))\n",
    "print \"\\n\""
   ]
  },
  {
   "cell_type": "code",
<<<<<<< HEAD
   "execution_count": 105,
=======
   "execution_count": 34,
>>>>>>> c6e486173f8689b9c0435cd6ec014c616dc55572
   "metadata": {
    "collapsed": false
   },
   "outputs": [
    {
     "name": "stdout",
     "output_type": "stream",
     "text": [
<<<<<<< HEAD
      "13708: 77.40. Take several measures in the area of the administration of justice to accelerate the reform of the judicial system, to fight against abuses of preventive detention, and to draft and transmit the report expected since 2005 by the Committee against Torture (France);\n",
      "ERIN: ['take-measures', 'report']\n",
      "ROCHELLE: ['take-measures']\n",
=======
      "7843: 97.56 Put in place measures to support the work of human rights defenders (Ireland);\n",
      "ERIN: []\n",
      "ROCHELLE: ['civil-so']\n",
      "\n",
      "11674: 92.97. Ensure full implementation of the rights of minorities on its territory in accordance with the provisions of the Treaty of Saint-Germain and Austrian State Treaty (Slovenia). );\n",
      "ERIN: ['race']\n",
      "ROCHELLE: ['ethnic']\n",
      "\n",
      "15208: 96.46. For the purposes of fully protecting the human rights of all Namibians, secessionists be pursued and be brought to book (Zimbabwe);\n",
      "ERIN: ['impunity', 'civil-conflict']\n",
      "ROCHELLE: []\n",
      "\n",
      "26389: 186.146. Strengthen legislation to prevent the unlawful from undermining other people's interests in the name of human rights defenders (Saudi Arabia);\n",
      "ERIN: ['impunity']\n",
      "ROCHELLE: ['civil-so']\n",
      "\n",
      "26984: 170.81. Provide humanitarian assistance at the extent possible to neighbouring countries which need assistance because of man-made or natural catastrophes (Russian Federation);\n",
      "ERIN: ['environment']\n",
      "ROCHELLE: []\n",
      "\n",
      "27111: 170.187. Release Alan Gross and imprisoned journalists such as Jose Antonio Torres immediately (United States of America);\n",
      "ERIN: ['pol-imprisonment']\n",
      "ROCHELLE: ['prisoners', 'speech']\n",
      "\n",
      "28583: 146.147. Continue to improve domestic legislation in order to guarantee the right of detainees to a fair trial (Japan);\n",
      "ERIN: ['prisoners']\n",
      "ROCHELLE: ['judiciary']\n",
      "\n",
      "30948: 113.63. Develop cooperation with the ICRC, allowing it access to all places where persons are or may be deprived of their liberty (France);\n",
      "ERIN: []\n",
      "ROCHELLE: ['children']\n",
      "\n",
      "32070: 134.187 Immediately cease all forms of forced displacement, in accordance with the applicable international humanitarian and human rights law and the Guiding Principles on Internal Displacement (1998) (Australia);\n",
      "ERIN: ['domest-movement']\n",
      "ROCHELLE: []\n",
      "\n",
      "38418: 115.136 Apply more effective actions to face the negative effects of the economic crisis on the population (Cuba);\n",
      "ERIN: ['poverty']\n",
      "ROCHELLE: []\n",
>>>>>>> c6e486173f8689b9c0435cd6ec014c616dc55572
      "\n"
     ]
    }
   ],
   "source": [
<<<<<<< HEAD
    "for i in action_partial:\n",
=======
    "for i in theme_false:\n",
>>>>>>> c6e486173f8689b9c0435cd6ec014c616dc55572
    "    print i['id'] + \": \" + i['text']\n",
    "    print \"ERIN: \" + str(i['theme-erin'])\n",
    "    print \"ROCHELLE: \" + str(i['theme-rochelle']) + \"\\n\""
   ]
  },
  {
   "cell_type": "markdown",
   "metadata": {},
   "source": [
    "## 4. Turn to Binary SpreadSheet"
   ]
  },
  {
   "cell_type": "code",
   "execution_count": 106,
   "metadata": {
    "collapsed": false
   },
   "outputs": [],
   "source": [
    "institutions = ['core', 'CRPD', 'ICCPR', 'eu-vaw', 'geneva', 'ICC', 'ILO', 'ICESR', 'achr', 'CAT', 'CRC', 'echr', '1954-stateless', 'traffick', 'CTOC', 'ICMW', 'ICERD', 'eu-child', 'sp-pr', 'PP', 'kampala', '1951refugees', 'pol-women', 'CPED', 'uncac', 'ottawa', '1961-stateless', 'CEDAW', 'unesco-ed', 'hague', 'genocide', 'HRC', 'unesco-expr', 'int-cord', 'frame-minorities', 'ind169', 'OP', 'ic-mercenaries', 'eu-migrant', 'un-indig', 'vienna', 'ouagadougou', 'UNHCR']"
   ]
  },
  {
   "cell_type": "code",
   "execution_count": 107,
   "metadata": {
    "collapsed": false
   },
   "outputs": [],
   "source": [
    "actions = ['accede', 'ratify', 'take-measures', 'sign', 'report', 'continue', 'withdraw', 'harmonize', 'party', 'implement', 'establish']"
   ]
  },
  {
   "cell_type": "code",
   "execution_count": 108,
   "metadata": {
    "collapsed": false
   },
   "outputs": [],
   "source": [
    "theme = ['death-pen', 'infrastructure ', 'intelligence', 'prisoners', 'elderly', 'culture', 'education', 'children', 'civil-so', 'disappearances', 'police', 'hiv', 'privacy', 'discrimination', 'impunity', 'governance', 'labor', 'environment', 'religion', 'foreign-movement', 'health', 'speech', 'domest-movement', 'terrorism', 'paramilitary', 'corruption', 'sex-violence', 'civil-conflict', 'race', 'torture', 'food', 'extra-judicial', 'judiciary', 'indigenous', 'lgbt', 'self-determ', 'poverty', 'ethnic', 'women', 'land', 'reproductive', 'post-conflict', 'disabilities', 'migrants', 'pol-imprisonment', 'socialism', 'trafficking', 'military', 'property']"
   ]
  },
  {
   "cell_type": "code",
   "execution_count": 109,
   "metadata": {
    "collapsed": false
   },
   "outputs": [
    {
     "data": {
      "text/plain": [
       "['From',\n",
       " 'sentiment',\n",
       " 'text',\n",
       " 'decision',\n",
       " 'id',\n",
       " 'to',\n",
       " 'theme',\n",
       " 'notes',\n",
       " 'year',\n",
       " 'action',\n",
       " 'institutions']"
      ]
     },
     "execution_count": 109,
     "metadata": {},
     "output_type": "execute_result"
    }
   ],
   "source": [
    "erin[0].keys()"
   ]
  },
  {
   "cell_type": "code",
   "execution_count": 110,
   "metadata": {
    "collapsed": false
   },
   "outputs": [],
   "source": [
    "for i in sample:\n",
    "    for s in institutions:\n",
    "        if s in i['institutions']:\n",
    "            i[s] = 1\n",
    "        else:\n",
    "            i[s] = 0\n",
    "            \n",
    "    for s in actions:\n",
    "        if s in i['action']:\n",
    "            i[s] = 1\n",
    "        else:\n",
    "            i[s] = 0\n",
    "            \n",
    "    for s in theme:\n",
    "        if s in i['theme']:\n",
    "            i[s] = 1\n",
    "        else:\n",
    "            i[s] = 0 \n",
    "    \n",
    "    del i['to']\n",
    "    del i['From']\n",
    "    del i['text']\n",
    "    del i['notes']\n",
    "    del i['action']\n",
    "    del i['theme']\n",
    "    del i['decision']\n",
    "    del i['institutions']\n",
    "    del i['year']"
   ]
  },
  {
   "cell_type": "code",
   "execution_count": 111,
   "metadata": {
    "collapsed": false
   },
   "outputs": [],
   "source": [
    "for i in erin:\n",
    "    for s in institutions:\n",
    "        if s in i['institutions']:\n",
    "            i[s] = 1\n",
    "        else:\n",
    "            i[s] = 0\n",
    "            \n",
    "    for s in actions:\n",
    "        if s in i['action']:\n",
    "            i[s] = 1\n",
    "        else:\n",
    "            i[s] = 0\n",
    "            \n",
    "    for s in theme:\n",
    "        if s in i['theme']:\n",
    "            i[s] = 1\n",
    "        else:\n",
    "            i[s] = 0  \n",
    "            \n",
    "    del i['to']\n",
    "    del i['From']\n",
    "    del i['text']\n",
    "    del i['year']\n",
    "    del i['institutions']\n",
    "    del i['action']\n",
    "    del i['theme']\n",
    "    del i['decision']\n",
    "    del i['sentiment']"
   ]
  },
  {
   "cell_type": "code",
   "execution_count": 112,
   "metadata": {
    "collapsed": false
   },
   "outputs": [],
   "source": [
    "## writing sample\n",
    "\n",
    "#writing column headings\n",
    "keys = sample[0].keys()\n",
    "\n",
    "#writing the rest\n",
    "with open('testing-3/sample-binary.csv', 'wb') as output_file:\n",
    "    dict_writer = csv.DictWriter(output_file, keys)\n",
    "    dict_writer.writeheader()\n",
    "    dict_writer.writerows(sample)"
   ]
  },
  {
   "cell_type": "code",
   "execution_count": 113,
   "metadata": {
    "collapsed": false
   },
   "outputs": [],
   "source": [
    "## writing erin\n",
    "\n",
    "#writing column headings\n",
    "keys = erin[0].keys()\n",
    "\n",
    "#writing the rest\n",
    "with open('testing-3/erin-binary.csv', 'wb') as output_file:\n",
    "    dict_writer = csv.DictWriter(output_file, keys)\n",
    "    dict_writer.writeheader()\n",
    "    dict_writer.writerows(erin)"
   ]
  },
  {
   "cell_type": "code",
   "execution_count": null,
   "metadata": {
    "collapsed": true
   },
   "outputs": [],
   "source": []
  }
 ],
 "metadata": {
  "kernelspec": {
   "display_name": "Python 2",
   "language": "python",
   "name": "python2"
  },
  "language_info": {
   "codemirror_mode": {
    "name": "ipython",
    "version": 2
   },
   "file_extension": ".py",
   "mimetype": "text/x-python",
   "name": "python",
   "nbconvert_exporter": "python",
   "pygments_lexer": "ipython2",
   "version": "2.7.9"
  }
 },
 "nbformat": 4,
 "nbformat_minor": 0
}
