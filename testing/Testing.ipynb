{
 "cells": [
  {
   "cell_type": "markdown",
   "metadata": {},
   "source": [
    "# Testing\n",
    "\n",
    "This script compares the human v. machine coding of recommendations."
   ]
  },
  {
   "cell_type": "code",
   "execution_count": 1,
   "metadata": {
    "collapsed": false
   },
   "outputs": [
    {
     "data": {
      "text/plain": [
       "131072"
      ]
     },
     "execution_count": 1,
     "metadata": {},
     "output_type": "execute_result"
    }
   ],
   "source": [
    "import os\n",
    "import re\n",
    "import csv\n",
    "import sys\n",
    "import csv\n",
    "import random\n",
    "import ast\n",
    "\n",
    "csv.field_size_limit(sys.maxsize)"
   ]
  },
  {
   "cell_type": "markdown",
   "metadata": {
    "collapsed": true
   },
   "source": [
    "## 1. Load"
   ]
  },
  {
   "cell_type": "code",
   "execution_count": 2,
   "metadata": {
    "collapsed": false
   },
   "outputs": [
    {
     "data": {
      "text/plain": [
       "{'From': 'Kuwait',\n",
       " 'action': \"['establish']\",\n",
       " 'decision': 'support',\n",
       " 'id': '0',\n",
       " 'institutions': '[]',\n",
       " 'notes': '',\n",
       " 'text': '69.1 The establishment of an international round table to discuss the interrelation between security and fundamental freedoms (Kuwait). );',\n",
       " 'theme': '[]',\n",
       " 'to': 'Algeria',\n",
       " 'year': '2008'}"
      ]
     },
     "execution_count": 2,
     "metadata": {},
     "output_type": "execute_result"
    }
   ],
   "source": [
    "# load data\n",
    "recs = []\n",
    "with open(\"../Data/all-data.csv\",'rU') as csvfile:\n",
    "            reader = csv.DictReader(csvfile)\n",
    "            for row in reader:\n",
    "                recs.append(row)\n",
    "            \n",
    "len(recs)\n",
    "recs[0]"
   ]
  },
  {
   "cell_type": "code",
   "execution_count": 3,
   "metadata": {
    "collapsed": false
   },
   "outputs": [
    {
     "data": {
      "text/plain": [
       "{'From': 'Holy See',\n",
       " 'action': '[]',\n",
       " 'decision': 'consider',\n",
       " 'id': '1385',\n",
       " 'institutions': '[]',\n",
       " 'notes': '',\n",
       " 'sentiment': '2',\n",
       " 'text': '94.17 Investigate complaints concerning discrimination against members of minority religions, while developing educational and awareness programmes addressing these human rights violations (Holy See). );',\n",
       " 'theme': \"['discrimination', 'religion', 'education']\",\n",
       " 'to': 'Bangladesh',\n",
       " 'year': '2009'}"
      ]
     },
     "execution_count": 3,
     "metadata": {},
     "output_type": "execute_result"
    }
   ],
   "source": [
    "# load Erin\n",
    "erin = []\n",
    "with open(\"testing-3/erin-data.csv\",'rU') as csvfile:\n",
    "            reader = csv.DictReader(csvfile)\n",
    "            for row in reader:\n",
    "                erin.append(row)\n",
    "            \n",
    "erin[1]"
   ]
  },
  {
   "cell_type": "code",
   "execution_count": 4,
   "metadata": {
    "collapsed": false
   },
   "outputs": [
    {
     "data": {
      "text/plain": [
       "{'From': 'Holy See',\n",
       " 'action': [],\n",
       " 'decision': 'consider',\n",
       " 'id': '1385',\n",
       " 'institutions': [],\n",
       " 'notes': '',\n",
       " 'sentiment': '2',\n",
       " 'text': '94.17 Investigate complaints concerning discrimination against members of minority religions, while developing educational and awareness programmes addressing these human rights violations (Holy See). );',\n",
       " 'theme': ['discrimination', 'religion', 'education'],\n",
       " 'to': 'Bangladesh',\n",
       " 'year': '2009'}"
      ]
     },
     "execution_count": 4,
     "metadata": {},
     "output_type": "execute_result"
    }
   ],
   "source": [
    "# making literal lists\n",
    "for i in erin:\n",
    "    try:\n",
    "        i['theme'] = ast.literal_eval(i['theme'])\n",
    "        i['institutions'] = ast.literal_eval(i['institutions'])\n",
    "        i['action'] = ast.literal_eval(i['action'])\n",
    "    except Exception,e:\n",
    "        print i\n",
    "erin[1]"
   ]
  },
  {
   "cell_type": "code",
   "execution_count": 5,
   "metadata": {
    "collapsed": false
   },
   "outputs": [],
   "source": [
    "# strip whitespace:\n",
    "for i in erin:\n",
    "    i['theme'] = [x.strip() for x in i['theme']]\n",
    "    i['institutions'] = [x.strip() for x in i['institutions']]\n",
    "    i['action'] = [x.strip() for x in i['action']]"
   ]
  },
  {
   "cell_type": "code",
   "execution_count": 6,
   "metadata": {
    "collapsed": false
   },
   "outputs": [],
   "source": [
    "# get ids\n",
    "ids = [rec['id'] for rec in erin]"
   ]
  },
  {
   "cell_type": "code",
   "execution_count": 7,
   "metadata": {
    "collapsed": false
   },
   "outputs": [
    {
     "data": {
      "text/plain": [
       "{'From': 'Malaysia',\n",
       " 'action': '[]',\n",
       " 'decision': 'consider',\n",
       " 'id': '1247',\n",
       " 'institutions': '[]',\n",
       " 'notes': '',\n",
       " 'text': '96.25 Step up its efforts to ensure that basic needs of the population are fully met, in particular, in the areas of employment, public health, education and public housing (Malaysia);',\n",
       " 'theme': \"['education', 'labor', 'health', 'infrastructure']\",\n",
       " 'to': 'Azerbaijan',\n",
       " 'year': '2009'}"
      ]
     },
     "execution_count": 7,
     "metadata": {},
     "output_type": "execute_result"
    }
   ],
   "source": [
    "# get original sample\n",
    "sample = []\n",
    "for i in recs:\n",
    "    if i['id'] in ids:\n",
    "        sample.append(i)\n",
    "sample[0]  "
   ]
  },
  {
   "cell_type": "code",
   "execution_count": 8,
   "metadata": {
    "collapsed": false
   },
   "outputs": [
    {
     "data": {
      "text/plain": [
       "{'From': 'Holy See',\n",
       " 'action': [],\n",
       " 'decision': 'consider',\n",
       " 'id': '1385',\n",
       " 'institutions': [],\n",
       " 'notes': '',\n",
       " 'text': '94.17 Investigate complaints concerning discrimination against members of minority religions, while developing educational and awareness programmes addressing these human rights violations (Holy See). );',\n",
       " 'theme': ['education', 'discrimination', 'religion', 'ethnic'],\n",
       " 'to': 'Bangladesh',\n",
       " 'year': '2009'}"
      ]
     },
     "execution_count": 8,
     "metadata": {},
     "output_type": "execute_result"
    }
   ],
   "source": [
    "# make literal\n",
    "for i in sample:\n",
    "    i['theme'] = ast.literal_eval(i['theme'])\n",
    "    i['institutions'] = ast.literal_eval(i['institutions'])\n",
    "    i['action'] = ast.literal_eval(i['action'])\n",
    "\n",
    "sample[1]"
   ]
  },
  {
   "cell_type": "markdown",
   "metadata": {},
   "source": [
    "## Compare"
   ]
  },
  {
   "cell_type": "code",
   "execution_count": 9,
   "metadata": {
    "collapsed": false
   },
   "outputs": [],
   "source": [
    "# zip\n",
    "matching = []\n",
    "for i in range(100):\n",
    "    dic = erin[i].copy()\n",
    "    \n",
    "    # Theme\n",
    "    dic['theme-erin'] = erin[i]['theme']\n",
    "    dic['theme-rochelle'] = sample[i]['theme']\n",
    "    del dic['theme']\n",
    "    \n",
    "    if set(dic['theme-erin']) == set(dic['theme-rochelle']):\n",
    "        dic['theme-match'] = True\n",
    "    elif set(dic['theme-erin']).intersection(dic['theme-rochelle']):\n",
    "        dic['theme-match'] = \"Partial\"\n",
    "    else:\n",
    "        dic['theme-match'] = False\n",
    "    \n",
    "    # institutions\n",
    "    dic['institution-erin'] = erin[i]['institutions']\n",
    "    dic['institution-rochelle'] = sample[i]['institutions']\n",
    "    del dic['institutions']\n",
    "    \n",
    "    if set(dic['institution-erin']) == set(dic['institution-rochelle']):\n",
    "        dic['institution-match'] = True\n",
    "    elif set(dic['institution-erin']).intersection(dic['institution-rochelle']):\n",
    "        dic['institution-match'] = \"Partial\"\n",
    "    else:\n",
    "        dic['institution-match'] = False\n",
    "    \n",
    "    # actions\n",
    "    dic['action-erin'] = erin[i]['action']\n",
    "    dic['action-rochelle'] = sample[i]['action']\n",
    "    del dic['action']\n",
    "    \n",
    "    if set(dic['action-erin']) == set(dic['action-rochelle']):\n",
    "        dic['action-match'] = True\n",
    "    elif set(dic['action-erin']).intersection(dic['action-rochelle']):\n",
    "        dic['action-match'] = \"Partial\"\n",
    "    else:\n",
    "        dic['action-match'] = False\n",
    "    \n",
    "    matching.append(dic)"
   ]
  },
  {
   "cell_type": "code",
   "execution_count": 10,
   "metadata": {
    "collapsed": false
   },
   "outputs": [],
   "source": [
    "# make lists of matches, etc\n",
    "theme_match = [i for i in matching if i['theme-match'] == True]\n",
    "theme_partial = [i for i in matching if i['theme-match'] == \"Partial\"]\n",
    "theme_false = [i for i in matching if i['theme-match'] == False]\n",
    "\n",
    "institution_match = [i for i in matching if i['institution-match'] == True]\n",
    "institution_partial = [i for i in matching if i['institution-match'] == \"Partial\"]\n",
    "institution_false = [i for i in matching if i['institution-match'] == False]\n",
    "\n",
    "action_match = [i for i in matching if i['action-match'] == True]\n",
    "action_partial = [i for i in matching if i['action-match'] == \"Partial\"]\n",
    "action_false = [i for i in matching if i['action-match'] == False]"
   ]
  },
  {
   "cell_type": "code",
   "execution_count": 11,
   "metadata": {
    "collapsed": false
   },
   "outputs": [
    {
     "name": "stdout",
     "output_type": "stream",
     "text": [
      "Theme\n",
      "\n",
      "Match: 80\n",
      "Partial: 16\n",
      "False: 4\n",
      "\n",
      "\n",
      "Institutions\n",
      "\n",
      "Match: 93\n",
      "Partial: 1\n",
      "False: 6\n",
      "\n",
      "\n",
      "Action\n",
      "\n",
      "Match: 98\n",
      "Partial: 1\n",
      "False: 1\n",
      "\n",
      "\n"
     ]
    }
   ],
   "source": [
    "print \"Theme\" + \"\\n\"\n",
    "print \"Match: \" + str(len(theme_match))\n",
    "print \"Partial: \" + str(len(theme_partial))\n",
    "print \"False: \" + str(len(theme_false))\n",
    "print \"\\n\"\n",
    "\n",
    "print \"Institutions\" + \"\\n\"\n",
    "print \"Match: \" + str(len(institution_match))\n",
    "print \"Partial: \" + str(len(institution_partial))\n",
    "print \"False: \" + str(len(institution_false))\n",
    "print \"\\n\"\n",
    "\n",
    "print \"Action\" + \"\\n\"\n",
    "print \"Match: \" + str(len(action_match))\n",
    "print \"Partial: \" + str(len(action_partial))\n",
    "print \"False: \" + str(len(action_false))\n",
    "print \"\\n\""
   ]
  },
  {
   "cell_type": "code",
   "execution_count": 105,
   "metadata": {
    "collapsed": false
   },
   "outputs": [
    {
     "name": "stdout",
     "output_type": "stream",
     "text": [
      "13708: 77.40. Take several measures in the area of the administration of justice to accelerate the reform of the judicial system, to fight against abuses of preventive detention, and to draft and transmit the report expected since 2005 by the Committee against Torture (France);\n",
      "ERIN: ['take-measures', 'report']\n",
      "ROCHELLE: ['take-measures']\n",
      "\n"
     ]
    }
   ],
   "source": [
    "for i in action_partial:\n",
    "    print i['id'] + \": \" + i['text']\n",
    "    print \"ERIN: \" + str(i['action-erin'])\n",
    "    print \"ROCHELLE: \" + str(i['action-rochelle']) + \"\\n\""
   ]
  },
  {
   "cell_type": "markdown",
   "metadata": {},
   "source": [
    "## 3. Transform to Binary SpreadSheet"
   ]
  },
  {
   "cell_type": "code",
   "execution_count": null,
   "metadata": {
    "collapsed": true
   },
   "outputs": [],
   "source": [
    "institutions = ['core', 'CRPD', 'ICCPR', 'eu-vaw', 'geneva', 'ICC', 'ILO', 'ICESR', 'achr', 'CAT', \\\n",
    "                'CRC', 'echr', '1954-stateless', 'traffick', 'CTOC', 'ICMW', 'ICERD', 'eu-child', 'sp-pr', \\\n",
    "                'PP', 'kampala', '1951refugees', 'pol-women', 'CPED', 'uncac', 'ottawa', '1961-stateless', 'CEDAW', \\\n",
    "                'unesco-ed', 'hague', 'genocide', 'HRC', 'unesco-expr', 'int-cord', 'frame-minorities', 'ind169',\\\n",
    "                'OP', 'ic-mercenaries', 'eu-migrant', 'un-indig', 'vienna', 'ouagadougou', 'UNHCR']"
   ]
  },
  {
   "cell_type": "code",
   "execution_count": 107,
   "metadata": {
    "collapsed": false
   },
   "outputs": [],
   "source": [
    "actions = ['accede', 'ratify', 'take-measures', 'sign', 'report', 'continue', 'withdraw', 'harmonize', 'party', \\\n",
    "           'implement', 'establish']"
   ]
  },
  {
   "cell_type": "code",
   "execution_count": 108,
   "metadata": {
    "collapsed": false
   },
   "outputs": [],
   "source": [
    "theme = ['death-pen', 'infrastructure ', 'intelligence', 'prisoners', 'elderly', 'culture', 'education', \\\n",
    "         'children', 'civil-so', 'disappearances', 'police', 'hiv', 'privacy', 'discrimination', 'impunity',\\\n",
    "         'governance', 'labor', 'environment', 'religion', 'foreign-movement', 'health', 'speech', 'domest-movement', \\\n",
    "         'terrorism', 'paramilitary', 'corruption', 'sex-violence', 'civil-conflict', 'race', 'torture', 'food',\\\n",
    "         'extra-judicial', 'judiciary', 'indigenous', 'lgbt', 'self-determ', 'poverty', 'ethnic', 'women', 'land', \\\n",
    "         'reproductive', 'post-conflict', 'disabilities', 'migrants', 'pol-imprisonment', 'socialism', 'trafficking', \\\n",
    "         'military', 'property']"
   ]
  },
  {
   "cell_type": "code",
   "execution_count": 109,
   "metadata": {
    "collapsed": false
   },
   "outputs": [
    {
     "data": {
      "text/plain": [
       "['From',\n",
       " 'sentiment',\n",
       " 'text',\n",
       " 'decision',\n",
       " 'id',\n",
       " 'to',\n",
       " 'theme',\n",
       " 'notes',\n",
       " 'year',\n",
       " 'action',\n",
       " 'institutions']"
      ]
     },
     "execution_count": 109,
     "metadata": {},
     "output_type": "execute_result"
    }
   ],
   "source": [
    "erin[0].keys()"
   ]
  },
  {
   "cell_type": "code",
   "execution_count": 110,
   "metadata": {
    "collapsed": false
   },
   "outputs": [],
   "source": [
    "for i in sample:\n",
    "    for s in institutions:\n",
    "        if s in i['institutions']:\n",
    "            i[s] = 1\n",
    "        else:\n",
    "            i[s] = 0\n",
    "            \n",
    "    for s in actions:\n",
    "        if s in i['action']:\n",
    "            i[s] = 1\n",
    "        else:\n",
    "            i[s] = 0\n",
    "            \n",
    "    for s in theme:\n",
    "        if s in i['theme']:\n",
    "            i[s] = 1\n",
    "        else:\n",
    "            i[s] = 0 \n",
    "    \n",
    "    del i['to']\n",
    "    del i['From']\n",
    "    del i['text']\n",
    "    del i['notes']\n",
    "    del i['action']\n",
    "    del i['theme']\n",
    "    del i['decision']\n",
    "    del i['institutions']\n",
    "    del i['year']"
   ]
  },
  {
   "cell_type": "code",
   "execution_count": 111,
   "metadata": {
    "collapsed": false
   },
   "outputs": [],
   "source": [
    "for i in erin:\n",
    "    for s in institutions:\n",
    "        if s in i['institutions']:\n",
    "            i[s] = 1\n",
    "        else:\n",
    "            i[s] = 0\n",
    "            \n",
    "    for s in actions:\n",
    "        if s in i['action']:\n",
    "            i[s] = 1\n",
    "        else:\n",
    "            i[s] = 0\n",
    "            \n",
    "    for s in theme:\n",
    "        if s in i['theme']:\n",
    "            i[s] = 1\n",
    "        else:\n",
    "            i[s] = 0  \n",
    "            \n",
    "    del i['to']\n",
    "    del i['From']\n",
    "    del i['text']\n",
    "    del i['year']\n",
    "    del i['institutions']\n",
    "    del i['action']\n",
    "    del i['theme']\n",
    "    del i['decision']\n",
    "    del i['sentiment']"
   ]
  },
  {
   "cell_type": "code",
   "execution_count": 112,
   "metadata": {
    "collapsed": false
   },
   "outputs": [],
   "source": [
    "## writing sample\n",
    "\n",
    "#writing column headings\n",
    "keys = sample[0].keys()\n",
    "\n",
    "#writing the rest\n",
    "with open('testing-3/sample-binary.csv', 'wb') as output_file:\n",
    "    dict_writer = csv.DictWriter(output_file, keys)\n",
    "    dict_writer.writeheader()\n",
    "    dict_writer.writerows(sample)"
   ]
  },
  {
   "cell_type": "code",
   "execution_count": 113,
   "metadata": {
    "collapsed": false
   },
   "outputs": [],
   "source": [
    "## writing erin\n",
    "\n",
    "#writing column headings\n",
    "keys = erin[0].keys()\n",
    "\n",
    "#writing the rest\n",
    "with open('testing-3/erin-binary.csv', 'wb') as output_file:\n",
    "    dict_writer = csv.DictWriter(output_file, keys)\n",
    "    dict_writer.writeheader()\n",
    "    dict_writer.writerows(erin)"
   ]
  },
  {
   "cell_type": "code",
   "execution_count": null,
   "metadata": {
    "collapsed": true
   },
   "outputs": [],
   "source": []
  }
 ],
 "metadata": {
  "kernelspec": {
   "display_name": "Python 2",
   "language": "python",
   "name": "python2"
  },
  "language_info": {
   "codemirror_mode": {
    "name": "ipython",
    "version": 2
   },
   "file_extension": ".py",
   "mimetype": "text/x-python",
   "name": "python",
   "nbconvert_exporter": "python",
   "pygments_lexer": "ipython2",
   "version": "2.7.9"
  }
 },
 "nbformat": 4,
 "nbformat_minor": 0
}
