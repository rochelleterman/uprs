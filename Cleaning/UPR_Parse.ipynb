{
 "cells": [
  {
   "cell_type": "code",
   "execution_count": 1,
   "metadata": {
    "collapsed": false
   },
   "outputs": [],
   "source": [
    "import os\n",
    "import re\n",
    "import csv\n",
    "from operator import itemgetter\n",
    "from itertools import groupby"
   ]
  },
  {
   "cell_type": "markdown",
   "metadata": {},
   "source": [
    "## Some helpful functions"
   ]
  },
  {
   "cell_type": "code",
   "execution_count": 2,
   "metadata": {
    "collapsed": false
   },
   "outputs": [],
   "source": [
    "def mergeLines(l):\n",
    "    '''\n",
    "    This function takes in a list of lines and merge broken paragraph lines \n",
    "    (merge all lines if they don't start with a number)\n",
    "    '''\n",
    "    i = 0\n",
    "    while i < len(l):\n",
    "        if not l[i][0].isdigit():\n",
    "            l[i-1:i+1] = [' '.join(l[i-1:i+1])]\n",
    "        else:\n",
    "            i = i+1\n",
    "    return(l)"
   ]
  },
  {
   "cell_type": "code",
   "execution_count": 3,
   "metadata": {
    "collapsed": false
   },
   "outputs": [],
   "source": [
    "# function to find main paragraphs numbers in each upr\n",
    "def mainParagraphs(upr):\n",
    "    '''\n",
    "    This function takes in a upr and returns the main paragraph numbers in the 'recommendations' section.\n",
    "    There are usually 2-4 main paragraphs. Sometimes I refer to these main paragraph sections as \"chunks\".\n",
    "    '''\n",
    "    firstParagraph = upr['text'][0].partition(\" \")[0]\n",
    "    if '.' in firstParagraph:\n",
    "            firstParagraph = firstParagraph.replace(\".\",\"\")\n",
    "    mainParagraphs = []\n",
    "\n",
    "    for line in upr['text']:\n",
    "        paragraph = line.partition(\" \")[0]\n",
    "        if paragraph[-1] == '.':\n",
    "            paragraph = paragraph[:-1]\n",
    "                \n",
    "        mainParagraphs.append(float(paragraph))\n",
    "        \n",
    "    # make a list of the main paragraph numbers\n",
    "    mainParagraphs = set([int(n) for n in mainParagraphs if int(n)>= int(firstParagraph)])\n",
    "    return mainParagraphs   "
   ]
  },
  {
   "cell_type": "markdown",
   "metadata": {},
   "source": [
    "## Read in Data\n",
    "\n",
    "This for loop will reach in each UPR in a certain date (e.g. 2013) and parse it into a dictionary with country, year, and text keys. The *text* value will be a list of the main paragraphs in the recommendations section of the UPR"
   ]
  },
  {
   "cell_type": "code",
   "execution_count": 4,
   "metadata": {
    "collapsed": false
   },
   "outputs": [
    {
     "name": "stdout",
     "output_type": "stream",
     "text": [
      "processing azerbaijan2013.txt...\n",
      "processing bahamas2013.txt...\n",
      "processing bangladesh2013.txt...\n",
      "processing barbados2013.txt...\n",
      "processing belize2013.txt...\n",
      "processing botswana2013.txt...\n",
      "processing burkinafaso2013.txt...\n",
      "processing burundi2013.txt...\n",
      "processing cameroon2013.txt...\n",
      "processing canada2013.txt...\n",
      "processing capeverde2013.txt...\n",
      "processing centralafricanrepublic2013.txt...\n",
      "processing chad2013.txt...\n",
      "processing china2013.txt...\n",
      "processing colombia2013.txt...\n",
      "processing congo2013.txt...\n",
      "processing cuba2013.txt...\n",
      "processing djibouti2013.txt...\n",
      "processing france2013.txt...\n",
      "processing germany2013.txt...\n",
      "processing israel2013.txt...\n",
      "processing jordan2013.txt...\n",
      "processing liechtenstein2013.txt...\n",
      "processing luxembourg2013.txt...\n",
      "processing malaysia2013.txt...\n",
      "processing mali2013.txt...\n",
      "processing malta2013.txt...\n",
      "processing mauritius2013.txt...\n",
      "processing mexico2013.txt...\n",
      "processing monaco2013.txt...\n",
      "processing montenegro2013.txt...\n",
      "processing nigeria2013.txt...\n",
      "processing romania2013.txt...\n",
      "processing russia2013.txt...\n",
      "processing saudiarabia2013.txt...\n",
      "processing senegal2013.txt...\n",
      "processing serbia2013.txt...\n",
      "processing tonga2013.txt...\n",
      "processing turkmenistan2013.txt...\n",
      "processing tuvalu2013.txt...\n",
      "processing unitedarabemirates2013.txt...\n",
      "processing uzbekistan2013.txt...\n"
     ]
    }
   ],
   "source": [
    "l=[]\n",
    "dir = '../Data/raw-data/txts'\n",
    "for file_name in os.listdir(dir):\n",
    "    broken = []\n",
    "    if file_name.endswith(\".txt\") and '2013' in file_name:\n",
    "        print 'processing ' + file_name + '...'\n",
    "        try:\n",
    "            dic = {}\n",
    "            dic['country'] = file_name[:-8]\n",
    "            dic['year'] = file_name[-8:-4]\n",
    "            f = open(dir + '/' + file_name,'rU')\n",
    "            x = f.read() # read in text\n",
    "            f.close\n",
    "            x = x.split('\\n') # make a list\n",
    "            x = filter(None, x) # get rid of empty string items       \n",
    "             \n",
    "            # take only the conclusions and/or recommendations section\n",
    "            ConclusionsStart = x.index([s for s in x if \"conclusions and/or recommendations\" in s.lower()][1]) #startin from bottom\n",
    "            ConclusionsEnd = x.index([s for s in x if \"conclusions and/or recommendations\" in s.lower()][2]) # the last one is the disclaimer\n",
    "            x = x[ConclusionsStart+1:ConclusionsEnd+1] \n",
    "            \n",
    "            # get rid of the weird lines\n",
    "            x = [s for s in x if '**' not in s]\n",
    "            x = [s for s in x if 'recommendations have not been edited.' not in s]\n",
    "            x = [s for s in x if 'recommendations will not be edited.' not in s]\n",
    "            x = [s.replace('\\xd2','') for s in x]\n",
    "            x = [s.replace('\\t','') for s in x]\n",
    "            x = [s.lstrip(\" \") for s in x]\n",
    "            \n",
    "            # get rid of footnotes:\n",
    "            for s in x:\n",
    "                if s.rstrip()[-1].isdigit():\n",
    "                    x[x.index(s)] = s.rstrip()[:-1]\n",
    "            for s in x:\n",
    "                if s.rstrip()[-1].isdigit():\n",
    "                    x[x.index(s)] = s.rstrip()[:-1]\n",
    "\n",
    "            # merge lines so that each line is its own paragraph, starting with a paragraph number\n",
    "            x = mergeLines(x)\n",
    "                       \n",
    "            # get rid of that disclaimer paragraph\n",
    "            x = [s for s in x if 'endorsed by the working group' not in s.lower()]\n",
    "            \n",
    "            # make sure everything is a string\n",
    "            dic['text'] = [str(s) for s in x]\n",
    "            \n",
    "            # append to list\n",
    "            l.append(dic)\n",
    "              \n",
    "        except Exception,e:\n",
    "            broken.append(file_name +str(e)) "
   ]
  },
  {
   "cell_type": "code",
   "execution_count": 5,
   "metadata": {
    "collapsed": false
   },
   "outputs": [
    {
     "data": {
      "text/plain": [
       "[]"
      ]
     },
     "execution_count": 5,
     "metadata": {},
     "output_type": "execute_result"
    }
   ],
   "source": [
    "# check if anything broke\n",
    "broken"
   ]
  },
  {
   "cell_type": "markdown",
   "metadata": {},
   "source": [
    "## If the document does not follow the 67.1, 67.2 format, fix it:"
   ]
  },
  {
   "cell_type": "code",
   "execution_count": 6,
   "metadata": {
    "collapsed": false
   },
   "outputs": [],
   "source": [
    "def getnumber(line):\n",
    "            try:\n",
    "                number = int(line.partition(\".\")[0])\n",
    "            except:\n",
    "                number= int(line.partition(\" \")[0])\n",
    "            return(number)"
   ]
  },
  {
   "cell_type": "code",
   "execution_count": 7,
   "metadata": {
    "collapsed": false
   },
   "outputs": [],
   "source": [
    "for upr in range(len(l)):\n",
    "    x = l[upr]['text'] \n",
    "    firstParagraph = x[0].partition(\".\")[0]\n",
    "    secondParagraph = x[1].partition(\".\")[0]\n",
    "\n",
    "    if firstParagraph == secondParagraph:\n",
    "        pass\n",
    "\n",
    "    else:\n",
    "        try:\n",
    "            # make a list of paragraph numbers as they appear in document\n",
    "            numbers = []\n",
    "            for line in x:\n",
    "                numbers.append(getnumber(line))   \n",
    "        \n",
    "            # group that list by sequential numbers\n",
    "            grouped = []\n",
    "            for k, g in groupby(enumerate(numbers), lambda (i,x):i-x):\n",
    "                grouped.append(map(itemgetter(1), g))\n",
    "            \n",
    "            # tack on main paragraph number to subparagraphs\n",
    "            groupedNumbers = []\n",
    "            for list in grouped:\n",
    "                if list[0] != 1:\n",
    "                    n = list[-1]\n",
    "                    groupedNumbers.append([str(i) for i in list])\n",
    "                if list[0] == 1:\n",
    "                    groupedNumbers.append([str(n)+'.'+str(number) for number in list])\n",
    "            \n",
    "            # make the list presentable\n",
    "            groupedCollapsed = [item for sublist in groupedNumbers for item in sublist]\n",
    "        \n",
    "            # make new statements\n",
    "            numberedStatements = []\n",
    "            for i in range(len(x)):\n",
    "                text = x[i]\n",
    "                woParagraph = text[len(str(numbers[i]))+1:]\n",
    "                withnewParagraph = groupedCollapsed[i] + ' ' + woParagraph\n",
    "                numberedStatements.append(withnewParagraph)\n",
    "    \n",
    "            l[upr]['text'] = numberedStatements\n",
    "        \n",
    "        except Exception,e:\n",
    "            print str(e)\n",
    "            broken.append(l[upr]['country'] + l[upr]['year']+str(e))"
   ]
  },
  {
   "cell_type": "code",
   "execution_count": 8,
   "metadata": {
    "collapsed": false
   },
   "outputs": [
    {
     "name": "stdout",
     "output_type": "stream",
     "text": [
      "136.1 To further build up on its effort to fully protect human rights in the country (Ethiopia); \n",
      "104.1 Sign and ratify the Optional Protocol to the ICESCR (Spain); \n",
      "134.1 Promptly ratify and implement the human rights conventions signed in September 2013 (United Kingdom of Great Britain and Northern Ireland);  \n",
      "118.1 Ratify the Optional Protocol to the Convention on the Rights of the Child on the sale of children, child prostitution and child pornography and the Optional Protocol to the Convention on the Rights of the Child on the involvement of children in armed conflict (Chad); \n",
      "113.1 Incorporate the Rome Statute into national law (Mexico); \n",
      "107.1 Ratify the Optional Protocol to the Convention on the Rights of the Child on a communications procedure (Portugal); \n",
      "113.1 Ratify the other international instruments on human rights that the country is not yet a party to (Argentina); \n",
      "118.1 Ratify the first Optional Protocol to the International Covenant on Civil and Political Rights and sign and ratify the second Optional Protocol to ICCPR (France); \n",
      "121.1. Consider withdrawing its reservations to the International Convention on the Protection of the Rights of All Migrant Workers and Members of Their Families (Philippines); \n",
      "110.1 Proceed with the formal abolition of the death penalty and sign and ratify the Second Optional Protocol to the International Covenant on Civil and Political Rights (Germany); \n",
      "127.1 Consider accession to ILO Convention No. 189 (Philippines); \n",
      "127.1 Consider the accession to core human rights instruments (Lesotho); and to other main international human rights treaties that it is not yet a party to (Philippines); \n",
      "114.1. Ratify the international instruments not yet ratified (C�te d�Ivoire); \n",
      "124.1 Further fulfil the internationally taken obligations as well as join new human rights international instruments (Kazakhstan); \n",
      "133.1 Take necessary steps to ratify or accede to major international human rights instruments which are still outstanding (Lesotho); \n",
      "93.1 Ratify the International Convention on the Elimination of All Forms of Racial Discrimination (Trinidad and Tobago); \n",
      "98.1. Consider ratifying those international human rights instruments to which it is not yet a State party (Nicaragua); \n",
      "166.1 Sign the Second Optional Protocol to ICCPR (ICCPR-OP2) (Turkey); \n",
      "103.1 Continue the process of ratification of international instruments, especially in the area of human rights (C�te d�Ivoire); \n",
      "122.1. Ratify the international human rights instruments which it is not yet a party to (Chad); \n",
      "155.1 Consider ratifying ICERD (Burkina Faso); \n",
      "99.1 Consider expediting the ratifications of the core human rights treaties to which it is not yet a party, as recommended previously (Republic of Korea);  \n",
      "109.1 Ratify the conventions to which it is not yet a party, in keeping with the recommendations accepted during the first cycle of the review (Niger); \n",
      "71.1. Ratify the optional protocols to the Convention on the Elimination of All Forms of Discrimination against Women and the Convention against Torture and Other Cruel, Inhuman or Degrading Treatment or Punishment (Brazil); \n",
      "138.1 Ratify the conventions to which it is not yet a party (Niger); \n",
      "127.1 Pursue the process of acceding to international instruments (Djibouti); \n",
      "145.1 Study the possibility of acceding to the International Convention on the Protection of the Rights of All Migrant Workers and Members of Their Families (ICRMW) (Egypt); \n",
      "124.1 Adopt legislative measures to criminalize torture, violence against women and trafficking in persons in line with international standards (Mexico); \n",
      "101.1. Complete the process of ratification of relevant international instruments (C�te d�Ivoire); \n",
      "108.1 Take the necessary steps to ratify the Convention on the Rights of Persons with Disabilities (CRPD), the International Convention on the Protection of the Rights of All Migrant Workers and Members of their Families (ICRMW), the Optional Protocol to the Convention on the Elimination of All Forms of Discrimination against Women (OP-CEDAW) and the Optional Protocol to the Convention against Torture and Other Cruel, Inhuman or Degrading Treatment or Punishment (OP-CAT) (Ghana); \n",
      "128.1. Consider becoming a party to the International Convention for the Protection of All Persons from Enforced Disappearance (CPED) (Montenegro); \n",
      "114.1. Consider the ratification of human rights instruments to which it is not yet a party (Bolivia (Plurinational State of)); \n",
      "131.1 Ratify those conventions to which it is not yet a party, and accelerate the incorporation in its domestic legal order of the provisions of those conventions to which it is already a party to (Niger); \n",
      "125.1 Ensure that civil society representatives are accorded full and active participation in follow-up activities to the universal periodic review (United Kingdom of Great Britain and Northern Ireland); \n",
      "122.1 Continue its ongoing review of national laws to ensure that they are in line with its international human rights law obligations (Turkmenistan); \n",
      "78.1 Ratify the Optional Protocol to the International Covenant on Economic, Social and Cultural Rights (ICESCR) (Montenegro, Spain); \n",
      "110.1. Reconsider the ratification of OP-CAT (Denmark); \n",
      "115.1 Take further steps for the ratification of several international treaties in the field of human rights that were signed by Slovenia since the first UPR cycle (Croatia);  \n",
      "123.1. Consider ratifying those international instruments to which it is not yet a party, and which aim to protect the rights of minority groups (Nicaragua); \n",
      "99.1. Consider accession to the Convention on the Prevention and Punishment of the Crime of Genocide (Armenia); \n",
      "143.1. Continue efforts to ratify international human rights instruments, to which Viet Nam is not yet a party (Nicaragua); Consider signing and ratifying the main international human rights treaties (Albania); Continue its accession to international human rights treaties (Azerbaijan); Ratify international instruments to which Viet Nam is not yet a party (Niger); \n",
      "115.1 Ratify the Rome Statute of the ICC (Botswana ); \n"
     ]
    }
   ],
   "source": [
    "# take a look at the second rec of the first 10 uprs\n",
    "for x in l:\n",
    "    print x['text'][1]"
   ]
  },
  {
   "cell_type": "code",
   "execution_count": 9,
   "metadata": {
    "collapsed": false
   },
   "outputs": [],
   "source": [
    "def parse2014(document):\n",
    "    '''\n",
    "    This function passes a UPR and parse the 'text' value into well structured format, \n",
    "    i.e. a nested (array-like) dictionary of 2-4 main paragraphs, with each main paragraph containing \n",
    "    the text of the paragraph, the decision it represents (consider, accept, reject, unknown), \n",
    "    and a list of specific recommendations or subparagraphs ('items') under it.\n",
    "    \n",
    "    For example, in one upr the returned 'paragraphs' value will contain something like:\n",
    "    {128: {'decision': 'consider', 'text': string-of-paragraph, 'items': [rec 1, rec 2, ...]}\n",
    "    {129: {'decision': 'accept', 'text': string-of-paragraph, 'items': [rec 1, rec 2, ...]}\n",
    "    {130: {'decision': 'reject', 'text': string-of-paragraph, 'items': [rec 1, rec 2, ...]}\n",
    "    '''\n",
    "    upr = document\n",
    "    \n",
    "    # assign main paragraphs to upr dictionary\n",
    "    upr['mainP'] = mainParagraphs(upr)\n",
    "    \n",
    "    # separate upr out into chunks by mainP, i.e. the support, reject, consider chunks \n",
    "    # by identifying subparagraphs that start with the main paragraph numbers.\n",
    "    upr['chunks'] = {}\n",
    "    for n in upr['mainP']: # i.e. Paragraphs 123, 124, 125.\n",
    "        statements = [s for s in upr['text'] if s.startswith(str(n))] # find a list of lines in each main chunk \n",
    "        upr['chunks'][n] = statements # assign each chunk\n",
    "    del upr['text']\n",
    "    \n",
    "    # parse each chunk into paragraph texts and subitems, assign to 'paragraphs' key \n",
    "    upr['paragraphs'] = {}\n",
    "    for key in upr['chunks'].keys():\n",
    "        dic = {}\n",
    "        dic['text'] = upr['chunks'][key][0] # the main text is always the first paragraph, i.e. the first line.\n",
    "        if len(upr['chunks'][key]) > 1: # find subitems. (everything after 1st line)\n",
    "           dic['items'] = [s for s in upr['chunks'][key][1:]]\n",
    "        else:\n",
    "            dic['items'] = None # some paragraphs have no subitems.\n",
    "        upr['paragraphs'][key] = dic # assign\n",
    "    del upr['chunks']\n",
    "    \n",
    "    # assign decision:\n",
    "    for x in upr['paragraphs'].keys():\n",
    "        text = upr['paragraphs'][x]['text'] \n",
    "        decision = ''\n",
    "        if 'implemented' in text or 'process of implementation' in text:\n",
    "            decision = 'implemented'\n",
    "        elif 'will be examined' in text or 'will examine' in text or \"further examined\" in text or \"Responses to the following recommendations will be provided\" in text or \"will be included in the outcome report\" in text or \"will be provided in due course\" in text or \"course of the discussion\" in text:\n",
    "            decision = 'consider'\n",
    "        elif 'not enjoy the support' in text or 'reject' in text or 'cannot be accepted' in text:\n",
    "            decision = 'reject'\n",
    "        elif 'support' in text and 'did not enjoy the support' not in text:\n",
    "            decision = 'support'\n",
    "        elif 'have been noted by' in text or 'were noted by' in text:\n",
    "            decision = 'noted'\n",
    "        elif 'do not reflect the current situation' in text:\n",
    "            decision = 'reject'\n",
    "        else:\n",
    "            decision = 'unknown'\n",
    "        upr['paragraphs'][x]['decision'] = decision\n",
    "    \n",
    "    # break down multiple paragraph items\n",
    "    for key in upr['paragraphs'].keys():\n",
    "        l = []\n",
    "        if upr['paragraphs'][key]['items'] is not None:\n",
    "            for line in upr['paragraphs'][key]['items']:\n",
    "                n = line.partition(\" \")[0] # main par. (chunk) number\n",
    "                d = ');' # delimiter \n",
    "                s = [e+d for e in line.split(d) if e != \"\"] # split by delimiter, but keep the delimiter.\n",
    "                s = [e for e in s if e.strip()!=');'] # remove lines containing just the delimiter\n",
    "                f = [s[0]] # start a new list\n",
    "                for item in s[1:]:\n",
    "                    f.append(str(n)+'.'+str(s.index(item))+item) # add items to new list, looking as it should\n",
    "                l.append(f) # add newly parsed list to main list of UPR recommendations\n",
    "            l = [i for subitem in l for i in subitem] # flatten list\n",
    "            upr['paragraphs'][key]['items'] = l # assign\n",
    "        \n",
    "    return(upr)"
   ]
  },
  {
   "cell_type": "code",
   "execution_count": 10,
   "metadata": {
    "collapsed": false
   },
   "outputs": [],
   "source": [
    "# apply function to the uprs.\n",
    "newlist = []\n",
    "for doc in l:\n",
    "    try:\n",
    "        newlist.append(parse2014(doc))\n",
    "    except Exception,e:\n",
    "        print str(l.index(doc)) + str(e)"
   ]
  },
  {
   "cell_type": "code",
   "execution_count": 1,
   "metadata": {
    "collapsed": false
   },
   "outputs": [],
   "source": [
    "# check it out\n",
    "newlist[-1]"
   ]
  },
  {
   "cell_type": "markdown",
   "metadata": {},
   "source": [
    "## Testing Testing 123"
   ]
  },
  {
   "cell_type": "code",
   "execution_count": 12,
   "metadata": {
    "collapsed": false
   },
   "outputs": [
    {
     "name": "stdout",
     "output_type": "stream",
     "text": [
      "support\n",
      "136. The recommendations formulated during the interactive dialogue and listed below have been examined by Afghanistan and enjoy its support: \n",
      "\n",
      "consider\n",
      "137. The following recommendations will be examined by Afghanistan, which will provide responses in due time, but no later than the twenty-sixth session of the Human Rights Council in June 2014: \n",
      "\n",
      "reject\n",
      "138. The recommendations below did not enjoy the support of Afghanistan: \n",
      "\n",
      "support\n",
      "104. The recommendations formulated during the interactive dialogue and listed below have been examined by Albania and enjoy the support of Albania: \n",
      "\n",
      "implemented\n",
      "105.  The following recommendations enjoy the support of Albania, which considers that they are in the process of implementation: \n",
      "\n",
      "consider\n",
      "106.  The following recommendations will be examined by Albania, which will provide responses in due time, but no later than the twenty-seventh session of the Human Rights Council, in September 2014: \n",
      "\n",
      "support\n",
      "134. The recommendations formulated during the interactive dialogue and listed below have been examined by and enjoy the support of Angola: \n",
      "\n",
      "consider\n",
      "135. The following recommendations will be examined by Angola, which will respond in due course, but no later than the twenty-eighth session of the Human Rights Council in March 2015: \n",
      "\n",
      "consider\n",
      "120.  Bhutan will examine the following recommendations and provide responses concerning them in due time, but no later than the twenty-seventh session of the Human Rights Council, to be held in September 2014: \n",
      "\n",
      "support\n",
      "118. The following recommendations formulated during the interactive dialogue enjoy the support of Bhutan: \n",
      "\n",
      "implemented\n",
      "119.  Bhutan considers that recommendation 118.1 above has already been implemented. \n",
      "\n",
      "support\n",
      "113.  The recommendations formulated during the interactive dialogue/listed below have been examined by the Plurinational State of Bolivia and enjoy the support of the State party: \n",
      "\n",
      "implemented\n",
      "114.  The following enjoy the support of the Plurinational State of Bolivia which considers that they are already implemented or in the process of implementation. \n",
      "\n",
      "reject\n",
      "115.  The recommendations below did not enjoy the support of the Plurinational State of Bolivia and would thus be noted: \n",
      "\n",
      "reject\n",
      "116.  The Plurinational State of Bolivia considers that the above-mentioned recommendations in paragraph 115 are not up to date, and do not reflect the current situation. \n",
      "\n",
      "consider\n",
      "107. The following recommendations will be examined by Bosnia and Herzegovina which will provide responses in due time, but no later than the twenty-eighth session of the Human Rights Council in March 2015.  \n",
      "\n",
      "consider\n",
      "113. The following recommendations will be examined by Brunei Darussalam, which will respond in due course, but no later than the twenty-seventh session of the Human Rights Council in September 2014: \n",
      "\n",
      "support\n",
      "118. The recommendations formulated during the interactive dialogue and listed below enjoy the support of Cambodia: \n",
      "\n",
      "consider\n",
      "119.  The following recommendations will be examined by Cambodia which will provide responses in due time, but no later than the twenty-sixth session of the Human Rights Council in June 2014: \n",
      "\n",
      "consider\n",
      "121. The following recommendations will be examined by Chile which will provide responses in due time, but no later than the twenty-sixth session of the Human Rights Council in June 2014: \n",
      "\n",
      "reject\n",
      "122.  The recommendation below did not enjoy the support of Chile because Chile considers it does not fall under the competence of the universal periodic review mechanism in accordance with Human Rights Council resolution 5/1. \n",
      "\n",
      "consider\n",
      "112.  The following recommendations will be examined by the Comoros, which will provide responses in due time, but no later than the twenty-sixth session of the Human Rights Council in June 2014: \n",
      "\n",
      "reject\n",
      "113.  The recommendations below did not enjoy the support of the Comoros: \n",
      "\n",
      "support\n",
      "110. The recommendations listed below have been examined by the Comoros and enjoy its support: \n",
      "\n",
      "implemented\n",
      "111.  The following recommendations enjoy the support of the Comoros, which considers that they are already implemented or in the process of implementation: \n",
      "\n",
      "consider\n",
      "128.  The following recommendations will be examined by Costa Rica, which will respond to them in due course, but no later than the twenty-seventh session of the Human Rights Council, in September 2014: \n",
      "\n",
      "implemented\n",
      "127.  The following recommendations enjoy the support of Costa Rica, which considers that they are already being implemented or are in the process of implementation: \n",
      "\n",
      "consider\n",
      "128.  The following recommendations will be examined by C�te d�Ivoire, which will provide responses in due time, but no later than the 27th session of the Human Rights Council in September 2014: \n",
      "\n",
      "reject\n",
      "129.  The following recommendations did not enjoy the support of C�te d�Ivoire and would thus be noted: \n",
      "\n",
      "support\n",
      "127. The recommendations listed below enjoy the support of C�te d�Ivoire: \n",
      "\n",
      "consider\n",
      "114.  The response of Cyprus to the following recommendations will be included in the outcome report adopted by the Human Rights Council at its twenty-sixth session in June 2014: \n",
      "\n",
      "consider\n",
      "124. The following recommendations will be examined by the Democratic People�s Republic of Korea, which will provide responses in due time, but no later than the twenty-seventh session of the Human Rights Council in September 2014: \n",
      "\n",
      "reject\n",
      "125. The following recommendations did not enjoy the support of the Democratic People�s Republic of Korea and would thus be noted: \n",
      "\n",
      "reject\n",
      "136.  The recommendations below did not enjoy the support of the Democratic Republic of the Congo and would thus be noted: \n",
      "\n",
      "support\n",
      "133.  The recommendations formulated during the interactive dialogue/listed below enjoy the support of the Democratic Republic of the Congo: \n",
      "\n",
      "implemented\n",
      "134.  The following recommendations enjoy the support of the Democratic Republic of the Congo which considers that they are already implemented or in the process of implementation: \n",
      "\n",
      "consider\n",
      "135.  The following recommendations will be examined by the Democratic Republic of the Congo which will provide responses in due time, but no later than the twenty-seventh session of the Human Rights Council in September 2014: \n",
      "\n",
      "support\n",
      "93. The recommendations formulated during the interactive dialogue/listed below enjoy the support of Dominica. It was recommended that Dominica: \n",
      "\n",
      "consider\n",
      "94. The following recommendations will be examined by Dominica, which will provide responses in due time, but no later than the twenty-seventh session of the Human Rights Council in September 2014: \n",
      "\n",
      "consider\n",
      "98.  The following recommendations will be examined by the Dominican Republic which will provide responses in due time, but no later than the twenty-sixth session of the Human Rights Council in June 2014: \n",
      "\n",
      "consider\n",
      "166. The following recommendations will be examined by Egypt, which will respond in due course, but no later than the twenty-eighth session of the Human Rights Council in March 2015: \n",
      "\n",
      "implemented\n",
      "104. The following enjoy the support of El Salvador, which considers that they are already implemented or in the process of implementation: \n",
      "\n",
      "consider\n",
      "105. The following recommendations will be examined by El Salvador which will provide responses in due time, but no later than the twenty-eighth session of the Human Rights Council in March 2015: \n",
      "\n",
      "support\n",
      "103. The recommendations formulated during the interactive dialogue/listed below have been examined by El Salvador and enjoy the support of El Salvador: \n",
      "\n",
      "consider\n",
      "122. The following recommendations will be examined by Eritrea, which will respond in due course, but no later than the twenty-sixth session of the Human Rights Council in June 2014. The responses will be included in the outcome report adopted by the Council at its twenty-sixth session: \n",
      "\n",
      "support\n",
      "155. The recommendations formulated during the interactive dialogue listed below enjoy the support of Ethiopia: \n",
      "\n",
      "implemented\n",
      "156.  The following recommendations enjoy the support of Ethiopia which considers that they have already been implemented or are in the process of implementation: \n",
      "\n",
      "consider\n",
      "157.  The following recommendations will be examined by Ethiopia, which will provide responses in due time, but no later than the twenty-seventh session of the Human Rights Council, in September 2014: \n",
      "\n",
      "reject\n",
      "158.  Ethiopia considers that the recommendations below cannot be accepted and will thus be noted: \n",
      "\n",
      "support\n",
      "99. The recommendations formulated during the interactive dialogue and listed below have been examined by and enjoy the support of Fiji: \n",
      "\n",
      "implemented\n",
      "100. The following recommendations enjoy the support of Fiji, which considers that they have already been implemented or are in the process of implementation: \n",
      "\n",
      "consider\n",
      "101. The following recommendations will be examined by Fiji, which will respond to them in due course, but no later than the twenty-eighth session of the Human Rights Council, in March 2015: \n",
      "\n",
      "consider\n",
      "109. The following recommendations will be examined by the Gambia, which will respond in due course, but no later than the twenty-eight session of the Human Rights Council in March 2015: \n",
      "\n",
      "consider\n",
      "72.  The following recommendations will be examined by Guinea, which will provide responses to be included in the outcome report adopted by the Human Rights Council at its fifteenth session, in September 2010: \n",
      "\n",
      "support\n",
      "71. The recommendations formulated during the interactive dialogue and listed below have been examined by Guinea and enjoy its support: \n",
      "\n",
      "consider\n",
      "138. The following recommendations will be examined by the Islamic Republic of Iran, which will provide responses in due course, but no later than the 28th session of the Human Rights Council in March 2015: \n",
      "\n",
      "consider\n",
      "127. The following recommendations will be examined by Iraq which will provide responses in due time, but no later than the twenty-eighth session of the Human Rights Council in March 2015: \n",
      "\n",
      "consider\n",
      "145. The following recommendations will be examined by Italy, which will respond to them in due course, but no later than the twenty-eighth session of the Human Rights Council, in March 2015: \n",
      "\n",
      "implemented\n",
      "124. The following recommendations enjoy the support of Kazakhstan, which considers that they have already been implemented. \n",
      "\n",
      "implemented\n",
      "125. The following recommendations enjoy the support of Kazakhstan, which considers that they are in the process of being implemented. \n",
      "\n",
      "reject\n",
      "126. The following recommendations did not enjoy the support of Kazakhstan and would thus be noted: \n",
      "\n",
      "consider\n",
      "101. The following recommendations will be examined by the former Yugoslav Republic of Macedonia, which will provide responses in due time, but no later than the 26th session of the Human Rights Council in June 2014. \n",
      "\n",
      "support\n",
      "108. The recommendations formulated during the interactive dialogue and listed below have been examined by Madagascar and enjoy its support: \n",
      "\n",
      "consider\n",
      "109. The following recommendations will be examined by Madagascar which will provide responses in due time, but no later than the twenty-eighth session of the Human Rights Council in March 2015: \n",
      "\n",
      "consider\n",
      "128. The following recommendations will be examined by New Zealand, which will provide responses in due time, but no later than the twenty-sixth session of the Human Rights Council in June 2014: \n",
      "\n",
      "support\n",
      "114. The recommendations formulated during the interactive dialogue/listed below have been examined by Nicaragua and enjoy the support of Nicaragua: \n",
      "\n",
      "implemented\n",
      "115.  The following recommendations enjoy the support of Nicaragua, which considers that they are already implemented or in the process of implementation: \n",
      "\n",
      "consider\n",
      "116.  The following recommendations will be examined by Nicaragua, which will provide responses in due time, but no later than the twenty-seventh session of the Human Rights Council, in September 2014: \n",
      "\n",
      "reject\n",
      "117.  Nicaragua considers that the following recommendations cannot be accepted and would thus be noted: \n",
      "\n",
      "reject\n",
      "118.  Concerning recommendations 117.10 and 117.11, put forward by France and Switzerland respectively, Nicaragua would have preferred that they be split into two because it has different positions regarding the two international instruments listed therein. Since this was not possible, the delegation had been forced to place both recommendations in the group of those which do not enjoy the support of Nicaragua and, thus, are noted. The Nicaraguan State has a transparent and well-known position on the Rome Statute of the International Criminal Court, for which it cannot accept any recommendation that requires accession to that international instrument. Nonetheless, the State will sovereignly consider the possibility of becoming a party to the International Convention for the Protection of All Persons from Enforced Disappearance. The Government will send its views vis-�-vis this international instrument along with the position of those recommendations contained in paragraph 116. \n",
      "\n",
      "consider\n",
      "131. The following recommendations will be examined by Norway, which will respond to them in due course, but no later than the twenty-seventh session of the Human Rights Council, in September 2014: \n",
      "\n",
      "noted\n",
      "128.  The recommendations listed below were noted by Portugal: \n",
      "\n",
      "support\n",
      "125. The recommendations formulated during the interactive dialogue listed below enjoy the support of Portugal: \n",
      "\n",
      "implemented\n",
      "126.  The following recommendations enjoy the support of Portugal, which considers that they are already implemented or in the process of implementation: \n",
      "\n",
      "consider\n",
      "127.  The following recommendations will be examined by Portugal, which will provide responses in due time but no later than the twenty-seventh session of the Human Rights Council, in September 2014: \n",
      "\n",
      "support\n",
      "122. The recommendations formulated during the interactive dialogue or listed below enjoy the support of Qatar. It was recommended that Qatar: \n",
      "\n",
      "implemented\n",
      "123.  The following recommendations enjoy the support of Qatar, which considers them to be already implemented or in the process of implementation: \n",
      "\n",
      "consider\n",
      "124.  The following recommendations will be examined by Qatar, which will provide responses in due course, but no later than the twenty-seventh session of the Human Rights Council in September 2014: \n",
      "\n",
      "reject\n",
      "125.  The following recommendations did not enjoy the support of Qatar: \n",
      "\n",
      "noted\n",
      "80. The recommendations listed below have been noted by San Marino: \n",
      "\n",
      "support\n",
      "78. The recommendations formulated during the interactive dialogue and listed below have been examined by San Marino and enjoy the support of San Marino: \n",
      "\n",
      "consider\n",
      "79. The following recommendations will be examined by San Marino, which will respond in due course, but no later than the twenty-eighth session of the Human Rights Council in March 2015. The responses will be included in the outcome report adopted by Council at its twenty-eighth session: \n",
      "\n",
      "consider\n",
      "110. The following recommendations will be examined by Slovakia which will provide responses in due time, but no later than the twenty-sixth session of the Human Rights Council in June 2014: \n",
      "\n",
      "consider\n",
      "115. The recommendations listed below will be examined by Slovenia which will provide responses in due time, but no later than the twenty-eighth session of the Human Rights  Council in March 2015: \n",
      "\n",
      "support\n",
      "123. The recommendations listed below enjoy the support of Uruguay: \n",
      "\n",
      "reject\n",
      "124.  The recommendation below did not enjoy the support of Uruguay: \n",
      "\n",
      "reject\n",
      "125.  Uruguay rejects the recommendation made by the delegation of Bangladesh. Uruguay effectively protects the family institution, including through laws embodied in the National Constitution on a wide and non-discriminatory basis, rejecting to limit the concept of family on grounds of gender identity, sexual orientation or any other reason, in accordance with our national legislation and the highest international standards on human rights protection. \n",
      "\n",
      "consider\n",
      "99. The following recommendations will be examined by Vanuatu which will provide responses in due time, but no later than the twenty-sixth session of the Human Rights Council in June 2014: \n",
      "\n",
      "consider\n",
      "143. The following recommendations will be examined by Viet Nam, which will provide responses in due time, but no later than the 26th session of the Human Rights Council in June 2014. \n",
      "\n",
      "support\n",
      "115. The recommendations formulated during the interactive dialogue and listed below enjoy the support of Yemen: \n",
      "\n",
      "implemented\n",
      "116.  Yemen considers that recommendation 115.10 above has already been implemented. \n",
      "\n",
      "consider\n",
      "117.  The following recommendations will be examined by Yemen, which will respond in due course, but no later than the twenty-sixth session of the Human Rights Council in June 2014.  \n",
      "\n"
     ]
    }
   ],
   "source": [
    "# Take a look at the main paragraphs\n",
    "for x in newlist:\n",
    "    for paragraph in x['paragraphs']:\n",
    "        print x['paragraphs'][paragraph]['decision']\n",
    "        print x['paragraphs'][paragraph]['text'] + ('\\n')\n",
    "\n",
    "### TODO ####\n",
    "# export this data somehow"
   ]
  },
  {
   "cell_type": "code",
   "execution_count": 13,
   "metadata": {
    "collapsed": false,
    "scrolled": true
   },
   "outputs": [],
   "source": [
    "# which decisions are 'unknown'?\n",
    "for x in newlist:\n",
    "    for paragraph in x['paragraphs']:\n",
    "        if x['paragraphs'][paragraph]['decision'] == 'unknown':\n",
    "            print x['country'] + x['year'] + ('\\n')\n",
    "            print x['paragraphs'][paragraph]['text'] + ('\\n')"
   ]
  },
  {
   "cell_type": "code",
   "execution_count": 14,
   "metadata": {
    "collapsed": false
   },
   "outputs": [
    {
     "data": {
      "text/plain": [
       "\"\\nwith open('specialpars.txt', 'a') as f:\\n    for upr in newlist:\\n        for paragraph in upr['paragraphs']:\\n            if upr['paragraphs'][paragraph]['items'] is None:\\n                f.write(upr['country'] + upr['year'] + ('\\n'))\\n                f.write(upr['paragraphs'][paragraph]['text'] + ('\\n\\n'))\\n\""
      ]
     },
     "execution_count": 14,
     "metadata": {},
     "output_type": "execute_result"
    }
   ],
   "source": [
    "# write paragraphs with no subitems\n",
    "'''\n",
    "with open('specialpars.txt', 'a') as f:\n",
    "    for upr in newlist:\n",
    "        for paragraph in upr['paragraphs']:\n",
    "            if upr['paragraphs'][paragraph]['items'] is None:\n",
    "                f.write(upr['country'] + upr['year'] + ('\\n'))\n",
    "                f.write(upr['paragraphs'][paragraph]['text'] + ('\\n\\n'))\n",
    "'''"
   ]
  },
  {
   "cell_type": "code",
   "execution_count": 15,
   "metadata": {
    "collapsed": false
   },
   "outputs": [],
   "source": [
    "# make dictionaries for each individual recommendation item, containing the text, to country, from country, and decision\n",
    "for upr in newlist:\n",
    "    l = []\n",
    "    for key in upr['paragraphs'].keys():\n",
    "        if upr['paragraphs'][key]['items'] is not None:\n",
    "            for item in upr['paragraphs'][key]['items']:\n",
    "                dic = {}\n",
    "                dic['to'] = upr['country']\n",
    "                dic['year'] = upr['year']\n",
    "                dic['decision'] = upr['paragraphs'][key]['decision']\n",
    "                dic['from'] = item.split('(')[-1].split(')')[0]\n",
    "                dic['text'] = item\n",
    "                l.append(dic)\n",
    "    upr['recs'] = l       "
   ]
  },
  {
   "cell_type": "code",
   "execution_count": 16,
   "metadata": {
    "collapsed": false
   },
   "outputs": [
    {
     "data": {
      "text/plain": [
       "191"
      ]
     },
     "execution_count": 16,
     "metadata": {},
     "output_type": "execute_result"
    }
   ],
   "source": [
    "len(newlist[-1]['recs'])"
   ]
  },
  {
   "cell_type": "code",
   "execution_count": 17,
   "metadata": {
    "collapsed": false
   },
   "outputs": [
    {
     "data": {
      "text/plain": [
       "7616"
      ]
     },
     "execution_count": 17,
     "metadata": {},
     "output_type": "execute_result"
    }
   ],
   "source": [
    "# cat recs into a list\n",
    "recslist = []\n",
    "for doc in newlist:\n",
    "    for rec in doc['recs']:\n",
    "        recslist.append(rec)\n",
    "len(recslist)"
   ]
  },
  {
   "cell_type": "markdown",
   "metadata": {},
   "source": [
    "## write csv"
   ]
  },
  {
   "cell_type": "code",
   "execution_count": 18,
   "metadata": {
    "collapsed": false
   },
   "outputs": [
    {
     "data": {
      "text/plain": [
       "['text', 'to', 'decision', 'from', 'year']"
      ]
     },
     "execution_count": 18,
     "metadata": {},
     "output_type": "execute_result"
    }
   ],
   "source": [
    "#writing column headings\n",
    "keys = recslist[0].keys()\n",
    "keys"
   ]
  },
  {
   "cell_type": "code",
   "execution_count": 19,
   "metadata": {
    "collapsed": false
   },
   "outputs": [],
   "source": [
    "#writing the rest\n",
    "with open('../Data/year-csvs/2013data.csv', 'wb') as output_file:\n",
    "    dict_writer = csv.DictWriter(output_file, keys)\n",
    "    dict_writer.writeheader()\n",
    "    dict_writer.writerows(recslist)"
   ]
  },
  {
   "cell_type": "code",
   "execution_count": 105,
   "metadata": {
    "collapsed": false
   },
   "outputs": [],
   "source": []
  },
  {
   "cell_type": "code",
   "execution_count": 105,
   "metadata": {
    "collapsed": false
   },
   "outputs": [],
   "source": []
  }
 ],
 "metadata": {
  "kernelspec": {
   "display_name": "Python 2",
   "language": "python",
   "name": "python2"
  },
  "language_info": {
   "codemirror_mode": {
    "name": "ipython",
    "version": 2
   },
   "file_extension": ".py",
   "mimetype": "text/x-python",
   "name": "python",
   "nbconvert_exporter": "python",
   "pygments_lexer": "ipython2",
   "version": "2.7.9"
  }
 },
 "nbformat": 4,
 "nbformat_minor": 0
}
