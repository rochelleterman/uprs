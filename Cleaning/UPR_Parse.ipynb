{
 "cells": [
  {
   "cell_type": "markdown",
   "metadata": {},
   "source": [
    "# Parsing\n",
    "\n",
    "This script parses raw texts into a spreadsheet."
   ]
  },
  {
   "cell_type": "code",
   "execution_count": 21,
   "metadata": {
    "collapsed": false
   },
   "outputs": [],
   "source": [
    "import os\n",
    "import re\n",
    "import csv\n",
    "from operator import itemgetter\n",
    "from itertools import groupby"
   ]
  },
  {
   "cell_type": "markdown",
   "metadata": {},
   "source": [
    "## Some helpful functions"
   ]
  },
  {
   "cell_type": "code",
   "execution_count": 22,
   "metadata": {
    "collapsed": false
   },
   "outputs": [],
   "source": [
    "def mergeLines(l):\n",
    "    '''\n",
    "    This function takes in a list of lines and merge broken paragraph lines \n",
    "    (merge all lines if they don't start with a number)\n",
    "    '''\n",
    "    i = 0\n",
    "    while i < len(l):\n",
    "        if not l[i][0].isdigit():\n",
    "            l[i-1:i+1] = [' '.join(l[i-1:i+1])]\n",
    "        else:\n",
    "            i = i+1\n",
    "    return(l)"
   ]
  },
  {
   "cell_type": "code",
   "execution_count": 23,
   "metadata": {
    "collapsed": false
   },
   "outputs": [],
   "source": [
    "# function to find main paragraphs numbers in each upr\n",
    "def mainParagraphs(upr):\n",
    "    '''\n",
    "    This function takes in a upr and returns the main paragraph numbers in the 'recommendations' section.\n",
    "    There are usually 2-4 main paragraphs. Sometimes I refer to these main paragraph sections as \"chunks\".\n",
    "    '''\n",
    "    firstParagraph = upr['text'][0].partition(\" \")[0]\n",
    "    if '.' in firstParagraph:\n",
    "            firstParagraph = firstParagraph.replace(\".\",\"\")\n",
    "    mainParagraphs = []\n",
    "\n",
    "    for line in upr['text']:\n",
    "        paragraph = line.partition(\" \")[0]\n",
    "        if paragraph[-1] == '.':\n",
    "            paragraph = paragraph[:-1]\n",
    "                \n",
    "        mainParagraphs.append(float(paragraph))\n",
    "        \n",
    "    # make a list of the main paragraph numbers\n",
    "    mainParagraphs = set([int(n) for n in mainParagraphs if int(n)>= int(firstParagraph)])\n",
    "    return mainParagraphs   "
   ]
  },
  {
   "cell_type": "markdown",
   "metadata": {},
   "source": [
    "## Read in Data\n",
    "\n",
    "This for loop will reach in each UPR in a certain date (e.g. 2013) and parse it into a dictionary with country, year, and text keys. The *text* value will be a list of the main paragraphs in the recommendations section of the UPR"
   ]
  },
  {
   "cell_type": "code",
   "execution_count": 24,
   "metadata": {
    "collapsed": false
   },
   "outputs": [
    {
     "name": "stdout",
     "output_type": "stream",
     "text": [
      "processing haiti2011.txt...\n"
     ]
    }
   ],
   "source": [
    "l=[]\n",
    "dir = '../Data/raw-data/txts'\n",
    "for file_name in os.listdir(dir):\n",
    "    broken = []\n",
    "    if file_name.endswith(\".txt\") and 'haiti2011' in file_name:\n",
    "        print 'processing ' + file_name + '...'\n",
    "        try:\n",
    "            dic = {}\n",
    "            dic['country'] = file_name[:-8]\n",
    "            dic['year'] = file_name[-8:-4]\n",
    "            f = open(dir + '/' + file_name,'rU')\n",
    "            x = f.read() # read in text\n",
    "            f.close\n",
    "            x = x.split('\\n') # make a list\n",
    "            x = filter(None, x) # get rid of empty string items       \n",
    "             \n",
    "            # take only the conclusions and/or recommendations section\n",
    "            ConclusionsStart = x.index([s for s in x if \"conclusions and/or recommendations\" in s.lower()][1]) #startin from bottom\n",
    "            ConclusionsEnd = x.index([s for s in x if \"conclusions and/or recommendations\" in s.lower()][2]) # the last one is the disclaimer\n",
    "            x = x[ConclusionsStart+1:ConclusionsEnd+1] \n",
    "            \n",
    "            # get rid of the weird lines\n",
    "            x = [s for s in x if '**' not in s]\n",
    "            x = [s for s in x if 'recommendations have not been edited.' not in s]\n",
    "            x = [s for s in x if 'recommendations will not be edited.' not in s]\n",
    "            x = [s.replace('\\xd2','') for s in x]\n",
    "            x = [s.replace('\\t','') for s in x]\n",
    "            x = [s.lstrip(\" \") for s in x]\n",
    "            \n",
    "            # get rid of footnotes:\n",
    "            for s in x:\n",
    "                if s.rstrip()[-1].isdigit():\n",
    "                    x[x.index(s)] = s.rstrip()[:-1]\n",
    "            for s in x:\n",
    "                if s.rstrip()[-1].isdigit():\n",
    "                    x[x.index(s)] = s.rstrip()[:-1]\n",
    "\n",
    "            # merge lines so that each line is its own paragraph, starting with a paragraph number\n",
    "            x = mergeLines(x)\n",
    "                       \n",
    "            # get rid of that disclaimer paragraph\n",
    "            x = [s for s in x if 'endorsed by the working group' not in s.lower()]\n",
    "            \n",
    "            # make sure everything is a string\n",
    "            dic['text'] = [str(s) for s in x]\n",
    "            \n",
    "            # append to list\n",
    "            l.append(dic)\n",
    "              \n",
    "        except Exception,e:\n",
    "            broken.append(file_name +str(e)) "
   ]
  },
  {
   "cell_type": "code",
   "execution_count": 25,
   "metadata": {
    "collapsed": false
   },
   "outputs": [
    {
     "data": {
      "text/plain": [
       "[]"
      ]
     },
     "execution_count": 25,
     "metadata": {},
     "output_type": "execute_result"
    }
   ],
   "source": [
    "# check if anything broke\n",
    "broken"
   ]
  },
  {
   "cell_type": "markdown",
   "metadata": {},
   "source": [
    "## If the document does not follow the 67.1, 67.2 format, fix it:"
   ]
  },
  {
   "cell_type": "code",
   "execution_count": 26,
   "metadata": {
    "collapsed": false
   },
   "outputs": [],
   "source": [
    "def getnumber(line):\n",
    "            try:\n",
    "                number = int(line.partition(\".\")[0])\n",
    "            except:\n",
    "                number= int(line.partition(\" \")[0])\n",
    "            return(number)"
   ]
  },
  {
   "cell_type": "code",
   "execution_count": 27,
   "metadata": {
    "collapsed": false
   },
   "outputs": [],
   "source": [
    "for upr in range(len(l)):\n",
    "    x = l[upr]['text'] \n",
    "    firstParagraph = x[0].partition(\".\")[0]\n",
    "    secondParagraph = x[1].partition(\".\")[0]\n",
    "\n",
    "    if firstParagraph == secondParagraph:\n",
    "        pass\n",
    "\n",
    "    else:\n",
    "        try:\n",
    "            # make a list of paragraph numbers as they appear in document\n",
    "            numbers = []\n",
    "            for line in x:\n",
    "                numbers.append(getnumber(line))   \n",
    "        \n",
    "            # group that list by sequential numbers\n",
    "            grouped = []\n",
    "            for k, g in groupby(enumerate(numbers), lambda (i,x):i-x):\n",
    "                grouped.append(map(itemgetter(1), g))\n",
    "            \n",
    "            # tack on main paragraph number to subparagraphs\n",
    "            groupedNumbers = []\n",
    "            for list in grouped:\n",
    "                if list[0] != 1:\n",
    "                    n = list[-1]\n",
    "                    groupedNumbers.append([str(i) for i in list])\n",
    "                if list[0] == 1:\n",
    "                    groupedNumbers.append([str(n)+'.'+str(number) for number in list])\n",
    "            \n",
    "            # make the list presentable\n",
    "            groupedCollapsed = [item for sublist in groupedNumbers for item in sublist]\n",
    "        \n",
    "            # make new statements\n",
    "            numberedStatements = []\n",
    "            for i in range(len(x)):\n",
    "                text = x[i]\n",
    "                woParagraph = text[len(str(numbers[i]))+1:]\n",
    "                withnewParagraph = groupedCollapsed[i] + ' ' + woParagraph\n",
    "                numberedStatements.append(withnewParagraph)\n",
    "    \n",
    "            l[upr]['text'] = numberedStatements\n",
    "        \n",
    "        except Exception,e:\n",
    "            print str(e)\n",
    "            broken.append(l[upr]['country'] + l[upr]['year']+str(e))"
   ]
  },
  {
   "cell_type": "code",
   "execution_count": 28,
   "metadata": {
    "collapsed": false
   },
   "outputs": [
    {
     "name": "stdout",
     "output_type": "stream",
     "text": [
      "88.1 Examine the possibility to accede to the International Covenant on Economic, Social and Cultural Rights (Algeria); \n"
     ]
    }
   ],
   "source": [
    "# take a look at the second rec of the first 10 uprs\n",
    "for x in l:\n",
    "    print x['text'][1]"
   ]
  },
  {
   "cell_type": "code",
   "execution_count": 29,
   "metadata": {
    "collapsed": false
   },
   "outputs": [],
   "source": [
    "def parse2014(document):\n",
    "    '''\n",
    "    This function passes a UPR and parse the 'text' value into well structured format, \n",
    "    i.e. a nested (array-like) dictionary of 2-4 main paragraphs, with each main paragraph containing \n",
    "    the text of the paragraph, the decision it represents (consider, accept, reject, unknown), \n",
    "    and a list of specific recommendations or subparagraphs ('items') under it.\n",
    "    \n",
    "    For example, in one upr the returned 'paragraphs' value will contain something like:\n",
    "    {128: {'decision': 'consider', 'text': string-of-paragraph, 'items': [rec 1, rec 2, ...]}\n",
    "    {129: {'decision': 'accept', 'text': string-of-paragraph, 'items': [rec 1, rec 2, ...]}\n",
    "    {130: {'decision': 'reject', 'text': string-of-paragraph, 'items': [rec 1, rec 2, ...]}\n",
    "    '''\n",
    "    upr = document\n",
    "    \n",
    "    # assign main paragraphs to upr dictionary\n",
    "    upr['mainP'] = mainParagraphs(upr)\n",
    "    \n",
    "    # separate upr out into chunks by mainP, i.e. the support, reject, consider chunks \n",
    "    # by identifying subparagraphs that start with the main paragraph numbers.\n",
    "    upr['chunks'] = {}\n",
    "    for n in upr['mainP']: # i.e. Paragraphs 123, 124, 125.\n",
    "        statements = [s for s in upr['text'] if s.startswith(str(n))] # find a list of lines in each main chunk \n",
    "        upr['chunks'][n] = statements # assign each chunk\n",
    "    del upr['text']\n",
    "    \n",
    "    # parse each chunk into paragraph texts and subitems, assign to 'paragraphs' key \n",
    "    upr['paragraphs'] = {}\n",
    "    for key in upr['chunks'].keys():\n",
    "        dic = {}\n",
    "        dic['text'] = upr['chunks'][key][0] # the main text is always the first paragraph, i.e. the first line.\n",
    "        if len(upr['chunks'][key]) > 1: # find subitems. (everything after 1st line)\n",
    "           dic['items'] = [s for s in upr['chunks'][key][1:]]\n",
    "        else:\n",
    "            dic['items'] = None # some paragraphs have no subitems.\n",
    "        upr['paragraphs'][key] = dic # assign\n",
    "    del upr['chunks']\n",
    "    \n",
    "    # assign decision:\n",
    "    for x in upr['paragraphs'].keys():\n",
    "        text = upr['paragraphs'][x]['text'] \n",
    "        decision = ''\n",
    "        if 'implemented' in text or 'process of implementation' in text:\n",
    "            decision = 'implemented'\n",
    "        elif 'will be examined' in text or 'will examine' in text or \"further examined\" in text or \"Responses to the following recommendations will be provided\" in text or \"will be included in the outcome report\" in text or \"will be provided in due course\" in text or \"course of the discussion\" in text:\n",
    "            decision = 'consider'\n",
    "        elif 'not enjoy the support' in text or 'reject' in text or 'cannot be accepted' in text:\n",
    "            decision = 'reject'\n",
    "        elif 'support' in text and 'did not enjoy the support' not in text:\n",
    "            decision = 'support'\n",
    "        elif 'have been noted by' in text or 'were noted by' in text:\n",
    "            decision = 'noted'\n",
    "        elif 'do not reflect the current situation' in text:\n",
    "            decision = 'reject'\n",
    "        else:\n",
    "            decision = 'unknown'\n",
    "        upr['paragraphs'][x]['decision'] = decision\n",
    "    \n",
    "    # break down multiple paragraph items\n",
    "    for key in upr['paragraphs'].keys():\n",
    "        l = []\n",
    "        if upr['paragraphs'][key]['items'] is not None:\n",
    "            for line in upr['paragraphs'][key]['items']:\n",
    "                n = line.partition(\" \")[0] # main par. (chunk) number\n",
    "                d = ');' # delimiter \n",
    "                s = [e+d for e in line.split(d) if e != \"\"] # split by delimiter, but keep the delimiter.\n",
    "                s = [e for e in s if e.strip()!=');'] # remove lines containing just the delimiter\n",
    "                f = [s[0]] # start a new list\n",
    "                for item in s[1:]:\n",
    "                    f.append(str(n)+'.'+str(s.index(item))+item) # add items to new list, looking as it should\n",
    "                l.append(f) # add newly parsed list to main list of UPR recommendations\n",
    "            l = [i for subitem in l for i in subitem] # flatten list\n",
    "            upr['paragraphs'][key]['items'] = l # assign\n",
    "        \n",
    "    return(upr)"
   ]
  },
  {
   "cell_type": "code",
   "execution_count": 30,
   "metadata": {
    "collapsed": false
   },
   "outputs": [],
   "source": [
    "# apply function to the uprs.\n",
    "newlist = []\n",
    "for doc in l:\n",
    "    try:\n",
    "        newlist.append(parse2014(doc))\n",
    "    except Exception,e:\n",
    "        print str(l.index(doc)) + str(e)"
   ]
  },
  {
   "cell_type": "code",
   "execution_count": 31,
   "metadata": {
    "collapsed": false
   },
   "outputs": [
    {
     "data": {
      "text/plain": [
       "{'country': 'haiti',\n",
       " 'mainP': {88},\n",
       " 'paragraphs': {88: {'decision': 'consider',\n",
       "   'items': ['88.1 Examine the possibility to accede to the International Covenant on Economic, Social and Cultural Rights (Algeria);',\n",
       "    '88.2 Consider ratifying the ICESCR and continue to strengthen institutions of democratic governance (South Africa);',\n",
       "    '88.3 Further ratify the International Covenant on Economic, Social and Cultural Rights and the Convention against Torture (Ghana);',\n",
       "    '88.4 Strengthen its judicial framework by acceding to the International Covenant on Economic, Social and Cultural Rights, to the two Optional Protocols to the International Covenant on the Political and Civilian Rights, to the Convention on Torture and Other Cruel, Inhuman or Degrading Treatments or Punishments and to the International Convention for the Protection of All Persons from Enforced Disappearances (France);',\n",
       "    '88.5 Ratify the International Covenant on Economic, Social and Cultural Rights, the Convention against Torture and the Optional Protocol to the Convention on the Rights of the Child on the sale of children, child prostitution and child pornography (Poland);',\n",
       "    '88.6 Sign and ratify the Convention against Torture and ICESCR; and ratify CED (Spain);',\n",
       "    '88.7 Ratify the Optional Protocol to the Convention on the Rights of the Child on the sale of children, child prostitution and child pornography and the Hague Convention on Protection of Children and Co-operation in Respect of Intercountry Adoption (Norway);',\n",
       "    '88.8 Consider ratifying or acceding to, as appropriate, the two Optional Protocols to CRC (Uruguay);',\n",
       "    '88.9 Sign as soon as possible the two Optional Protocols to the Convention on the Rights of the Child (Djibouti);',\n",
       "    '88.10 Continue its work to ratify the Law on Adoption and the Hague Convention on the Protection of Children and Co-operation in Respect of Intercountry Adoption (Honduras);',\n",
       "    '88.11 Ratify and implement the 1993 Hague Convention on Protection of Children and Co-operation in Respect of Intercountry Adoption (Switzerland);',\n",
       "    '88.12 Study the possibility of ratifying the International Covenant on Economic, Social and Cultural Rights; the Convention for the Protection of All Persons from Enforced Disappearance; the Convention against Torture; and the International Convention on the Protection of the Rights of All Migrant Workers and Members of Their Families (Argentina);',\n",
       "    '88.13 Ratify the Convention against Torture (Norway);',\n",
       "    '88.14 Sign and ratify the Convention against Torture and Other Cruel, Inhuman or Degrading Treatment or Punishment (Belgium);',\n",
       "    '88.15 Ratify the Convention against Torture and its Optional Protocol to and set up a National Preventive Mechanism accordingly (Maldives);',\n",
       "    '88.16 Proceed to sign and ratify the Second Protocol to the ICCPR (Spain);',\n",
       "    '88.17 Ratify the Optional Protocol to the Convention on the Elimination of All Forms of Discrimination against Women (CEDAW) (Hungary);',\n",
       "    '88.18 Accede to the 1954 Convention relating to the Status of Stateless Persons as well as the 1961 Convention on the Reduction of Statelessness (Norway);',\n",
       "    '88.19 Ratify the international instruments combating statelessness, and consider a reform of the civil status guaranteeing the rights of all Haitians, including those who live abroad (France);',\n",
       "    '88.20 Ratify the UNESCO Convention against discrimination in Education (Hungary);',\n",
       "    '88.21 Adopt and implement without delay a Children\\xd5s Code incorporating the provisions of international human rights treaties, in particular the United Nations Convention on the Rights of the Child, ILO Convention No. 182 on the Worst Forms of Child Labour, and ILO Convention No. 138 on the Minimum Age for Admission to Employment (Poland);',\n",
       "    '88.22 Continue deploying its best efforts to consolidate and strengthen its institutional capacities (Peru);',\n",
       "    '88.23 Continue the efforts to establish a national institution to promote and protect human rights in the country (Argentina);',\n",
       "    '88.24 Establish a National Human Rights Institution (Maldives);',\n",
       "    '88.25 Establish a National Human Rights Institution in compliance with the Paris Principles (South Africa);',\n",
       "    '88.26 Establish a national human rights institution that is compliant with the Paris Principles (Australia);',\n",
       "    '88.27 Establish a national human rights institution according to the Paris Principles (Portugal);',\n",
       "    '88.28 Begin the accreditation process (with the International Coordinating Committee of the National Human Rights Institutions), as the Paris Principles play an important role in the promotion and protection of international human rights standards at the national level (Hungary);',\n",
       "    '88.29 Continue implementing strategies and plans of socioeconomic development of the country (Cuba);',\n",
       "    '88.30 Continue with the plan of national reconstruction (Venezuela);',\n",
       "    '88.31 Continue favouring the human rights approach in the reconstruction framework (Chile);',\n",
       "    '88.32 Adopt a human rights based approach to its reconstruction and development process (Thailand);',\n",
       "    '88.33 Incorporate chapters on human rights in the reconstruction and development national plan, to facilitate their implementation by all authorities (Mexico);',\n",
       "    '88.34 Overcome the challenges arising from the dramatic earthquake in 2010 by integrating a human rights approach into all its policies and practices (Portugal);',\n",
       "    '88.35 Ensure that the rights of women and girls are protected during the recovery process, including protecting them from violence (Australia);',\n",
       "    '88.36 Take into account in the reconstruction plans and programs, the needs and rights of persons with disabilities (Colombia);',\n",
       "    '88.37 Consider the needs of people with disabilities in reconstruction efforts (Slovenia);',\n",
       "    '88.38 Take into account accessibility for persons with disabilities in the reconstruction process (Thailand);',\n",
       "    '88.39 Ensure that during the rebuilding process the needs for accessibility of persons with disabilities are taken into account pursuant current international rules and best practices (Costa Rica);',\n",
       "    '88.40 Take the most appropriate measures to better protect children with disabilities (Djibouti);',\n",
       "    '88.41 Continue focusing its efforts to carry out its plan for national reconstruction, allowing citizen participation and paying special attention to the most vulnerable sectors of society (Nicaragua);',\n",
       "    '88.42 Provide greater protections and assistance for member of vulnerable groups and uphold the rights of vulnerable groups by combating gender-based violence, child labour, statelessness, and human trafficking more broadly (United States);',\n",
       "    '88.43 Include a section aiming at promoting the human rights into the National Strategy on the Rule of Law (Canada);',\n",
       "    '88.44 Increase efforts to strengthen the rule of law (Slovenia);',\n",
       "    '88.45 Elaborate a national action plan on the promotion and protection of human rights (South Africa);',\n",
       "    '88.46 Continue the projects addressed to improve the human rights situation in Haiti, particularly the free and universal schooling and the reform of the judiciary (Costa Rica);',\n",
       "    '88.47 Continue progressing with its efforts to strengthen the National Police with the aim of consolidating a police force that guarantees the due safety of citizens to exercise their fundamental rights (Colombia);',\n",
       "    '88.48 Enhance the capacity of the Haitian National Police to respect and protect human rights through specialized training (United States);',\n",
       "    '88.49 Engage fully with civil society in tackling the issues of housing and justice, and women\\xd5s and children\\xd5s rights (United Kingdom);',\n",
       "    '88.50 Continue its cooperation with the mechanisms of the (Human Rights) Council (Brazil);',\n",
       "    '88.51 Seek technical expertise and work with OHCHR to prepare a Common Core Document that would alleviate its treaty-reporting burden (Maldives);',\n",
       "    '88.52 Continue the cooperation with the Special Procedures and the United Nations High Commissioner for Human Rights in their work to promote and protect human rights (Paraguay);',\n",
       "    '88.53 Extend a standing invitation to all thematic Special Procedures of the Human Rights Council (Portugal);',\n",
       "    '88.54 Issue a standing invitation to all special procedures (Spain);',\n",
       "    '88.55 Consider extending a standing invitation to all special procedures of the Human Rights Council (Latvia);',\n",
       "    '88.56 Consider extending an open invitation to all Special Procedures mandate holders with the aim of maximizing the efficiency of international cooperation in the national reconstruction and in the promotion and protection of all human rights of the Haitian people (Peru);',\n",
       "    '88.57 Pursue the cooperation with the Independent Expert on the situation of Human Rights in Haiti, who plays an important role, in particular in calling for the attention of the international community on the situation in the field and therefore contributing to the supply of technical assistance (France);',\n",
       "    '88.58 Continue working closely with the Independent Expert on the situation of human rights in Haiti (Peru);',\n",
       "    '88.59 Continue strengthening the work and cooperation ties among the Haitian human rights organisations and the Human Rights Section of MINUSTAH (Chile);',\n",
       "    '88.60 Place emphasis on implementing strong policies to effectively fight all forms of stereotypes and discrimination against girls and women, thereby ensuring their right to social and economic security (Trinidad and Tobago);',\n",
       "    '88.61 Adopt effective measures to prevent discrimination against women, including by ensuring equal access to education and employment opportunities (Slovenia);',\n",
       "    '88.62 Develop strategies, containing both legal and social measures, to eliminate discriminatory stereotyping of the roles of women and violence against them (Thailand);',\n",
       "    '88.63 Take all the necessary steps to respect the Article 26 of the Haitian Constitution stipulating that the preventive custody should not exceed 48 hours (Canada);',\n",
       "    '88.64 Improve the conditions in prisons, try all persons held in preventive detention within a reasonable period of time and ensure that juveniles are not held in pre-trial detention (Slovenia);',\n",
       "    '88.65 Establish a fast track system for reviewing cases of prolonged preventive detention in order to reduce as soon as possible the prisons\\xd5 population and improve the health and food situation of the population incarcerated (Spain);',\n",
       "    '88.66 Develop and implement a strategy aiming at improving as soon as possible the conditions of detention for prisoners (Canada);',\n",
       "    '88.67 Take steps to improve prison conditions (United States);',\n",
       "    '88.68 Improve the conditions of detention, notably by reducing the overcrowding in the prisons (Belgium);',\n",
       "    '88.69 Take urgent measures against prison overcrowding by favouring alternative measures to separate persons (Switzerland);',\n",
       "    '88.70 Continue to try to ameliorate prison conditions (Sweden);',\n",
       "    '88.71 Guarantee to prisoners access to basic medical care and adequate food (Switzerland);',\n",
       "    '88.72 Address the infrastructural needs of country\\xd5s penitentiary system, including inmate\\xd5s access to food, water and sanitation as well as health care (Slovakia);',\n",
       "    '88.73 Strengthen the protection of minors by providing separate places of detention for adults and minors, by supporting the activities of social organisations to combat child forced labour and by ensuring basic education for all (Belgium);',\n",
       "    '88.74 Take continued action to combat violence against women and girl children (Sri Lanka);',\n",
       "    '88.75 Undertake new actions to put an end to violence against women and girls and do its utmost to eliminate discriminatory practices (Luxembourg);',\n",
       "    '88.76 Intensify the efforts for the prevention, punishment and eradication of all forms of violence against women, with a special attention to their greater vulnerability in the aftermath of the earthquake (Argentina);',\n",
       "    '88.77 Undertake a serious and credible study on the extent of violence against women, particularly the impact of humanitarian crisis on the issue, with a view to develop meaningful strategies to curb and eradicate violence against women (Maldives);',\n",
       "    '88.78 Take all the measures necessary, in particular by reinforcing the current structures, to play a leadership role to prevent and combat violence against women and children, including sexual abuses, especially in the displacement camps (Canada);',\n",
       "    '88.79 Make progress in implementing the initiatives to prevent sexual and gender violence, especially among the displaced population, which have been developed by the Ministry of Gender and Women\\xd5s Rights (Colombia);',\n",
       "    '88.80 Take further measures to ensure that the police and justice system deals diligently with gender-based violence and that the country promotes better training for police officers in responding to victims of sexual violence (Norway);',\n",
       "    '88.81 Ensure that the police are trained to deal impartially with women reporting gender based violence, and that all such complaints are fully investigated and prosecuted (United Kingdom);',\n",
       "    '88.82 Provide better training to police when dealings with girls victims of sexual violence (Djibouti);',\n",
       "    '88.83 Increase efforts to combat all forms of human trafficking (Slovenia);',\n",
       "    '88.84 Adopt an adequate legal framework in line with its commitments under the Palermo Protocol to combat human trafficking (Norway);',\n",
       "    '88.85 Adopt the bill on Trafficking of Children (Honduras);',\n",
       "    '88.86 Pass implementing legislation before the Parliament for the Protocol to Prevent, Suppress and Punish Trafficking in Persons, especially Women and Children (Australia);',\n",
       "    '88.87 Intensify its efforts to combat all forms of trafficking in women and girls through, inter alia, the adoption of the bill on all forms of trafficking, ensuring that the new law provides for the prosecution and punishment of perpetrators of such acts and the effective protection of victims (Uruguay);',\n",
       "    '88.88 Introduce legislation to prohibit trafficking in children (Djibouti);',\n",
       "    '88.89 Enact legislation that criminalizes all forms of trafficking in persons and provides appropriate prescribed penalties (United States);',\n",
       "    '88.90 Intensify bilateral and multilateral cooperation with neighbouring countries to combat acts of trafficking in women and girls (Uruguay);',\n",
       "    '88.91 Continue its efforts to combat child domestic labour and trafficking in children (Burkina Faso);',\n",
       "    '88.92 Take further steps to deal with the problem of child domestic workers and abolish children abuse (Turkey);',\n",
       "    '88.93 Take all necessary measures to eliminate the practice of children in domestic servitude, which had been referred to by the Special Rapporteur on contemporary forms of slavery as a modern form of slavery\\xd3 (Sweden);',\n",
       "    '88.94 Reinforce measures designed to prevent and combat the widespread economic exploitation of children, in line with country\\xd5s international commitments, notably ILO Conventions No. 138 and 182, with particular focus on minors living in earthquake-hit and rural areas (Slovakia);',\n",
       "    '88.95 Review its legislation on the minimum age for child labour in order to avoid domestic exploitation (Democratic Republic of the Congo);',\n",
       "    '88.96 To put in place everything to combat child exploitation notably to follow up on the recommendations made by the Independent Expert on this subject (Luxembourg);',\n",
       "    '88.97 Take further concrete measures to improve the dangerous situation for street children (Sweden);',\n",
       "    '88.98 Continue with the reform of the judiciary, ensuring its independence (Spain);',\n",
       "    '88.99 Immediately appoint a President of the Court of Cassation and proceed with the reform of the justice system (United Kingdom);',\n",
       "    '88.100 Fill the vacancies in the Supreme Court (Cour de Cassation), as those justices have the authority to make the legal system more efficient (United States);',\n",
       "    '88.101 Make additional efforts to ensure that tribunals, prisons and the police comply with international human rights standards (Norway);',\n",
       "    '88.102 Ensure a fair trial for all detained, complying with international standards, within a reasonable timeframe (Slovakia);',\n",
       "    '88.103 Make greater efforts to improve confidence in and access to justice within the country (Barbados);',\n",
       "    '88.104 Implement the law which provides criminal penalties for official corruption effectively (Turkey);',\n",
       "    '88.105 Prioritize the reduction of its judicial backlog (Belgium);',\n",
       "    '88.106 Reduce the judicial backlog (United States);',\n",
       "    '88.107 Ensure accountability for all crimes committed, regardless of the perpetrator, including in cases of violence against women and sexual violence (Slovenia);',\n",
       "    '88.108 Undertake actions leading to a comprehensive reform of the justice and penal systems which contribute to the fight against impunity and crime investigation, comprising the responsibilities of institutions, particularly of the National Police (Mexico);',\n",
       "    '88.109 Take all the necessary measures to identify those responsible for the violations of human rights attributed to policemen and provide a fair compensation for the victims (Belgium);',\n",
       "    '88.110 Take necessary measures to enable the judicial system to effectively combat impunity and to assess the establishment of an international commission against impunity (Switzerland);',\n",
       "    '88.111 Strengthen rapidly the capacities of its judiciary system to combat impunity in order that, inter alia, the justice handles, in an impartial manner, the complaints lodged against Mr. Jean-Claude Duvalier (Canada);',\n",
       "    '88.112 Pursue its path of the reform of the judiciary system and make a priority of the fight against impunity, in particular in relation with the process of certification of the Haitian policemen (France);',\n",
       "    '88.113 Allocate, if possible, additional resources to the National Identification Office in order to manage their increased workload (Hungary);',\n",
       "    '88.114 Modernize and simplify the civil registry system (United States);',\n",
       "    '88.115 Improve the adoption system by ratifying the Hague Convention on Protection of Children and Co-operation in Respect of Intercountry Adoption and reflecting it in internal regulations; strengthening resources for the social welfare institute (IBERS), banning individual adoption and implementing recommendations by UNICEF and the Action Plan suggested by the Montreal group (Spain);',\n",
       "    '88.116 Take adequate measures to ensure an increased participation of women in all areas of society, including in political life (Canada);',\n",
       "    '88.117 Take concrete steps to encourage broader participation of women in decision-making processes (Norway);',\n",
       "    '88.118 Take continued action to reduce poverty as articulated in the National Growth and Poverty Reduction Strategy Paper of 2007 (Sri Lanka);',\n",
       "    '88.119 Emphasize the measures addressed to reduce poverty and inequality (Cuba);',\n",
       "    '88.120 Apply a broad human rights approach, which do not allow any type of discrimination, in the implementation of the four orientations to adopt the strategies to reduce poverty and inequalities in Haiti, described in the national report (Colombia);',\n",
       "    '88.121 Pay particular attention to the respect of social, economic and cultural rights including the right to the food and step up efforts to ensure that food security is among the national priorities of the country (Luxembourg);',\n",
       "    '88.122 Continue advancing in the organisation and extension of the education and health systems (Cuba);',\n",
       "    '88.123 Continue taking measures to ensure access to basic services such as water, housing and health for the population in vulnerable situation (Mexico);',\n",
       "    '88.124 Develop, with the support of relevant UN agencies, a comprehensive plan for the provision of adequate housing with basic services, both in temporary shelters and impoverished neighbourhoods, and ensure better coordination among agencies involved in such effort (Thailand);',\n",
       "    '88.125 Continue to build, fairly distribute and judiciously apply the resources in the National Education Fund, to ensure that the right of education of all Haitians is protected and promoted at all times without discrimination (Ghana);',\n",
       "    '88.126 Increase its efforts to make sure that all children have access to primary education, while continuing its partnership for the National School Canteen Programme to address the serious problem of child malnutrition (Thailand);',\n",
       "    '88.127 Prioritize policy measures towards achieving universal, free and compulsory primary education, paying especial care to children with disabilities and those living in rural areas (Slovakia);',\n",
       "    '88.128 Gradually increase measures to reduce illiteracy rates of boys and girls, and develop programs specifically aimed at reducing dropout rates using, perhaps, incentives for families through financial or food support (Uruguay);',\n",
       "    '88.129 Pay special attention to access to education of children with disabilities (Hungary);',\n",
       "    '88.130 Implement policies to guarantee the rights of displaced persons and provide durable solutions for return, integration and/or resettlement (Switzerland);',\n",
       "    '88.131 Continue its talks with all the parties involved in the process of the elaboration and implementation of the plan of relocation of the persons displaced following the seism in order to avoid forced evictions (Canada);',\n",
       "    '88.132 Develop a comprehensive plan encompassing all camps in order to address the problem of internally displaced persons (Spain);',\n",
       "    '88.133 Make the most of the programmes of assistance available, especially at the level of the United Nations system, for the achievement of the national priorities defined in terms of human rights (Algeria);',\n",
       "    '88.134 Encourage the historical political cooperation with the United Nations system in the framework of technical assistance (Chile);',\n",
       "    '88.135 Intensify its efforts for the implementation of the Action Plan for the National Reconstruction and Development of Haiti, the National Strategy for Education for all and the training of Magistrates , the judicial authorities and law order officials including on human rights and request the necessary financial and technical assistance (Morocco);',\n",
       "    '88.136 Consider using the cooperation mechanisms and facilities offered by the international community system to overcome the shortage of technical and financial resources it may have (Costa Rica). );'],\n",
       "   'text': '88. The following recommendations will be examined by Haiti which will provide responses in due time, but no later than the nineteenth session of the Human Rights Council in March 2012: '}},\n",
       " 'year': '2011'}"
      ]
     },
     "execution_count": 31,
     "metadata": {},
     "output_type": "execute_result"
    }
   ],
   "source": [
    "# check it out\n",
    "newlist[-1]"
   ]
  },
  {
   "cell_type": "markdown",
   "metadata": {},
   "source": [
    "## Testing Testing 123"
   ]
  },
  {
   "cell_type": "code",
   "execution_count": 32,
   "metadata": {
    "collapsed": false
   },
   "outputs": [
    {
     "name": "stdout",
     "output_type": "stream",
     "text": [
      "consider\n",
      "88. The following recommendations will be examined by Haiti which will provide responses in due time, but no later than the nineteenth session of the Human Rights Council in March 2012: \n",
      "\n"
     ]
    }
   ],
   "source": [
    "# Take a look at the main paragraphs\n",
    "for x in newlist:\n",
    "    for paragraph in x['paragraphs']:\n",
    "        print x['paragraphs'][paragraph]['decision']\n",
    "        print x['paragraphs'][paragraph]['text'] + ('\\n')\n",
    "\n",
    "### TODO ####\n",
    "# export this data somehow"
   ]
  },
  {
   "cell_type": "code",
   "execution_count": 33,
   "metadata": {
    "collapsed": false,
    "scrolled": true
   },
   "outputs": [],
   "source": [
    "# which decisions are 'unknown'?\n",
    "for x in newlist:\n",
    "    for paragraph in x['paragraphs']:\n",
    "        if x['paragraphs'][paragraph]['decision'] == 'unknown':\n",
    "            print x['country'] + x['year'] + ('\\n')\n",
    "            print x['paragraphs'][paragraph]['text'] + ('\\n')"
   ]
  },
  {
   "cell_type": "code",
   "execution_count": 34,
   "metadata": {
    "collapsed": false
   },
   "outputs": [],
   "source": [
    "# write paragraphs with no subitems\n",
    "\n",
    "with open('specialpars.txt', 'a') as f:\n",
    "    for upr in newlist:\n",
    "        for paragraph in upr['paragraphs']:\n",
    "            if upr['paragraphs'][paragraph]['items'] is None:\n",
    "                f.write(upr['country'] + upr['year'] + ('\\n'))\n",
    "                f.write(upr['paragraphs'][paragraph]['text'] + ('\\n\\n'))\n"
   ]
  },
  {
   "cell_type": "code",
   "execution_count": 35,
   "metadata": {
    "collapsed": false
   },
   "outputs": [],
   "source": [
    "# make dictionaries for each individual recommendation item, containing the text, to country, from country, and decision\n",
    "for upr in newlist:\n",
    "    l = []\n",
    "    for key in upr['paragraphs'].keys():\n",
    "        if upr['paragraphs'][key]['items'] is not None:\n",
    "            for item in upr['paragraphs'][key]['items']:\n",
    "                dic = {}\n",
    "                dic['to'] = upr['country']\n",
    "                dic['year'] = upr['year']\n",
    "                dic['decision'] = upr['paragraphs'][key]['decision']\n",
    "                dic['from'] = item.split('(')[-1].split(')')[0]\n",
    "                dic['text'] = item\n",
    "                l.append(dic)\n",
    "    upr['recs'] = l       "
   ]
  },
  {
   "cell_type": "code",
   "execution_count": 36,
   "metadata": {
    "collapsed": false
   },
   "outputs": [
    {
     "data": {
      "text/plain": [
       "136"
      ]
     },
     "execution_count": 36,
     "metadata": {},
     "output_type": "execute_result"
    }
   ],
   "source": [
    "len(newlist[-1]['recs'])"
   ]
  },
  {
   "cell_type": "code",
   "execution_count": 37,
   "metadata": {
    "collapsed": false
   },
   "outputs": [
    {
     "data": {
      "text/plain": [
       "136"
      ]
     },
     "execution_count": 37,
     "metadata": {},
     "output_type": "execute_result"
    }
   ],
   "source": [
    "# cat recs into a list\n",
    "recslist = []\n",
    "for doc in newlist:\n",
    "    for rec in doc['recs']:\n",
    "        recslist.append(rec)\n",
    "len(recslist)"
   ]
  },
  {
   "cell_type": "markdown",
   "metadata": {},
   "source": [
    "## write csv"
   ]
  },
  {
   "cell_type": "code",
   "execution_count": 18,
   "metadata": {
    "collapsed": false
   },
   "outputs": [
    {
     "data": {
      "text/plain": [
       "['text', 'to', 'decision', 'from', 'year']"
      ]
     },
     "execution_count": 18,
     "metadata": {},
     "output_type": "execute_result"
    }
   ],
   "source": [
    "#writing column headings\n",
    "keys = recslist[0].keys()\n",
    "keys"
   ]
  },
  {
   "cell_type": "code",
   "execution_count": 38,
   "metadata": {
    "collapsed": false
   },
   "outputs": [],
   "source": [
    "#writing the rest\n",
    "with open('../Data/year-csvs/haiti2011.csv', 'wb') as output_file:\n",
    "    dict_writer = csv.DictWriter(output_file, keys)\n",
    "    dict_writer.writeheader()\n",
    "    dict_writer.writerows(recslist)"
   ]
  },
  {
   "cell_type": "code",
   "execution_count": 105,
   "metadata": {
    "collapsed": false
   },
   "outputs": [],
   "source": []
  },
  {
   "cell_type": "code",
   "execution_count": 105,
   "metadata": {
    "collapsed": false
   },
   "outputs": [],
   "source": []
  }
 ],
 "metadata": {
  "kernelspec": {
   "display_name": "Python 2",
   "language": "python",
   "name": "python2"
  },
  "language_info": {
   "codemirror_mode": {
    "name": "ipython",
    "version": 2
   },
   "file_extension": ".py",
   "mimetype": "text/x-python",
   "name": "python",
   "nbconvert_exporter": "python",
   "pygments_lexer": "ipython2",
   "version": "2.7.9"
  }
 },
 "nbformat": 4,
 "nbformat_minor": 0
}
