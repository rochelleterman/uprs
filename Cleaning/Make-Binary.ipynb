{
 "cells": [
  {
   "cell_type": "markdown",
   "metadata": {},
   "source": [
    "# Make Binary\n",
    "\n",
    "This script inputs all-data.csv and transforms it to a binary spreadsheet"
   ]
  },
  {
   "cell_type": "code",
   "execution_count": 1,
   "metadata": {
    "collapsed": false
   },
   "outputs": [
    {
     "data": {
      "text/plain": [
       "131072"
      ]
     },
     "execution_count": 1,
     "metadata": {},
     "output_type": "execute_result"
    }
   ],
   "source": [
    "import os\n",
    "import re\n",
    "import csv\n",
    "import sys\n",
    "import csv\n",
    "import random\n",
    "import ast\n",
    "\n",
    "csv.field_size_limit(sys.maxsize)"
   ]
  },
  {
   "cell_type": "markdown",
   "metadata": {},
   "source": [
    "## Load Data"
   ]
  },
  {
   "cell_type": "code",
   "execution_count": 2,
   "metadata": {
    "collapsed": false
   },
   "outputs": [
    {
     "name": "stdout",
     "output_type": "stream",
     "text": [
      "39329\n"
     ]
    },
    {
     "data": {
      "text/plain": [
       "{'From': 'Venezuela',\n",
       " 'action': \"['continue']\",\n",
       " 'decision': 'consider',\n",
       " 'from_COW': '101',\n",
       " 'id': '39328',\n",
       " 'institutions': '[]',\n",
       " 'text': '88.30 Continue with the plan of national reconstruction (Venezuela);',\n",
       " 'theme': \"['post-conflict']\",\n",
       " 'to': 'haiti',\n",
       " 'to_COW': '41',\n",
       " 'year': '2011'}"
      ]
     },
     "execution_count": 2,
     "metadata": {},
     "output_type": "execute_result"
    }
   ],
   "source": [
    "# load data\n",
    "recs = []\n",
    "with open(\"../Data/all-data-cown.csv\",'rU') as csvfile:\n",
    "            reader = csv.DictReader(csvfile)\n",
    "            for row in reader:\n",
    "                recs.append(row)\n",
    "            \n",
    "print len(recs)\n",
    "recs[-1]"
   ]
  },
  {
   "cell_type": "code",
   "execution_count": 3,
   "metadata": {
    "collapsed": false
   },
   "outputs": [
    {
     "data": {
      "text/plain": [
       "{'From': 'Sudan',\n",
       " 'action': ['share'],\n",
       " 'decision': 'support',\n",
       " 'from_COW': '625',\n",
       " 'id': '1',\n",
       " 'institutions': [],\n",
       " 'text': '69.2 That Algeria share its experience in the fight against terrorism and pursue its efforts to combat poverty and promote economic, social and cultural rights with a view to achieving the Millennium Development Goals by 2015 (Sudan). );',\n",
       " 'theme': ['culture', 'terrorism', 'poverty'],\n",
       " 'to': 'Algeria',\n",
       " 'to_COW': '615',\n",
       " 'year': '2008'}"
      ]
     },
     "execution_count": 3,
     "metadata": {},
     "output_type": "execute_result"
    }
   ],
   "source": [
    "# make literal\n",
    "for i in recs:\n",
    "    i['theme'] = ast.literal_eval(i['theme'])\n",
    "    i['institutions'] = ast.literal_eval(i['institutions'])\n",
    "    i['action'] = ast.literal_eval(i['action'])\n",
    "\n",
    "recs[1]"
   ]
  },
  {
   "cell_type": "code",
   "execution_count": 4,
   "metadata": {
    "collapsed": false
   },
   "outputs": [
    {
     "name": "stdout",
     "output_type": "stream",
     "text": [
      "76.1 Efforts and specific measures taken to combat trafficking in persons, especially women and children, were commended. Indonesia underlines the importance of regional cooperation in this field.(None);\n",
      "76.2 The removal of all reservations to the Convention on the Rights of the Child was welcomed, as was the incorporation of the Convention into national legislation.(None);\n",
      "76.3 Enhanced engagement in a constructive dialogue with the special procedures and the benefits derived from some of their recommendations are important elements of promoting and protecting human rights.(None);\n",
      "77.1 Indonesia is commended for its efforts in the field of human rights training and education and is encouraged to continue in this regard, and to provide additional training for law enforcement officials, including prosecutors, police and judges, as well as for security forces. (None);\n",
      "77.2 Indonesia, in line with its National Plan of Action, is encouraged to follow through on its intention to accede to the Rome Statute of the International Criminal Court, the Optional Protocol to the Convention on the Rights of the Child on involvement of children in armed conflict, the Optional Protocol to the Convention on the Rights of the Child on the sale of Children, child prostitution and child pornography and the Optional Protocol to the Convention against Torture, Cruel, Inhuman and Other Degrading Treatment. Indonesia is further encouraged to consider signing the International Convention on the Protection of All Persons from Enforced Disappearance.(None);\n",
      "77.3 Indonesia is commended for enabling a vibrant civil society, including with respect to those engaged in defending human rights, and is encouraged to support and protect their work, including at the provincial and local level as well as in regions with special autonomy. (None);\n",
      "77.4 Welcomes Indonesia's reaffirmation of its commitment to combat impunity and encourages it to continue its efforts in this regard. (None);\n",
      "77.5 While acknowledging the efforts made by the Government of Indonesia, it was recommended that such efforts continue to ensure the promotion and protection of all the components of the Indonesian people. (None);\n",
      "77.6 The inclusion of the crime of torture in the new draft criminal code is welcomed and the Government is encouraged to finalize the draft code, taking into account comments received from relevant stakeholders. (None);\n",
      "77.7 Capacity-building/cooperation/sharing of best practices: (a) Indonesia is encouraged to consider engaging in further dialogue at the regional and international level, and share best practices, as requested by States during the interactive dialogue; (b) Indonesia is encouraged to identify its capacity building needs related to the Universal Periodic Review follow-up and seek regional and international cooperation in this regard, including through integration of the Universal Periodic Review recommendations, as appropriate, into its national development strategy and into its dialogue with relevant stakeholders through existing mechanisms. Such capacity-building needs could pertain, inter alia, to issues such as harmonization of local laws with national and international standards or to strengthening national human rights institutions; (c) It was recommended that additional capacity-building measures be taken in support of programmes and projects on women and children. (None);\n",
      "81.23. Continue efforts to promote and protect the rights of women, children, and young persons and persons with disabilities (NA);\n",
      "186.28. Continue its efforts on the ratification of other human rights (NA);\n"
     ]
    }
   ],
   "source": [
    "# check for broken csv rows\n",
    "for i in recs:\n",
    "    if len([i['to'].strip()]) > 1:\n",
    "        print len([i['to'].strip()])\n",
    "    if i['from_COW'] == \"NA\":\n",
    "        print i['text']"
   ]
  },
  {
   "cell_type": "markdown",
   "metadata": {},
   "source": [
    "## Transform"
   ]
  },
  {
   "cell_type": "code",
   "execution_count": 8,
   "metadata": {
    "collapsed": false
   },
   "outputs": [
    {
     "data": {
      "text/plain": [
       "53"
      ]
     },
     "execution_count": 8,
     "metadata": {},
     "output_type": "execute_result"
    }
   ],
   "source": [
    "institutions =  ['CRPD', 'eu-vaw', 'int-community', 'ILO', 'eu-traff', 'ICESR', 'CAT', 'CRC', 'echr', 'eu-child',\\\n",
    "                 'sp-pr', 'PP', 'euro-commissioner', 'eu-migrant', 'ouagadougou', 'un-indig', 'unesco-ed', 'un', \\\n",
    "                 'ICERD', 'frame-minorities', 'ind169', 'uncac', 'core', 'euro-traffick', '1954-stateless', 'geneva',\\\n",
    "                 'african-charter', 'ICC', 'african-democ', 'achr', '2000traffick', 'unesco-intangible', 'traffick', \\\n",
    "                 'CTOC', 'ICMW', 'HRC', 'security-council', 'UNHCR', 'euro-minority', 'kampala', '1951refugees', \\\n",
    "                 'pol-women', 'CPED', 'ottawa', '1961-stateless', 'CEDAW', 'hague', 'genocide', 'unesco-expr', \\\n",
    "                 'int-cord', 'vienna', 'CCPR', 'OP']\n",
    "len(institutions)"
   ]
  },
  {
   "cell_type": "code",
   "execution_count": 9,
   "metadata": {
    "collapsed": false
   },
   "outputs": [
    {
     "data": {
      "text/plain": [
       "14"
      ]
     },
     "execution_count": 9,
     "metadata": {},
     "output_type": "execute_result"
    }
   ],
   "source": [
    "actions = ['accede', 'ratify', 'take-measures', 'share', 'sign', 'report', 'continue', 'withdraw', 'harmonize', \\\n",
    "           'party', 'implement', 'cooperate', 'establish', 'assistance']\n",
    "len(actions)"
   ]
  },
  {
   "cell_type": "code",
   "execution_count": 10,
   "metadata": {
    "collapsed": false
   },
   "outputs": [
    {
     "data": {
      "text/plain": [
       "53"
      ]
     },
     "execution_count": 10,
     "metadata": {},
     "output_type": "execute_result"
    }
   ],
   "source": [
    "theme = ['death-pen', 'intelligence', 'prisoners', 'elderly', 'culture', 'race', 'education', 'children', \\\n",
    "         'civil-so', 'disappearances', 'police', 'hiv', 'privacy', 'discrimination', 'impunity', 'governance', \\\n",
    "         'labor', 'environment', 'religion', 'foreign-movement', 'health', 'speech', 'domest-movement', 'terrorism', \\\n",
    "         'paramilitary', 'corruption', 'sex-violence', 'poor', 'civil-conflict', 'infrastructure', 'torture', 'food', \\\n",
    "         'extra-judicial', 'judiciary', 'indigenous', 'lgbt', 'self-determ', 'poverty', 'ethnic', 'women', 'land', \\\n",
    "         'reproductive', 'post-conflict', 'disabilities', 'migrants', 'pol-imprisonment', 'socialism', 'trafficking',\\\n",
    "         'military', 'property', 'women-social', 'women-political', 'women-economic']\n",
    "len(theme)"
   ]
  },
  {
   "cell_type": "code",
   "execution_count": 11,
   "metadata": {
    "collapsed": false
   },
   "outputs": [],
   "source": [
    "# make dummies\n",
    "for i in recs:\n",
    "    for s in institutions:\n",
    "        if s in i['institutions']:\n",
    "            i[s] = 1\n",
    "        else:\n",
    "            i[s] = 0\n",
    "\n",
    "    for s in actions:\n",
    "        if s in i['action']:\n",
    "            i[s] = 1\n",
    "        else:\n",
    "            i[s] = 0\n",
    "            \n",
    "    for s in theme:\n",
    "        if s in i['theme']:\n",
    "            i[s] = 1\n",
    "        else:\n",
    "            i[s] = 0  "
   ]
  },
  {
   "cell_type": "code",
   "execution_count": 12,
   "metadata": {
    "collapsed": true
   },
   "outputs": [],
   "source": [
    "# lists to strings\n",
    "for i in recs:\n",
    "    if i['theme']:\n",
    "        i['theme'] = \", \".join(i['theme'])\n",
    "    if i['action']:\n",
    "        i['action'] = \", \".join(i['action'])\n",
    "    if i['institutions']:\n",
    "        i['institutions'] = \", \".join(i['institutions'])"
   ]
  },
  {
   "cell_type": "code",
   "execution_count": 27,
   "metadata": {
    "collapsed": false
   },
   "outputs": [
    {
     "name": "stdout",
     "output_type": "stream",
     "text": [
      "131\n",
      "131\n",
      "['death-pen', 'ratify', 'text', 'eu-traff', 'eu-child', 'children', 'police', 'impunity', 'women-political', 'labor', 'environment', 'to', 'theme', 'uncac', 'women-economic', 'harmonize', 'ind169', 'civil-conflict', 'race', 'hiv', 'african-charter', 'food', 'extra-judicial', 'judiciary', 'indigenous', 'self-determ', 'domest-movement', 'report', 'HRC', 'UNHCR', 'paramilitary', 'euro-minority', 'reproductive', 'take-measures', 'hague', 'int-cord', 'OP', 'poor', 'From', 'int-community', 'intelligence', 'euro-traffick', 'elderly', 'sign', 'CRC', 'year', 'civil-so', 'sp-pr', 'PP', 'accede', 'eu-migrant', 'decision', 'religion', 'continue', 'health', 'corruption', 'core', 'infrastructure', '1954-stateless', 'achr', 'lgbt', 'poverty', 'ICMW', 'post-conflict', 'disabilities', 'genocide', 'unesco-intangible', 'military', 'implement', 'ICERD', 'ILO', 'prisoners', 'CTOC', 'echr', 'establish', 'disappearances', 'privacy', 'discrimination', 'socialism', 'governance', 'un-indig', 'unesco-ed', 'assistance', 'vienna', 'geneva', '2000traffick', 'cooperate', 'torture', 'women', 'migrants', 'kampala', 'culture', '1961-stateless', 'CEDAW', 'un', 'unesco-expr', 'property', 'CRPD', 'eu-vaw', 'ICESR', 'share', 'CAT', 'education', 'id', 'african-democ', 'to_COW', 'ouagadougou', 'women-social', 'foreign-movement', 'speech', 'frame-minorities', 'party', 'terrorism', 'sex-violence', 'from_COW', 'ICC', 'action', 'ethnic', 'traffick', 'euro-commissioner', 'security-council', 'land', '1951refugees', 'pol-women', 'CPED', 'ottawa', 'pol-imprisonment', 'trafficking', 'withdraw', 'CCPR', 'institutions']\n"
     ]
    }
   ],
   "source": [
    "#make sure we have no duplicate keys\n",
    "keys = recs[0].keys()\n",
    "print len(set(keys))\n",
    "print len(keys)\n",
    "print keys"
   ]
  },
  {
   "cell_type": "markdown",
   "metadata": {},
   "source": [
    "## write"
   ]
  },
  {
   "cell_type": "code",
   "execution_count": 37,
   "metadata": {
    "collapsed": false
   },
   "outputs": [
    {
     "data": {
      "text/plain": [
       "['id',\n",
       " 'to',\n",
       " 'to_COW',\n",
       " 'From',\n",
       " 'from_COW',\n",
       " 'year',\n",
       " 'text',\n",
       " 'decision',\n",
       " 'institutions',\n",
       " 'action',\n",
       " 'theme',\n",
       " '1951refugees',\n",
       " '1954-stateless',\n",
       " '1961-stateless',\n",
       " '2000traffick',\n",
       " 'CAT',\n",
       " 'CCPR',\n",
       " 'CEDAW',\n",
       " 'CPED',\n",
       " 'CRC',\n",
       " 'CRPD',\n",
       " 'CTOC',\n",
       " 'HRC',\n",
       " 'ICC',\n",
       " 'ICERD',\n",
       " 'ICESR',\n",
       " 'ICMW',\n",
       " 'ILO',\n",
       " 'OP',\n",
       " 'PP',\n",
       " 'UNHCR',\n",
       " 'achr',\n",
       " 'african-charter',\n",
       " 'african-democ',\n",
       " 'core',\n",
       " 'echr',\n",
       " 'eu-child',\n",
       " 'eu-migrant',\n",
       " 'eu-traff',\n",
       " 'eu-vaw',\n",
       " 'euro-commissioner',\n",
       " 'euro-minority',\n",
       " 'euro-traffick',\n",
       " 'frame-minorities',\n",
       " 'geneva',\n",
       " 'genocide',\n",
       " 'hague',\n",
       " 'ind169',\n",
       " 'int-community',\n",
       " 'int-cord',\n",
       " 'kampala',\n",
       " 'ottawa',\n",
       " 'ouagadougou',\n",
       " 'pol-women',\n",
       " 'security-council',\n",
       " 'sp-pr',\n",
       " 'traffick',\n",
       " 'un',\n",
       " 'un-indig',\n",
       " 'uncac',\n",
       " 'unesco-ed',\n",
       " 'unesco-expr',\n",
       " 'unesco-intangible',\n",
       " 'vienna',\n",
       " 'accede',\n",
       " 'assistance',\n",
       " 'continue',\n",
       " 'cooperate',\n",
       " 'establish',\n",
       " 'harmonize',\n",
       " 'implement',\n",
       " 'party',\n",
       " 'ratify',\n",
       " 'report',\n",
       " 'share',\n",
       " 'sign',\n",
       " 'take-measures',\n",
       " 'withdraw',\n",
       " 'children',\n",
       " 'civil-conflict',\n",
       " 'civil-so',\n",
       " 'corruption',\n",
       " 'culture',\n",
       " 'death-pen',\n",
       " 'disabilities',\n",
       " 'disappearances',\n",
       " 'discrimination',\n",
       " 'domest-movement',\n",
       " 'education',\n",
       " 'elderly',\n",
       " 'environment',\n",
       " 'ethnic',\n",
       " 'extra-judicial',\n",
       " 'food',\n",
       " 'foreign-movement',\n",
       " 'governance',\n",
       " 'health',\n",
       " 'hiv',\n",
       " 'impunity',\n",
       " 'indigenous',\n",
       " 'infrastructure',\n",
       " 'intelligence',\n",
       " 'judiciary',\n",
       " 'labor',\n",
       " 'land',\n",
       " 'lgbt',\n",
       " 'migrants',\n",
       " 'military',\n",
       " 'paramilitary',\n",
       " 'pol-imprisonment',\n",
       " 'police',\n",
       " 'poor',\n",
       " 'post-conflict',\n",
       " 'poverty',\n",
       " 'prisoners',\n",
       " 'privacy',\n",
       " 'property',\n",
       " 'race',\n",
       " 'religion',\n",
       " 'reproductive',\n",
       " 'self-determ',\n",
       " 'sex-violence',\n",
       " 'socialism',\n",
       " 'speech',\n",
       " 'terrorism',\n",
       " 'torture',\n",
       " 'trafficking',\n",
       " 'women',\n",
       " 'women-economic',\n",
       " 'women-political',\n",
       " 'women-social']"
      ]
     },
     "execution_count": 37,
     "metadata": {},
     "output_type": "execute_result"
    }
   ],
   "source": [
    "#writing column headings in correct order\n",
    "keys = ['id','to','to_COW','From','from_COW','year','text','decision','institutions','action','theme']\n",
    "keys.extend(sorted(institutions))\n",
    "keys.extend(sorted(actions))\n",
    "keys.extend(sorted(theme))\n",
    "keys"
   ]
  },
  {
   "cell_type": "code",
   "execution_count": 38,
   "metadata": {
    "collapsed": false
   },
   "outputs": [
    {
     "name": "stdout",
     "output_type": "stream",
     "text": [
      "131\n",
      "131\n"
     ]
    }
   ],
   "source": [
    "print len(set(keys))\n",
    "print len(keys)"
   ]
  },
  {
   "cell_type": "code",
   "execution_count": 39,
   "metadata": {
    "collapsed": false
   },
   "outputs": [],
   "source": [
    "#writing the rest\n",
    "with open('../Data/all-cown-binary.csv', 'wb') as output_file:\n",
    "    dict_writer = csv.DictWriter(output_file, keys)\n",
    "    dict_writer.writeheader()\n",
    "    dict_writer.writerows(recs)"
   ]
  },
  {
   "cell_type": "code",
   "execution_count": null,
   "metadata": {
    "collapsed": true
   },
   "outputs": [],
   "source": []
  }
 ],
 "metadata": {
  "kernelspec": {
   "display_name": "Python 2",
   "language": "python",
   "name": "python2"
  },
  "language_info": {
   "codemirror_mode": {
    "name": "ipython",
    "version": 2
   },
   "file_extension": ".py",
   "mimetype": "text/x-python",
   "name": "python",
   "nbconvert_exporter": "python",
   "pygments_lexer": "ipython2",
   "version": "2.7.9"
  }
 },
 "nbformat": 4,
 "nbformat_minor": 0
}
