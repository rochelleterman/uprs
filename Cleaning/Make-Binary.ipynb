{
 "cells": [
  {
   "cell_type": "markdown",
   "metadata": {},
   "source": [
    "# Make Binary\n",
    "\n",
    "This script inputs all-data.csv and transforms it to a binary spreadsheet"
   ]
  },
  {
   "cell_type": "code",
   "execution_count": 45,
   "metadata": {
    "collapsed": false
   },
   "outputs": [
    {
     "data": {
      "text/plain": [
       "9223372036854775807"
      ]
     },
     "execution_count": 45,
     "metadata": {},
     "output_type": "execute_result"
    }
   ],
   "source": [
    "import os\n",
    "import re\n",
    "import csv\n",
    "import sys\n",
    "import csv\n",
    "import random\n",
    "import ast\n",
    "\n",
    "csv.field_size_limit(sys.maxsize)"
   ]
  },
  {
   "cell_type": "markdown",
   "metadata": {},
   "source": [
    "## Load Data"
   ]
  },
  {
   "cell_type": "code",
   "execution_count": 46,
   "metadata": {
    "collapsed": false
   },
   "outputs": [
    {
     "name": "stdout",
     "output_type": "stream",
     "text": [
      "39193\n"
     ]
    },
    {
     "data": {
      "text/plain": [
       "{'From': 'NA',\n",
       " 'action': \"['continue']\",\n",
       " 'decision': 'consider',\n",
       " 'from_COW': 'NA',\n",
       " 'id': '17474',\n",
       " 'institutions': '[]',\n",
       " 'notes': '',\n",
       " 'text': '81.23. Continue efforts to promote and protect the rights of women, children, and young persons and persons with disabilities (NA);',\n",
       " 'theme': \"['children', 'women', 'disabilities']\",\n",
       " 'to': 'Solomon Islands',\n",
       " 'to_COW': '940',\n",
       " 'year': '2011'}"
      ]
     },
     "execution_count": 46,
     "metadata": {},
     "output_type": "execute_result"
    }
   ],
   "source": [
    "# load data\n",
    "recs = []\n",
    "with open(\"../Data/all-data-cown.csv\",'rU') as csvfile:\n",
    "            reader = csv.DictReader(csvfile)\n",
    "            for row in reader:\n",
    "                recs.append(row)\n",
    "            \n",
    "print len(recs)\n",
    "recs[-1]"
   ]
  },
  {
   "cell_type": "code",
   "execution_count": 47,
   "metadata": {
    "collapsed": false
   },
   "outputs": [
    {
     "data": {
      "text/plain": [
       "{'From': 'United States',\n",
       " 'action': [],\n",
       " 'decision': 'support',\n",
       " 'from_COW': '2',\n",
       " 'id': '11117',\n",
       " 'institutions': [],\n",
       " 'notes': '',\n",
       " 'text': '100.10. Incorporate the views of civil society in transparent, democratic reform processes; (United States);',\n",
       " 'theme': ['civil-so', 'self-determ'],\n",
       " 'to': 'turkey',\n",
       " 'to_COW': '640',\n",
       " 'year': '2010'}"
      ]
     },
     "execution_count": 47,
     "metadata": {},
     "output_type": "execute_result"
    }
   ],
   "source": [
    "# make literal\n",
    "for i in recs:\n",
    "    i['theme'] = ast.literal_eval(i['theme'])\n",
    "    i['institutions'] = ast.literal_eval(i['institutions'])\n",
    "    i['action'] = ast.literal_eval(i['action'])\n",
    "\n",
    "recs[1]"
   ]
  },
  {
   "cell_type": "code",
   "execution_count": 48,
   "metadata": {
    "collapsed": false
   },
   "outputs": [
    {
     "name": "stdout",
     "output_type": "stream",
     "text": [
      "186.28. Continue its efforts on the ratification of other human rights (NA);\n",
      "76.1 Efforts and specific measures taken to combat trafficking in persons, especially women and children, were commended. Indonesia underlines the importance of regional cooperation in this field.(None);\n",
      "76.2 The removal of all reservations to the Convention on the Rights of the Child was welcomed, as was the incorporation of the Convention into national legislation.(None);\n",
      "76.3 Enhanced engagement in a constructive dialogue with the special procedures and the benefits derived from some of their recommendations are important elements of promoting and protecting human rights.(None);\n",
      "77.1 Indonesia is commended for its efforts in the field of human rights training and education and is encouraged to continue in this regard, and to provide additional training for law enforcement officials, including prosecutors, police and judges, as well as for security forces. (None);\n",
      "77.2 Indonesia, in line with its National Plan of Action, is encouraged to follow through on its intention to accede to the Rome Statute of the International Criminal Court, the Optional Protocol to the Convention on the Rights of the Child on involvement of children in armed conflict, the Optional Protocol to the Convention on the Rights of the Child on the sale of Children, child prostitution and child pornography and the Optional Protocol to the Convention against Torture, Cruel, Inhuman and Other Degrading Treatment. Indonesia is further encouraged to consider signing the International Convention on the Protection of All Persons from Enforced Disappearance.(None);\n",
      "77.3 Indonesia is commended for enabling a vibrant civil society, including with respect to those engaged in defending human rights, and is encouraged to support and protect their work, including at the provincial and local level as well as in regions with special autonomy. (None);\n",
      "77.4 Welcomes Indonesia's reaffirmation of its commitment to combat impunity and encourages it to continue its efforts in this regard. (None);\n",
      "77.5 While acknowledging the efforts made by the Government of Indonesia, it was recommended that such efforts continue to ensure the promotion and protection of all the components of the Indonesian people. (None);\n",
      "77.6 The inclusion of the crime of torture in the new draft criminal code is welcomed and the Government is encouraged to finalize the draft code, taking into account comments received from relevant stakeholders. (None);\n",
      "77.7 Capacity-building/cooperation/sharing of best practices: (a) Indonesia is encouraged to consider engaging in further dialogue at the regional and international level, and share best practices, as requested by States during the interactive dialogue; (b) Indonesia is encouraged to identify its capacity building needs related to the Universal Periodic Review follow-up and seek regional and international cooperation in this regard, including through integration of the Universal Periodic Review recommendations, as appropriate, into its national development strategy and into its dialogue with relevant stakeholders through existing mechanisms. Such capacity-building needs could pertain, inter alia, to issues such as harmonization of local laws with national and international standards or to strengthening national human rights institutions; (c) It was recommended that additional capacity-building measures be taken in support of programmes and projects on women and children. (None);\n",
      "81.23. Continue efforts to promote and protect the rights of women, children, and young persons and persons with disabilities (NA);\n"
     ]
    }
   ],
   "source": [
    "# check for broken csv rows\n",
    "for i in recs:\n",
    "    if len([i['to'].strip()]) > 1:\n",
    "        print len([i['to'].strip()])\n",
    "    if i['from_COW'] == \"NA\":\n",
    "        print i['text']"
   ]
  },
  {
   "cell_type": "markdown",
   "metadata": {},
   "source": [
    "## Transform"
   ]
  },
  {
   "cell_type": "code",
   "execution_count": 49,
   "metadata": {
    "collapsed": true
   },
   "outputs": [],
   "source": [
    "institutions = ['core', 'CRPD', 'ICCPR', 'eu-vaw', 'geneva', 'ICC', 'ILO', 'ICESR', 'achr', 'CAT', \\\n",
    "                'CRC', 'echr', '1954-stateless', 'traffick', 'CTOC', 'ICMW', 'ICERD', 'eu-child', 'sp-pr', \\\n",
    "                'PP', 'kampala', '1951refugees', 'pol-women', 'CPED', 'uncac', 'ottawa', '1961-stateless', 'CEDAW', \\\n",
    "                'unesco-ed', 'hague', 'genocide', 'HRC', 'unesco-expr', 'int-cord', 'frame-minorities', 'ind169',\\\n",
    "                'OP', 'ic-mercenaries', 'eu-migrant', 'un-indig', 'vienna', 'ouagadougou', 'UNHCR']"
   ]
  },
  {
   "cell_type": "code",
   "execution_count": 50,
   "metadata": {
    "collapsed": true
   },
   "outputs": [],
   "source": [
    "actions = ['accede', 'ratify', 'take-measures', 'sign', 'report', 'continue', 'withdraw', 'harmonize', 'party', \\\n",
    "           'implement', 'establish']"
   ]
  },
  {
   "cell_type": "code",
   "execution_count": 51,
   "metadata": {
    "collapsed": true
   },
   "outputs": [],
   "source": [
    "theme = ['death-pen', 'infrastructure ', 'intelligence', 'prisoners', 'elderly', 'culture', 'education', \\\n",
    "         'children', 'civil-so', 'disappearances', 'police', 'hiv', 'privacy', 'discrimination', 'impunity',\\\n",
    "         'governance', 'labor', 'environment', 'religion', 'foreign-movement', 'health', 'speech', 'domest-movement', \\\n",
    "         'terrorism', 'paramilitary', 'corruption', 'sex-violence', 'civil-conflict', 'race', 'torture', 'food',\\\n",
    "         'extra-judicial', 'judiciary', 'indigenous', 'lgbt', 'self-determ', 'poverty', 'ethnic', 'women', 'land', \\\n",
    "         'reproductive', 'post-conflict', 'disabilities', 'migrants', 'pol-imprisonment', 'socialism', 'trafficking', \\\n",
    "         'military', 'property']"
   ]
  },
  {
   "cell_type": "code",
   "execution_count": 52,
   "metadata": {
    "collapsed": false
   },
   "outputs": [],
   "source": [
    "# make dummies\n",
    "for i in recs:\n",
    "    for s in institutions:\n",
    "        if s in i['institutions']:\n",
    "            i[s] = 1\n",
    "        else:\n",
    "            i[s] = 0\n",
    "\n",
    "    for s in actions:\n",
    "        if s in i['action']:\n",
    "            i[s] = 1\n",
    "        else:\n",
    "            i[s] = 0\n",
    "            \n",
    "    for s in theme:\n",
    "        if s in i['theme']:\n",
    "            i[s] = 1\n",
    "        else:\n",
    "            i[s] = 0  "
   ]
  },
  {
   "cell_type": "code",
   "execution_count": 53,
   "metadata": {
    "collapsed": true
   },
   "outputs": [],
   "source": [
    "# lists to strings\n",
    "for i in recs:\n",
    "    if i['theme']:\n",
    "        i['theme'] = \", \".join(i['theme'])\n",
    "    if i['action']:\n",
    "        i['action'] = \", \".join(i['action'])\n",
    "    if i['institutions']:\n",
    "        i['institutions'] = \", \".join(i['institutions'])"
   ]
  },
  {
   "cell_type": "markdown",
   "metadata": {},
   "source": [
    "## write"
   ]
  },
  {
   "cell_type": "code",
   "execution_count": 54,
   "metadata": {
    "collapsed": true
   },
   "outputs": [],
   "source": [
    "#writing column headings\n",
    "keys = recs[0].keys()\n",
    "\n",
    "#writing the rest\n",
    "with open('../Data/all-cown-binary.csv', 'wb') as output_file:\n",
    "    dict_writer = csv.DictWriter(output_file, keys)\n",
    "    dict_writer.writeheader()\n",
    "    dict_writer.writerows(recs)"
   ]
  },
  {
   "cell_type": "code",
   "execution_count": null,
   "metadata": {
    "collapsed": true
   },
   "outputs": [],
   "source": []
  }
 ],
 "metadata": {
  "kernelspec": {
   "display_name": "Python 2",
   "language": "python",
   "name": "python2"
  },
  "language_info": {
   "codemirror_mode": {
    "name": "ipython",
    "version": 2
   },
   "file_extension": ".py",
   "mimetype": "text/x-python",
   "name": "python",
   "nbconvert_exporter": "python",
   "pygments_lexer": "ipython2",
   "version": "2.7.9"
  }
 },
 "nbformat": 4,
 "nbformat_minor": 0
}
