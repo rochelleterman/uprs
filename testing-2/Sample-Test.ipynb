{
 "cells": [
  {
   "cell_type": "code",
   "execution_count": 1,
   "metadata": {
    "collapsed": false
   },
   "outputs": [
    {
     "data": {
      "text/plain": [
       "131072"
      ]
     },
     "execution_count": 1,
     "metadata": {},
     "output_type": "execute_result"
    }
   ],
   "source": [
    "import os\n",
    "import re\n",
    "import csv\n",
    "import sys\n",
    "import csv\n",
    "import random\n",
    "import ast\n",
    "\n",
    "csv.field_size_limit(sys.maxsize)"
   ]
  },
  {
   "cell_type": "code",
   "execution_count": 2,
   "metadata": {
    "collapsed": false
   },
   "outputs": [
    {
     "name": "stdout",
     "output_type": "stream",
     "text": [
      "39191\n"
     ]
    },
    {
     "data": {
      "text/plain": [
       "{'From': 'Kuwait',\n",
       " 'action': \"['establish']\",\n",
       " 'decision': 'support',\n",
       " 'id': '0',\n",
       " 'institutions': '[]',\n",
       " 'notes': '',\n",
       " 'text': '69.1 The establishment of an international round table to discuss the interrelation between security and fundamental freedoms (Kuwait). );',\n",
       " 'theme': '[]',\n",
       " 'to': 'Algeria',\n",
       " 'year': '2008'}"
      ]
     },
     "execution_count": 2,
     "metadata": {},
     "output_type": "execute_result"
    }
   ],
   "source": [
    "# load data\n",
    "recs = []\n",
    "with open(\"../all-data.csv\",'rU') as csvfile:\n",
    "            reader = csv.DictReader(csvfile)\n",
    "            for row in reader:\n",
    "                recs.append(row)\n",
    "            \n",
    "print len(recs)\n",
    "recs[0]"
   ]
  },
  {
   "cell_type": "markdown",
   "metadata": {
    "collapsed": false
   },
   "source": [
    "## 1. Clean"
   ]
  },
  {
   "cell_type": "code",
   "execution_count": 3,
   "metadata": {
    "collapsed": false
   },
   "outputs": [],
   "source": [
    "# check for broken csv rows\n",
    "for i in recs:\n",
    "    if not i['year'].startswith('2'):\n",
    "        print i['text']"
   ]
  },
  {
   "cell_type": "code",
   "execution_count": 33,
   "metadata": {
    "collapsed": false
   },
   "outputs": [],
   "source": [
    "# ordering\n",
    "\"\"\"\n",
    "numbs = []\n",
    "for i in recs[:500]:\n",
    "    n = i['text'].split()[0]\n",
    "    n = n.split('.')\n",
    "    i['n1'] = n[0]\n",
    "    i['n2'] = n[1]\n",
    "    if len(n) == 3:\n",
    "        i['n3'] = n[2]\n",
    "    else:\n",
    "        i['n3'] = 0\n",
    "\"\"\""
   ]
  },
  {
   "cell_type": "markdown",
   "metadata": {},
   "source": [
    "## 2. Sample"
   ]
  },
  {
   "cell_type": "code",
   "execution_count": 3,
   "metadata": {
    "collapsed": false
   },
   "outputs": [],
   "source": [
    "f = open('../sample-ids.txt','r')\n",
    "sampled_ids = f.readlines()\n",
    "f.close()\n",
    "sampled_ids = [ast.literal_eval(i) for i in sampled_ids]\n",
    "sampled_ids = [item for sublist in sampled_ids for item in sublist]"
   ]
  },
  {
   "cell_type": "code",
   "execution_count": 4,
   "metadata": {
    "collapsed": false
   },
   "outputs": [
    {
     "data": {
      "text/plain": [
       "38897"
      ]
     },
     "execution_count": 4,
     "metadata": {},
     "output_type": "execute_result"
    }
   ],
   "source": [
    "# remove already sampled recs\n",
    "for i in recs:\n",
    "    if i['id'] in sampled_ids:\n",
    "        recs.remove(i)\n",
    "len(recs)"
   ]
  },
  {
   "cell_type": "code",
   "execution_count": 5,
   "metadata": {
    "collapsed": false
   },
   "outputs": [
    {
     "data": {
      "text/plain": [
       "200"
      ]
     },
     "execution_count": 5,
     "metadata": {},
     "output_type": "execute_result"
    }
   ],
   "source": [
    "# sample\n",
    "rec_ids = [int(i['id']) for i in recs] # get ids of remaining recs\n",
    "ids = random.sample(rec_ids, 200) # sample those ids\n",
    "\n",
    "sample = []\n",
    "for i in recs:\n",
    "    if int(i['id']) in ids:\n",
    "        sample.append(i)\n",
    "len(sample)"
   ]
  },
  {
   "cell_type": "code",
   "execution_count": 6,
   "metadata": {
    "collapsed": false
   },
   "outputs": [
    {
     "data": {
      "text/plain": [
       "{'From': 'Albania',\n",
       " 'decision': 'consider',\n",
       " 'id': '296',\n",
       " 'text': '60.1.1 Ratify the Optional Protocol to the Convention against Torture (United Kingdom, Albania, Mexico, Brazil);',\n",
       " 'to': 'Japan',\n",
       " 'year': '2008'}"
      ]
     },
     "execution_count": 6,
     "metadata": {},
     "output_type": "execute_result"
    }
   ],
   "source": [
    "# delete data we don't want to include\n",
    "for i in sample:\n",
    "    del i['institutions']\n",
    "    del i['theme']\n",
    "    del i['action']\n",
    "    del i['notes']\n",
    "    \n",
    "sample[0]"
   ]
  },
  {
   "cell_type": "code",
   "execution_count": 7,
   "metadata": {
    "collapsed": false
   },
   "outputs": [],
   "source": [
    "#writing column headings\n",
    "keys = sample[0].keys()\n",
    "\n",
    "#writing the rest\n",
    "with open('sample-matt-sentiment.csv', 'wb') as output_file:\n",
    "    dict_writer = csv.DictWriter(output_file, keys)\n",
    "    dict_writer.writeheader()\n",
    "    dict_writer.writerows(sample)"
   ]
  },
  {
   "cell_type": "code",
   "execution_count": 8,
   "metadata": {
    "collapsed": false
   },
   "outputs": [],
   "source": [
    "# add ids to the list of sampled data\n",
    "ids = [str(i) for i in ids]\n",
    "with open('../sample-ids.txt', 'a') as output_file:\n",
    "    output_file.write(\"\\n\" + str(ids))"
   ]
  },
  {
   "cell_type": "markdown",
   "metadata": {
    "collapsed": true
   },
   "source": [
    "## 3. Test"
   ]
  },
  {
   "cell_type": "code",
   "execution_count": 88,
   "metadata": {
    "collapsed": false
   },
   "outputs": [
    {
     "data": {
      "text/plain": [
       "{'From': 'Kuwait',\n",
       " 'action': \"['establish']\",\n",
       " 'decision': 'support',\n",
       " 'id': '0',\n",
       " 'institutions': '[]',\n",
       " 'notes': '',\n",
       " 'text': '69.1 The establishment of an international round table to discuss the interrelation between security and fundamental freedoms (Kuwait). );',\n",
       " 'theme': '[]',\n",
       " 'to': 'Algeria',\n",
       " 'year': '2008'}"
      ]
     },
     "execution_count": 88,
     "metadata": {},
     "output_type": "execute_result"
    }
   ],
   "source": [
    "# load data\n",
    "recs = []\n",
    "with open(\"../all-data.csv\",'rU') as csvfile:\n",
    "            reader = csv.DictReader(csvfile)\n",
    "            for row in reader:\n",
    "                recs.append(row)\n",
    "            \n",
    "len(recs)\n",
    "recs[0]"
   ]
  },
  {
   "cell_type": "code",
   "execution_count": 89,
   "metadata": {
    "collapsed": false
   },
   "outputs": [
    {
     "data": {
      "text/plain": [
       "{'From': 'Algeria',\n",
       " 'action': \"['assistance']\",\n",
       " 'decision': 'consider',\n",
       " 'id': '1430',\n",
       " 'institutions': '[]',\n",
       " 'notes': '',\n",
       " 'sentiment': '2',\n",
       " 'text': '94.37 Pursue its efforts, with the assistance and cooperation of the international community, for the realization of the rights of women and women\\xeas empowerment as an important sector of society that can contribute significantly to the development of the country (Algeria). );',\n",
       " 'theme': \"['women']\",\n",
       " 'to': 'Bangladesh',\n",
       " 'year': '2009'}"
      ]
     },
     "execution_count": 89,
     "metadata": {},
     "output_type": "execute_result"
    }
   ],
   "source": [
    "# load Erin\n",
    "erin = []\n",
    "with open(\"erin-data.csv\",'rU') as csvfile:\n",
    "            reader = csv.DictReader(csvfile)\n",
    "            for row in reader:\n",
    "                erin.append(row)\n",
    "            \n",
    "erin[1]"
   ]
  },
  {
   "cell_type": "code",
   "execution_count": 90,
   "metadata": {
    "collapsed": false
   },
   "outputs": [
    {
     "data": {
      "text/plain": [
       "{'From': 'Algeria',\n",
       " 'action': ['assistance'],\n",
       " 'decision': 'consider',\n",
       " 'id': '1430',\n",
       " 'institutions': [],\n",
       " 'notes': '',\n",
       " 'sentiment': '2',\n",
       " 'text': '94.37 Pursue its efforts, with the assistance and cooperation of the international community, for the realization of the rights of women and women\\xeas empowerment as an important sector of society that can contribute significantly to the development of the country (Algeria). );',\n",
       " 'theme': ['women'],\n",
       " 'to': 'Bangladesh',\n",
       " 'year': '2009'}"
      ]
     },
     "execution_count": 90,
     "metadata": {},
     "output_type": "execute_result"
    }
   ],
   "source": [
    "# making literal lists\n",
    "for i in erin:\n",
    "    try:\n",
    "        i['theme'] = ast.literal_eval(i['theme'])\n",
    "        i['institutions'] = ast.literal_eval(i['institutions'])\n",
    "        i['action'] = ast.literal_eval(i['action'])\n",
    "    except Exception,e:\n",
    "        print i\n",
    "erin[1]"
   ]
  },
  {
   "cell_type": "code",
   "execution_count": 91,
   "metadata": {
    "collapsed": false
   },
   "outputs": [],
   "source": [
    "# strip whitespace:\n",
    "for i in erin:\n",
    "    i['theme'] = [x.strip() for x in i['theme']]\n",
    "    i['institutions'] = [x.strip() for x in i['institutions']]\n",
    "    i['action'] = [x.strip() for x in i['action']]"
   ]
  },
  {
   "cell_type": "code",
   "execution_count": 92,
   "metadata": {
    "collapsed": false
   },
   "outputs": [],
   "source": [
    "# get ids\n",
    "ids = [rec['id'] for rec in erin]"
   ]
  },
  {
   "cell_type": "code",
   "execution_count": 93,
   "metadata": {
    "collapsed": false
   },
   "outputs": [
    {
     "data": {
      "text/plain": [
       "{'From': 'Algeria',\n",
       " 'action': '[]',\n",
       " 'decision': 'consider',\n",
       " 'id': '371',\n",
       " 'institutions': '[]',\n",
       " 'notes': '',\n",
       " 'text': '64.9 That the guarantee provided for the freedom of association and assembly be enshrined into law (Algeria);',\n",
       " 'theme': \"['civil-so']\",\n",
       " 'to': 'Korea',\n",
       " 'year': '2008'}"
      ]
     },
     "execution_count": 93,
     "metadata": {},
     "output_type": "execute_result"
    }
   ],
   "source": [
    "# get original sample\n",
    "sample = []\n",
    "for i in recs:\n",
    "    if i['id'] in ids:\n",
    "        sample.append(i)\n",
    "sample[0]  "
   ]
  },
  {
   "cell_type": "code",
   "execution_count": 94,
   "metadata": {
    "collapsed": false
   },
   "outputs": [
    {
     "data": {
      "text/plain": [
       "{'From': 'Algeria',\n",
       " 'action': ['assistance'],\n",
       " 'decision': 'consider',\n",
       " 'id': '1430',\n",
       " 'institutions': [],\n",
       " 'notes': '',\n",
       " 'text': '94.37 Pursue its efforts, with the assistance and cooperation of the international community, for the realization of the rights of women and women\\xd5s empowerment as an important sector of society that can contribute significantly to the development of the country (Algeria). );',\n",
       " 'theme': ['women'],\n",
       " 'to': 'Bangladesh',\n",
       " 'year': '2009'}"
      ]
     },
     "execution_count": 94,
     "metadata": {},
     "output_type": "execute_result"
    }
   ],
   "source": [
    "for i in sample:\n",
    "    i['theme'] = ast.literal_eval(i['theme'])\n",
    "    i['institutions'] = ast.literal_eval(i['institutions'])\n",
    "    i['action'] = ast.literal_eval(i['action'])\n",
    "\n",
    "sample[1]"
   ]
  },
  {
   "cell_type": "code",
   "execution_count": 95,
   "metadata": {
    "collapsed": false
   },
   "outputs": [],
   "source": [
    "# zip\n",
    "matching = []\n",
    "for i in range(100):\n",
    "    dic = erin[i].copy()\n",
    "    \n",
    "    # Theme\n",
    "    dic['theme-erin'] = erin[i]['theme']\n",
    "    dic['theme-rochelle'] = sample[i]['theme']\n",
    "    del dic['theme']\n",
    "    \n",
    "    if set(dic['theme-erin']) == set(dic['theme-rochelle']):\n",
    "        dic['theme-match'] = True\n",
    "    elif set(dic['theme-erin']).intersection(dic['theme-rochelle']):\n",
    "        dic['theme-match'] = \"Partial\"\n",
    "    else:\n",
    "        dic['theme-match'] = False\n",
    "    \n",
    "    # institutions\n",
    "    dic['institution-erin'] = erin[i]['institutions']\n",
    "    dic['institution-rochelle'] = sample[i]['institutions']\n",
    "    del dic['institutions']\n",
    "    \n",
    "    if set(dic['institution-erin']) == set(dic['institution-rochelle']):\n",
    "        dic['institution-match'] = True\n",
    "    elif set(dic['institution-erin']).intersection(dic['institution-rochelle']):\n",
    "        dic['institution-match'] = \"Partial\"\n",
    "    else:\n",
    "        dic['institution-match'] = False\n",
    "    \n",
    "    # actions\n",
    "    dic['action-erin'] = erin[i]['action']\n",
    "    dic['action-rochelle'] = sample[i]['action']\n",
    "    del dic['action']\n",
    "    \n",
    "    if set(dic['action-erin']) == set(dic['action-rochelle']):\n",
    "        dic['action-match'] = True\n",
    "    elif set(dic['action-erin']).intersection(dic['action-rochelle']):\n",
    "        dic['action-match'] = \"Partial\"\n",
    "    else:\n",
    "        dic['action-match'] = False\n",
    "    \n",
    "    matching.append(dic)"
   ]
  },
  {
   "cell_type": "code",
   "execution_count": 96,
   "metadata": {
    "collapsed": false
   },
   "outputs": [],
   "source": [
    "# make lists of matches, etc\n",
    "theme_match = [i for i in matching if i['theme-match'] == True]\n",
    "theme_partial = [i for i in matching if i['theme-match'] == \"Partial\"]\n",
    "theme_false = [i for i in matching if i['theme-match'] == False]\n",
    "\n",
    "institution_match = [i for i in matching if i['institution-match'] == True]\n",
    "institution_partial = [i for i in matching if i['institution-match'] == \"Partial\"]\n",
    "institution_false = [i for i in matching if i['institution-match'] == False]\n",
    "\n",
    "action_match = [i for i in matching if i['action-match'] == True]\n",
    "action_partial = [i for i in matching if i['action-match'] == \"Partial\"]\n",
    "action_false = [i for i in matching if i['action-match'] == False]"
   ]
  },
  {
   "cell_type": "code",
   "execution_count": 97,
   "metadata": {
    "collapsed": false
   },
   "outputs": [
    {
     "name": "stdout",
     "output_type": "stream",
     "text": [
      "Theme\n",
      "\n",
      "Match: 62\n",
      "Partial: 28\n",
      "False: 10\n",
      "\n",
      "\n",
      "Institutions\n",
      "\n",
      "Match: 81\n",
      "Partial: 3\n",
      "False: 16\n",
      "\n",
      "\n",
      "Action\n",
      "\n",
      "Match: 89\n",
      "Partial: 5\n",
      "False: 6\n",
      "\n",
      "\n"
     ]
    }
   ],
   "source": [
    "print \"Theme\" + \"\\n\"\n",
    "print \"Match: \" + str(len(theme_match))\n",
    "print \"Partial: \" + str(len(theme_partial))\n",
    "print \"False: \" + str(len(theme_false))\n",
    "print \"\\n\"\n",
    "\n",
    "print \"Institutions\" + \"\\n\"\n",
    "print \"Match: \" + str(len(institution_match))\n",
    "print \"Partial: \" + str(len(institution_partial))\n",
    "print \"False: \" + str(len(institution_false))\n",
    "print \"\\n\"\n",
    "\n",
    "print \"Action\" + \"\\n\"\n",
    "print \"Match: \" + str(len(action_match))\n",
    "print \"Partial: \" + str(len(action_partial))\n",
    "print \"False: \" + str(len(action_false))\n",
    "print \"\\n\""
   ]
  },
  {
   "cell_type": "code",
   "execution_count": 98,
   "metadata": {
    "collapsed": false
   },
   "outputs": [
    {
     "name": "stdout",
     "output_type": "stream",
     "text": [
      "1814: 76.35 Share with all members of the Working Group its experience in increasing purchasing power and on efforts which have eliminated squatting in Cameroon (Sudan);\n",
      "ERIN: ['infrastructure']\n",
      "ROCHELLE: []\n",
      "\n",
      "1827: 77.1 Further adopt additional measures, including granting suspensive effect to appeals against deportation orders, to ensure its full implementation without any exceptions of the principle of non-refoulement (Czech Republic);\n",
      "ERIN: ['migrants']\n",
      "ROCHELLE: []\n",
      "\n",
      "3344: 77.1.3 accelerate the ratification of CPD (Azerbaijan);\n",
      "ERIN: ['disabilities']\n",
      "ROCHELLE: []\n",
      "\n",
      "5762: 98.10. That legislation in Belarus regarding the registration of non.governmental organizations be streamlined and made less burdensome (Ireland);\n",
      "ERIN: ['civil-so']\n",
      "ROCHELLE: []\n",
      "\n",
      "9702: 79.49. Continue its efforts in the area of providing welfare to older persons (Sudan);\n",
      "ERIN: ['elderly', 'poverty']\n",
      "ROCHELLE: []\n",
      "\n",
      "15277: 98.25. Review its legislation on communications and bring it in line with international standards (Sweden);\n",
      "ERIN: ['speech']\n",
      "ROCHELLE: []\n",
      "\n",
      "15323: 79.40. Develop, within the United Nations and regional mechanisms, a mitigation and management plan for disasters, with a human rights approach, in accordance with what has been suggested by the Office of the United Nations High Commissioner for Refugees (Chile);\n",
      "ERIN: ['environment']\n",
      "ROCHELLE: ['migrants']\n",
      "\n",
      "15765: 89.76. Strengthen development efforts with a focus on the rural areas (Algeria);\n",
      "ERIN: ['poverty']\n",
      "ROCHELLE: []\n",
      "\n",
      "19861: 95.36. Implement legal reform to ensure an independent Prosecuting Authority promoting effectiveness, impartiality and fairness of prosecutors in criminal proceedings (Denmark);\n",
      "ERIN: ['prisoners']\n",
      "ROCHELLE: ['judiciary']\n",
      "\n",
      "32420: 114.47 Prevent deaths in custody and punish those responsible for such deaths (Ghana);\n",
      "ERIN: ['prisoners']\n",
      "ROCHELLE: []\n",
      "\n"
     ]
    }
   ],
   "source": [
    "for i in theme_false:\n",
    "    print i['id'] + \": \" + i['text']\n",
    "    print \"ERIN: \" + str(i['theme-erin'])\n",
    "    print \"ROCHELLE: \" + str(i['theme-rochelle']) + \"\\n\""
   ]
  },
  {
   "cell_type": "markdown",
   "metadata": {},
   "source": [
    "## 4. Turn to Binary SpreadSheet"
   ]
  },
  {
   "cell_type": "code",
   "execution_count": 68,
   "metadata": {
    "collapsed": false
   },
   "outputs": [],
   "source": [
    "institutions = ['core', 'CRPD', 'ICCPR', 'eu-vaw', 'geneva', 'ICC', 'ILO', 'ICESR', 'achr', 'CAT', 'CRC', 'echr', '1954-stateless', 'traffick', 'CTOC', 'ICMW', 'ICERD', 'eu-child', 'sp-pr', 'PP', 'kampala', '1951refugees', 'pol-women', 'CPED', 'uncac', 'ottawa', '1961-stateless', 'CEDAW', 'unesco-ed', 'hague', 'genocide', 'HRC', 'unesco-expr', 'int-cord', 'frame-minorities', 'ind169', 'OP', 'ic-mercenaries', 'eu-migrant', 'un-indig', 'vienna', 'ouagadougou']"
   ]
  },
  {
   "cell_type": "code",
   "execution_count": 69,
   "metadata": {
    "collapsed": false
   },
   "outputs": [],
   "source": [
    "actions = ['accede', 'ratify', 'take-measures', 'sign', 'report', 'continue', 'withdraw', 'harmonize', 'party', 'implement', 'establish']"
   ]
  },
  {
   "cell_type": "code",
   "execution_count": 70,
   "metadata": {
    "collapsed": false
   },
   "outputs": [],
   "source": [
    "theme = ['death-pen', 'infrastructure ', 'intelligence', 'prisoners', 'elderly', 'culture', 'education', 'children', 'civil-so', 'disappearances', 'police', 'hiv', 'privacy', 'discrimination', 'impunity', 'governance', 'labor', 'environment', 'religion', 'foreign-movement', 'health', 'speech', 'domest-movement', 'terrorism', 'paramilitary', 'corruption', 'sex-violence', 'civil-conflict', 'race', 'torture', 'food', 'extra-judicial', 'judiciary', 'indigenous', 'lgbt', 'self-determ', 'poverty', 'ethnic', 'women', 'land', 'reproductive', 'post-conflict', 'disabilities', 'migrants', 'pol-imprisonment', 'socialism', 'trafficking', 'military', 'property']"
   ]
  },
  {
   "cell_type": "code",
   "execution_count": 71,
   "metadata": {
    "collapsed": false
   },
   "outputs": [
    {
     "data": {
      "text/plain": [
       "['From',\n",
       " 'sentiment',\n",
       " 'text',\n",
       " 'decision',\n",
       " 'id',\n",
       " 'to',\n",
       " 'theme',\n",
       " 'notes',\n",
       " 'year',\n",
       " 'action',\n",
       " 'institutions']"
      ]
     },
     "execution_count": 71,
     "metadata": {},
     "output_type": "execute_result"
    }
   ],
   "source": [
    "erin[0].keys()"
   ]
  },
  {
   "cell_type": "code",
   "execution_count": 72,
   "metadata": {
    "collapsed": false
   },
   "outputs": [],
   "source": [
    "for i in sample:\n",
    "    for s in institutions:\n",
    "        if s in i['institutions']:\n",
    "            i[s] = 1\n",
    "        else:\n",
    "            i[s] = 0\n",
    "            \n",
    "    for s in actions:\n",
    "        if s in i['action']:\n",
    "            i[s] = 1\n",
    "        else:\n",
    "            i[s] = 0\n",
    "            \n",
    "    for s in theme:\n",
    "        if s in i['theme']:\n",
    "            i[s] = 1\n",
    "        else:\n",
    "            i[s] = 0 \n",
    "    \n",
    "    del i['to']\n",
    "    del i['From']\n",
    "    del i['text']\n",
    "    del i['notes']\n",
    "    del i['action']\n",
    "    del i['theme']\n",
    "    del i['decision']\n",
    "    del i['institutions']\n",
    "    del i['year']"
   ]
  },
  {
   "cell_type": "code",
   "execution_count": 73,
   "metadata": {
    "collapsed": false
   },
   "outputs": [],
   "source": [
    "for i in erin:\n",
    "    for s in institutions:\n",
    "        if s in i['institutions']:\n",
    "            i[s] = 1\n",
    "        else:\n",
    "            i[s] = 0\n",
    "            \n",
    "    for s in actions:\n",
    "        if s in i['action']:\n",
    "            i[s] = 1\n",
    "        else:\n",
    "            i[s] = 0\n",
    "            \n",
    "    for s in theme:\n",
    "        if s in i['theme']:\n",
    "            i[s] = 1\n",
    "        else:\n",
    "            i[s] = 0  \n",
    "            \n",
    "    del i['to']\n",
    "    del i['From']\n",
    "    del i['text']\n",
    "    del i['year']\n",
    "    del i['institutions']\n",
    "    del i['action']\n",
    "    del i['theme']\n",
    "    del i['decision']\n",
    "    del i['sentiment']"
   ]
  },
  {
   "cell_type": "code",
   "execution_count": 74,
   "metadata": {
    "collapsed": false
   },
   "outputs": [],
   "source": [
    "## writing sample\n",
    "\n",
    "#writing column headings\n",
    "keys = sample[0].keys()\n",
    "\n",
    "#writing the rest\n",
    "with open('sample-binary.csv', 'wb') as output_file:\n",
    "    dict_writer = csv.DictWriter(output_file, keys)\n",
    "    dict_writer.writeheader()\n",
    "    dict_writer.writerows(sample)"
   ]
  },
  {
   "cell_type": "code",
   "execution_count": 75,
   "metadata": {
    "collapsed": false
   },
   "outputs": [],
   "source": [
    "## writing erin\n",
    "\n",
    "#writing column headings\n",
    "keys = erin[0].keys()\n",
    "\n",
    "#writing the rest\n",
    "with open('erin-binary.csv', 'wb') as output_file:\n",
    "    dict_writer = csv.DictWriter(output_file, keys)\n",
    "    dict_writer.writeheader()\n",
    "    dict_writer.writerows(erin)"
   ]
  },
  {
   "cell_type": "code",
   "execution_count": null,
   "metadata": {
    "collapsed": true
   },
   "outputs": [],
   "source": []
  }
 ],
 "metadata": {
  "kernelspec": {
   "display_name": "Python 2",
   "language": "python",
   "name": "python2"
  },
  "language_info": {
   "codemirror_mode": {
    "name": "ipython",
    "version": 2
   },
   "file_extension": ".py",
   "mimetype": "text/x-python",
   "name": "python",
   "nbconvert_exporter": "python",
   "pygments_lexer": "ipython2",
   "version": "2.7.9"
  }
 },
 "nbformat": 4,
 "nbformat_minor": 0
}
