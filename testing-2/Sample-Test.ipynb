{
 "cells": [
  {
   "cell_type": "code",
   "execution_count": 4,
   "metadata": {
    "collapsed": false
   },
   "outputs": [
    {
     "data": {
      "text/plain": [
       "9223372036854775807"
      ]
     },
     "execution_count": 4,
     "metadata": {},
     "output_type": "execute_result"
    }
   ],
   "source": [
    "import os\n",
    "import re\n",
    "import csv\n",
    "import sys\n",
    "import csv\n",
    "import random\n",
    "import ast\n",
    "\n",
    "csv.field_size_limit(sys.maxsize)"
   ]
  },
  {
   "cell_type": "code",
   "execution_count": 20,
   "metadata": {
    "collapsed": false
   },
   "outputs": [
    {
     "name": "stdout",
     "output_type": "stream",
     "text": [
      "39191\n"
     ]
    },
    {
     "data": {
      "text/plain": [
       "{'From': 'Kuwait',\n",
       " 'action': \"['establish']\",\n",
       " 'decision': 'support',\n",
       " 'id': '0',\n",
       " 'institutions': '[]',\n",
       " 'notes': '',\n",
       " 'text': '69.1 The establishment of an international round table to discuss the interrelation between security and fundamental freedoms (Kuwait). );',\n",
       " 'theme': '[]',\n",
       " 'to': 'Algeria',\n",
       " 'year': '2008'}"
      ]
     },
     "execution_count": 20,
     "metadata": {},
     "output_type": "execute_result"
    }
   ],
   "source": [
    "# load data\n",
    "recs = []\n",
    "with open(\"../all-data.csv\",'rU') as csvfile:\n",
    "            reader = csv.DictReader(csvfile)\n",
    "            for row in reader:\n",
    "                recs.append(row)\n",
    "            \n",
    "print len(recs)\n",
    "recs[0]"
   ]
  },
  {
   "cell_type": "markdown",
   "metadata": {
    "collapsed": false
   },
   "source": [
    "## 1. Clean"
   ]
  },
  {
   "cell_type": "code",
   "execution_count": 3,
   "metadata": {
    "collapsed": false
   },
   "outputs": [],
   "source": [
    "# check for broken csv rows\n",
    "for i in recs:\n",
    "    if not i['year'].startswith('2'):\n",
    "        print i['text']"
   ]
  },
  {
   "cell_type": "code",
   "execution_count": 33,
   "metadata": {
    "collapsed": false
   },
   "outputs": [],
   "source": [
    "# ordering\n",
    "\"\"\"\n",
    "numbs = []\n",
    "for i in recs[:500]:\n",
    "    n = i['text'].split()[0]\n",
    "    n = n.split('.')\n",
    "    i['n1'] = n[0]\n",
    "    i['n2'] = n[1]\n",
    "    if len(n) == 3:\n",
    "        i['n3'] = n[2]\n",
    "    else:\n",
    "        i['n3'] = 0\n",
    "\"\"\""
   ]
  },
  {
   "cell_type": "markdown",
   "metadata": {},
   "source": [
    "## 2. Sample"
   ]
  },
  {
   "cell_type": "code",
   "execution_count": 28,
   "metadata": {
    "collapsed": false
   },
   "outputs": [],
   "source": [
    "f = open('../sample-ids.txt','r')\n",
    "sampled_ids = f.readlines()\n",
    "f.close()\n",
    "sampled_ids = [ast.literal_eval(i) for i in sampled_ids]\n",
    "sampled_ids = [item for sublist in sampled_ids for item in sublist]"
   ]
  },
  {
   "cell_type": "code",
   "execution_count": 29,
   "metadata": {
    "collapsed": false
   },
   "outputs": [
    {
     "data": {
      "text/plain": [
       "38991"
      ]
     },
     "execution_count": 29,
     "metadata": {},
     "output_type": "execute_result"
    }
   ],
   "source": [
    "# remove already sampled recs\n",
    "for i in recs:\n",
    "    if i['id'] in sampled_ids:\n",
    "        recs.remove(i)\n",
    "len(recs)"
   ]
  },
  {
   "cell_type": "code",
   "execution_count": 32,
   "metadata": {
    "collapsed": false
   },
   "outputs": [
    {
     "data": {
      "text/plain": [
       "100"
      ]
     },
     "execution_count": 32,
     "metadata": {},
     "output_type": "execute_result"
    }
   ],
   "source": [
    "# sample\n",
    "rec_ids = [int(i['id']) for i in recs] # get ids of remaining recs\n",
    "ids = random.sample(rec_ids, 100) # sample those ids\n",
    "\n",
    "sample = []\n",
    "for i in recs:\n",
    "    if int(i['id']) in ids:\n",
    "        sample.append(i)\n",
    "len(sample)"
   ]
  },
  {
   "cell_type": "code",
   "execution_count": 33,
   "metadata": {
    "collapsed": false
   },
   "outputs": [
    {
     "data": {
      "text/plain": [
       "{'From': 'Sudan',\n",
       " 'decision': 'support',\n",
       " 'id': '1',\n",
       " 'text': '69.2 That Algeria share its experience in the fight against terrorism and pursue its efforts to combat poverty and promote economic, social and cultural rights with a view to achieving the Millennium Development Goals by 2015 (Sudan). );',\n",
       " 'to': 'Algeria',\n",
       " 'year': '2008'}"
      ]
     },
     "execution_count": 33,
     "metadata": {},
     "output_type": "execute_result"
    }
   ],
   "source": [
    "# delete data we don't want to include\n",
    "for i in sample:\n",
    "    del i['institutions']\n",
    "    del i['theme']\n",
    "    del i['action']\n",
    "    del i['notes']\n",
    "    \n",
    "sample[0]"
   ]
  },
  {
   "cell_type": "code",
   "execution_count": 34,
   "metadata": {
    "collapsed": false
   },
   "outputs": [],
   "source": [
    "#writing column headings\n",
    "keys = sample[0].keys()\n",
    "\n",
    "#writing the rest\n",
    "with open('sample-matt-sentiment.csv', 'wb') as output_file:\n",
    "    dict_writer = csv.DictWriter(output_file, keys)\n",
    "    dict_writer.writeheader()\n",
    "    dict_writer.writerows(sample)"
   ]
  },
  {
   "cell_type": "code",
   "execution_count": 35,
   "metadata": {
    "collapsed": false
   },
   "outputs": [],
   "source": [
    "# add ids to the list of sampled data\n",
    "ids = [str(i) for i in ids]\n",
    "with open('../sample-ids.txt', 'a') as output_file:\n",
    "    output_file.write(\"\\n\" + str(ids))"
   ]
  },
  {
   "cell_type": "markdown",
   "metadata": {
    "collapsed": true
   },
   "source": [
    "## 3. Test"
   ]
  },
  {
   "cell_type": "code",
   "execution_count": 16,
   "metadata": {
    "collapsed": false
   },
   "outputs": [
    {
     "data": {
      "text/plain": [
       "{'From': 'Kuwait',\n",
       " 'action': \"['establish']\",\n",
       " 'decision': 'support',\n",
       " 'id': '0',\n",
       " 'institutions': '[]',\n",
       " 'notes': '',\n",
       " 'text': '69.1 The establishment of an international round table to discuss the interrelation between security and fundamental freedoms (Kuwait). );',\n",
       " 'theme': '[]',\n",
       " 'to': 'Algeria',\n",
       " 'year': '2008'}"
      ]
     },
     "execution_count": 16,
     "metadata": {},
     "output_type": "execute_result"
    }
   ],
   "source": [
    "# load data\n",
    "recs = []\n",
    "with open(\"../all-data.csv\",'rU') as csvfile:\n",
    "            reader = csv.DictReader(csvfile)\n",
    "            for row in reader:\n",
    "                recs.append(row)\n",
    "            \n",
    "len(recs)\n",
    "recs[0]"
   ]
  },
  {
   "cell_type": "code",
   "execution_count": 17,
   "metadata": {
    "collapsed": false
   },
   "outputs": [
    {
     "data": {
      "text/plain": [
       "{'From': 'Tunisia',\n",
       " 'action': \"['continue']\",\n",
       " 'decision': 'consider',\n",
       " 'id': '690',\n",
       " 'institutions': '[]',\n",
       " 'notes about coding': '',\n",
       " 'sentiment': '3',\n",
       " 'text': '58.14 To continue to work on improving the situation of children\\x90s rights (Algeria, Tunisia);',\n",
       " 'theme': \"['children']\",\n",
       " 'to': 'Romania',\n",
       " 'year': '2008'}"
      ]
     },
     "execution_count": 17,
     "metadata": {},
     "output_type": "execute_result"
    }
   ],
   "source": [
    "# load Erin\n",
    "erin = []\n",
    "with open(\"erin-data.csv\",'rU') as csvfile:\n",
    "            reader = csv.DictReader(csvfile)\n",
    "            for row in reader:\n",
    "                erin.append(row)\n",
    "            \n",
    "erin[1]"
   ]
  },
  {
   "cell_type": "code",
   "execution_count": 18,
   "metadata": {
    "collapsed": false
   },
   "outputs": [
    {
     "data": {
      "text/plain": [
       "{'From': 'Tunisia',\n",
       " 'action': ['continue'],\n",
       " 'decision': 'consider',\n",
       " 'id': '690',\n",
       " 'institutions': [],\n",
       " 'notes about coding': '',\n",
       " 'sentiment': '3',\n",
       " 'text': '58.14 To continue to work on improving the situation of children\\x90s rights (Algeria, Tunisia);',\n",
       " 'theme': ['children'],\n",
       " 'to': 'Romania',\n",
       " 'year': '2008'}"
      ]
     },
     "execution_count": 18,
     "metadata": {},
     "output_type": "execute_result"
    }
   ],
   "source": [
    "# making literal lists\n",
    "for i in erin:\n",
    "    i['theme'] = ast.literal_eval(i['theme'])\n",
    "    i['institutions'] = ast.literal_eval(i['institutions'])\n",
    "    i['action'] = ast.literal_eval(i['action'])\n",
    "\n",
    "erin[1]"
   ]
  },
  {
   "cell_type": "code",
   "execution_count": 19,
   "metadata": {
    "collapsed": false
   },
   "outputs": [],
   "source": [
    "# strip whitespace:\n",
    "for i in erin:\n",
    "    i['theme'] = [x.strip() for x in i['theme']]\n",
    "    i['institutions'] = [x.strip() for x in i['institutions']]\n",
    "    i['action'] = [x.strip() for x in i['action']]"
   ]
  },
  {
   "cell_type": "code",
   "execution_count": 20,
   "metadata": {
    "collapsed": false
   },
   "outputs": [],
   "source": [
    "# get ids\n",
    "ids = [rec['id'] for rec in erin]"
   ]
  },
  {
   "cell_type": "code",
   "execution_count": 22,
   "metadata": {
    "collapsed": false
   },
   "outputs": [
    {
     "data": {
      "text/plain": [
       "{'From': 'Mexico',\n",
       " 'action': '[]',\n",
       " 'decision': 'support',\n",
       " 'id': '92',\n",
       " 'institutions': '[]',\n",
       " 'notes': '',\n",
       " 'text': '83.8 Enhance access to justice as well as improve the judicial system (Mexico);',\n",
       " 'theme': \"['judiciary']\",\n",
       " 'to': 'Brazil',\n",
       " 'year': '2008'}"
      ]
     },
     "execution_count": 22,
     "metadata": {},
     "output_type": "execute_result"
    }
   ],
   "source": [
    "# get original sample\n",
    "sample = []\n",
    "for i in recs:\n",
    "    if i['id'] in ids:\n",
    "        sample.append(i)\n",
    "sample[0]  "
   ]
  },
  {
   "cell_type": "code",
   "execution_count": 23,
   "metadata": {
    "collapsed": false
   },
   "outputs": [
    {
     "data": {
      "text/plain": [
       "{'From': 'Tunisia',\n",
       " 'action': ['continue'],\n",
       " 'decision': 'consider',\n",
       " 'id': '690',\n",
       " 'institutions': [],\n",
       " 'notes': '',\n",
       " 'text': '58.14 To continue to work on improving the situation of children\\xcds rights (Algeria, Tunisia);',\n",
       " 'theme': ['children'],\n",
       " 'to': 'Romania',\n",
       " 'year': '2008'}"
      ]
     },
     "execution_count": 23,
     "metadata": {},
     "output_type": "execute_result"
    }
   ],
   "source": [
    "for i in sample:\n",
    "    i['theme'] = ast.literal_eval(i['theme'])\n",
    "    i['institutions'] = ast.literal_eval(i['institutions'])\n",
    "    i['action'] = ast.literal_eval(i['action'])\n",
    "\n",
    "sample[1]"
   ]
  },
  {
   "cell_type": "code",
   "execution_count": 24,
   "metadata": {
    "collapsed": false
   },
   "outputs": [],
   "source": [
    "# zip\n",
    "matching = []\n",
    "for i in range(100):\n",
    "    dic = erin[i].copy()\n",
    "    \n",
    "    # Theme\n",
    "    dic['theme-erin'] = erin[i]['theme']\n",
    "    dic['theme-rochelle'] = sample[i]['theme']\n",
    "    del dic['theme']\n",
    "    \n",
    "    if set(dic['theme-erin']) == set(dic['theme-rochelle']):\n",
    "        dic['theme-match'] = True\n",
    "    elif set(dic['theme-erin']).intersection(dic['theme-rochelle']):\n",
    "        dic['theme-match'] = \"Partial\"\n",
    "    else:\n",
    "        dic['theme-match'] = False\n",
    "    \n",
    "    # institutions\n",
    "    dic['institution-erin'] = erin[i]['institutions']\n",
    "    dic['institution-rochelle'] = sample[i]['institutions']\n",
    "    del dic['institutions']\n",
    "    \n",
    "    if set(dic['institution-erin']) == set(dic['institution-rochelle']):\n",
    "        dic['institution-match'] = True\n",
    "    elif set(dic['institution-erin']).intersection(dic['institution-rochelle']):\n",
    "        dic['institution-match'] = \"Partial\"\n",
    "    else:\n",
    "        dic['institution-match'] = False\n",
    "    \n",
    "    # actions\n",
    "    dic['action-erin'] = erin[i]['action']\n",
    "    dic['action-rochelle'] = sample[i]['action']\n",
    "    del dic['action']\n",
    "    \n",
    "    if set(dic['action-erin']) == set(dic['action-rochelle']):\n",
    "        dic['action-match'] = True\n",
    "    elif set(dic['action-erin']).intersection(dic['action-rochelle']):\n",
    "        dic['action-match'] = \"Partial\"\n",
    "    else:\n",
    "        dic['action-match'] = False\n",
    "    \n",
    "    matching.append(dic)"
   ]
  },
  {
   "cell_type": "code",
   "execution_count": 25,
   "metadata": {
    "collapsed": false
   },
   "outputs": [],
   "source": [
    "# make lists of matches, etc\n",
    "theme_match = [i for i in matching if i['theme-match'] == True]\n",
    "theme_partial = [i for i in matching if i['theme-match'] == \"Partial\"]\n",
    "theme_false = [i for i in matching if i['theme-match'] == False]\n",
    "\n",
    "institution_match = [i for i in matching if i['institution-match'] == True]\n",
    "institution_partial = [i for i in matching if i['institution-match'] == \"Partial\"]\n",
    "institution_false = [i for i in matching if i['institution-match'] == False]\n",
    "\n",
    "action_match = [i for i in matching if i['action-match'] == True]\n",
    "action_partial = [i for i in matching if i['action-match'] == \"Partial\"]\n",
    "action_false = [i for i in matching if i['action-match'] == False]"
   ]
  },
  {
   "cell_type": "code",
   "execution_count": 26,
   "metadata": {
    "collapsed": false
   },
   "outputs": [
    {
     "name": "stdout",
     "output_type": "stream",
     "text": [
      "Theme\n",
      "\n",
      "Match: 76\n",
      "Partial: 19\n",
      "False: 5\n",
      "\n",
      "\n",
      "Institutions\n",
      "\n",
      "Match: 95\n",
      "Partial: 2\n",
      "False: 3\n",
      "\n",
      "\n",
      "Action\n",
      "\n",
      "Match: 84\n",
      "Partial: 6\n",
      "False: 10\n",
      "\n",
      "\n"
     ]
    }
   ],
   "source": [
    "print \"Theme\" + \"\\n\"\n",
    "print \"Match: \" + str(len(theme_match))\n",
    "print \"Partial: \" + str(len(theme_partial))\n",
    "print \"False: \" + str(len(theme_false))\n",
    "print \"\\n\"\n",
    "\n",
    "print \"Institutions\" + \"\\n\"\n",
    "print \"Match: \" + str(len(institution_match))\n",
    "print \"Partial: \" + str(len(institution_partial))\n",
    "print \"False: \" + str(len(institution_false))\n",
    "print \"\\n\"\n",
    "\n",
    "print \"Action\" + \"\\n\"\n",
    "print \"Match: \" + str(len(action_match))\n",
    "print \"Partial: \" + str(len(action_partial))\n",
    "print \"False: \" + str(len(action_false))\n",
    "print \"\\n\""
   ]
  },
  {
   "cell_type": "code",
   "execution_count": 181,
   "metadata": {
    "collapsed": false
   },
   "outputs": [
    {
     "name": "stdout",
     "output_type": "stream",
     "text": [
      "4385: 57.8.1 and take all appropriate measures, in the fields of legislation, implementation and awareness-raising, to tackle domestic violence against women and children (Italy);\n",
      "ERIN: ['take-measures']\n",
      "ROCHELLE: ['implement', 'take-measures']\n",
      "\n",
      "9370: 101.12. Continue to implement the core elements of the Children�s Act, which is a great step forwards in the achievement of the Millennium Development Goals (Angola);\n",
      "ERIN: ['continue']\n",
      "ROCHELLE: ['continue', 'implement']\n",
      "\n",
      "14471: 92.46. Carry out a review of norms and practices relating to freedom of belief in order to harmonize domestic laws with international standards established under ICCPR (Mexico);\n",
      "ERIN: ['harmonize']\n",
      "ROCHELLE: ['harmonize', 'establish']\n",
      "\n",
      "20347: 108.30 Take necessary measures to ensure effective implementation of laws guaranteeing free registration of births nationwide, including by educating families and communities on the importance of birth registration in order to contribute, among other things, to eliminating the practice of early and forced marriage and increase access to education, health care and other public services (Canada);\n",
      "ERIN: ['take-measures']\n",
      "ROCHELLE: ['implement', 'take-measures']\n",
      "\n",
      "36242: 127.65 Continue implementing programmes to improve the way they deal with persons, particularly during security operations and that the Ministry of human rights carry out awareness-raising programmes with the concerned ministries (Bahrain);\n",
      "ERIN: ['continue']\n",
      "ROCHELLE: ['continue', 'implement']\n",
      "\n",
      "38378: 115.100 Take all appropriate measures to enable and facilitate the acquisition of Slovenian citizenship by the erased persons�, paying particular attention to the children of erased persons� in 1992, who are still stateless. Ensure compensation for all erased persons� and, in this regard, review their compensation schemes, on the basis of the amounts and criteria established by the European Court of Human Rights and ensure the implementation of measures to reintegrate erased persons� (France);\n",
      "ERIN: ['take-measures']\n",
      "ROCHELLE: ['implement', 'establish', 'take-measures']\n",
      "\n"
     ]
    }
   ],
   "source": [
    "for i in action_partial:\n",
    "    print i['id'] + \": \" + i['text']\n",
    "    print \"ERIN: \" + str(i['action-erin'])\n",
    "    print \"ROCHELLE: \" + str(i['action-rochelle']) + \"\\n\""
   ]
  },
  {
   "cell_type": "markdown",
   "metadata": {},
   "source": [
    "## 4. Turn to Binary SpreadSheet"
   ]
  },
  {
   "cell_type": "code",
   "execution_count": 27,
   "metadata": {
    "collapsed": false
   },
   "outputs": [],
   "source": [
    "institutions = ['core', 'CRPD', 'ICCPR', 'eu-vaw', 'geneva', 'ICC', 'ILO', 'ICESR', 'achr', 'CAT', 'CRC', 'echr', '1954-stateless', 'traffick', 'CTOC', 'ICMW', 'ICERD', 'eu-child', 'sp-pr', 'PP', 'kampala', '1951refugees', 'pol-women', 'CPED', 'uncac', 'ottawa', '1961-stateless', 'CEDAW', 'unesco-ed', 'hague', 'genocide', 'HRC', 'unesco-expr', 'int-cord', 'frame-minorities', 'ind169', 'OP', 'ic-mercenaries', 'eu-migrant', 'un-indig', 'vienna', 'ouagadougou']"
   ]
  },
  {
   "cell_type": "code",
   "execution_count": 28,
   "metadata": {
    "collapsed": false
   },
   "outputs": [],
   "source": [
    "actions = ['accede', 'ratify', 'take-measures', 'sign', 'report', 'continue', 'withdraw', 'harmonize', 'party', 'implement', 'establish']"
   ]
  },
  {
   "cell_type": "code",
   "execution_count": 29,
   "metadata": {
    "collapsed": false
   },
   "outputs": [],
   "source": [
    "theme = ['death-pen', 'infrastructure ', 'intelligence', 'prisoners', 'elderly', 'culture', 'education', 'children', 'civil-so', 'disappearances', 'police', 'hiv', 'privacy', 'discrimination', 'impunity', 'governance', 'labor', 'environment', 'religion', 'foreign-movement', 'health', 'speech', 'domest-movement', 'terrorism', 'paramilitary', 'corruption', 'sex-violence', 'civil-conflict', 'race', 'torture', 'food', 'extra-judicial', 'judiciary', 'indigenous', 'lgbt', 'self-determ', 'poverty', 'ethnic', 'women', 'land', 'reproductive', 'post-conflict', 'disabilities', 'migrants', 'pol-imprisonment', 'socialism', 'trafficking', 'military', 'property']"
   ]
  },
  {
   "cell_type": "code",
   "execution_count": 30,
   "metadata": {
    "collapsed": false
   },
   "outputs": [
    {
     "data": {
      "text/plain": [
       "['From',\n",
       " 'sentiment',\n",
       " 'text',\n",
       " 'decision',\n",
       " 'id',\n",
       " 'to',\n",
       " 'theme',\n",
       " 'year',\n",
       " 'action',\n",
       " 'notes about coding',\n",
       " 'institutions']"
      ]
     },
     "execution_count": 30,
     "metadata": {},
     "output_type": "execute_result"
    }
   ],
   "source": [
    "erin[0].keys()"
   ]
  },
  {
   "cell_type": "code",
   "execution_count": 31,
   "metadata": {
    "collapsed": false
   },
   "outputs": [],
   "source": [
    "for i in sample:\n",
    "    for s in institutions:\n",
    "        if s in i['institutions']:\n",
    "            i[s] = 1\n",
    "        else:\n",
    "            i[s] = 0\n",
    "            \n",
    "    for s in actions:\n",
    "        if s in i['action']:\n",
    "            i[s] = 1\n",
    "        else:\n",
    "            i[s] = 0\n",
    "            \n",
    "    for s in theme:\n",
    "        if s in i['theme']:\n",
    "            i[s] = 1\n",
    "        else:\n",
    "            i[s] = 0 \n",
    "    \n",
    "    del i['to']\n",
    "    del i['From']\n",
    "    del i['text']\n",
    "    del i['notes']\n",
    "    del i['action']\n",
    "    del i['theme']\n",
    "    del i['decision']\n",
    "    del i['institutions']\n",
    "    del i['year']"
   ]
  },
  {
   "cell_type": "code",
   "execution_count": 32,
   "metadata": {
    "collapsed": false
   },
   "outputs": [],
   "source": [
    "for i in erin:\n",
    "    for s in institutions:\n",
    "        if s in i['institutions']:\n",
    "            i[s] = 1\n",
    "        else:\n",
    "            i[s] = 0\n",
    "            \n",
    "    for s in actions:\n",
    "        if s in i['action']:\n",
    "            i[s] = 1\n",
    "        else:\n",
    "            i[s] = 0\n",
    "            \n",
    "    for s in theme:\n",
    "        if s in i['theme']:\n",
    "            i[s] = 1\n",
    "        else:\n",
    "            i[s] = 0  \n",
    "            \n",
    "    del i['to']\n",
    "    del i['From']\n",
    "    del i['text']\n",
    "    del i['year']\n",
    "    del i['institutions']\n",
    "    del i['action']\n",
    "    del i['theme']\n",
    "    del i['decision']\n",
    "    del i['notes about coding']\n",
    "    del i['sentiment']"
   ]
  },
  {
   "cell_type": "code",
   "execution_count": 33,
   "metadata": {
    "collapsed": false
   },
   "outputs": [],
   "source": [
    "## writing sample\n",
    "\n",
    "#writing column headings\n",
    "keys = sample[0].keys()\n",
    "\n",
    "#writing the rest\n",
    "with open('sample-binary.csv', 'wb') as output_file:\n",
    "    dict_writer = csv.DictWriter(output_file, keys)\n",
    "    dict_writer.writeheader()\n",
    "    dict_writer.writerows(sample)"
   ]
  },
  {
   "cell_type": "code",
   "execution_count": 34,
   "metadata": {
    "collapsed": false
   },
   "outputs": [],
   "source": [
    "## writing erin\n",
    "\n",
    "#writing column headings\n",
    "keys = erin[0].keys()\n",
    "\n",
    "#writing the rest\n",
    "with open('erin-binary.csv', 'wb') as output_file:\n",
    "    dict_writer = csv.DictWriter(output_file, keys)\n",
    "    dict_writer.writeheader()\n",
    "    dict_writer.writerows(erin)"
   ]
  },
  {
   "cell_type": "code",
   "execution_count": null,
   "metadata": {
    "collapsed": true
   },
   "outputs": [],
   "source": []
  }
 ],
 "metadata": {
  "kernelspec": {
   "display_name": "Python 2",
   "language": "python",
   "name": "python2"
  },
  "language_info": {
   "codemirror_mode": {
    "name": "ipython",
    "version": 2
   },
   "file_extension": ".py",
   "mimetype": "text/x-python",
   "name": "python",
   "nbconvert_exporter": "python",
   "pygments_lexer": "ipython2",
   "version": "2.7.9"
  }
 },
 "nbformat": 4,
 "nbformat_minor": 0
}
