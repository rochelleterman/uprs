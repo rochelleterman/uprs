{
 "cells": [
  {
   "cell_type": "markdown",
   "metadata": {},
   "source": [
    "# Make Binary\n",
    "\n",
    "This script inputs all-data.csv and transforms it to a binary spreadsheet"
   ]
  },
  {
   "cell_type": "code",
   "execution_count": 1,
   "metadata": {
    "collapsed": false
   },
   "outputs": [
    {
     "data": {
      "text/plain": [
       "131072"
      ]
     },
     "execution_count": 1,
     "metadata": {},
     "output_type": "execute_result"
    }
   ],
   "source": [
    "import os\n",
    "import re\n",
    "import csv\n",
    "import sys\n",
    "import csv\n",
    "import random\n",
    "import ast\n",
    "\n",
    "csv.field_size_limit(sys.maxsize)"
   ]
  },
  {
   "cell_type": "markdown",
   "metadata": {},
   "source": [
    "## Load Data"
   ]
  },
  {
   "cell_type": "code",
   "execution_count": 19,
   "metadata": {
    "collapsed": false
   },
   "outputs": [
    {
     "name": "stdout",
     "output_type": "stream",
     "text": [
      "39329\n"
     ]
    },
    {
     "data": {
      "text/plain": [
       "{'Action_Verb': '[]',\n",
       " 'Decision': 'NA',\n",
       " 'From': 'NA',\n",
       " 'From_COW': 'NA',\n",
       " 'Institution': '[]',\n",
       " 'Report_Year': 'NA',\n",
       " 'Session': 'NA',\n",
       " 'Session_Year': 'NA',\n",
       " 'Text': 'NA',\n",
       " 'Theme': '[]',\n",
       " 'To': 'NA',\n",
       " 'To_COW': 'NA',\n",
       " 'UID': 'NA-NA-NA-4'}"
      ]
     },
     "execution_count": 19,
     "metadata": {},
     "output_type": "execute_result"
    }
   ],
   "source": [
    "# load data\n",
    "recs = []\n",
    "with open(\"../Data/upr-orig.csv\",'rU') as csvfile:\n",
    "            reader = csv.DictReader(csvfile)\n",
    "            for row in reader:\n",
    "                recs.append(row)\n",
    "            \n",
    "print len(recs)\n",
    "recs[-1]"
   ]
  },
  {
   "cell_type": "code",
   "execution_count": 20,
   "metadata": {
    "collapsed": false
   },
   "outputs": [
    {
     "data": {
      "text/plain": [
       "{'Action_Verb': ['continue'],\n",
       " 'Decision': 'support',\n",
       " 'From': 'Cuba',\n",
       " 'From_COW': 'CUB',\n",
       " 'Institution': [],\n",
       " 'Report_Year': '2008',\n",
       " 'Session': '1',\n",
       " 'Session_Year': '2008',\n",
       " 'Text': '69.7 That Algeria continue and strengthen its efforts in the field of economic, social and cultural rights, in particular in the field of health (Cuba). );',\n",
       " 'Theme': ['culture', 'health'],\n",
       " 'To': 'Algeria',\n",
       " 'To_COW': 'ALG',\n",
       " 'UID': 'ALG-CUB-1-2'}"
      ]
     },
     "execution_count": 20,
     "metadata": {},
     "output_type": "execute_result"
    }
   ],
   "source": [
    "# make literal\n",
    "for i in recs:\n",
    "    i['Theme'] = ast.literal_eval(i['Theme'])\n",
    "    i['Institution'] = ast.literal_eval(i['Institution'])\n",
    "    i['Action_Verb'] = ast.literal_eval(i['Action_Verb'])\n",
    "\n",
    "recs[1]"
   ]
  },
  {
   "cell_type": "code",
   "execution_count": 21,
   "metadata": {
    "collapsed": false
   },
   "outputs": [
    {
     "name": "stdout",
     "output_type": "stream",
     "text": [
      "76.3 Enhanced engagement in a constructive dialogue with the special procedures and the benefits derived from some of their recommendations are important elements of promoting and protecting human rights.(None);\n",
      "77.1 Indonesia is commended for its efforts in the field of human rights training and education and is encouraged to continue in this regard, and to provide additional training for law enforcement officials, including prosecutors, police and judges, as well as for security forces. (None);\n",
      "77.2 Indonesia, in line with its National Plan of Action, is encouraged to follow through on its intention to accede to the Rome Statute of the International Criminal Court, the Optional Protocol to the Convention on the Rights of the Child on involvement of children in armed conflict, the Optional Protocol to the Convention on the Rights of the Child on the sale of Children, child prostitution and child pornography and the Optional Protocol to the Convention against Torture, Cruel, Inhuman and Other Degrading Treatment. Indonesia is further encouraged to consider signing the International Convention on the Protection of All Persons from Enforced Disappearance.(None);\n",
      "77.3 Indonesia is commended for enabling a vibrant civil society, including with respect to those engaged in defending human rights, and is encouraged to support and protect their work, including at the provincial and local level as well as in regions with special autonomy. (None);\n",
      "77.7 Capacity-building/cooperation/sharing of best practices: (a) Indonesia is encouraged to consider engaging in further dialogue at the regional and international level, and share best practices, as requested by States during the interactive dialogue; (b) Indonesia is encouraged to identify its capacity building needs related to the Universal Periodic Review follow-up and seek regional and international cooperation in this regard, including through integration of the Universal Periodic Review recommendations, as appropriate, into its national development strategy and into its dialogue with relevant stakeholders through existing mechanisms. Such capacity-building needs could pertain, inter alia, to issues such as harmonization of local laws with national and international standards or to strengthening national human rights institutions; (c) It was recommended that additional capacity-building measures be taken in support of programmes and projects on women and children. (None);\n",
      "77.4 Welcomes Indonesia's reaffirmation of its commitment to combat impunity and encourages it to continue its efforts in this regard. (None);\n",
      "77.5 While acknowledging the efforts made by the Government of Indonesia, it was recommended that such efforts continue to ensure the promotion and protection of all the components of the Indonesian people. (None);\n",
      "76.1 Efforts and specific measures taken to combat trafficking in persons, especially women and children, were commended. Indonesia underlines the importance of regional cooperation in this field.(None);\n",
      "76.2 The removal of all reservations to the Convention on the Rights of the Child was welcomed, as was the incorporation of the Convention into national legislation.(None);\n",
      "77.6 The inclusion of the crime of torture in the new draft criminal code is welcomed and the Government is encouraged to finalize the draft code, taking into account comments received from relevant stakeholders. (None);\n",
      "81.23. Continue efforts to promote and protect the rights of women, children, and young persons and persons with disabilities (NA);\n",
      "186.28. Continue its efforts on the ratification of other human rights (NA);\n",
      "NA\n",
      "NA\n",
      "NA\n",
      "NA\n"
     ]
    }
   ],
   "source": [
    "# check for broken csv rows\n",
    "for i in recs:\n",
    "    if len([i['To'].strip()]) > 1:\n",
    "        print len([i['To'].strip()])\n",
    "    if i['From_COW'] == \"NA\":\n",
    "        print i['Text']"
   ]
  },
  {
   "cell_type": "markdown",
   "metadata": {},
   "source": [
    "## Transform"
   ]
  },
  {
   "cell_type": "code",
   "execution_count": 22,
   "metadata": {
    "collapsed": false
   },
   "outputs": [
    {
     "data": {
      "text/plain": [
       "53"
      ]
     },
     "execution_count": 22,
     "metadata": {},
     "output_type": "execute_result"
    }
   ],
   "source": [
    "institutions =  ['CRPD', 'eu-vaw', 'int-community', 'ILO', 'eu-traff', 'ICESR', 'CAT', 'CRC', 'echr', 'eu-child',\\\n",
    "                 'sp-pr', 'PP', 'euro-commissioner', 'eu-migrant', 'ouagadougou', 'un-indig', 'unesco-ed', 'un', \\\n",
    "                 'ICERD', 'frame-minorities', 'ind169', 'uncac', 'core', 'euro-traffick', '1954-stateless', 'geneva',\\\n",
    "                 'african-charter', 'ICC', 'african-democ', 'achr', '2000traffick', 'unesco-intangible', 'traffick', \\\n",
    "                 'CTOC', 'ICMW', 'HRC', 'security-council', 'UNHCR', 'euro-minority', 'kampala', '1951refugees', \\\n",
    "                 'pol-women', 'CPED', 'ottawa', '1961-stateless', 'CEDAW', 'hague', 'genocide', 'unesco-expr', \\\n",
    "                 'int-cord', 'vienna', 'CCPR', 'OP']\n",
    "len(institutions)"
   ]
  },
  {
   "cell_type": "code",
   "execution_count": 23,
   "metadata": {
    "collapsed": false
   },
   "outputs": [
    {
     "data": {
      "text/plain": [
       "14"
      ]
     },
     "execution_count": 23,
     "metadata": {},
     "output_type": "execute_result"
    }
   ],
   "source": [
    "actions = ['accede', 'ratify', 'take-measures', 'share', 'sign', 'report', 'continue', 'withdraw', 'harmonize', \\\n",
    "           'party', 'implement', 'cooperate', 'establish', 'assistance']\n",
    "len(actions)"
   ]
  },
  {
   "cell_type": "code",
   "execution_count": 24,
   "metadata": {
    "collapsed": false
   },
   "outputs": [
    {
     "data": {
      "text/plain": [
       "53"
      ]
     },
     "execution_count": 24,
     "metadata": {},
     "output_type": "execute_result"
    }
   ],
   "source": [
    "theme = ['death-pen', 'intelligence', 'prisoners', 'elderly', 'culture', 'race', 'education', 'children', \\\n",
    "         'civil-so', 'disappearances', 'police', 'hiv', 'privacy', 'discrimination', 'impunity', 'governance', \\\n",
    "         'labor', 'environment', 'religion', 'foreign-movement', 'health', 'speech', 'domest-movement', 'terrorism', \\\n",
    "         'paramilitary', 'corruption', 'sex-violence', 'poor', 'civil-conflict', 'infrastructure', 'torture', 'food', \\\n",
    "         'extra-judicial', 'judiciary', 'indigenous', 'lgbt', 'self-determ', 'poverty', 'ethnic', 'women', 'land', \\\n",
    "         'reproductive', 'post-conflict', 'disabilities', 'migrants', 'pol-imprisonment', 'socialism', 'trafficking',\\\n",
    "         'military', 'property', 'women-social', 'women-political', 'women-economic']\n",
    "len(theme)"
   ]
  },
  {
   "cell_type": "code",
   "execution_count": 25,
   "metadata": {
    "collapsed": false
   },
   "outputs": [],
   "source": [
    "# make dummies\n",
    "for i in recs:\n",
    "    for s in institutions:\n",
    "        if s in i['Institution']:\n",
    "            i[s] = 1\n",
    "        else:\n",
    "            i[s] = 0\n",
    "\n",
    "    for s in actions:\n",
    "        if s in i['Action_Verb']:\n",
    "            i[s] = 1\n",
    "        else:\n",
    "            i[s] = 0\n",
    "            \n",
    "    for s in theme:\n",
    "        if s in i['Theme']:\n",
    "            i[s] = 1\n",
    "        else:\n",
    "            i[s] = 0  "
   ]
  },
  {
   "cell_type": "code",
   "execution_count": 26,
   "metadata": {
    "collapsed": false
   },
   "outputs": [
    {
     "data": {
      "text/plain": [
       "39329"
      ]
     },
     "execution_count": 26,
     "metadata": {},
     "output_type": "execute_result"
    }
   ],
   "source": [
    "len(recs)"
   ]
  },
  {
   "cell_type": "code",
   "execution_count": 10,
   "metadata": {
    "collapsed": true
   },
   "outputs": [],
   "source": [
    "\"\"\"\n",
    "# lists to strings\n",
    "for i in recs:\n",
    "    if i['Theme']:\n",
    "        i['Theme'] = \", \".join(i['Theme'])\n",
    "    if i['Action_Verb']:\n",
    "        i['Action_Verb'] = \", \".join(i['Action_Verb'])\n",
    "    if i['Institution']:\n",
    "        i['Institution'] = \", \".join(i['Institution'])\n",
    "\"\"\""
   ]
  },
  {
   "cell_type": "code",
   "execution_count": 27,
   "metadata": {
    "collapsed": false
   },
   "outputs": [
    {
     "name": "stdout",
     "output_type": "stream",
     "text": [
      "133\n",
      "133\n",
      "['death-pen', 'ratify', 'eu-traff', 'eu-child', 'Theme', 'children', 'police', 'UID', 'women-political', 'labor', 'environment', 'impunity', 'continue', 'uncac', 'women-economic', 'harmonize', 'prisoners', 'civil-conflict', 'hiv', 'african-charter', 'food', 'extra-judicial', 'judiciary', 'indigenous', 'self-determ', 'domest-movement', 'report', 'HRC', 'UNHCR', 'paramilitary', 'euro-minority', 'reproductive', 'take-measures', 'race', 'int-cord', 'OP', 'From', 'int-community', 'intelligence', 'euro-traffick', 'elderly', 'sign', 'CRC', 'From_COW', 'sp-pr', 'PP', 'accede', 'eu-migrant', 'assistance', 'religion', 'hague', 'health', 'corruption', 'core', 'infrastructure', '1954-stateless', 'achr', 'lgbt', 'poverty', 'ICMW', 'post-conflict', 'disabilities', 'Session', 'genocide', 'unesco-intangible', 'military', 'implement', 'ICERD', 'To_COW', 'ILO', 'Decision', 'CTOC', 'echr', 'establish', 'Institution', 'disappearances', 'Report_Year', 'privacy', 'discrimination', 'socialism', 'governance', 'un-indig', 'unesco-ed', 'vienna', 'geneva', '2000traffick', 'cooperate', 'women', 'migrants', 'kampala', 'culture', 'Text', 'ind169', '1961-stateless', 'CEDAW', 'un', 'unesco-expr', 'property', 'Action_Verb', 'CRPD', 'eu-vaw', 'ICESR', 'share', 'CAT', 'To', 'education', 'african-democ', 'torture', 'ouagadougou', 'women-social', 'foreign-movement', 'speech', 'frame-minorities', 'party', 'terrorism', 'sex-violence', 'poor', 'civil-so', 'ICC', 'ethnic', 'traffick', 'euro-commissioner', 'security-council', 'land', 'Session_Year', '1951refugees', 'pol-women', 'CPED', 'ottawa', 'pol-imprisonment', 'trafficking', 'withdraw', 'CCPR']\n"
     ]
    }
   ],
   "source": [
    "#make sure we have no duplicate keys\n",
    "keys = recs[0].keys()\n",
    "print len(set(keys))\n",
    "print len(keys)\n",
    "print keys"
   ]
  },
  {
   "cell_type": "code",
   "execution_count": 28,
   "metadata": {
    "collapsed": false
   },
   "outputs": [
    {
     "data": {
      "text/plain": [
       "{'1951refugees': 0,\n",
       " '1954-stateless': 0,\n",
       " '1961-stateless': 0,\n",
       " '2000traffick': 0,\n",
       " 'Action_Verb': ['continue'],\n",
       " 'CAT': 0,\n",
       " 'CCPR': 0,\n",
       " 'CEDAW': 0,\n",
       " 'CPED': 0,\n",
       " 'CRC': 0,\n",
       " 'CRPD': 0,\n",
       " 'CTOC': 0,\n",
       " 'Decision': 'support',\n",
       " 'From': 'Cuba',\n",
       " 'From_COW': 'CUB',\n",
       " 'HRC': 0,\n",
       " 'ICC': 0,\n",
       " 'ICERD': 0,\n",
       " 'ICESR': 0,\n",
       " 'ICMW': 0,\n",
       " 'ILO': 0,\n",
       " 'Institution': [],\n",
       " 'OP': 0,\n",
       " 'PP': 0,\n",
       " 'Report_Year': '2008',\n",
       " 'Session': '1',\n",
       " 'Session_Year': '2008',\n",
       " 'Text': '69.7 That Algeria continue and strengthen its efforts in the field of economic, social and cultural rights, in particular in the field of health (Cuba). );',\n",
       " 'Theme': ['culture', 'health'],\n",
       " 'To': 'Algeria',\n",
       " 'To_COW': 'ALG',\n",
       " 'UID': 'ALG-CUB-1-2',\n",
       " 'UNHCR': 0,\n",
       " 'accede': 0,\n",
       " 'achr': 0,\n",
       " 'african-charter': 0,\n",
       " 'african-democ': 0,\n",
       " 'assistance': 0,\n",
       " 'children': 0,\n",
       " 'civil-conflict': 0,\n",
       " 'civil-so': 0,\n",
       " 'continue': 1,\n",
       " 'cooperate': 0,\n",
       " 'core': 0,\n",
       " 'corruption': 0,\n",
       " 'culture': 1,\n",
       " 'death-pen': 0,\n",
       " 'disabilities': 0,\n",
       " 'disappearances': 0,\n",
       " 'discrimination': 0,\n",
       " 'domest-movement': 0,\n",
       " 'echr': 0,\n",
       " 'education': 0,\n",
       " 'elderly': 0,\n",
       " 'environment': 0,\n",
       " 'establish': 0,\n",
       " 'ethnic': 0,\n",
       " 'eu-child': 0,\n",
       " 'eu-migrant': 0,\n",
       " 'eu-traff': 0,\n",
       " 'eu-vaw': 0,\n",
       " 'euro-commissioner': 0,\n",
       " 'euro-minority': 0,\n",
       " 'euro-traffick': 0,\n",
       " 'extra-judicial': 0,\n",
       " 'food': 0,\n",
       " 'foreign-movement': 0,\n",
       " 'frame-minorities': 0,\n",
       " 'geneva': 0,\n",
       " 'genocide': 0,\n",
       " 'governance': 0,\n",
       " 'hague': 0,\n",
       " 'harmonize': 0,\n",
       " 'health': 1,\n",
       " 'hiv': 0,\n",
       " 'implement': 0,\n",
       " 'impunity': 0,\n",
       " 'ind169': 0,\n",
       " 'indigenous': 0,\n",
       " 'infrastructure': 0,\n",
       " 'int-community': 0,\n",
       " 'int-cord': 0,\n",
       " 'intelligence': 0,\n",
       " 'judiciary': 0,\n",
       " 'kampala': 0,\n",
       " 'labor': 0,\n",
       " 'land': 0,\n",
       " 'lgbt': 0,\n",
       " 'migrants': 0,\n",
       " 'military': 0,\n",
       " 'ottawa': 0,\n",
       " 'ouagadougou': 0,\n",
       " 'paramilitary': 0,\n",
       " 'party': 0,\n",
       " 'pol-imprisonment': 0,\n",
       " 'pol-women': 0,\n",
       " 'police': 0,\n",
       " 'poor': 0,\n",
       " 'post-conflict': 0,\n",
       " 'poverty': 0,\n",
       " 'prisoners': 0,\n",
       " 'privacy': 0,\n",
       " 'property': 0,\n",
       " 'race': 0,\n",
       " 'ratify': 0,\n",
       " 'religion': 0,\n",
       " 'report': 0,\n",
       " 'reproductive': 0,\n",
       " 'security-council': 0,\n",
       " 'self-determ': 0,\n",
       " 'sex-violence': 0,\n",
       " 'share': 0,\n",
       " 'sign': 0,\n",
       " 'socialism': 0,\n",
       " 'sp-pr': 0,\n",
       " 'speech': 0,\n",
       " 'take-measures': 0,\n",
       " 'terrorism': 0,\n",
       " 'torture': 0,\n",
       " 'traffick': 0,\n",
       " 'trafficking': 0,\n",
       " 'un': 0,\n",
       " 'un-indig': 0,\n",
       " 'uncac': 0,\n",
       " 'unesco-ed': 0,\n",
       " 'unesco-expr': 0,\n",
       " 'unesco-intangible': 0,\n",
       " 'vienna': 0,\n",
       " 'withdraw': 0,\n",
       " 'women': 0,\n",
       " 'women-economic': 0,\n",
       " 'women-political': 0,\n",
       " 'women-social': 0}"
      ]
     },
     "execution_count": 28,
     "metadata": {},
     "output_type": "execute_result"
    }
   ],
   "source": [
    "recs[1]"
   ]
  },
  {
   "cell_type": "markdown",
   "metadata": {},
   "source": [
    "## write"
   ]
  },
  {
   "cell_type": "code",
   "execution_count": 29,
   "metadata": {
    "collapsed": false
   },
   "outputs": [
    {
     "data": {
      "text/plain": [
       "['UID',\n",
       " 'Session',\n",
       " 'Session_Year',\n",
       " 'Report_Year',\n",
       " 'To',\n",
       " 'To_COW',\n",
       " 'From',\n",
       " 'From_COW',\n",
       " 'Text',\n",
       " 'Decision',\n",
       " 'Institution',\n",
       " 'Action_Verb',\n",
       " 'Theme',\n",
       " '1951refugees',\n",
       " '1954-stateless',\n",
       " '1961-stateless',\n",
       " '2000traffick',\n",
       " 'CAT',\n",
       " 'CCPR',\n",
       " 'CEDAW',\n",
       " 'CPED',\n",
       " 'CRC',\n",
       " 'CRPD',\n",
       " 'CTOC',\n",
       " 'HRC',\n",
       " 'ICC',\n",
       " 'ICERD',\n",
       " 'ICESR',\n",
       " 'ICMW',\n",
       " 'ILO',\n",
       " 'OP',\n",
       " 'PP',\n",
       " 'UNHCR',\n",
       " 'achr',\n",
       " 'african-charter',\n",
       " 'african-democ',\n",
       " 'core',\n",
       " 'echr',\n",
       " 'eu-child',\n",
       " 'eu-migrant',\n",
       " 'eu-traff',\n",
       " 'eu-vaw',\n",
       " 'euro-commissioner',\n",
       " 'euro-minority',\n",
       " 'euro-traffick',\n",
       " 'frame-minorities',\n",
       " 'geneva',\n",
       " 'genocide',\n",
       " 'hague',\n",
       " 'ind169',\n",
       " 'int-community',\n",
       " 'int-cord',\n",
       " 'kampala',\n",
       " 'ottawa',\n",
       " 'ouagadougou',\n",
       " 'pol-women',\n",
       " 'security-council',\n",
       " 'sp-pr',\n",
       " 'traffick',\n",
       " 'un',\n",
       " 'un-indig',\n",
       " 'uncac',\n",
       " 'unesco-ed',\n",
       " 'unesco-expr',\n",
       " 'unesco-intangible',\n",
       " 'vienna',\n",
       " 'accede',\n",
       " 'assistance',\n",
       " 'continue',\n",
       " 'cooperate',\n",
       " 'establish',\n",
       " 'harmonize',\n",
       " 'implement',\n",
       " 'party',\n",
       " 'ratify',\n",
       " 'report',\n",
       " 'share',\n",
       " 'sign',\n",
       " 'take-measures',\n",
       " 'withdraw',\n",
       " 'children',\n",
       " 'civil-conflict',\n",
       " 'civil-so',\n",
       " 'corruption',\n",
       " 'culture',\n",
       " 'death-pen',\n",
       " 'disabilities',\n",
       " 'disappearances',\n",
       " 'discrimination',\n",
       " 'domest-movement',\n",
       " 'education',\n",
       " 'elderly',\n",
       " 'environment',\n",
       " 'ethnic',\n",
       " 'extra-judicial',\n",
       " 'food',\n",
       " 'foreign-movement',\n",
       " 'governance',\n",
       " 'health',\n",
       " 'hiv',\n",
       " 'impunity',\n",
       " 'indigenous',\n",
       " 'infrastructure',\n",
       " 'intelligence',\n",
       " 'judiciary',\n",
       " 'labor',\n",
       " 'land',\n",
       " 'lgbt',\n",
       " 'migrants',\n",
       " 'military',\n",
       " 'paramilitary',\n",
       " 'pol-imprisonment',\n",
       " 'police',\n",
       " 'poor',\n",
       " 'post-conflict',\n",
       " 'poverty',\n",
       " 'prisoners',\n",
       " 'privacy',\n",
       " 'property',\n",
       " 'race',\n",
       " 'religion',\n",
       " 'reproductive',\n",
       " 'self-determ',\n",
       " 'sex-violence',\n",
       " 'socialism',\n",
       " 'speech',\n",
       " 'terrorism',\n",
       " 'torture',\n",
       " 'trafficking',\n",
       " 'women',\n",
       " 'women-economic',\n",
       " 'women-political',\n",
       " 'women-social']"
      ]
     },
     "execution_count": 29,
     "metadata": {},
     "output_type": "execute_result"
    }
   ],
   "source": [
    "#writing column headings in correct order\n",
    "keys = [\"UID\",\"Session\",\"Session_Year\",\"Report_Year\",\"To\",\"To_COW\",\"From\",\"From_COW\",\"Text\",\"Decision\",'Institution','Action_Verb','Theme']\n",
    "keys.extend(sorted(institutions))\n",
    "keys.extend(sorted(actions))\n",
    "keys.extend(sorted(theme))\n",
    "keys"
   ]
  },
  {
   "cell_type": "code",
   "execution_count": 30,
   "metadata": {
    "collapsed": false
   },
   "outputs": [
    {
     "name": "stdout",
     "output_type": "stream",
     "text": [
      "133\n",
      "133\n"
     ]
    }
   ],
   "source": [
    "print len(set(keys))\n",
    "print len(keys)"
   ]
  },
  {
   "cell_type": "code",
   "execution_count": 31,
   "metadata": {
    "collapsed": false
   },
   "outputs": [],
   "source": [
    "#writing the rest\n",
    "with open('../Data/upr-orig-binary.csv', 'wb') as output_file:\n",
    "    dict_writer = csv.DictWriter(output_file, keys)\n",
    "    dict_writer.writeheader()\n",
    "    dict_writer.writerows(recs)"
   ]
  },
  {
   "cell_type": "code",
   "execution_count": null,
   "metadata": {
    "collapsed": true
   },
   "outputs": [],
   "source": []
  }
 ],
 "metadata": {
  "kernelspec": {
   "display_name": "Python 2",
   "language": "python",
   "name": "python2"
  },
  "language_info": {
   "codemirror_mode": {
    "name": "ipython",
    "version": 2
   },
   "file_extension": ".py",
   "mimetype": "text/x-python",
   "name": "python",
   "nbconvert_exporter": "python",
   "pygments_lexer": "ipython2",
   "version": "2.7.9"
  }
 },
 "nbformat": 4,
 "nbformat_minor": 0
}
