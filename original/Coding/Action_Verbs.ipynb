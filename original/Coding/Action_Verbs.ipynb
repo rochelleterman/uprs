{
 "cells": [
  {
   "cell_type": "markdown",
   "metadata": {},
   "source": [
    "# Actions"
   ]
  },
  {
   "cell_type": "code",
   "execution_count": 13,
   "metadata": {
    "collapsed": false
   },
   "outputs": [
    {
     "data": {
      "text/plain": [
       "9223372036854775807"
      ]
     },
     "execution_count": 13,
     "metadata": {},
     "output_type": "execute_result"
    }
   ],
   "source": [
    "import os\n",
    "import re\n",
    "import csv\n",
    "from urllib import urlopen\n",
    "import sys\n",
    "import csv\n",
    "from collections import Counter\n",
    "from __future__ import division\n",
    "\n",
    "csv.field_size_limit(sys.maxsize)"
   ]
  },
  {
   "cell_type": "code",
   "execution_count": 14,
   "metadata": {
    "collapsed": false
   },
   "outputs": [
    {
     "name": "stdout",
     "output_type": "stream",
     "text": [
      "39329\n"
     ]
    },
    {
     "data": {
      "text/plain": [
       "{'Decision': 'support',\n",
       " 'From': 'Brazil',\n",
       " 'From_COW': 'BRA',\n",
       " 'Institution': \"['sp-pr']\",\n",
       " 'Institutions': '[]',\n",
       " 'Report_Year': '2008',\n",
       " 'Session': '1',\n",
       " 'Session_Year': '2008',\n",
       " 'Text': '69.16 That Algeria consider facilitating visits by human rights mandate holders (Brazil). );',\n",
       " 'To': 'Algeria',\n",
       " 'To_COW': 'ALG',\n",
       " 'UID': 'ALG-BRA-1-1'}"
      ]
     },
     "execution_count": 14,
     "metadata": {},
     "output_type": "execute_result"
    }
   ],
   "source": [
    "# load data\n",
    "recs = []\n",
    "dir = '.'\n",
    "with open(\"../Data/upr-orig.csv\",'rU') as csvfile:\n",
    "            reader = csv.DictReader(csvfile)\n",
    "            for row in reader:\n",
    "                recs.append(row)\n",
    "            \n",
    "print len(recs) # 42013 \n",
    "recs[0]"
   ]
  },
  {
   "cell_type": "code",
   "execution_count": 16,
   "metadata": {
    "collapsed": false
   },
   "outputs": [],
   "source": [
    "for i in recs:\n",
    "   del  i['Institutions']"
   ]
  },
  {
   "cell_type": "code",
   "execution_count": 17,
   "metadata": {
    "collapsed": false
   },
   "outputs": [
    {
     "data": {
      "text/plain": [
       "['From_COW',\n",
       " 'Session_Year',\n",
       " 'To_COW',\n",
       " 'Text',\n",
       " 'Decision',\n",
       " 'UID',\n",
       " 'To',\n",
       " 'Session',\n",
       " 'From',\n",
       " 'Institution',\n",
       " 'Report_Year']"
      ]
     },
     "execution_count": 17,
     "metadata": {},
     "output_type": "execute_result"
    }
   ],
   "source": [
    "recs[1].keys()"
   ]
  },
  {
   "cell_type": "code",
   "execution_count": 18,
   "metadata": {
    "collapsed": true
   },
   "outputs": [],
   "source": [
    "# strip extra whitespace on everything\n",
    "for i in recs:\n",
    "    i['Text']=' '.join(i['Text'].split())"
   ]
  },
  {
   "cell_type": "code",
   "execution_count": 19,
   "metadata": {
    "collapsed": true
   },
   "outputs": [],
   "source": [
    "# remove stop words function\n",
    "stopwords = ['of','on','all','the','a','for','to','and','to','against','from','in','or']\n",
    "\n",
    "def noStop(in_text):\n",
    "    '''\n",
    "    this function inputs a text, lowers it, and removes stop words\n",
    "    '''\n",
    "    text = in_text.lower().split()\n",
    "    for word in stopwords:\n",
    "        text = [x for x in text if x != word]\n",
    "    return(' '.join(text))"
   ]
  },
  {
   "cell_type": "markdown",
   "metadata": {},
   "source": [
    "## Make Action Dictionary"
   ]
  },
  {
   "cell_type": "code",
   "execution_count": 20,
   "metadata": {
    "collapsed": false
   },
   "outputs": [
    {
     "name": "stdout",
     "output_type": "stream",
     "text": [
      "['accede', 'ratify', 'take-measures', 'share', 'sign', 'report', 'continue', 'withdraw', 'harmonize', 'party', 'implement', 'cooperate', 'establish']\n"
     ]
    }
   ],
   "source": [
    "# assign action\n",
    "keywords = {}\n",
    "keywords['ratify'] = ['ratif']\n",
    "keywords['accede'] = ['acced']\n",
    "keywords['sign'] = ['sign ']\n",
    "keywords['implement'] = ['implement']\n",
    "keywords['establish'] = ['establish']\n",
    "keywords['continue'] = ['continue']\n",
    "keywords['take-measures'] = ['take measures']\n",
    "keywords['harmonize'] = ['harmoniz']\n",
    "keywords['report'] = ['report','reporting','reports']\n",
    "keywords['party'] = ['party']\n",
    "keywords['withdraw'] = ['withdraw']\n",
    "keywords['cooperate'] = ['cooperat']\n",
    "keywords['share'] = ['share', 'sharing']\n",
    "\n",
    "print (keywords.keys())\n"
   ]
  },
  {
   "cell_type": "code",
   "execution_count": 21,
   "metadata": {
    "collapsed": true
   },
   "outputs": [],
   "source": [
    "for i in recs:\n",
    "    i['Action_Verb'] = []\n",
    "    for key in keywords.keys():\n",
    "        for word in keywords[key]:\n",
    "            if key in i['Action_Verb']: # skip if it's already in there\n",
    "                continue\n",
    "            if word in noStop(i['Text']):\n",
    "                i['Action_Verb'].append(key)"
   ]
  },
  {
   "cell_type": "code",
   "execution_count": 22,
   "metadata": {
    "collapsed": true
   },
   "outputs": [],
   "source": [
    "# special rules \n",
    "\n",
    "# international assistance\n",
    "for i in recs:\n",
    "    if (\n",
    "        ('assistance ' in i['Text'] or 'support ' in i['Text']) and\n",
    "        'international' in i['Text']\n",
    "        ):\n",
    "        i['Action_Verb'].append('assistance')\n",
    "        \n",
    "\n",
    "# take ____ measures:\n",
    "for i in recs:\n",
    "    if 'take-measures' not in i['Action_Verb']:\n",
    "        text = i['Text'].lower().replace(',','').split()\n",
    "        if 'take' in text:\n",
    "            takeIndex = text.index('take')\n",
    "            if 'measures' in text[takeIndex:takeIndex+10]:\n",
    "                i['Action_Verb'].append('take-measures')\n",
    "        elif 'taking' in text:\n",
    "            takeIndex = text.index('taking')\n",
    "            if 'measures' in text[takeIndex:takeIndex+10]:\n",
    "                i['Action_Verb'].append('take-measures')"
   ]
  },
  {
   "cell_type": "code",
   "execution_count": 23,
   "metadata": {
    "collapsed": false
   },
   "outputs": [
    {
     "data": {
      "text/plain": [
       "Counter({'continue': 7006, 'ratify': 4642, 'implement': 4161, 'take-measures': 2554, 'establish': 2325, 'cooperate': 1310, 'accede': 817, 'report': 801, 'sign': 584, 'assistance': 572, 'party': 505, 'share': 269, 'withdraw': 244, 'harmonize': 225})"
      ]
     },
     "execution_count": 23,
     "metadata": {},
     "output_type": "execute_result"
    }
   ],
   "source": [
    "# count the actions\n",
    "actions = []\n",
    "for rec in recs:\n",
    "    for i in rec['Action_Verb']:\n",
    "        actions.append(i)\n",
    "Counter(actions)"
   ]
  },
  {
   "cell_type": "markdown",
   "metadata": {},
   "source": [
    "## WRITE CSV"
   ]
  },
  {
   "cell_type": "code",
   "execution_count": 24,
   "metadata": {
    "collapsed": false
   },
   "outputs": [
    {
     "data": {
      "text/plain": [
       "['From_COW',\n",
       " 'Action_Verb',\n",
       " 'Session_Year',\n",
       " 'To_COW',\n",
       " 'Text',\n",
       " 'Decision',\n",
       " 'UID',\n",
       " 'To',\n",
       " 'Session',\n",
       " 'From',\n",
       " 'Institution',\n",
       " 'Report_Year']"
      ]
     },
     "execution_count": 24,
     "metadata": {},
     "output_type": "execute_result"
    }
   ],
   "source": [
    "#writing column headings\n",
    "keys = recs[0].keys()\n",
    "keys"
   ]
  },
  {
   "cell_type": "code",
   "execution_count": 26,
   "metadata": {
    "collapsed": true
   },
   "outputs": [],
   "source": [
    "#writing the rest\n",
    "with open('../Data/upr-orig.csv', 'wb') as output_file:\n",
    "    dict_writer = csv.DictWriter(output_file, keys)\n",
    "    dict_writer.writeheader()\n",
    "    dict_writer.writerows(recs)"
   ]
  },
  {
   "cell_type": "code",
   "execution_count": null,
   "metadata": {
    "collapsed": true
   },
   "outputs": [],
   "source": []
  }
 ],
 "metadata": {
  "kernelspec": {
   "display_name": "Python 2",
   "language": "python",
   "name": "python2"
  },
  "language_info": {
   "codemirror_mode": {
    "name": "ipython",
    "version": 2
   },
   "file_extension": ".py",
   "mimetype": "text/x-python",
   "name": "python",
   "nbconvert_exporter": "python",
   "pygments_lexer": "ipython2",
   "version": "2.7.9"
  }
 },
 "nbformat": 4,
 "nbformat_minor": 0
}
