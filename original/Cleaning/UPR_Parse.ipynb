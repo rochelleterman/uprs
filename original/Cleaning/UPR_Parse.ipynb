{
 "cells": [
  {
   "cell_type": "markdown",
   "metadata": {},
   "source": [
    "# Parsing\n",
    "\n",
    "This script parses raw texts into a spreadsheet."
   ]
  },
  {
   "cell_type": "code",
   "execution_count": 2,
   "metadata": {
    "collapsed": false
   },
   "outputs": [],
   "source": [
    "import os\n",
    "import re\n",
    "import csv\n",
    "from operator import itemgetter\n",
    "from itertools import groupby"
   ]
  },
  {
   "cell_type": "markdown",
   "metadata": {},
   "source": [
    "## Some helpful functions"
   ]
  },
  {
   "cell_type": "code",
   "execution_count": 3,
   "metadata": {
    "collapsed": false
   },
   "outputs": [],
   "source": [
    "def mergeLines(l):\n",
    "    '''\n",
    "    This function takes in a list of lines and merge broken paragraph lines \n",
    "    (merge all lines if they don't start with a number)\n",
    "    '''\n",
    "    i = 0\n",
    "    while i < len(l):\n",
    "        if not l[i][0].isdigit():\n",
    "            l[i-1:i+1] = [' '.join(l[i-1:i+1])]\n",
    "        else:\n",
    "            i = i+1\n",
    "    return(l)"
   ]
  },
  {
   "cell_type": "code",
   "execution_count": 4,
   "metadata": {
    "collapsed": false
   },
   "outputs": [],
   "source": [
    "# function to find main paragraphs numbers in each upr\n",
    "def mainParagraphs(upr):\n",
    "    '''\n",
    "    This function takes in a upr and returns the main paragraph numbers in the 'recommendations' section.\n",
    "    There are usually 2-4 main paragraphs. Sometimes I refer to these main paragraph sections as \"chunks\".\n",
    "    '''\n",
    "    firstParagraph = upr['text'][0].partition(\" \")[0]\n",
    "    if '.' in firstParagraph:\n",
    "            firstParagraph = firstParagraph.replace(\".\",\"\")\n",
    "    mainParagraphs = []\n",
    "\n",
    "    for line in upr['text']:\n",
    "        paragraph = line.partition(\" \")[0]\n",
    "        if paragraph[-1] == '.':\n",
    "            paragraph = paragraph[:-1]\n",
    "                \n",
    "        mainParagraphs.append(float(paragraph))\n",
    "        \n",
    "    # make a list of the main paragraph numbers\n",
    "    mainParagraphs = set([int(n) for n in mainParagraphs if int(n)>= int(firstParagraph)])\n",
    "    return mainParagraphs   "
   ]
  },
  {
   "cell_type": "markdown",
   "metadata": {},
   "source": [
    "## Read in Data\n",
    "\n",
    "This for loop will read in each UPR in a certain date (e.g. 2013) and parse it into a dictionary with `country`, `year`, and `text` keys. The `text` value will be a list of sub-paragraphs in the recommendations section of the UPR."
   ]
  },
  {
   "cell_type": "code",
   "execution_count": 62,
   "metadata": {
    "collapsed": false
   },
   "outputs": [
    {
     "name": "stdout",
     "output_type": "stream",
     "text": [
      "processing algeria2008.txt...\n",
      "processing argentina2008.txt...\n",
      "processing bahrain2008.txt...\n",
      "processing benin2008.txt...\n",
      "processing brazil2008.txt...\n",
      "processing czechrepublic2008.txt...\n",
      "processing ecuador2008.txt...\n",
      "processing finland2008.txt...\n",
      "processing france2008.txt...\n",
      "processing gabon2008.txt...\n",
      "processing ghana2008.txt...\n",
      "processing guatemala2008.txt...\n",
      "processing india2008.txt...\n",
      "processing indonesia2008.txt...\n",
      "processing japan2008.txt...\n",
      "processing korea2008.txt...\n",
      "processing mali2008.txt...\n",
      "processing morocco2008.txt...\n",
      "processing netherlands2008.txt...\n",
      "processing pakistan2008.txt...\n",
      "processing peru2008.txt...\n",
      "processing philippines2008.txt...\n",
      "processing poland2008.txt...\n",
      "processing romania2008.txt...\n",
      "processing southafrica2008.txt...\n",
      "processing srilanka2008.txt...\n",
      "processing switzerland2008.txt...\n",
      "processing tonga2008.txt...\n",
      "processing tunisia2008.txt...\n",
      "processing ukraine2008.txt...\n",
      "processing unitedkingdom2008.txt...\n",
      "processing zambia2008.txt...\n"
     ]
    }
   ],
   "source": [
    "l=[]\n",
    "dir = '../Data/raw-data/txts'\n",
    "for file_name in os.listdir(dir):\n",
    "    broken = []\n",
    "    if file_name.endswith(\".txt\") and '2008' in file_name:\n",
    "        print 'processing ' + file_name + '...'\n",
    "        try:\n",
    "            dic = {}\n",
    "            dic['country'] = file_name[:-8]\n",
    "            dic['year'] = file_name[-8:-4]\n",
    "            f = open(dir + '/' + file_name,'rU')\n",
    "            x = f.read() # read in text\n",
    "            f.close\n",
    "            x = x.split('\\n') # make a list\n",
    "            x = filter(None, x) # get rid of empty string items       \n",
    "             \n",
    "            # take only the conclusions and/or recommendations section\n",
    "            ConclusionsStart = x.index([s for s in x if \"conclusions and/or recommendations\" in s.lower()][1]) #startin from bottom\n",
    "            ConclusionsEnd = x.index([s for s in x if \"conclusions and/or recommendations\" in s.lower()][2]) # the last one is the disclaimer\n",
    "            x = x[ConclusionsStart+1:ConclusionsEnd+1] \n",
    "            \n",
    "            # get rid of the weird lines\n",
    "            x = [s for s in x if '**' not in s]\n",
    "            x = [s for s in x if 'recommendations have not been edited.' not in s]\n",
    "            x = [s for s in x if 'recommendations will not be edited.' not in s]\n",
    "            x = [s.replace('\\xd2','') for s in x]\n",
    "            x = [s.replace('\\t','') for s in x]\n",
    "            x = [s.lstrip(\" \") for s in x]\n",
    "            \n",
    "            # get rid of footnotes:\n",
    "            for s in x:\n",
    "                if s.rstrip()[-1].isdigit():\n",
    "                    x[x.index(s)] = s.rstrip()[:-1]\n",
    "            for s in x:\n",
    "                if s.rstrip()[-1].isdigit():\n",
    "                    x[x.index(s)] = s.rstrip()[:-1]\n",
    "\n",
    "            # merge lines so that each line is its own paragraph, starting with a paragraph number\n",
    "            x = mergeLines(x)\n",
    "                       \n",
    "            # get rid of that disclaimer paragraph\n",
    "            x = [s for s in x if 'endorsed by the working group' not in s.lower()]\n",
    "            \n",
    "            # make sure everything is a string\n",
    "            dic['text'] = [str(s) for s in x]\n",
    "            \n",
    "            # append to list\n",
    "            l.append(dic)\n",
    "              \n",
    "        except Exception,e:\n",
    "            broken.append(file_name +str(e)) "
   ]
  },
  {
   "cell_type": "code",
   "execution_count": 63,
   "metadata": {
    "collapsed": false
   },
   "outputs": [
    {
     "data": {
      "text/plain": [
       "[]"
      ]
     },
     "execution_count": 63,
     "metadata": {},
     "output_type": "execute_result"
    }
   ],
   "source": [
    "# check if anything broke\n",
    "broken"
   ]
  },
  {
   "cell_type": "markdown",
   "metadata": {},
   "source": [
    "## If the document does not follow the 67.1, 67.2 format, fix it:"
   ]
  },
  {
   "cell_type": "code",
   "execution_count": 64,
   "metadata": {
    "collapsed": false
   },
   "outputs": [],
   "source": [
    "def getnumber(line):\n",
    "            try:\n",
    "                number = int(line.partition(\".\")[0])\n",
    "            except:\n",
    "                number= int(line.partition(\" \")[0])\n",
    "            return(number)"
   ]
  },
  {
   "cell_type": "code",
   "execution_count": 65,
   "metadata": {
    "collapsed": false
   },
   "outputs": [],
   "source": [
    "for upr in range(len(l)):\n",
    "    x = l[upr]['text'] \n",
    "    firstParagraph = x[0].partition(\".\")[0]\n",
    "    secondParagraph = x[1].partition(\".\")[0]\n",
    "\n",
    "    if firstParagraph == secondParagraph:\n",
    "        pass\n",
    "\n",
    "    else:\n",
    "        try:\n",
    "            # make a list of paragraph numbers as they appear in document\n",
    "            numbers = []\n",
    "            for line in x:\n",
    "                numbers.append(getnumber(line))   \n",
    "        \n",
    "            # group that list by sequential numbers\n",
    "            grouped = []\n",
    "            for k, g in groupby(enumerate(numbers), lambda (i,x):i-x):\n",
    "                grouped.append(map(itemgetter(1), g))\n",
    "            \n",
    "            # tack on main paragraph number to subparagraphs\n",
    "            groupedNumbers = []\n",
    "            for list in grouped:\n",
    "                if list[0] != 1:\n",
    "                    n = list[-1]\n",
    "                    groupedNumbers.append([str(i) for i in list])\n",
    "                if list[0] == 1:\n",
    "                    groupedNumbers.append([str(n)+'.'+str(number) for number in list])\n",
    "            \n",
    "            # make the list presentable\n",
    "            groupedCollapsed = [item for sublist in groupedNumbers for item in sublist]\n",
    "        \n",
    "            # make new statements\n",
    "            numberedStatements = []\n",
    "            for i in range(len(x)):\n",
    "                text = x[i]\n",
    "                woParagraph = text[len(str(numbers[i]))+1:]\n",
    "                withnewParagraph = groupedCollapsed[i] + ' ' + woParagraph\n",
    "                numberedStatements.append(withnewParagraph)\n",
    "    \n",
    "            l[upr]['text'] = numberedStatements\n",
    "        \n",
    "        except Exception,e:\n",
    "            print str(e)\n",
    "            broken.append(l[upr]['country'] + l[upr]['year']+str(e))"
   ]
  },
  {
   "cell_type": "code",
   "execution_count": 66,
   "metadata": {
    "collapsed": false
   },
   "outputs": [
    {
     "name": "stdout",
     "output_type": "stream",
     "text": [
      "69.1   The establishment of an international round table to discuss the interrelation between security and fundamental freedoms (Kuwait). \n",
      "64.1   To pursue its efforts to counter discrimination in whatever form, in particular towards the most vulnerable sectors of the population in the follow-up to the Durban Conference and the recommendations of the Committee on the Elimination of Racial Discrimination. (Algeria, Republic of Korea, Nigeria, Mexico); \n",
      "56.1   Recommended that Benin strengthen its cooperation with special procedures of the Human Rights Council, by accepting visits, replying to communications, urgent measures as well as to questions by special procedures (Mexico); \n",
      "83.1   Continue and intensify its efforts to reduce poverty and social inequality (Belgium); \n",
      "44.1   To take all measures to prevent any kind of reappearance of Nazism and not to let any such acts go unpunished (Russian Federation); \n",
      "50.1   To increase the focus, targeted efforts and effective measures regarding eliminating discrimination, and to make further efforts and measures to promote the rights of minorities, inter alia, ethnic minorities (Netherlands, Russian Federation). \n",
      "60.1   To complete the domestic process in order to ratify the International Convention on the Protection of All Persons from Enforced Disappearance as soon as possible (Albania); \n",
      "60.1   To raise the school attendance rate and develop facilities at the various levels of education, while favouring gender equality and access to education, with technical and financial assistance provided by the international community (Algeria); \n",
      "68.1  To take the necessary measures in order to reinforce the campaign against discriminatory practices and violence against women (France); to strengthen its efforts in protecting women�s rights (Switzerland); and to take further steps to address discrimination against women and vulnerable groups, including children (United Kingdom); to take proactive measures to ensure the equality of women in all matters related to property inheritance (Hungary); and call for the international community to provide  full technical and financial support as a way of improving the national machinery for the advancement of women (Algeria); \n",
      "86.1   Expedite ratification of the Convention against Torture (United Kingdom France, Mexico, Nigeria, Italy, Switzerland, and Sweden); Expedite ratification of the Convention against Torture its Optional Protocol (United Kingdom); \n"
     ]
    }
   ],
   "source": [
    "# take a look at the first rec of the first 10 uprs\n",
    "for x in l[:10]:\n",
    "    print x['text'][1]"
   ]
  },
  {
   "cell_type": "code",
   "execution_count": 67,
   "metadata": {
    "collapsed": false
   },
   "outputs": [],
   "source": [
    "def parse2014(document):\n",
    "    '''\n",
    "    This function passes a UPR and parse the 'text' value into well structured format, \n",
    "    i.e. a nested (array-like) dictionary of 2-4 main paragraphs, with each main paragraph containing \n",
    "    the text of the paragraph, the decision it represents (consider, accept, reject, unknown), \n",
    "    and a list of specific recommendations or subparagraphs ('items') under it.\n",
    "    \n",
    "    For example, in one upr the returned 'paragraphs' value will contain something like:\n",
    "    {128: {'decision': 'consider', 'text': string-of-paragraph, 'items': [rec 1, rec 2, ...]}\n",
    "    {129: {'decision': 'accept', 'text': string-of-paragraph, 'items': [rec 1, rec 2, ...]}\n",
    "    {130: {'decision': 'reject', 'text': string-of-paragraph, 'items': [rec 1, rec 2, ...]}\n",
    "    '''\n",
    "def parse(document):\n",
    "    \n",
    "    upr = document\n",
    "    \n",
    "    # separate upr out into sections by mainP, i.e. the support, reject, consider chunks \n",
    "    # by identifying subparagraphs that start with the main paragraph numbers.\n",
    "    sections = []\n",
    "    for n in mainParagraphs(upr):\n",
    "        dic = {}\n",
    "        dic['paragraph'] = n\n",
    "        dic['text'] = [s for s in upr['text'] if s.startswith(str(n))]\n",
    "        sections.append(dic)\n",
    "    \n",
    "    # delete all the sections with only 1 paragraph\n",
    "    for dic in sections:\n",
    "        if len(dic['text']) == 1:\n",
    "            sections.remove(dic)\n",
    "    \n",
    "    # parse into main-text and items\n",
    "    for dic in sections:\n",
    "        dic['header'] = dic['text'][0]\n",
    "        dic['items'] = dic['text'][1:]\n",
    "    \n",
    "    # assign a decision\n",
    "    for dic in sections: \n",
    "        text = dic['header'] \n",
    "        decision = ''\n",
    "        if 'implemented' in text or 'process of implementation' in text:\n",
    "            decision = 'implemented'\n",
    "        elif 'will be examined' in text or 'will examine' in text or \"further examined\" in text or \"Responses to the following recommendations will be provided\" in text or \"will be included in the outcome report\" in text or \"will be provided in due course\" in text or \"course of the discussion\" in text:\n",
    "            decision = 'consider'\n",
    "        elif 'not enjoy the support' in text or 'reject' in text or 'cannot be accepted' in text:\n",
    "            decision = 'reject'\n",
    "        elif 'support' in text and 'did not enjoy the support' not in text:\n",
    "            decision = 'support'\n",
    "        elif 'have been noted by' in text or 'were noted by' in text:\n",
    "            decision = 'noted'\n",
    "        elif 'do not reflect the current situation' in text:\n",
    "            decision = 'reject'\n",
    "        else:\n",
    "            decision = 'unknown'\n",
    "        dic['decision'] = decision\n",
    "    \n",
    "    # break down multiple paragraph items\n",
    "    for dic in sections:\n",
    "        l = []\n",
    "        if dic['items'] is not None:\n",
    "            for line in dic['items']:\n",
    "                n = line.partition(\" \")[0] # main par. (chunk) number\n",
    "                d = ');' # delimiter \n",
    "                s = [e+d for e in line.split(d) if e != \"\"] # split by delimiter, but keep the delimiter.\n",
    "                s = [e for e in s if e.strip()!=');'] # remove lines containing just the delimiter\n",
    "                f = [s[0]] # start a new list\n",
    "                for item in s[1:]:\n",
    "                    f.append(str(n)+'.'+str(s.index(item))+item) # add items to new list, looking as it should\n",
    "                l.append(f) # add newly parsed list to main list of UPR recommendations\n",
    "            l = [i for subitem in l for i in subitem] # flatten list\n",
    "            dic['items'] = l # assign\n",
    "        \n",
    "    return(sections)"
   ]
  },
  {
   "cell_type": "code",
   "execution_count": 68,
   "metadata": {
    "collapsed": false
   },
   "outputs": [],
   "source": [
    "# apply to all docs\n",
    "for i in l:\n",
    "    try:\n",
    "        i['sections'] = parse(i)\n",
    "    except Exception,e:\n",
    "        print str(l.index(doc)) + str(e)"
   ]
  },
  {
   "cell_type": "code",
   "execution_count": 69,
   "metadata": {
    "collapsed": false
   },
   "outputs": [
    {
     "name": "stdout",
     "output_type": "stream",
     "text": [
      "support\n",
      "['69.1   The establishment of an international round table to discuss the interrelation between security and fundamental freedoms (Kuwait). );', '69.2   That Algeria share its experience in the fight against terrorism and pursue its efforts to combat poverty and promote economic, social and cultural rights with a view to achieving the Millennium Development Goals by 2015 (Sudan). );', '69.3   That Algeria take appropriate measures to address violence against children; recommends the continuation of the moratorium on death penalty (Italy). );', '69.4   That the State strengthen its efforts to protect women\\xd5s rights, including by addressing cultural and social barriers, as well as legal ones; recommends that Algeria cooperate with special procedures mandate holders; recommends that steps be taken to guarantee the rights of detainees, including immediate access to a lawyer, information to families on detentions, and ensuring that judicial authorities are informed of all detentions (United Kingdom). );', '69.5   That Algeria take steps to ratify the International Convention for the Protection of All Persons from Enforced Disappearance (France). );']\n"
     ]
    }
   ],
   "source": [
    "# check it out\n",
    "print l[0]['sections'][0]['decision']\n",
    "print l[0]['sections'][0]['items'][:5]"
   ]
  },
  {
   "cell_type": "markdown",
   "metadata": {},
   "source": [
    "## Testing Testing 123"
   ]
  },
  {
   "cell_type": "code",
   "execution_count": 70,
   "metadata": {
    "collapsed": false
   },
   "outputs": [
    {
     "name": "stdout",
     "output_type": "stream",
     "text": [
      "support\n",
      "69  The recommendations formulated during the interactive dialogue have been examined by Algeria and the recommendations listed below enjoy the support of Algeria: \n",
      "\n",
      "support\n",
      "64   The recommendations formulated during the interactive dialogue have been examined by Argentina and the recommendations listed below enjoy the support of Argentina:  \n",
      "\n",
      "consider\n",
      "56  In the course of the discussion, the following recommendations were made to Benin: \n",
      "\n",
      "support\n",
      "83   The recommendations formulated during the interactive dialogue have been examined by Brazil and enjoy the support of Brazil: \n",
      "\n",
      "consider\n",
      "44  In the course of the discussion, the following recommendations were made to the Czech  Republic: \n",
      "\n",
      "unknown\n",
      "50   Finland considered the recommendations made during the interactive dialogue and listed below, and agrees to follow up on them: \n",
      "\n",
      "consider\n",
      "60  In the course of the discussion, the following recommendations were made to France: \n",
      "\n",
      "consider\n",
      "60   In the course of the discussion, the following recommendations were made to Gabon: \n",
      "\n",
      "consider\n",
      "68  In the course of the discussion, the following recommendations were made to Ghana:  \n",
      "\n",
      "unknown\n",
      "86   In the course of the interactive dialogue the following recommendations were made:  \n",
      "\n",
      "consider\n",
      "76  In the course of the discussion, the following conclusions were made, with the agreement of the State under review: \n",
      "\n",
      "support\n",
      "77  These recommendations formulated during the interactive dialogue have been examined by Indonesia and the recommendations listed below enjoy the support of Indonesia: \n",
      "\n",
      "consider\n",
      "60  In the course of the discussion, the following recommendations were made to Japan: \n",
      "\n",
      "consider\n",
      "64  In the course of the discussion, the following recommendations were made to the Republic of Korea: \n",
      "\n",
      "support\n",
      "56  The recommendations formulated during the interactive dialogue have been examined by Mali and the recommendations listed below enjoy the support of Mali: \n",
      "\n",
      "consider\n",
      "57  The following recommendations will be examined by Mali which will provide responses in due time. The responses of Mali will be included in the outcome report to be adopted by the Human Rights Council at its eighth session. \n",
      "\n",
      "consider\n",
      "78  In the course of the discussion, the following recommendations were made to the Netherlands: \n",
      "\n",
      "consider\n",
      "106   In the course of the discussion, the following recommendations were made to Pakistan: \n",
      "\n",
      "unknown\n",
      "108   Pakistan considers that recommendations contained in paragraphs 23(b) and (f), 27(b), 30(b) and (d), 43(c),  and 62(b) and (e) in chapter II above are neither universally recognized  human rights nor conform to its existing laws, pledges and commitments, and cannot accept them. \n",
      "\n",
      "consider\n",
      "52  In the course of the discussion, the following recommendations were made to Peru: \n",
      "\n",
      "consider\n",
      "58   In the course of the discussion, the following recommendations were made to the Philippines: \n",
      "\n",
      "unknown\n",
      "60   During the first session of the Working Group, on 11 April 2008, the Philippines, taking into consideration the recommendations listed above, announced the following voluntary commitments:  (a)  To continue to develop a gender-responsive approach to issues on women and children, including in the judicial system and on violence against women and children  (b)  To continue to develop domestic legislation for further protection of the rights of the child  (c)  To maintain the momentum on addressing killings of activists and media professionals  (d)  To continue and find additional measures to answer the basic needs of the poor and other vulnerable sectors \n",
      "\n",
      "consider\n",
      "54  In the course of the discussion, the following recommendations were made to Poland: \n",
      "\n",
      "consider\n",
      "58  In the course of the discussion, the following recommendations were made to Romania: \n",
      "\n",
      "consider\n",
      "67  In the course of the discussion, the following recommendations were made to South Africa: \n",
      "\n",
      "support\n",
      "82  The recommendations formulated during the interactive dialogue have been examined by Sri Lanka and the following recommendations enjoy the support of Sri Lanka: \n",
      "\n",
      "reject\n",
      "84  Other recommendations noted in the report in paragraphs 21 (c); 26 (b); 27 (b); 28 (b), (c) and (d); 32 (d) and (e); 33 (b) and (c); 34 (a); 43 (a) and (c); 48 (a); 49; 53; 55 (a), (d) and (e); 56 (b), 57 (c); 61 (b); 74 (a) and (b); 75 (a) in section I above did not enjoy the support of Sri Lanka. \n",
      "\n",
      "support\n",
      "56  The recommendations formulated during the interactive dialogue have been examined by Switzerland and the recommendations listed below enjoy the support of Switzerland: \n",
      "\n",
      "consider\n",
      "57  The following recommendations will be examined by Switzerland which will provide responses in due time.  The response of Switzerland will be included in the outcome report to be adopted by the Human Rights Council at its eighth session: \n",
      "\n",
      "unknown\n",
      "65  With regard to recommendations 28 (b); 31 (b); 39 (b); and 58 (b), the State under review offers the following comments: Whilst current laws might criminalize certain consensual sexual conduct, Tonga is a Christian society that believes in tolerance and respect across difference. A respect for difference allows the widest margin of appreciation to lawmakers as well as other stakeholders and encourages robust debate about equality within society. \n",
      "\n",
      "support\n",
      "63  The recommendations formulated during the interactive dialogue have been examined by Tonga and the recommendations listed below enjoy the support of Tonga:  \n",
      "\n",
      "support\n",
      "57  The recommendations formulated during the interactive dialogue have been examined by Ukraine and the recommendations listed below enjoy the support of Ukraine: \n",
      "\n",
      "consider\n",
      "58  The following recommendations will be examined by Ukraine which will provide responses in due time. The response of Ukraine will be included in the outcome report to be adopted by the Human Rights Council at its eighth session: \n",
      "\n",
      "consider\n",
      "56  In the course of the discussion, the following recommendations were made to the United Kingdom of Great Britain and Northern Ireland: \n",
      "\n",
      "support\n",
      "58  The recommendations formulated during the interactive dialogue have been examined by the Republic of Zambia and the recommendations listed below enjoy the support of Zambia:  \n",
      "\n",
      "consider\n",
      "59  The following recommendations will be examined by Zambia which will provide responses in due time. The response of Zambia to these recommendations will be included in the outcome report adopted by the Human Rights Council at its eighth session:  \n",
      "\n"
     ]
    }
   ],
   "source": [
    "# Take a look at the main paragraphs\n",
    "for i in l:\n",
    "    for section in i['sections']:\n",
    "        print section['decision']\n",
    "        print section['header'] + ('\\n')\n",
    "\n",
    "### TODO ####\n",
    "# export this data somehow"
   ]
  },
  {
   "cell_type": "code",
   "execution_count": 71,
   "metadata": {
    "collapsed": false,
    "scrolled": true
   },
   "outputs": [
    {
     "name": "stdout",
     "output_type": "stream",
     "text": [
      "finland2008\n",
      "\n",
      "50   Finland considered the recommendations made during the interactive dialogue and listed below, and agrees to follow up on them: \n",
      "\n",
      "india2008\n",
      "\n",
      "86   In the course of the interactive dialogue the following recommendations were made:  \n",
      "\n",
      "pakistan2008\n",
      "\n",
      "108   Pakistan considers that recommendations contained in paragraphs 23(b) and (f), 27(b), 30(b) and (d), 43(c),  and 62(b) and (e) in chapter II above are neither universally recognized  human rights nor conform to its existing laws, pledges and commitments, and cannot accept them. \n",
      "\n",
      "philippines2008\n",
      "\n",
      "60   During the first session of the Working Group, on 11 April 2008, the Philippines, taking into consideration the recommendations listed above, announced the following voluntary commitments:  (a)  To continue to develop a gender-responsive approach to issues on women and children, including in the judicial system and on violence against women and children  (b)  To continue to develop domestic legislation for further protection of the rights of the child  (c)  To maintain the momentum on addressing killings of activists and media professionals  (d)  To continue and find additional measures to answer the basic needs of the poor and other vulnerable sectors \n",
      "\n",
      "tonga2008\n",
      "\n",
      "65  With regard to recommendations 28 (b); 31 (b); 39 (b); and 58 (b), the State under review offers the following comments: Whilst current laws might criminalize certain consensual sexual conduct, Tonga is a Christian society that believes in tolerance and respect across difference. A respect for difference allows the widest margin of appreciation to lawmakers as well as other stakeholders and encourages robust debate about equality within society. \n",
      "\n"
     ]
    }
   ],
   "source": [
    "# which decisions are 'unknown'?\n",
    "for i in l:\n",
    "    for section in i['sections']:\n",
    "        if section['decision'] == 'unknown':\n",
    "            print i['country'] +i['year'] + ('\\n')\n",
    "            print section['header'] + ('\\n')"
   ]
  },
  {
   "cell_type": "code",
   "execution_count": 58,
   "metadata": {
    "collapsed": false
   },
   "outputs": [],
   "source": [
    "# write paragraphs with no subitems\n",
    "\n",
    "with open('specialpars.txt', 'a') as f:\n",
    "    for i in l:\n",
    "        for section in i['sections']:\n",
    "            if not section['items']:\n",
    "                f.write(i['country'] + i['year'] + ('\\n'))\n",
    "                f.write(section['header'] + ('\\n\\n'))\n"
   ]
  },
  {
   "cell_type": "code",
   "execution_count": 72,
   "metadata": {
    "collapsed": false
   },
   "outputs": [
    {
     "name": "stdout",
     "output_type": "stream",
     "text": [
      "858\n"
     ]
    },
    {
     "data": {
      "text/plain": [
       "{'decision': 'support',\n",
       " 'from': 'Sudan',\n",
       " 'text': '69.2   That Algeria share its experience in the fight against terrorism and pursue its efforts to combat poverty and promote economic, social and cultural rights with a view to achieving the Millennium Development Goals by 2015 (Sudan). );',\n",
       " 'to': 'algeria',\n",
       " 'year': '2008'}"
      ]
     },
     "execution_count": 72,
     "metadata": {},
     "output_type": "execute_result"
    }
   ],
   "source": [
    "# make dictionaries for each individual recommendation item\n",
    "# containing the text, to country, from country, and decision\n",
    "# concatenate into a list.\n",
    "reclist = []\n",
    "for upr in l:\n",
    "    for section in upr['sections']:\n",
    "        for item in section['items']:\n",
    "            dic = {}\n",
    "            dic['to'] = upr['country']\n",
    "            dic['year'] = upr['year']\n",
    "            dic['decision'] = section['decision']\n",
    "            dic['from'] = item.split('(')[-1].split(')')[0]\n",
    "            dic['text'] = item\n",
    "            reclist.append(dic)  \n",
    "\n",
    "# uncomment to test\n",
    "print len(reclist)\n",
    "reclist[1]      "
   ]
  },
  {
   "cell_type": "markdown",
   "metadata": {},
   "source": [
    "## write csv"
   ]
  },
  {
   "cell_type": "code",
   "execution_count": 60,
   "metadata": {
    "collapsed": false
   },
   "outputs": [
    {
     "data": {
      "text/plain": [
       "['text', 'to', 'decision', 'from', 'year']"
      ]
     },
     "execution_count": 60,
     "metadata": {},
     "output_type": "execute_result"
    }
   ],
   "source": [
    "#writing column headings\n",
    "keys = reclist[0].keys()\n",
    "keys"
   ]
  },
  {
   "cell_type": "code",
   "execution_count": 61,
   "metadata": {
    "collapsed": false
   },
   "outputs": [],
   "source": [
    "#writing the rest\n",
    "with open('../Data/year-csvs/2008.csv', 'wb') as output_file:\n",
    "    dict_writer = csv.DictWriter(output_file, keys)\n",
    "    dict_writer.writeheader()\n",
    "    dict_writer.writerows(reclist)"
   ]
  },
  {
   "cell_type": "code",
   "execution_count": 105,
   "metadata": {
    "collapsed": false
   },
   "outputs": [],
   "source": []
  },
  {
   "cell_type": "code",
   "execution_count": 105,
   "metadata": {
    "collapsed": false
   },
   "outputs": [],
   "source": []
  }
 ],
 "metadata": {
  "kernelspec": {
   "display_name": "Python 2",
   "language": "python",
   "name": "python2"
  },
  "language_info": {
   "codemirror_mode": {
    "name": "ipython",
    "version": 2
   },
   "file_extension": ".py",
   "mimetype": "text/x-python",
   "name": "python",
   "nbconvert_exporter": "python",
   "pygments_lexer": "ipython2",
   "version": "2.7.9"
  }
 },
 "nbformat": 4,
 "nbformat_minor": 0
}
