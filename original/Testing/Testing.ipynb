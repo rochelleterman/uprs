{
 "cells": [
  {
   "cell_type": "markdown",
   "metadata": {},
   "source": [
    "# Testing\n",
    "\n",
    "This script compares the human v. machine coding of recommendations."
   ]
  },
  {
   "cell_type": "code",
   "execution_count": 19,
   "metadata": {
    "collapsed": false
   },
   "outputs": [
    {
     "data": {
      "text/plain": [
       "9223372036854775807"
      ]
     },
     "execution_count": 19,
     "metadata": {},
     "output_type": "execute_result"
    }
   ],
   "source": [
    "import os\n",
    "import re\n",
    "import csv\n",
    "import sys\n",
    "import csv\n",
    "import random\n",
    "import ast\n",
    "\n",
    "csv.field_size_limit(sys.maxsize)"
   ]
  },
  {
   "cell_type": "markdown",
   "metadata": {
    "collapsed": true
   },
   "source": [
    "## 1. Load"
   ]
  },
  {
   "cell_type": "code",
   "execution_count": 38,
   "metadata": {
    "collapsed": false
   },
   "outputs": [
    {
     "data": {
      "text/plain": [
       "{'From': 'Kuwait',\n",
       " 'action': \"['establish']\",\n",
       " 'decision': 'support',\n",
       " 'from_COW': '690',\n",
       " 'id': '0',\n",
       " 'institutions': '[]',\n",
       " 'notes': '',\n",
       " 'text': '69.1 The establishment of an international round table to discuss the interrelation between security and fundamental freedoms (Kuwait). );',\n",
       " 'theme': '[]',\n",
       " 'to': 'Algeria',\n",
       " 'to_COW': '615',\n",
       " 'year': '2008'}"
      ]
     },
     "execution_count": 38,
     "metadata": {},
     "output_type": "execute_result"
    }
   ],
   "source": [
    "# load data\n",
    "recs = []\n",
    "with open(\"../Data/all-data-cown.csv\",'rU') as csvfile:\n",
    "            reader = csv.DictReader(csvfile)\n",
    "            for row in reader:\n",
    "                recs.append(row)\n",
    "            \n",
    "len(recs)\n",
    "recs[0]"
   ]
  },
  {
   "cell_type": "code",
   "execution_count": 60,
   "metadata": {
    "collapsed": false
   },
   "outputs": [
    {
     "data": {
      "text/plain": [
       "{'From': 'Tunisia',\n",
       " 'action': \"['continue']\",\n",
       " 'decision': 'consider',\n",
       " 'id': '690',\n",
       " 'institutions': '[]',\n",
       " 'notes about coding': '',\n",
       " 'sentiment': '3',\n",
       " 'text': '58.14 To continue to work on improving the situation of children\\x90s rights (Algeria, Tunisia);',\n",
       " 'theme': \"['children']\",\n",
       " 'to': 'Romania',\n",
       " 'year': '2008'}"
      ]
     },
     "execution_count": 60,
     "metadata": {},
     "output_type": "execute_result"
    }
   ],
   "source": [
    "# load Erin\n",
    "erin = []\n",
    "with open(\"testing-3/erin-data.csv\",'rU') as csvfile:\n",
    "            reader = csv.DictReader(csvfile)\n",
    "            for row in reader:\n",
    "                erin.append(row)\n",
    "            \n",
    "erin[1]"
   ]
  },
  {
   "cell_type": "code",
   "execution_count": 61,
   "metadata": {
    "collapsed": false
   },
   "outputs": [
    {
     "data": {
      "text/plain": [
       "{'From': 'Tunisia',\n",
       " 'action': ['continue'],\n",
       " 'decision': 'consider',\n",
       " 'id': '690',\n",
       " 'institutions': [],\n",
       " 'notes about coding': '',\n",
       " 'sentiment': '3',\n",
       " 'text': '58.14 To continue to work on improving the situation of children\\x90s rights (Algeria, Tunisia);',\n",
       " 'theme': ['children'],\n",
       " 'to': 'Romania',\n",
       " 'year': '2008'}"
      ]
     },
     "execution_count": 61,
     "metadata": {},
     "output_type": "execute_result"
    }
   ],
   "source": [
    "# making literal lists\n",
    "for i in erin:\n",
    "    try:\n",
    "        i['theme'] = ast.literal_eval(i['theme'])\n",
    "        i['institutions'] = ast.literal_eval(i['institutions'])\n",
    "        i['action'] = ast.literal_eval(i['action'])\n",
    "    except Exception,e:\n",
    "        print i\n",
    "erin[1]"
   ]
  },
  {
   "cell_type": "code",
   "execution_count": 62,
   "metadata": {
    "collapsed": false
   },
   "outputs": [],
   "source": [
    "# strip whitespace:\n",
    "for i in erin:\n",
    "    i['theme'] = [x.strip() for x in i['theme']]\n",
    "    i['institutions'] = [x.strip() for x in i['institutions']]\n",
    "    i['action'] = [x.strip() for x in i['action']]"
   ]
  },
  {
   "cell_type": "code",
   "execution_count": 63,
   "metadata": {
    "collapsed": false
   },
   "outputs": [],
   "source": [
    "# get ids\n",
    "ids = [rec['id'] for rec in erin]"
   ]
  },
  {
   "cell_type": "code",
   "execution_count": 64,
   "metadata": {
    "collapsed": false
   },
   "outputs": [
    {
     "name": "stdout",
     "output_type": "stream",
     "text": [
      "100 {'from_COW': '70', 'From': 'Mexico', 'to_COW': '140', 'text': '83.8 Enhance access to justice as well as improve the judicial system (Mexico);', 'decision': 'support', 'id': '92', 'to': 'Brazil', 'theme': \"['judiciary']\", 'notes': '', 'year': '2008', 'action': '[]', 'institutions': '[]'}\n"
     ]
    }
   ],
   "source": [
    "# get original sample\n",
    "sample = []\n",
    "for i in recs:\n",
    "    if i['id'] in ids:\n",
    "        sample.append(i)\n",
    "print len(sample), sample[0]  "
   ]
  },
  {
   "cell_type": "code",
   "execution_count": 65,
   "metadata": {
    "collapsed": false
   },
   "outputs": [
    {
     "data": {
      "text/plain": [
       "{'From': 'Tunisia',\n",
       " 'action': ['continue'],\n",
       " 'decision': 'consider',\n",
       " 'from_COW': '616',\n",
       " 'id': '690',\n",
       " 'institutions': [],\n",
       " 'notes': '',\n",
       " 'text': \"58.14 To continue to work on improving the situation of children's rights (Algeria, Tunisia);\",\n",
       " 'theme': ['children'],\n",
       " 'to': 'Romania',\n",
       " 'to_COW': '360',\n",
       " 'year': '2008'}"
      ]
     },
     "execution_count": 65,
     "metadata": {},
     "output_type": "execute_result"
    }
   ],
   "source": [
    "# make literal\n",
    "for i in sample:\n",
    "    i['theme'] = ast.literal_eval(i['theme'])\n",
    "    i['institutions'] = ast.literal_eval(i['institutions'])\n",
    "    i['action'] = ast.literal_eval(i['action'])\n",
    "\n",
    "sample[1]"
   ]
  },
  {
   "cell_type": "markdown",
   "metadata": {},
   "source": [
    "## Compare"
   ]
  },
  {
   "cell_type": "code",
   "execution_count": 66,
   "metadata": {
    "collapsed": false
   },
   "outputs": [],
   "source": [
    "# zip\n",
    "matching = []\n",
    "for i in range(100):\n",
    "    dic = erin[i].copy()\n",
    "    \n",
    "    # Theme\n",
    "    dic['theme-erin'] = erin[i]['theme']\n",
    "    dic['theme-rochelle'] = sample[i]['theme']\n",
    "    del dic['theme']\n",
    "    \n",
    "    if set(dic['theme-erin']) == set(dic['theme-rochelle']):\n",
    "        dic['theme-match'] = True\n",
    "    elif set(dic['theme-erin']).intersection(dic['theme-rochelle']):\n",
    "        dic['theme-match'] = \"Partial\"\n",
    "    else:\n",
    "        dic['theme-match'] = False\n",
    "    \n",
    "    # institutions\n",
    "    dic['institution-erin'] = erin[i]['institutions']\n",
    "    dic['institution-rochelle'] = sample[i]['institutions']\n",
    "    del dic['institutions']\n",
    "    \n",
    "    if set(dic['institution-erin']) == set(dic['institution-rochelle']):\n",
    "        dic['institution-match'] = True\n",
    "    elif set(dic['institution-erin']).intersection(dic['institution-rochelle']):\n",
    "        dic['institution-match'] = \"Partial\"\n",
    "    else:\n",
    "        dic['institution-match'] = False\n",
    "    \n",
    "    # actions\n",
    "    dic['action-erin'] = erin[i]['action']\n",
    "    dic['action-rochelle'] = sample[i]['action']\n",
    "    del dic['action']\n",
    "    \n",
    "    if set(dic['action-erin']) == set(dic['action-rochelle']):\n",
    "        dic['action-match'] = True\n",
    "    elif set(dic['action-erin']).intersection(dic['action-rochelle']):\n",
    "        dic['action-match'] = \"Partial\"\n",
    "    else:\n",
    "        dic['action-match'] = False\n",
    "    \n",
    "    matching.append(dic)"
   ]
  },
  {
   "cell_type": "code",
   "execution_count": 67,
   "metadata": {
    "collapsed": false
   },
   "outputs": [],
   "source": [
    "# make lists of matches, etc\n",
    "theme_match = [i for i in matching if i['theme-match'] == True]\n",
    "theme_partial = [i for i in matching if i['theme-match'] == \"Partial\"]\n",
    "theme_false = [i for i in matching if i['theme-match'] == False]\n",
    "\n",
    "institution_match = [i for i in matching if i['institution-match'] == True]\n",
    "institution_partial = [i for i in matching if i['institution-match'] == \"Partial\"]\n",
    "institution_false = [i for i in matching if i['institution-match'] == False]\n",
    "\n",
    "action_match = [i for i in matching if i['action-match'] == True]\n",
    "action_partial = [i for i in matching if i['action-match'] == \"Partial\"]\n",
    "action_false = [i for i in matching if i['action-match'] == False]"
   ]
  },
  {
   "cell_type": "code",
   "execution_count": 68,
   "metadata": {
    "collapsed": false
   },
   "outputs": [
    {
     "name": "stdout",
     "output_type": "stream",
     "text": [
      "Theme\n",
      "\n",
      "Match: 74\n",
      "Partial: 20\n",
      "False: 6\n",
      "\n",
      "\n",
      "Institutions\n",
      "\n",
      "Match: 90\n",
      "Partial: 4\n",
      "False: 6\n",
      "\n",
      "\n",
      "Action\n",
      "\n",
      "Match: 78\n",
      "Partial: 10\n",
      "False: 12\n",
      "\n",
      "\n"
     ]
    }
   ],
   "source": [
    "print \"Theme\" + \"\\n\"\n",
    "print \"Match: \" + str(len(theme_match))\n",
    "print \"Partial: \" + str(len(theme_partial))\n",
    "print \"False: \" + str(len(theme_false))\n",
    "print \"\\n\"\n",
    "\n",
    "print \"Institutions\" + \"\\n\"\n",
    "print \"Match: \" + str(len(institution_match))\n",
    "print \"Partial: \" + str(len(institution_partial))\n",
    "print \"False: \" + str(len(institution_false))\n",
    "print \"\\n\"\n",
    "\n",
    "print \"Action\" + \"\\n\"\n",
    "print \"Match: \" + str(len(action_match))\n",
    "print \"Partial: \" + str(len(action_partial))\n",
    "print \"False: \" + str(len(action_false))\n",
    "print \"\\n\""
   ]
  },
  {
   "cell_type": "code",
   "execution_count": 70,
   "metadata": {
    "collapsed": false
   },
   "outputs": [
    {
     "name": "stdout",
     "output_type": "stream",
     "text": [
      "4385: 57.8.1 and take all appropriate measures, in the fields of legislation, implementation and awareness-raising, to tackle domestic violence against women and children (Italy);\n",
      "ERIN: ['take-measures']\n",
      "ROCHELLE: ['implement', 'take-measures']\n",
      "\n",
      "9370: 101.12. Continue to implement the core elements of the Children�s Act, which is a great step forwards in the achievement of the Millennium Development Goals (Angola);\n",
      "ERIN: ['continue']\n",
      "ROCHELLE: ['continue', 'implement']\n",
      "\n",
      "10098: 96.16. Continue to improve access to basic services, such as health and education, with the full support and cooperation of the international community (Bangladesh);\n",
      "ERIN: ['continue']\n",
      "ROCHELLE: ['continue', 'cooperate', 'assistance']\n",
      "\n",
      "12177: 106.12. Continue commitment to human rights through the ratification of the International Convention on the Protection of the Rights of All Migrant Workers and Members of Their Families in accordance with recommendation 1737 of 17 March 2006, adopted by the Parliamentary Assembly of the Council Europe, of which Denmark is a member (Algeria);\n",
      "ERIN: ['continue']\n",
      "ROCHELLE: ['ratify', 'continue']\n",
      "\n",
      "14471: 92.46. Carry out a review of norms and practices relating to freedom of belief in order to harmonize domestic laws with international standards established under ICCPR (Mexico);\n",
      "ERIN: ['harmonize']\n",
      "ROCHELLE: ['harmonize', 'establish']\n",
      "\n",
      "17742: 83.69. Continue its efforts to fight climate challenges with the support of the international community (Bangladesh);\n",
      "ERIN: ['continue']\n",
      "ROCHELLE: ['continue', 'assistance']\n",
      "\n",
      "20347: 108.30 Take necessary measures to ensure effective implementation of laws guaranteeing free registration of births nationwide, including by educating families and communities on the importance of birth registration in order to contribute, among other things, to eliminating the practice of early and forced marriage and increase access to education, health care and other public services (Canada);\n",
      "ERIN: ['take-measures']\n",
      "ROCHELLE: ['implement', 'take-measures']\n",
      "\n",
      "26290: 186.63. Continue its constructive and cooperative dialogue with the UN human rights system (Azerbaijan);\n",
      "ERIN: ['continue']\n",
      "ROCHELLE: ['continue', 'cooperate']\n",
      "\n",
      "36242: 127.65 Continue implementing programmes to improve the way they deal with persons, particularly during security operations and that the Ministry of human rights carry out awareness-raising programmes with the concerned ministries (Bahrain);\n",
      "ERIN: ['continue']\n",
      "ROCHELLE: ['continue', 'implement']\n",
      "\n",
      "38378: 115.100 Take all appropriate measures to enable and facilitate the acquisition of Slovenian citizenship by the erased persons�, paying particular attention to the children of erased persons� in 1992, who are still stateless. Ensure compensation for all erased persons� and, in this regard, review their compensation schemes, on the basis of the amounts and criteria established by the European Court of Human Rights and ensure the implementation of measures to reintegrate erased persons� (France);\n",
      "ERIN: ['take-measures']\n",
      "ROCHELLE: ['implement', 'establish', 'take-measures']\n",
      "\n"
     ]
    }
   ],
   "source": [
    "for i in action_partial:\n",
    "    print i['id'] + \": \" + i['text']\n",
    "    print \"ERIN: \" + str(i['action-erin'])\n",
    "    print \"ROCHELLE: \" + str(i['action-rochelle']) + \"\\n\""
   ]
  },
  {
   "cell_type": "markdown",
   "metadata": {},
   "source": [
    "## 3. Transform to Binary SpreadSheet"
   ]
  },
  {
   "cell_type": "code",
   "execution_count": null,
   "metadata": {
    "collapsed": true
   },
   "outputs": [],
   "source": [
    "institutions = ['core', 'CRPD', 'ICCPR', 'eu-vaw', 'geneva', 'ICC', 'ILO', 'ICESR', 'achr', 'CAT', \\\n",
    "                'CRC', 'echr', '1954-stateless', 'traffick', 'CTOC', 'ICMW', 'ICERD', 'eu-child', 'sp-pr', \\\n",
    "                'PP', 'kampala', '1951refugees', 'pol-women', 'CPED', 'uncac', 'ottawa', '1961-stateless', 'CEDAW', \\\n",
    "                'unesco-ed', 'hague', 'genocide', 'HRC', 'unesco-expr', 'int-cord', 'frame-minorities', 'ind169',\\\n",
    "                'OP', 'ic-mercenaries', 'eu-migrant', 'un-indig', 'vienna', 'ouagadougou', 'UNHCR']"
   ]
  },
  {
   "cell_type": "code",
   "execution_count": 107,
   "metadata": {
    "collapsed": false
   },
   "outputs": [],
   "source": [
    "actions = ['accede', 'ratify', 'take-measures', 'sign', 'report', 'continue', 'withdraw', 'harmonize', 'party', \\\n",
    "           'implement', 'establish']"
   ]
  },
  {
   "cell_type": "code",
   "execution_count": 108,
   "metadata": {
    "collapsed": false
   },
   "outputs": [],
   "source": [
    "theme = ['death-pen', 'infrastructure ', 'intelligence', 'prisoners', 'elderly', 'culture', 'education', \\\n",
    "         'children', 'civil-so', 'disappearances', 'police', 'hiv', 'privacy', 'discrimination', 'impunity',\\\n",
    "         'governance', 'labor', 'environment', 'religion', 'foreign-movement', 'health', 'speech', 'domest-movement', \\\n",
    "         'terrorism', 'paramilitary', 'corruption', 'sex-violence', 'civil-conflict', 'race', 'torture', 'food',\\\n",
    "         'extra-judicial', 'judiciary', 'indigenous', 'lgbt', 'self-determ', 'poverty', 'ethnic', 'women', 'land', \\\n",
    "         'reproductive', 'post-conflict', 'disabilities', 'migrants', 'pol-imprisonment', 'socialism', 'trafficking', \\\n",
    "         'military', 'property']"
   ]
  },
  {
   "cell_type": "code",
   "execution_count": 109,
   "metadata": {
    "collapsed": false
   },
   "outputs": [
    {
     "data": {
      "text/plain": [
       "['From',\n",
       " 'sentiment',\n",
       " 'text',\n",
       " 'decision',\n",
       " 'id',\n",
       " 'to',\n",
       " 'theme',\n",
       " 'notes',\n",
       " 'year',\n",
       " 'action',\n",
       " 'institutions']"
      ]
     },
     "execution_count": 109,
     "metadata": {},
     "output_type": "execute_result"
    }
   ],
   "source": [
    "erin[0].keys()"
   ]
  },
  {
   "cell_type": "code",
   "execution_count": 110,
   "metadata": {
    "collapsed": false
   },
   "outputs": [],
   "source": [
    "for i in sample:\n",
    "    for s in institutions:\n",
    "        if s in i['institutions']:\n",
    "            i[s] = 1\n",
    "        else:\n",
    "            i[s] = 0\n",
    "            \n",
    "    for s in actions:\n",
    "        if s in i['action']:\n",
    "            i[s] = 1\n",
    "        else:\n",
    "            i[s] = 0\n",
    "            \n",
    "    for s in theme:\n",
    "        if s in i['theme']:\n",
    "            i[s] = 1\n",
    "        else:\n",
    "            i[s] = 0 \n",
    "    \n",
    "    del i['to']\n",
    "    del i['From']\n",
    "    del i['text']\n",
    "    del i['notes']\n",
    "    del i['action']\n",
    "    del i['theme']\n",
    "    del i['decision']\n",
    "    del i['institutions']\n",
    "    del i['year']"
   ]
  },
  {
   "cell_type": "code",
   "execution_count": 111,
   "metadata": {
    "collapsed": false
   },
   "outputs": [],
   "source": [
    "for i in erin:\n",
    "    for s in institutions:\n",
    "        if s in i['institutions']:\n",
    "            i[s] = 1\n",
    "        else:\n",
    "            i[s] = 0\n",
    "            \n",
    "    for s in actions:\n",
    "        if s in i['action']:\n",
    "            i[s] = 1\n",
    "        else:\n",
    "            i[s] = 0\n",
    "            \n",
    "    for s in theme:\n",
    "        if s in i['theme']:\n",
    "            i[s] = 1\n",
    "        else:\n",
    "            i[s] = 0  \n",
    "            \n",
    "    del i['to']\n",
    "    del i['From']\n",
    "    del i['text']\n",
    "    del i['year']\n",
    "    del i['institutions']\n",
    "    del i['action']\n",
    "    del i['theme']\n",
    "    del i['decision']\n",
    "    del i['sentiment']"
   ]
  },
  {
   "cell_type": "code",
   "execution_count": 112,
   "metadata": {
    "collapsed": false
   },
   "outputs": [],
   "source": [
    "## writing sample\n",
    "\n",
    "#writing column headings\n",
    "keys = sample[0].keys()\n",
    "\n",
    "#writing the rest\n",
    "with open('testing-3/sample-binary.csv', 'wb') as output_file:\n",
    "    dict_writer = csv.DictWriter(output_file, keys)\n",
    "    dict_writer.writeheader()\n",
    "    dict_writer.writerows(sample)"
   ]
  },
  {
   "cell_type": "code",
   "execution_count": 113,
   "metadata": {
    "collapsed": false
   },
   "outputs": [],
   "source": [
    "## writing erin\n",
    "\n",
    "#writing column headings\n",
    "keys = erin[0].keys()\n",
    "\n",
    "#writing the rest\n",
    "with open('testing-3/erin-binary.csv', 'wb') as output_file:\n",
    "    dict_writer = csv.DictWriter(output_file, keys)\n",
    "    dict_writer.writeheader()\n",
    "    dict_writer.writerows(erin)"
   ]
  },
  {
   "cell_type": "code",
   "execution_count": null,
   "metadata": {
    "collapsed": true
   },
   "outputs": [],
   "source": []
  }
 ],
 "metadata": {
  "kernelspec": {
   "display_name": "Python 2",
   "language": "python",
   "name": "python2"
  },
  "language_info": {
   "codemirror_mode": {
    "name": "ipython",
    "version": 2
   },
   "file_extension": ".py",
   "mimetype": "text/x-python",
   "name": "python",
   "nbconvert_exporter": "python",
   "pygments_lexer": "ipython2",
   "version": "2.7.9"
  }
 },
 "nbformat": 4,
 "nbformat_minor": 0
}
